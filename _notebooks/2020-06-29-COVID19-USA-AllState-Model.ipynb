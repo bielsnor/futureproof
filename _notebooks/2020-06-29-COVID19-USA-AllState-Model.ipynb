{
 "cells": [
  {
   "cell_type": "markdown",
   "metadata": {},
   "source": [
    "# COVID19 Data Visualizations & Models by State\n",
    "\n",
    "- comments: false\n",
    "- author: Ryan Gomez\n",
    "- toc: true\n",
    "- categories: [growth, compare, hospitalizations]\n",
    "- image: images/covid-logo.png\n",
    "- permalink: /futureproof-COVID19-States/"
   ]
  },
  {
   "cell_type": "code",
   "execution_count": 1,
   "metadata": {},
   "outputs": [
    {
     "name": "stderr",
     "output_type": "stream",
     "text": [
      "c:\\programdata\\anaconda3\\lib\\site-packages\\sklearn\\utils\\deprecation.py:144: FutureWarning: The sklearn.utils.testing module is  deprecated in version 0.22 and will be removed in version 0.24. The corresponding classes / functions should instead be imported from sklearn.utils. Anything that cannot be imported from sklearn.utils is now part of the private API.\n",
      "  warnings.warn(message, FutureWarning)\n"
     ]
    }
   ],
   "source": [
    "#hide_input\n",
    "# Imports\n",
    "import os\n",
    "import pandas as pd\n",
    "import csv\n",
    "import kaggle\n",
    "\n",
    "# other imports\n",
    "import numpy as np \n",
    "import matplotlib.pyplot as plt\n",
    "from sklearn.model_selection import train_test_split\n",
    "from sklearn.model_selection import GridSearchCV\n",
    "from sklearn.linear_model import ElasticNet\n",
    "from sklearn.linear_model import LinearRegression\n",
    "from sklearn.preprocessing import PolynomialFeatures\n",
    "from sklearn.metrics import mean_squared_error, mean_absolute_error, classification_report\n",
    "from sklearn.utils.testing import ignore_warnings\n",
    "from sklearn.exceptions import ConvergenceWarning\n",
    "from copy import copy\n",
    "import seaborn as sns\n",
    "from scipy.stats import norm\n",
    "import matplotlib.dates as mdates\n",
    "# import matplotlib.colors as mcolors\n",
    "# import random\n",
    "# import math\n",
    "# import time\n",
    "# from sklearn.linear_model import LinearRegression, BayesianRidge\n",
    "# from sklearn.model_selection import RandomizedSearchCV\n",
    "from sklearn.tree import DecisionTreeRegressor\n",
    "# from sklearn.svm import SVR\n",
    "from datetime import date, datetime\n",
    "from dateutil.parser import parse\n",
    "import us\n",
    "# import operator \n",
    "# plt.style.use('fivethirtyeight')\n",
    "import plotly.graph_objects as go\n",
    "from plotly.subplots import make_subplots\n",
    "%matplotlib inline "
   ]
  },
  {
   "cell_type": "markdown",
   "metadata": {},
   "source": [
    "# Main Datasets (w/ hospitalised data)\n",
    "\n",
    "Source: https://covidtracking.com/\n",
    "Source: https://github.com/CSSEGISandData/COVID-19\n",
    "Post processed data source used in models below: https://github.com/bielsnor/futureproof/tree/master/_notebooks/results\n",
    "Various state data, third party data, and various federal data"
   ]
  },
  {
   "cell_type": "code",
   "execution_count": 2,
   "metadata": {},
   "outputs": [],
   "source": [
    "#hide_input\n",
    "\n",
    "all_cases = pd.read_csv('https://covidtracking.com/api/v1/states/daily.csv')\n",
    "\n",
    "# Delete unecessary rows\n",
    "for row in ['negative', 'pending', 'hash', 'negativeIncrease', 'totalTestResults', 'totalTestResultsIncrease', 'dateChecked', 'fips', 'inIcuCumulative', 'onVentilatorCumulative', 'total', 'posNeg', 'deathIncrease', 'hospitalizedIncrease', 'positiveIncrease']:\n",
    "    del all_cases[row]\n",
    "\n",
    "# TODO missing values\n",
    "#      Do we get avg or missing values, or predict them?\n",
    "#      See https://developerzen.com/data-mining-handling-missing-values-the-database-bd2241882e72\n",
    "\n",
    "for i, row in all_cases.iterrows():\n",
    "    # Set Dates\n",
    "    s = str(row['date'])\n",
    "    all_cases.at[i, 'date'] = date(year=int(s[0:4]), month=int(s[4:6]), day=int(s[6:8]))\n",
    "\n",
    "# Missing death figures means no death reports yet\n",
    "# These are set to 0\n",
    "for i, row in all_cases.iterrows():\n",
    "    if np.isnan(row['death']):\n",
    "        all_cases.at[i, 'death'] = 0"
   ]
  },
  {
   "cell_type": "markdown",
   "metadata": {},
   "source": [
    "## Combine, validate, and verify data sets."
   ]
  },
  {
   "cell_type": "code",
   "execution_count": null,
   "metadata": {},
   "outputs": [],
   "source": [
    "#hide_input\n",
    "\n",
    "# TODO Replace active cases with JHU and/or regression model (Selma)\n",
    "all_cases['active'] = all_cases['positive'] - all_cases['recovered'] - all_cases['death']\n",
    "# change location of 'active' column\n",
    "cols = list(all_cases)\n",
    "cols.insert(3, cols.pop(cols.index('active')))\n",
    "all_cases = all_cases.loc[:, cols]"
   ]
  },
  {
   "cell_type": "code",
   "execution_count": null,
   "metadata": {},
   "outputs": [],
   "source": [
    "#hide_input\n",
    "\n",
    "# Load datasets for US population and Hospital beds per 1000\n",
    "us_population = pd.read_csv('data/us_population.csv')\n",
    "hosp_beds = pd.read_csv('data/hospital_beds.csv')\n",
    "state_abbrev = pd.read_csv('data/us_state_names.csv')\n",
    "\n",
    "# add state abbreviations to us_population and hospital beds dataframe\n",
    "for state in state_abbrev['State'].tolist():\n",
    "    # store state abbreviation in variable\n",
    "    abbrev = state_abbrev.loc[state_abbrev['State'] == state, 'Abbreviation'].tolist()[0]\n",
    "    # add abbrev to new column 'Abbreviation' in us_population df\n",
    "    us_population.loc[us_population['State'] == state, 'Abbreviation'] = abbrev\n",
    "    # add abbrev to new column in hosp_beds df\n",
    "    hosp_beds.loc[hosp_beds['Location'] == state, 'Abbreviation'] = abbrev\n",
    "    \n",
    "# change order of columns of us_population\n",
    "cols = list(us_population)\n",
    "cols.insert(2, cols.pop(cols.index('Abbreviation')))\n",
    "us_population = us_population.loc[:, cols]\n",
    "\n",
    "# drop unnecessary columns of us_population\n",
    "us_population = us_population.drop(columns=['rank', 'Growth', 'Pop2018', 'Pop2010', 'growthSince2010', 'Percent', 'density'])\n",
    "\n",
    "# drop unnecessary columns of hosp_beds\n",
    "hosp_beds = hosp_beds.drop(columns=['Location', 'State/Local Government', 'Non-Profit', 'For-Profit'])\n",
    "\n",
    "# change order of columns of hosp_beds\n",
    "cols = list(hosp_beds)\n",
    "cols.insert(0, cols.pop(cols.index('Abbreviation')))\n",
    "hosp_beds = hosp_beds.loc[:, cols]"
   ]
  },
  {
   "cell_type": "code",
   "execution_count": null,
   "metadata": {},
   "outputs": [],
   "source": [
    "#hide_input\n",
    "\n",
    "# filter out non-existing states like 'AS'\n",
    "all_cases = all_cases[all_cases['state'].isin(state_abbrev['Abbreviation'].tolist())]"
   ]
  },
  {
   "cell_type": "code",
   "execution_count": null,
   "metadata": {},
   "outputs": [],
   "source": [
    "# see what filtered main dataframe looks like for all 50 states: \n",
    "all_cases.head(50)"
   ]
  },
  {
   "cell_type": "code",
   "execution_count": null,
   "metadata": {},
   "outputs": [],
   "source": [
    "#hide_input\n",
    "\n",
    "# Split dataframes by date\n",
    "df_split_by_date = dict(tuple(all_cases.groupby('date')))\n",
    "\n",
    "# Split dataframes by state\n",
    "df_split_by_state = dict(tuple(all_cases.groupby('state')))"
   ]
  },
  {
   "cell_type": "code",
   "execution_count": null,
   "metadata": {},
   "outputs": [],
   "source": [
    "#hide_input\n",
    "\n",
    "# merge dataframes us_population and all_cases\n",
    "df_merge_uspop = all_cases.merge(us_population, how='left', left_on='state', right_on='Abbreviation')\n",
    "df_merge_uspop = df_merge_uspop.drop(columns=['Abbreviation'])\n",
    "df_merge_uspop = df_merge_uspop.rename(columns={'Pop': 'population'})\n",
    "\n",
    "# change location of 'population' column\n",
    "cols = list(df_merge_uspop)\n",
    "cols.insert(2, cols.pop(cols.index('population')))\n",
    "df_merge_uspop = df_merge_uspop.loc[:, cols]\n",
    "\n",
    "# merge dataframes hosp_beds and df_merge_uspop\n",
    "df_merge_hosp = df_merge_uspop.merge(hosp_beds, how='left', left_on='state', right_on='Abbreviation')\n",
    "df_merge_hosp = df_merge_hosp.drop(columns=['Abbreviation'])\n",
    "all_cases = df_merge_hosp.rename(columns={'Total': 'bedsPerThousand'})"
   ]
  },
  {
   "cell_type": "code",
   "execution_count": null,
   "metadata": {},
   "outputs": [],
   "source": [
    "#hide_input\n",
    "\n",
    "# Calculate the total beds, and add the column\n",
    "all_cases['total_beds'] = all_cases['population'] / 1000 * all_cases['bedsPerThousand']"
   ]
  },
  {
   "cell_type": "code",
   "execution_count": null,
   "metadata": {},
   "outputs": [],
   "source": [
    "#hide_input\n",
    "\n",
    "# change abbreviations to state names\n",
    "all_cases = all_cases.rename(columns={'state': 'abbrev'})\n",
    "all_cases = all_cases.rename(columns={'State': 'state'})"
   ]
  },
  {
   "cell_type": "code",
   "execution_count": null,
   "metadata": {},
   "outputs": [],
   "source": [
    "#hide_input\n",
    "\n",
    "# change location of 'state' column\n",
    "cols = list(all_cases)\n",
    "cols.insert(1, cols.pop(cols.index('state')))\n",
    "all_cases = all_cases.loc[:, cols]"
   ]
  },
  {
   "cell_type": "code",
   "execution_count": null,
   "metadata": {},
   "outputs": [],
   "source": [
    "#Add state level data, beds, beds/1k, population, abbreviation, and name:\n",
    "all_cases.head(50)"
   ]
  },
  {
   "cell_type": "markdown",
   "metadata": {},
   "source": [
    "- Load and clean JHU data\n",
    "- Merge JHU dataset with main dataset"
   ]
  },
  {
   "cell_type": "code",
   "execution_count": null,
   "metadata": {},
   "outputs": [],
   "source": [
    "#hide_input\n",
    "\n",
    "# This cell takes some time, as it needs to connect to Kaggle Servers to retrieve data\n",
    "kaggle.api.authenticate()\n",
    "kaggle.api.dataset_download_files('benhamner/jhucovid19', path='./kaggle/input/jhucovid19/', unzip=True)"
   ]
  },
  {
   "cell_type": "code",
   "execution_count": null,
   "metadata": {
    "tags": []
   },
   "outputs": [],
   "source": [
    "#hide_input\n",
    "\n",
    "# Get Time-Series Data of cases as Pandas DataFrame\n",
    "dir_jhu = './kaggle/input/jhucovid19/csse_covid_19_data/csse_covid_19_daily_reports'\n",
    "\n",
    "df_list = []\n",
    "for dirname, _, files in os.walk(dir_jhu):\n",
    "    for file in files:\n",
    "        if 'gitignore' not in file and 'README' not in file:\n",
    "            full_dir = os.path.join(dirname, file)\n",
    "            df_list.append(pd.read_csv(full_dir))\n",
    "            \n",
    "jhu_df = pd.concat(df_list, axis=0, ignore_index=True, sort=True)\n",
    "\n",
    "# convert Last Update columns to datetime format\n",
    "jhu_df.loc[:, 'Last Update'] = pd.to_datetime(jhu_df['Last Update']).apply(lambda x: x.date())\n",
    "jhu_df.loc[:, 'Last_Update'] = pd.to_datetime(jhu_df['Last_Update']).apply(lambda x: x.date())\n",
    "\n",
    "# Combine Last Update with Last_Update\n",
    "jhu_df['LastUpdate'] = jhu_df['Last_Update'].combine_first(jhu_df['Last Update'])\n",
    "\n",
    "# Combine Country/Region with Country_Region\n",
    "jhu_df['CountryRegion'] = jhu_df['Country/Region'].combine_first(jhu_df['Country_Region'])\n",
    "\n",
    "# Retrieve only US data\n",
    "jhu_df = jhu_df[jhu_df['CountryRegion']=='US']\n",
    "\n",
    "# Combine Province/State with Province_State\n",
    "jhu_df['ProvinceState'] = jhu_df['Province/State'].combine_first(jhu_df['Province_State'])\n",
    "\n",
    "# Drop unnecessary columns\n",
    "jhu_df = jhu_df.drop(['Admin2', 'Lat', 'Latitude', 'Long_', 'Longitude', 'Combined_Key', 'Country/Region',\n",
    "                      'Country_Region', 'Province/State', 'Province_State',\n",
    "                      'Last Update', 'Last_Update', 'FIPS'], axis=1)\n",
    "\n",
    "# Change column order\n",
    "cols = list(jhu_df)\n",
    "cols.insert(0, cols.pop(cols.index('CountryRegion')))\n",
    "cols.insert(1, cols.pop(cols.index('ProvinceState')))\n",
    "cols.insert(2, cols.pop(cols.index('LastUpdate')))\n",
    "jhu_df = jhu_df.loc[:, cols]\n",
    "\n",
    "# Change region to known US states\n",
    "state_abbrs_dict = {}\n",
    "for state in us.states.STATES:\n",
    "    state_abbrs_dict[state.abbr] = state.name\n",
    "\n",
    "def toState(input_state, mapping):\n",
    "    abbreviation = input_state.rstrip()[-2:]\n",
    "    try:\n",
    "        return_value = mapping[abbreviation]\n",
    "    except KeyError:\n",
    "        return_value = input_state\n",
    "    return return_value\n",
    "\n",
    "jhu_df['ProvinceState'] = jhu_df['ProvinceState'].apply(lambda x: toState(x, state_abbrs_dict) if x != 'Washington, D.C.' else 'District of Columbia')\n",
    "\n",
    "# Filter out unknown states\n",
    "jhu_df = jhu_df[jhu_df['ProvinceState'].isin(all_cases.state.unique().tolist())]\n",
    "\n",
    "# Merge-sum rows with same date and State\n",
    "jhu_df = jhu_df.groupby(['LastUpdate', 'ProvinceState']).agg(\n",
    "    {\n",
    "        'Active': sum,\n",
    "        'Confirmed': sum,\n",
    "        'Deaths': sum,\n",
    "        'Recovered': sum\n",
    "    }\n",
    ").reset_index()\n",
    "\n",
    "#jhu_df.tail(50)"
   ]
  },
  {
   "cell_type": "code",
   "execution_count": null,
   "metadata": {},
   "outputs": [],
   "source": [
    "#Load the Johns Hopkins data\n",
    "jhu_df.tail(50)"
   ]
  },
  {
   "cell_type": "code",
   "execution_count": null,
   "metadata": {},
   "outputs": [],
   "source": [
    "#hide_input\n",
    "\n",
    "# Now that we have the JHU dataset relatively cleaned\n",
    "# we can go ahead and merge its data with our main dataset\n",
    "\n",
    "for i, row in all_cases.iterrows():\n",
    "    last_update = all_cases.at[i, 'date']\n",
    "    state = all_cases.at[i, 'state']\n",
    "    matching_row = jhu_df[jhu_df['ProvinceState'] == state]\n",
    "    matching_row = matching_row[matching_row['LastUpdate'] == last_update].reset_index()\n",
    "\n",
    "    if len(matching_row.values) > 0:\n",
    "        #all_cases.at[i, 'positive'] = matching_row['Confirmed'].values[0]\n",
    "        all_cases.at[i, 'active'] = matching_row['Active'].values[0]\n",
    "        #all_cases.at[i, 'recovered'] = matching_row['Recovered'].values[0]   --- JHU was inconsistent, therefore removed\n",
    "        #all_cases.at[i, 'death'] = matching_row['Deaths'].values[0]\n",
    "\n",
    "    # Replace unknown recovery numbers with 0\n",
    "    if np.isnan(row['recovered']):\n",
    "        all_cases.at[i, 'recovered'] = 0\n",
    "\n",
    "    if all_cases.at[i, 'active'] == 0 or np.isnan(row['active']):\n",
    "        positive = all_cases.at[i, 'positive']\n",
    "        recovered = all_cases.at[i, 'recovered']\n",
    "        dead = all_cases.at[i, 'death']\n",
    "        all_cases.at[i, 'active'] = positive - recovered - dead\n",
    "\n",
    "#all_cases.tail()"
   ]
  },
  {
   "cell_type": "code",
   "execution_count": null,
   "metadata": {},
   "outputs": [],
   "source": [
    "#Grab all historical data and ensure we have the 1st US case.\n",
    "all_cases.tail()"
   ]
  },
  {
   "cell_type": "code",
   "execution_count": null,
   "metadata": {},
   "outputs": [],
   "source": [
    "#hide_input\n",
    "# Save formatted dataset offline in case of disaster\n",
    "dataset_file = 'results/all_cases.csv'\n",
    "all_cases.to_csv(dataset_file)"
   ]
  },
  {
   "cell_type": "code",
   "execution_count": null,
   "metadata": {},
   "outputs": [],
   "source": [
    "#hide_input\n",
    "\n",
    "# convert date to datetime format\n",
    "all_cases['date'] = pd.to_datetime(all_cases['date'])"
   ]
  },
  {
   "cell_type": "markdown",
   "metadata": {},
   "source": [
    "# An Exploratory data analysis of the US dataset.\n",
    "# Validate data types and data integrity of each row.\n"
   ]
  },
  {
   "cell_type": "markdown",
   "metadata": {},
   "source": [
    "The NaN values may indicate that there were too few Covid-19 patients at these date points.\n",
    "We further analyse the statistical values of the dataset columns to ensure data integrity and accuracy. "
   ]
  },
  {
   "cell_type": "code",
   "execution_count": null,
   "metadata": {},
   "outputs": [],
   "source": [
    "dataset_file = 'results/all_cases.csv'\n",
    "covid_df = pd.read_csv(dataset_file, index_col=0) \n",
    "# convert date to datetime format\n",
    "covid_df['date'] = pd.to_datetime(covid_df['date'])\n",
    "covid_df.info()\n",
    "# set float format to 3 decimals\n",
    "pd.set_option('display.float_format', lambda x: '%.3f' % x)"
   ]
  },
  {
   "cell_type": "code",
   "execution_count": null,
   "metadata": {},
   "outputs": [],
   "source": [
    "#Validte the data with; mean, standard deviation, min/max quartiles:\n",
    "covid_df.describe()\n",
    "# TODO rounding up the numbers"
   ]
  },
  {
   "cell_type": "code",
   "execution_count": null,
   "metadata": {},
   "outputs": [],
   "source": [
    "#hide_input\n",
    "\n",
    "# drop unnecessary columns\n",
    "covid_cleaned = covid_df.drop(['hospitalized', 'bedsPerThousand'], axis=1)\n",
    "covid_100k = covid_cleaned.copy()\n",
    "# list of columns to transform to per 100k\n",
    "columns_list = ['positive', 'active', 'recovered', 'death', 'hospitalizedCurrently', 'hospitalizedCumulative', 'inIcuCurrently', 'onVentilatorCurrently', 'total_beds']\n",
    "# add columns per 100k\n",
    "for column in columns_list:\n",
    "    if column == 'total_beds':\n",
    "        covid_100k['BedsPer100k'.format(column)] = (covid_cleaned.loc[:, column] / covid_cleaned.loc[:, 'population']) * 100000\n",
    "    else:\n",
    "        covid_100k['{}_100k'.format(column)] = (covid_cleaned.loc[:, column] / covid_cleaned.loc[:, 'population']) * 100000\n",
    "\n",
    "covid_100k = covid_100k.drop(columns_list, axis=1)"
   ]
  },
  {
   "cell_type": "code",
   "execution_count": null,
   "metadata": {},
   "outputs": [],
   "source": [
    "#hide_input\n",
    "\n",
    "covid_100k['date'] = pd.to_datetime(covid_100k['date'])\n",
    "start_date = '2020-04-18'\n",
    "end_date = '2020-06-19'\n",
    "mask = (covid_100k['date'] > start_date) & (covid_100k['date'] <= end_date)\n",
    "covid_100k_last_month = covid_100k.loc[mask]"
   ]
  },
  {
   "cell_type": "code",
   "execution_count": null,
   "metadata": {},
   "outputs": [],
   "source": [
    "#hide_input\n",
    "\n",
    "covid_100k_last_month_part1 =  covid_100k_last_month.groupby('date').sum().loc[:, ['positive_100k','active_100k','recovered_100k','death_100k','hospitalizedCumulative_100k']].diff(periods=1, axis=0)\n",
    "\n",
    "covid_100k_last_month_part2 = covid_100k_last_month.groupby('date').sum().loc[:, ['inIcuCurrently_100k','onVentilatorCurrently_100k','BedsPer100k']]\n",
    "\n",
    "final_100k_last_month = covid_100k_last_month_part1.merge(covid_100k_last_month_part2, left_index=True, right_index=True)"
   ]
  },
  {
   "cell_type": "code",
   "execution_count": null,
   "metadata": {},
   "outputs": [],
   "source": [
    "#final_100k_last_month.head()"
   ]
  },
  {
   "cell_type": "code",
   "execution_count": null,
   "metadata": {},
   "outputs": [],
   "source": [
    "#Review the out for per capita measures:\n",
    "final_100k_last_month.describe()"
   ]
  },
  {
   "cell_type": "code",
   "execution_count": null,
   "metadata": {},
   "outputs": [],
   "source": [
    "#hide_input\n",
    "\n",
    "# save description cleaned dataset to csv\n",
    "describe_file = 'results/final_100k_last_month.csv'\n",
    "final_100k_last_month.describe().to_csv(describe_file)"
   ]
  },
  {
   "cell_type": "markdown",
   "metadata": {},
   "source": [
    "## Graphical Exploratory Analysis.\n",
    "\n",
    "Plotting histograms, scatterplots and boxplots to assess the distribution of the entire US dataset. "
   ]
  },
  {
   "cell_type": "code",
   "execution_count": null,
   "metadata": {},
   "outputs": [],
   "source": [
    "#hide_input\n",
    "\n",
    "# Omitting the categorical (states/abbreviations) and time columns \n",
    "# There must be an easier way for you, but this was the easiest way I could think of\n",
    "covid_cleaned['date'] = pd.to_datetime(covid_cleaned['date'])\n",
    "# mask data for last month\n",
    "start_date = '2020-04-18'\n",
    "end_date = '2020-05-19'\n",
    "mask = (covid_cleaned['date'] > start_date) & (covid_cleaned['date'] <= end_date)\n",
    "covid_cleaned_last_month = covid_cleaned.loc[mask]\n",
    "plot_df = covid_cleaned_last_month[['population', 'active', 'recovered', 'death', 'hospitalizedCurrently', 'inIcuCurrently', 'onVentilatorCurrently', 'total_beds']]\n",
    "plot_df_last_month = covid_100k_last_month[['population', 'active_100k', 'recovered_100k', 'death_100k', 'hospitalizedCurrently_100k', 'inIcuCurrently_100k', 'onVentilatorCurrently_100k', 'BedsPer100k']]"
   ]
  },
  {
   "cell_type": "code",
   "execution_count": null,
   "metadata": {},
   "outputs": [],
   "source": [
    "#hide_input\n",
    "\n",
    "timeseries_usa_df = covid_100k.loc[:, ['date', 'positive_100k', 'active_100k', 'recovered_100k', 'death_100k', 'hospitalizedCurrently_100k', 'inIcuCurrently_100k', 'onVentilatorCurrently_100k', 'BedsPer100k']].groupby('date').sum().reset_index()\n",
    "# timeseries_usa_df['log_positive'] = np.log(timeseries_usa_df['positive_100k'])\n",
    "# timeseries_usa_df['log_active'] = np.log(timeseries_usa_df['active_100k'])\n",
    "# timeseries_usa_df['log_recovered'] = np.log(timeseries_usa_df['recovered_100k'])\n",
    "# timeseries_usa_df['log_death'] = np.log(timeseries_usa_df['death_100k'])"
   ]
  },
  {
   "cell_type": "code",
   "execution_count": null,
   "metadata": {
    "scrolled": true
   },
   "outputs": [],
   "source": [
    "#Validate all US data:\n",
    "timeseries_usa_df.tail()"
   ]
  },
  {
   "cell_type": "code",
   "execution_count": null,
   "metadata": {},
   "outputs": [],
   "source": [
    "#hide_input\n",
    "\n",
    "# get data from last day\n",
    "# plot_df_last_date = plot_df.loc[covid_df['date'] == '2020-05-18'] \n",
    "\n",
    "# Plotting histograms to gain insight of the distribution shape, skewness and scale\n",
    "fig, axs = plt.subplots(4,2,figsize = (16, 16))\n",
    "sns.set()\n",
    "for i, column in enumerate(plot_df_last_month.columns):\n",
    "    if (i + 1) % 2 == 0:\n",
    "        ax = axs[(i//2), 1]\n",
    "    else:\n",
    "        ax = axs[(i//2), 0]\n",
    "    sns.distplot(plot_df_last_month[column], fit=norm, fit_kws=dict(label='normality'), hist_kws=dict(color='plum', edgecolor='k', linewidth=1, label='frequency'), ax=ax, color='#9d53ad')\n",
    "    ax.legend(loc='upper right')\n",
    "plt.tight_layout()\n",
    "fig.subplots_adjust(top=0.95)"
   ]
  },
  {
   "cell_type": "code",
   "execution_count": null,
   "metadata": {},
   "outputs": [],
   "source": [
    "#hide_input\n",
    "\n",
    "# Looking at linearity and variance with scatterplots\n",
    "# Removing the target variable and saving it in another df\n",
    "target = plot_df.hospitalizedCurrently\n",
    "indep_var = plot_df.drop(columns=['hospitalizedCurrently'])\n",
    "\n",
    "fig, ax = plt.subplots(figsize = (16, 16))\n",
    "for i, col in enumerate(indep_var.columns):\n",
    "    ax=fig.add_subplot(4, 3, i+1) \n",
    "    sns.regplot(x=indep_var[col], y=target, data=indep_var, label=col, scatter_kws={'s':10}, line_kws={\"color\": \"plum\", 'label': 'hospitCurr'})\n",
    "    plt.suptitle('Scatterplots with Target Hospitalized Patients Showing Growth Trajectories', fontsize=23)\n",
    "    plt.legend()\n",
    "plt.tight_layout()\n",
    "fig.subplots_adjust(top=0.95)"
   ]
  },
  {
   "cell_type": "code",
   "execution_count": null,
   "metadata": {},
   "outputs": [],
   "source": [
    "#hide_input\n",
    "\n",
    "# Assessing the normality of the distribution with a boxplot\n",
    "# Boxplot with removed outliers\n",
    "fig, ax = plt.subplots(figsize = (16, 12))\n",
    "for i, col in enumerate(plot_df.columns):\n",
    "    ax=fig.add_subplot(4, 3, i+1) \n",
    "    sns.boxplot(x=plot_df[col], data=plot_df, color='lightblue', showfliers=False)\n",
    "    plt.suptitle('Boxplots of Independent Variables', fontsize=23)\n",
    "plt.tight_layout()\n",
    "fig.subplots_adjust(top=0.95)"
   ]
  },
  {
   "cell_type": "markdown",
   "metadata": {},
   "source": [
    "## Analysis of Hospitalizations by State.\n",
    "\n",
    "#### Red data plots are Republican Governed States.  Blue data plots are Democratic Governed States.  "
   ]
  },
  {
   "cell_type": "markdown",
   "metadata": {},
   "source": [
    "### Alabama"
   ]
  },
  {
   "cell_type": "code",
   "execution_count": null,
   "metadata": {},
   "outputs": [],
   "source": [
    "#hide_input\n",
    "bama = covid_df.loc[(covid_df['abbrev'] == 'AL') & (covid_df['state']== 'Alabama')] \n"
   ]
  },
  {
   "cell_type": "code",
   "execution_count": null,
   "metadata": {
    "scrolled": true
   },
   "outputs": [],
   "source": [
    "#hide_input\n",
    "# TODO fix legend/axis/plot alltogether\n",
    "# Timeseries plt\n",
    "fig, ax = plt.subplots(figsize = (16, 12))\n",
    "plt.plot(bama.date, bama.hospitalizedCurrently, linewidth=4.7, color='r')\n",
    "plt.title('Number of Patients in Alabama Currently Hospitalized', fontsize=23)\n",
    "plt.xlabel('Date')\n",
    "plt.ylabel('No. Patients')"
   ]
  },
  {
   "cell_type": "code",
   "execution_count": null,
   "metadata": {},
   "outputs": [],
   "source": [
    "#hide_input\n",
    "# TODO fix legend/axis/plot alltogether\n",
    "# Timeseries plt\n",
    "fig, ax = plt.subplots(figsize = (16, 12))\n",
    "plt.plot(bama.date, bama.active, linewidth=4.7, color='r')\n",
    "plt.title('Number of Active Positive Cases in Alabama', fontsize=23)\n",
    "plt.xlabel('Date')\n",
    "plt.ylabel('No. Patients')"
   ]
  },
  {
   "cell_type": "code",
   "execution_count": null,
   "metadata": {},
   "outputs": [],
   "source": [
    "#hide_input\n",
    "# TODO fix legend/axis/plot alltogether\n",
    "# Timeseries plt\n",
    "fig, ax = plt.subplots(figsize = (16, 12))\n",
    "plt.plot(bama.date, bama.hospitalizedCurrently/bama.active*100, linewidth=4.7, color='r')\n",
    "plt.title('Hospitalization Rate in Alabama', fontsize=23)\n",
    "plt.xlabel('Date')\n",
    "plt.ylabel('No. Patients')"
   ]
  },
  {
   "cell_type": "code",
   "execution_count": null,
   "metadata": {},
   "outputs": [],
   "source": [
    "#hide_input\n",
    "# TODO fix legend/axis/plot alltogether\n",
    "# Timeseries plt\n",
    "fig, ax = plt.subplots(figsize = (16, 12))\n",
    "plt.plot(bama.date, bama.death, linewidth=4.7, color='r')\n",
    "plt.title('Cummulative Number Killed in Alabama', fontsize=23)\n",
    "plt.xlabel('Date')\n",
    "plt.ylabel('No. Killed')"
   ]
  },
  {
   "cell_type": "code",
   "execution_count": null,
   "metadata": {},
   "outputs": [],
   "source": [
    "#hide_input\n",
    "# Checking which cols have NaN values\n",
    "bama[['positive', 'active', 'hospitalizedCurrently', 'inIcuCurrently', 'recovered', 'death', 'hospitalized']]\n",
    "bama.head()\n",
    "\n",
    "# Omit the NaN cols\n",
    "bama = bama[['positive', 'active', 'hospitalizedCurrently', 'inIcuCurrently', 'recovered', 'death']]"
   ]
  },
  {
   "cell_type": "code",
   "execution_count": null,
   "metadata": {},
   "outputs": [],
   "source": [
    "#hide_input\n",
    "# Scatter plots AL\n",
    "# Split dependent var from independent variables\n",
    "target_al = bama.hospitalizedCurrently\n",
    "indep_var_al = bama.drop(columns=['hospitalizedCurrently'])\n",
    "\n",
    "fig, ax = plt.subplots(figsize = (16, 16))\n",
    "for i, col in enumerate(indep_var_al.columns):\n",
    "    ax=fig.add_subplot(2, 3, i+1) \n",
    "    sns.regplot(x=indep_var_al[col], y=target_al, data=indep_var_al, label=col, scatter_kws={'s':10}, line_kws={\"color\": \"plum\"})\n",
    "    plt.suptitle('Distributions of Independent Variables Alabama', fontsize=23)\n",
    "plt.tight_layout()\n",
    "fig.subplots_adjust(top=0.95)"
   ]
  },
  {
   "cell_type": "code",
   "execution_count": null,
   "metadata": {},
   "outputs": [],
   "source": [
    "#hide_input\n",
    "###endalabama"
   ]
  },
  {
   "cell_type": "markdown",
   "metadata": {},
   "source": [
    "### Arizona"
   ]
  },
  {
   "cell_type": "code",
   "execution_count": null,
   "metadata": {},
   "outputs": [],
   "source": [
    "#hide_input\n",
    "arizona = covid_df.loc[(covid_df['abbrev'] == 'AZ') & (covid_df['state']== 'Arizona')] \n"
   ]
  },
  {
   "cell_type": "code",
   "execution_count": null,
   "metadata": {},
   "outputs": [],
   "source": [
    "#hide_input\n",
    "# TODO fix legend/axis/plot alltogether\n",
    "# Timeseries plt\n",
    "fig, ax = plt.subplots(figsize = (16, 12))\n",
    "plt.plot(arizona.date, arizona.hospitalizedCurrently, linewidth=4.7, color='r')\n",
    "plt.title('Number of Patients in Arizona Currently Hospitalized', fontsize=23)\n",
    "plt.xlabel('Date')\n",
    "plt.ylabel('No. Patients')"
   ]
  },
  {
   "cell_type": "code",
   "execution_count": null,
   "metadata": {},
   "outputs": [],
   "source": [
    "#hide_input\n",
    "# TODO fix legend/axis/plot alltogether\n",
    "# Timeseries plt\n",
    "fig, ax = plt.subplots(figsize = (16, 12))\n",
    "plt.plot(arizona.date, arizona.active, linewidth=4.7, color='r')\n",
    "plt.title('Number of Active Cases in Arizona Currently', fontsize=23)\n",
    "plt.xlabel('Date')\n",
    "plt.ylabel('No. Patients')"
   ]
  },
  {
   "cell_type": "code",
   "execution_count": null,
   "metadata": {},
   "outputs": [],
   "source": [
    "#hide_input\n",
    "# TODO fix legend/axis/plot alltogether\n",
    "# Timeseries plt\n",
    "fig, ax = plt.subplots(figsize = (16, 12))\n",
    "plt.plot(arizona.date, arizona.active, linewidth=4.7, color='r')\n",
    "plt.title('Number of Active Cases in Arizona Currently', fontsize=23)\n",
    "plt.xlabel('Date')\n",
    "plt.ylabel('No. Patients')"
   ]
  },
  {
   "cell_type": "code",
   "execution_count": null,
   "metadata": {
    "scrolled": true
   },
   "outputs": [],
   "source": [
    "#hide_input\n",
    "# TODO fix legend/axis/plot alltogether\n",
    "# Timeseries plt\n",
    "fig, ax = plt.subplots(figsize = (16, 12))\n",
    "plt.plot(arizona.date, arizona.hospitalizedCurrently/arizona.active*100, linewidth=4.7, color='r')\n",
    "plt.title('Hospitalization Rate of Acive Patients in Arizona', fontsize=23)\n",
    "plt.xlabel('Date')\n",
    "plt.ylabel('% Positive Cases in Hospital')"
   ]
  },
  {
   "cell_type": "code",
   "execution_count": null,
   "metadata": {
    "scrolled": true
   },
   "outputs": [],
   "source": [
    "#hide_input\n",
    "# TODO fix legend/axis/plot alltogether\n",
    "# Timeseries plt\n",
    "fig, ax = plt.subplots(figsize = (16, 12))\n",
    "plt.plot(arizona.date, arizona.onVentilatorCurrently, linewidth=4.7, color='r')\n",
    "plt.title('Number of Patients in Arizona Currently on Ventilator', fontsize=23)\n",
    "plt.xlabel('Date')\n",
    "plt.ylabel('No. Patients')"
   ]
  },
  {
   "cell_type": "code",
   "execution_count": null,
   "metadata": {},
   "outputs": [],
   "source": [
    "#hide_input\n",
    "# Checking which cols have NaN values\n",
    "arizona[['positive', 'active', 'hospitalizedCurrently', 'inIcuCurrently', 'recovered', 'death', 'hospitalized']]\n",
    "arizona.head()\n",
    "\n",
    "# Omit the NaN cols\n",
    "arizona = arizona[['positive', 'active', 'hospitalizedCurrently', 'inIcuCurrently', 'recovered', 'death']]"
   ]
  },
  {
   "cell_type": "code",
   "execution_count": null,
   "metadata": {
    "scrolled": true
   },
   "outputs": [],
   "source": [
    "#hide_input\n",
    "# Scatter plots AZ\n",
    "# Split dependent var from independent variables\n",
    "target_az = arizona.hospitalizedCurrently\n",
    "indep_var_az = arizona.drop(columns=['hospitalizedCurrently'])\n",
    "\n",
    "fig, ax = plt.subplots(figsize = (16, 16))\n",
    "for i, col in enumerate(indep_var_az.columns):\n",
    "    ax=fig.add_subplot(2, 3, i+1) \n",
    "    sns.regplot(x=indep_var_az[col], y=target_az, data=indep_var_az, label=col, scatter_kws={'s':10}, line_kws={\"color\": \"plum\"})\n",
    "    plt.suptitle('Distributions of Independent Variables Arizona', fontsize=23)\n",
    "plt.tight_layout()\n",
    "fig.subplots_adjust(top=0.95)"
   ]
  },
  {
   "cell_type": "code",
   "execution_count": null,
   "metadata": {},
   "outputs": [],
   "source": [
    "#hide_input\n",
    "###endarizona"
   ]
  },
  {
   "cell_type": "markdown",
   "metadata": {},
   "source": [
    "### Arkansas"
   ]
  },
  {
   "cell_type": "code",
   "execution_count": null,
   "metadata": {},
   "outputs": [],
   "source": [
    "#hide_input\n",
    "arkansas = covid_df.loc[(covid_df['abbrev'] == 'AR') & (covid_df['state']== 'Arkansas')] \n"
   ]
  },
  {
   "cell_type": "code",
   "execution_count": null,
   "metadata": {},
   "outputs": [],
   "source": [
    "#hide_input\n",
    "# TODO fix legend/axis/plot alltogether\n",
    "# Timeseries plt\n",
    "fig, ax = plt.subplots(figsize = (16, 12))\n",
    "plt.plot(arkansas.date, arkansas.hospitalizedCurrently, linewidth=4.7, color='r')\n",
    "plt.title('Number of Patients in Arkansas Currently Hospitalized', fontsize=23)\n",
    "plt.xlabel('Date')\n",
    "plt.ylabel('No. Patients')"
   ]
  },
  {
   "cell_type": "code",
   "execution_count": null,
   "metadata": {
    "scrolled": false
   },
   "outputs": [],
   "source": [
    "#hide_input\n",
    "# TODO fix legend/axis/plot alltogether\n",
    "# Timeseries plt\n",
    "fig, ax = plt.subplots(figsize = (16, 12))\n",
    "plt.plot(arkansas.date, arkansas.onVentilatorCurrently, linewidth=4.7, color='r')\n",
    "plt.title('Number of Patients in Arkansas Currently on a Ventilator', fontsize=23)\n",
    "plt.xlabel('Date')\n",
    "plt.ylabel('No. Patients')"
   ]
  },
  {
   "cell_type": "code",
   "execution_count": null,
   "metadata": {
    "scrolled": true
   },
   "outputs": [],
   "source": [
    "#hide_input\n",
    "# TODO fix legend/axis/plot alltogether\n",
    "# Timeseries plt\n",
    "fig, ax = plt.subplots(figsize = (16, 12))\n",
    "plt.plot(arkansas.date, arkansas.hospitalizedCurrently/arkansas.active*100, linewidth=4.7, color='r')\n",
    "plt.title('Hospitalization Rate in Arkansas', fontsize=23)\n",
    "plt.xlabel('Date')\n",
    "plt.ylabel('No. Patients')"
   ]
  },
  {
   "cell_type": "code",
   "execution_count": null,
   "metadata": {},
   "outputs": [],
   "source": [
    "#hide_input\n",
    "# Checking which cols have NaN values\n",
    "arkansas[['positive', 'active', 'hospitalizedCurrently', 'inIcuCurrently', 'recovered', 'death', 'hospitalized']]\n",
    "arkansas.head()\n",
    "\n",
    "# Omit the NaN cols\n",
    "arkansas = arkansas[['positive', 'active', 'hospitalizedCurrently', 'inIcuCurrently', 'recovered', 'death']]"
   ]
  },
  {
   "cell_type": "code",
   "execution_count": null,
   "metadata": {
    "scrolled": false
   },
   "outputs": [],
   "source": [
    "#hide_input\n",
    "# Scatter plots AK\n",
    "# Split dependent var from independent variables\n",
    "target_ak = arkansas.hospitalizedCurrently\n",
    "indep_var_ak = arkansas.drop(columns=['hospitalizedCurrently'])\n",
    "\n",
    "fig, ax = plt.subplots(figsize = (16, 16))\n",
    "for i, col in enumerate(indep_var_ak.columns):\n",
    "    ax=fig.add_subplot(2, 3, i+1) \n",
    "    sns.regplot(x=indep_var_ak[col], y=target_ak, data=indep_var_ak, label=col, scatter_kws={'s':10}, line_kws={\"color\": \"plum\"})\n",
    "    plt.suptitle('Distributions of Independent Variables Arkansas', fontsize=23)\n",
    "plt.tight_layout()\n",
    "fig.subplots_adjust(top=0.95)"
   ]
  },
  {
   "cell_type": "code",
   "execution_count": null,
   "metadata": {},
   "outputs": [],
   "source": [
    "#hide_input\n",
    "###endarkansas"
   ]
  },
  {
   "cell_type": "markdown",
   "metadata": {},
   "source": [
    "### California"
   ]
  },
  {
   "cell_type": "code",
   "execution_count": null,
   "metadata": {},
   "outputs": [],
   "source": [
    "#hide_input\n",
    "cali = covid_df.loc[(covid_df['abbrev'] == 'CA') & (covid_df['state']== 'California')] \n"
   ]
  },
  {
   "cell_type": "code",
   "execution_count": null,
   "metadata": {
    "scrolled": true
   },
   "outputs": [],
   "source": [
    "#hide_input\n",
    "# TODO fix legend/axis/plot alltogether\n",
    "# Timeseries plt\n",
    "fig, ax = plt.subplots(figsize = (16, 12))\n",
    "plt.plot(cali.date, cali.hospitalizedCurrently, linewidth=4.7)\n",
    "plt.title('Number of Patients in California Currently Hospitalized', fontsize=23)\n",
    "plt.xlabel('Date')\n",
    "plt.ylabel('No. Patients')"
   ]
  },
  {
   "cell_type": "code",
   "execution_count": null,
   "metadata": {
    "scrolled": false
   },
   "outputs": [],
   "source": [
    "#hide_input\n",
    "# TODO fix legend/axis/plot alltogether\n",
    "# Timeseries plt\n",
    "fig, ax = plt.subplots(figsize = (16, 12))\n",
    "plt.plot(cali.date, cali.inIcuCurrently, linewidth=4.7)\n",
    "plt.title('Number of Patients in California Currently in ICU', fontsize=23)\n",
    "plt.xlabel('Date')\n",
    "plt.ylabel('No. Patients')"
   ]
  },
  {
   "cell_type": "code",
   "execution_count": null,
   "metadata": {
    "scrolled": false
   },
   "outputs": [],
   "source": [
    "#hide_input\n",
    "# TODO fix legend/axis/plot alltogether\n",
    "# Timeseries plt\n",
    "fig, ax = plt.subplots(figsize = (16, 12))\n",
    "plt.plot(cali.date, cali.hospitalizedCurrently/cali.active*100, linewidth=4.7)\n",
    "plt.title('Hospitalization Rate in California ', fontsize=23)\n",
    "plt.xlabel('Date')\n",
    "plt.ylabel('No. Patients')"
   ]
  },
  {
   "cell_type": "code",
   "execution_count": null,
   "metadata": {
    "scrolled": false
   },
   "outputs": [],
   "source": [
    "#hide_input\n",
    "# TODO fix legend/axis/plot alltogether\n",
    "# Timeseries plt\n",
    "fig, ax = plt.subplots(figsize = (16, 12))\n",
    "plt.plot(cali.date, cali.hospitalizedCurrently, linewidth=4.7)\n",
    "plt.title('Number of Patients in CA Currently Hospitalized', fontsize=23)\n",
    "plt.xlabel('Date')\n",
    "plt.ylabel('No. Patients')"
   ]
  },
  {
   "cell_type": "code",
   "execution_count": null,
   "metadata": {},
   "outputs": [],
   "source": [
    "#hide_input\n",
    "# Checking which cols have NaN values\n",
    "cali[['positive', 'active', 'hospitalizedCurrently', 'inIcuCurrently', 'recovered', 'death', 'hospitalized']]\n",
    "cali.head()\n",
    "\n",
    "# Omit the NaN cols\n",
    "cali = cali[['positive', 'active', 'hospitalizedCurrently', 'inIcuCurrently', 'recovered', 'death']]"
   ]
  },
  {
   "cell_type": "code",
   "execution_count": null,
   "metadata": {},
   "outputs": [],
   "source": [
    "#hide_input\n",
    "# Scatter plots CA\n",
    "# Split dependent var from independent variables\n",
    "target_ca = cali.hospitalizedCurrently\n",
    "indep_var_ca = cali.drop(columns=['hospitalizedCurrently'])\n",
    "\n",
    "fig, ax = plt.subplots(figsize = (16, 16))\n",
    "for i, col in enumerate(indep_var_ca.columns):\n",
    "    ax=fig.add_subplot(2, 3, i+1) \n",
    "    sns.regplot(x=indep_var_ca[col], y=target_ca, data=indep_var_ca, label=col, scatter_kws={'s':10}, line_kws={\"color\": \"plum\"})\n",
    "    plt.suptitle('Distributions of Independent Variables CA', fontsize=23)\n",
    "plt.tight_layout()\n",
    "fig.subplots_adjust(top=0.95)"
   ]
  },
  {
   "cell_type": "code",
   "execution_count": null,
   "metadata": {},
   "outputs": [],
   "source": [
    "#hide_input\n",
    "###endcali"
   ]
  },
  {
   "cell_type": "markdown",
   "metadata": {},
   "source": [
    "### Colorado"
   ]
  },
  {
   "cell_type": "code",
   "execution_count": null,
   "metadata": {},
   "outputs": [],
   "source": [
    "#hide_input\n",
    "colorado = covid_df.loc[(covid_df['abbrev'] == 'CO') & (covid_df['state']== 'Colorado')] \n"
   ]
  },
  {
   "cell_type": "code",
   "execution_count": null,
   "metadata": {},
   "outputs": [],
   "source": [
    "#hide_input\n",
    "# TODO fix legend/axis/plot alltogether\n",
    "# Timeseries plt\n",
    "fig, ax = plt.subplots(figsize = (16, 12))\n",
    "plt.plot(colorado.date, colorado.hospitalizedCurrently, linewidth=4.7)\n",
    "plt.title('Number of Patients in Colorado Currently Hospitalized', fontsize=23)\n",
    "plt.xlabel('Date')\n",
    "plt.ylabel('No. Patients')"
   ]
  },
  {
   "cell_type": "code",
   "execution_count": null,
   "metadata": {},
   "outputs": [],
   "source": [
    "#hide_input\n",
    "# TODO fix legend/axis/plot alltogether\n",
    "# Timeseries plt\n",
    "fig, ax = plt.subplots(figsize = (16, 12))\n",
    "plt.plot(colorado.date, colorado.death, linewidth=4.7)\n",
    "plt.title('Number of Cummulative Deaths in Colorado', fontsize=23)\n",
    "plt.xlabel('Date')\n",
    "plt.ylabel('No. Killed')"
   ]
  },
  {
   "cell_type": "code",
   "execution_count": null,
   "metadata": {},
   "outputs": [],
   "source": [
    "#hide_input\n",
    "# TODO fix legend/axis/plot alltogether\n",
    "# Timeseries plt\n",
    "fig, ax = plt.subplots(figsize = (16, 12))\n",
    "plt.plot(colorado.date, colorado.recovered, linewidth=4.7)\n",
    "plt.title('Number of Cummulative Recoveries in Colorado', fontsize=23)\n",
    "plt.xlabel('Date')\n",
    "plt.ylabel('No. Killed')"
   ]
  },
  {
   "cell_type": "code",
   "execution_count": null,
   "metadata": {},
   "outputs": [],
   "source": [
    "#hide_input\n",
    "# Checking which cols have NaN values\n",
    "colorado[['positive', 'active', 'hospitalizedCurrently', 'inIcuCurrently', 'recovered', 'death', 'hospitalized']]\n",
    "colorado.head()\n",
    "\n",
    "# Omit the NaN cols\n",
    "colorado = colorado[['positive', 'active', 'hospitalizedCurrently', 'inIcuCurrently', 'recovered', 'death']]"
   ]
  },
  {
   "cell_type": "code",
   "execution_count": null,
   "metadata": {},
   "outputs": [],
   "source": [
    "#hide_input\n",
    "# Scatter plots AL\n",
    "# Split dependent var from independent variables\n",
    "target_co = colorado.hospitalizedCurrently\n",
    "indep_var_co = colorado.drop(columns=['hospitalizedCurrently'])\n",
    "\n",
    "fig, ax = plt.subplots(figsize = (16, 16))\n",
    "for i, col in enumerate(indep_var_co.columns):\n",
    "    ax=fig.add_subplot(2, 3, i+1) \n",
    "    sns.regplot(x=indep_var_co[col], y=target_co, data=indep_var_co, label=col, scatter_kws={'s':10}, line_kws={\"color\": \"plum\"})\n",
    "    plt.suptitle('Distributions of Independent Variables Colorado', fontsize=18)\n",
    "plt.tight_layout()\n",
    "fig.subplots_adjust(top=0.95)"
   ]
  },
  {
   "cell_type": "code",
   "execution_count": null,
   "metadata": {},
   "outputs": [],
   "source": [
    "#hide_input\n",
    "###endcolorado"
   ]
  },
  {
   "cell_type": "markdown",
   "metadata": {},
   "source": [
    "### Connecticut"
   ]
  },
  {
   "cell_type": "code",
   "execution_count": null,
   "metadata": {},
   "outputs": [],
   "source": [
    "#hide_input\n",
    "conn = covid_df.loc[(covid_df['abbrev'] == 'CT') & (covid_df['state']== 'Connecticut')] \n"
   ]
  },
  {
   "cell_type": "code",
   "execution_count": null,
   "metadata": {
    "scrolled": true
   },
   "outputs": [],
   "source": [
    "#hide_input\n",
    "# TODO fix legend/axis/plot alltogether\n",
    "# Timeseries plt\n",
    "fig, ax = plt.subplots(figsize = (16, 12))\n",
    "plt.plot(conn.date, conn.hospitalizedCurrently, linewidth=4.7)\n",
    "plt.title('Number of Patients in Connecticut Currently Hospitalized', fontsize=23)\n",
    "plt.xlabel('Date')\n",
    "plt.ylabel('No. Patients')"
   ]
  },
  {
   "cell_type": "code",
   "execution_count": null,
   "metadata": {
    "scrolled": true
   },
   "outputs": [],
   "source": [
    "#hide_input\n",
    "# TODO fix legend/axis/plot alltogether\n",
    "# Timeseries plt\n",
    "fig, ax = plt.subplots(figsize = (16, 12))\n",
    "plt.plot(conn.date, conn.death, linewidth=4.7)\n",
    "plt.title('Number of Cummulative Deaths in Connecticut', fontsize=23)\n",
    "plt.xlabel('Date')\n",
    "plt.ylabel('No. Killed')"
   ]
  },
  {
   "cell_type": "code",
   "execution_count": null,
   "metadata": {
    "scrolled": true
   },
   "outputs": [],
   "source": [
    "#hide_input\n",
    "# TODO fix legend/axis/plot alltogether\n",
    "# Timeseries plt\n",
    "fig, ax = plt.subplots(figsize = (16, 12))\n",
    "plt.plot(conn.date, conn.recovered, linewidth=4.7)\n",
    "plt.title('Number of Cummulative Recoveries in Connecticut', fontsize=23)\n",
    "plt.xlabel('Date')\n",
    "plt.ylabel('No. Killed')"
   ]
  },
  {
   "cell_type": "code",
   "execution_count": null,
   "metadata": {},
   "outputs": [],
   "source": [
    "#hide_input\n",
    "# Checking which cols have NaN values\n",
    "conn[['positive', 'active', 'hospitalizedCurrently', 'inIcuCurrently', 'recovered', 'death', 'hospitalized']]\n",
    "conn.head()\n",
    "\n",
    "# Omit the NaN cols\n",
    "conn = conn[['positive', 'active', 'hospitalizedCurrently', 'inIcuCurrently', 'recovered', 'death']]"
   ]
  },
  {
   "cell_type": "code",
   "execution_count": null,
   "metadata": {},
   "outputs": [],
   "source": [
    "#hide_input\n",
    "# Scatter plots CT\n",
    "# Split dependent var from independent variables\n",
    "target_ct = conn.hospitalizedCurrently\n",
    "indep_var_ct = conn.drop(columns=['hospitalizedCurrently'])\n",
    "\n",
    "fig, ax = plt.subplots(figsize = (16, 16))\n",
    "for i, col in enumerate(indep_var_al.columns):\n",
    "    ax=fig.add_subplot(2, 3, i+1) \n",
    "    sns.regplot(x=indep_var_ct[col], y=target_ct, data=indep_var_ct, label=col, scatter_kws={'s':10}, line_kws={\"color\": \"plum\"})\n",
    "    plt.suptitle('Distributions of Independent Variables Connecticut', fontsize=23)\n",
    "plt.tight_layout()\n",
    "fig.subplots_adjust(top=0.95)"
   ]
  },
  {
   "cell_type": "code",
   "execution_count": null,
   "metadata": {},
   "outputs": [],
   "source": [
    "#hide_input\n",
    "###endconnecticut"
   ]
  },
  {
   "cell_type": "markdown",
   "metadata": {},
   "source": [
    "### Delaware"
   ]
  },
  {
   "cell_type": "code",
   "execution_count": null,
   "metadata": {},
   "outputs": [],
   "source": [
    "#hide_input\n",
    "delaware = covid_df.loc[(covid_df['abbrev'] == 'DE') & (covid_df['state']== 'Delaware')] \n"
   ]
  },
  {
   "cell_type": "code",
   "execution_count": null,
   "metadata": {
    "scrolled": true
   },
   "outputs": [],
   "source": [
    "#hide_input\n",
    "# TODO fix legend/axis/plot alltogether\n",
    "# Timeseries plt\n",
    "fig, ax = plt.subplots(figsize = (16, 12))\n",
    "plt.plot(delaware.date, delaware.hospitalizedCurrently, linewidth=4.7)\n",
    "plt.title('Number of Patients in Delaware Currently Hospitalized', fontsize=23)\n",
    "plt.xlabel('Date')\n",
    "plt.ylabel('No. Patients')"
   ]
  },
  {
   "cell_type": "code",
   "execution_count": null,
   "metadata": {
    "scrolled": true
   },
   "outputs": [],
   "source": [
    "#hide_input\n",
    "# TODO fix legend/axis/plot alltogether\n",
    "# Timeseries plt\n",
    "fig, ax = plt.subplots(figsize = (16, 12))\n",
    "plt.plot(delaware.date, delaware.death, linewidth=4.7)\n",
    "plt.title('Number of Cummulative Deaths Delaware', fontsize=23)\n",
    "plt.xlabel('Date')\n",
    "plt.ylabel('No. Killed')"
   ]
  },
  {
   "cell_type": "code",
   "execution_count": null,
   "metadata": {},
   "outputs": [],
   "source": [
    "#hide_input\n",
    "# Checking which cols have NaN values\n",
    "delaware[['positive', 'active', 'hospitalizedCurrently', 'inIcuCurrently', 'recovered', 'death', 'hospitalized']]\n",
    "delaware.head()\n",
    "\n",
    "# Omit the NaN cols\n",
    "delaware = delaware[['positive', 'active', 'hospitalizedCurrently', 'inIcuCurrently', 'recovered', 'death']]"
   ]
  },
  {
   "cell_type": "code",
   "execution_count": null,
   "metadata": {},
   "outputs": [],
   "source": [
    "#hide_input\n",
    "# Scatter plots DE\n",
    "# Split dependent var from independent variables\n",
    "target_de = delaware.hospitalizedCurrently\n",
    "indep_var_de = delaware.drop(columns=['hospitalizedCurrently'])\n",
    "\n",
    "fig, ax = plt.subplots(figsize = (16, 16))\n",
    "for i, col in enumerate(indep_var_al.columns):\n",
    "    ax=fig.add_subplot(2, 3, i+1) \n",
    "    sns.regplot(x=indep_var_de[col], y=target_de, data=indep_var_de, label=col, scatter_kws={'s':10}, line_kws={\"color\": \"plum\"})\n",
    "    plt.suptitle('Distributions of Independent Variables Delaware', fontsize=18)\n",
    "plt.tight_layout()\n",
    "fig.subplots_adjust(top=0.95)"
   ]
  },
  {
   "cell_type": "code",
   "execution_count": null,
   "metadata": {},
   "outputs": [],
   "source": [
    "#hide_input\n",
    "###enddelaware"
   ]
  },
  {
   "cell_type": "markdown",
   "metadata": {},
   "source": [
    "### Florida"
   ]
  },
  {
   "cell_type": "code",
   "execution_count": null,
   "metadata": {},
   "outputs": [],
   "source": [
    "#hide_input\n",
    "#hide_input\n",
    "fl = covid_df.loc[(covid_df['abbrev'] == 'FL') & (covid_df['state']== 'Florida')] \n"
   ]
  },
  {
   "cell_type": "code",
   "execution_count": null,
   "metadata": {},
   "outputs": [],
   "source": [
    "#hide_input\n",
    "#hide_input\n",
    "# TODO fix legend/axis/plot alltogether\n",
    "# Timeseries plt\n",
    "fig, ax = plt.subplots(figsize = (16, 12))\n",
    "plt.plot(fl.date, fl.hospitalizedCumulative, linewidth=4.7, color='r')\n",
    "plt.title('Cummulative Number of Patients in Florida  Hospitalized', fontsize=23)\n",
    "plt.xlabel('Date')\n",
    "plt.ylabel('No. Patients')"
   ]
  },
  {
   "cell_type": "code",
   "execution_count": null,
   "metadata": {},
   "outputs": [],
   "source": [
    "#hide_input\n",
    "# TODO fix legend/axis/plot alltogether\n",
    "# Timeseries plt\n",
    "fig, ax = plt.subplots(figsize = (16, 12))\n",
    "plt.plot(fl.date, fl.totalTestsViral, linewidth=4.7, color='r')\n",
    "plt.title('Cummulative Number of Viral Tests in Florida', fontsize=23)\n",
    "plt.xlabel('Date')\n",
    "plt.ylabel('No. Patients')"
   ]
  },
  {
   "cell_type": "code",
   "execution_count": null,
   "metadata": {
    "scrolled": true
   },
   "outputs": [],
   "source": [
    "# TODO fix legend/axis/plot alltogether\n",
    "# Timeseries plt\n",
    "fig, ax = plt.subplots(figsize = (16, 12))\n",
    "plt.plot(fl.date, fl.positiveTestsViral, linewidth=4.7, color='r')\n",
    "plt.title('Cummulative Number of Positive Viral Tests in Florida', fontsize=23)\n",
    "plt.xlabel('Date')\n",
    "plt.ylabel('No. Patients')"
   ]
  },
  {
   "cell_type": "code",
   "execution_count": null,
   "metadata": {},
   "outputs": [],
   "source": [
    "#hide_input\n",
    "# TODO fix legend/axis/plot alltogether\n",
    "# Timeseries plt\n",
    "fig, ax = plt.subplots(figsize = (16, 12))\n",
    "plt.plot(fl.date, fl.positiveTestsViral/fl.totalTestsViral*100, linewidth=4.7, color='r')\n",
    "plt.title('Viral Infection Rate in Florida', fontsize=23)\n",
    "plt.xlabel('Date')\n",
    "plt.ylabel('% Infected')"
   ]
  },
  {
   "cell_type": "code",
   "execution_count": null,
   "metadata": {},
   "outputs": [],
   "source": [
    "#hide_input\n",
    "###endflorida"
   ]
  },
  {
   "cell_type": "markdown",
   "metadata": {},
   "source": [
    "### Georgia"
   ]
  },
  {
   "cell_type": "code",
   "execution_count": null,
   "metadata": {},
   "outputs": [],
   "source": [
    "#hide_input\n",
    "georgia = covid_df.loc[(covid_df['abbrev'] == 'GA') & (covid_df['state']== 'Georgia')] \n"
   ]
  },
  {
   "cell_type": "code",
   "execution_count": null,
   "metadata": {
    "scrolled": true
   },
   "outputs": [],
   "source": [
    "#hide_input\n",
    "# TODO fix legend/axis/plot alltogether\n",
    "# Timeseries plt\n",
    "fig, ax = plt.subplots(figsize = (16, 12))\n",
    "plt.plot(georgia.date, georgia.hospitalizedCurrently, linewidth=4.7, color='r')\n",
    "plt.title('Number of Patients in Georgia Currently Hospitalized', fontsize=23)\n",
    "plt.xlabel('Date')\n",
    "plt.ylabel('No. Patients')"
   ]
  },
  {
   "cell_type": "code",
   "execution_count": null,
   "metadata": {},
   "outputs": [],
   "source": [
    "#hide_input\n",
    "# TODO fix legend/axis/plot alltogether\n",
    "# Timeseries plt\n",
    "fig, ax = plt.subplots(figsize = (16, 12))\n",
    "plt.plot(georgia.date, georgia.totalTestsViral, linewidth=4.7, color='r')\n",
    "plt.title('Number of Cummulative Viral Tests in Georgia', fontsize=23)\n",
    "plt.xlabel('Date')\n",
    "plt.ylabel('No. Patients')"
   ]
  },
  {
   "cell_type": "code",
   "execution_count": null,
   "metadata": {},
   "outputs": [],
   "source": [
    "#hide_input\n",
    "# TODO fix legend/axis/plot alltogether\n",
    "# Timeseries plt\n",
    "fig, ax = plt.subplots(figsize = (16, 12))\n",
    "plt.plot(georgia.date, georgia.positiveTestsViral, linewidth=4.7, color='r')\n",
    "plt.title('Number of Cummulative Positive Viral Tests in Georgia', fontsize=23)\n",
    "plt.xlabel('Date')\n",
    "plt.ylabel('No. Patients')"
   ]
  },
  {
   "cell_type": "code",
   "execution_count": null,
   "metadata": {},
   "outputs": [],
   "source": [
    "#hide_input\n",
    "# TODO fix legend/axis/plot alltogether\n",
    "# Timeseries plt\n",
    "fig, ax = plt.subplots(figsize = (16, 12))\n",
    "plt.plot(georgia.date, georgia.positiveTestsViral/georgia.totalTestsViral*100, linewidth=4.7, color='r')\n",
    "plt.title('Infection Rate in Georgia', fontsize=23)\n",
    "plt.xlabel('Date')\n",
    "plt.ylabel('% Infection Rate')"
   ]
  },
  {
   "cell_type": "code",
   "execution_count": null,
   "metadata": {},
   "outputs": [],
   "source": [
    "#hide_input\n",
    "# Checking which cols have NaN values\n",
    "georgia[['positive', 'active', 'hospitalizedCurrently', 'inIcuCurrently', 'recovered', 'death', 'hospitalized']]\n",
    "georgia.head()\n",
    "\n",
    "# Omit the NaN cols\n",
    "georgia = georgia[['positive', 'active', 'hospitalizedCurrently', 'inIcuCurrently', 'recovered', 'death']]"
   ]
  },
  {
   "cell_type": "code",
   "execution_count": null,
   "metadata": {},
   "outputs": [],
   "source": [
    "#hide_input\n",
    "# Scatter plots GA\n",
    "# Split dependent var from independent variables\n",
    "target_ga = georgia.hospitalizedCurrently\n",
    "indep_var_ga = georgia.drop(columns=['hospitalizedCurrently'])\n",
    "\n",
    "fig, ax = plt.subplots(figsize = (16, 16))\n",
    "for i, col in enumerate(indep_var_ga.columns):\n",
    "    ax=fig.add_subplot(2, 3, i+1) \n",
    "    sns.regplot(x=indep_var_ga[col], y=target_ga, data=indep_var_ga, label=col, scatter_kws={'s':10}, line_kws={\"color\": \"plum\"})\n",
    "    plt.suptitle('Distributions of Independent Variables Georgia', fontsize=23)\n",
    "plt.tight_layout()\n",
    "fig.subplots_adjust(top=0.95)"
   ]
  },
  {
   "cell_type": "code",
   "execution_count": null,
   "metadata": {},
   "outputs": [],
   "source": [
    "#hide_input\n",
    "###endgeorgia"
   ]
  },
  {
   "cell_type": "code",
   "execution_count": null,
   "metadata": {},
   "outputs": [],
   "source": []
  },
  {
   "cell_type": "markdown",
   "metadata": {},
   "source": [
    "### Hawaii"
   ]
  },
  {
   "cell_type": "code",
   "execution_count": null,
   "metadata": {},
   "outputs": [],
   "source": [
    "#hide_input\n",
    "hawaii = covid_df.loc[(covid_df['abbrev'] == 'HI') & (covid_df['state']== 'Hawaii')] \n"
   ]
  },
  {
   "cell_type": "code",
   "execution_count": null,
   "metadata": {
    "scrolled": true
   },
   "outputs": [],
   "source": [
    "#hide_input\n",
    "# TODO fix legend/axis/plot alltogether\n",
    "# Timeseries plt\n",
    "fig, ax = plt.subplots(figsize = (16, 12))\n",
    "plt.plot(hawaii.date, hawaii.positive, linewidth=4.7)\n",
    "plt.title('Number of Positive Patients in Hawaii', fontsize=23)\n",
    "plt.xlabel('Date')\n",
    "plt.ylabel('No. Patients')"
   ]
  },
  {
   "cell_type": "code",
   "execution_count": null,
   "metadata": {},
   "outputs": [],
   "source": [
    "#hide_input\n",
    "# TODO fix legend/axis/plot alltogether\n",
    "# Timeseries plt\n",
    "fig, ax = plt.subplots(figsize = (16, 12))\n",
    "plt.plot(hawaii.date, hawaii.death, linewidth=4.7)\n",
    "plt.title('Cummulative Number Killed in Hawaii', fontsize=23)\n",
    "plt.xlabel('Date')\n",
    "plt.ylabel('No. Killed')"
   ]
  },
  {
   "cell_type": "code",
   "execution_count": null,
   "metadata": {
    "scrolled": true
   },
   "outputs": [],
   "source": [
    "#hide_input\n",
    "# TODO fix legend/axis/plot alltogether\n",
    "# Timeseries plt\n",
    "fig, ax = plt.subplots(figsize = (16, 12))\n",
    "plt.plot(hawaii.date, hawaii.recovered, linewidth=4.7)\n",
    "plt.title('Cummulative Number Recovered in Hawaii', fontsize=23)\n",
    "plt.xlabel('Date')\n",
    "plt.ylabel('No. Killed')"
   ]
  },
  {
   "cell_type": "code",
   "execution_count": null,
   "metadata": {
    "scrolled": true
   },
   "outputs": [],
   "source": [
    "#hide_input\n",
    "# TODO fix legend/axis/plot alltogether\n",
    "# Timeseries plt\n",
    "fig, ax = plt.subplots(figsize = (16, 12))\n",
    "plt.plot(hawaii.date, hawaii.totalTestsViral, linewidth=4.7)\n",
    "plt.title('Cummulative Number of Viral Tests in Hawaii', fontsize=23)\n",
    "plt.xlabel('Date')\n",
    "plt.ylabel('No. Killed')"
   ]
  },
  {
   "cell_type": "code",
   "execution_count": null,
   "metadata": {
    "scrolled": true
   },
   "outputs": [],
   "source": [
    "#hide_input\n",
    "# TODO fix legend/axis/plot alltogether\n",
    "# Timeseries plt\n",
    "fig, ax = plt.subplots(figsize = (16, 12))\n",
    "plt.plot(hawaii.date, hawaii.positiveTestsViral, linewidth=4.7)\n",
    "plt.title('Cummulative Number Positive Tests in Hawaii', fontsize=23)\n",
    "plt.xlabel('Date')\n",
    "plt.ylabel('No. Killed')"
   ]
  },
  {
   "cell_type": "code",
   "execution_count": null,
   "metadata": {
    "scrolled": true
   },
   "outputs": [],
   "source": [
    "#hide_input\n",
    "# TODO fix legend/axis/plot alltogether\n",
    "# Timeseries plt\n",
    "fig, ax = plt.subplots(figsize = (16, 12))\n",
    "plt.plot(hawaii.date, hawaii.positiveTestsViral/hawaii.totalTestsViral*100, linewidth=4.7)\n",
    "plt.title('Viral Infection Rate in Hawaii', fontsize=23)\n",
    "plt.xlabel('Date')\n",
    "plt.ylabel('% Infected')"
   ]
  },
  {
   "cell_type": "code",
   "execution_count": null,
   "metadata": {},
   "outputs": [],
   "source": [
    "#hide_input\n",
    "###endalabama"
   ]
  },
  {
   "cell_type": "markdown",
   "metadata": {},
   "source": [
    "### Idaho"
   ]
  },
  {
   "cell_type": "code",
   "execution_count": null,
   "metadata": {},
   "outputs": [],
   "source": [
    "#hide_input\n",
    "idaho = covid_df.loc[(covid_df['abbrev'] == 'ID') & (covid_df['state']== 'Idaho')] \n"
   ]
  },
  {
   "cell_type": "code",
   "execution_count": null,
   "metadata": {
    "scrolled": true
   },
   "outputs": [],
   "source": [
    "#hide_input\n",
    "# TODO fix legend/axis/plot alltogether\n",
    "# Timeseries plt\n",
    "fig, ax = plt.subplots(figsize = (16, 12))\n",
    "plt.plot(idaho.date, idaho.hospitalized, linewidth=4.7, color='r')\n",
    "plt.title('Cummulative Number of Hospitalized Patients in Idaho', fontsize=23)\n",
    "plt.xlabel('Date')\n",
    "plt.ylabel('No. Patients')"
   ]
  },
  {
   "cell_type": "code",
   "execution_count": null,
   "metadata": {
    "scrolled": true
   },
   "outputs": [],
   "source": [
    "#hide_input\n",
    "# TODO fix legend/axis/plot alltogether\n",
    "# Timeseries plt\n",
    "fig, ax = plt.subplots(figsize = (16, 12))\n",
    "plt.plot(idaho.date, idaho.death, linewidth=4.7, color='r')\n",
    "plt.title('Cummulative Number of Killed in Idaho', fontsize=23)\n",
    "plt.xlabel('Date')\n",
    "plt.ylabel('No. Killed')"
   ]
  },
  {
   "cell_type": "code",
   "execution_count": null,
   "metadata": {
    "scrolled": true
   },
   "outputs": [],
   "source": [
    "#hide_input\n",
    "# TODO fix legend/axis/plot alltogether\n",
    "# Timeseries plt\n",
    "fig, ax = plt.subplots(figsize = (16, 12))\n",
    "plt.plot(idaho.date, idaho.recovered, linewidth=4.7, color='r')\n",
    "plt.title('Cummulative Number of Recovered Patients in Idaho', fontsize=23)\n",
    "plt.xlabel('Date')\n",
    "plt.ylabel('No. Patients')"
   ]
  },
  {
   "cell_type": "code",
   "execution_count": null,
   "metadata": {},
   "outputs": [],
   "source": [
    "#hide_input\n",
    "###endidaho"
   ]
  },
  {
   "cell_type": "markdown",
   "metadata": {},
   "source": [
    "### Iowa"
   ]
  },
  {
   "cell_type": "code",
   "execution_count": null,
   "metadata": {},
   "outputs": [],
   "source": [
    "#hide_input\n",
    "iowa = covid_df.loc[(covid_df['abbrev'] == 'IA') & (covid_df['state']== 'Iowa')] \n"
   ]
  },
  {
   "cell_type": "code",
   "execution_count": null,
   "metadata": {
    "scrolled": true
   },
   "outputs": [],
   "source": [
    "#hide_input\n",
    "# TODO fix legend/axis/plot alltogether\n",
    "# Timeseries plt\n",
    "fig, ax = plt.subplots(figsize = (16, 12))\n",
    "plt.plot(iowa.date, iowa.hospitalizedCurrently, linewidth=4.7, color='r')\n",
    "plt.title('Number of Patients in Iowa Currently Hospitalized', fontsize=23)\n",
    "plt.xlabel('Date')\n",
    "plt.ylabel('No. Patients')"
   ]
  },
  {
   "cell_type": "code",
   "execution_count": null,
   "metadata": {
    "scrolled": true
   },
   "outputs": [],
   "source": [
    "#hide_input\n",
    "# TODO fix legend/axis/plot alltogether\n",
    "# Timeseries plt\n",
    "fig, ax = plt.subplots(figsize = (16, 12))\n",
    "plt.plot(iowa.date, iowa.active, linewidth=4.7, color='r')\n",
    "plt.title('Number of Active Positive Cases in Iowa', fontsize=23)\n",
    "plt.xlabel('Date')\n",
    "plt.ylabel('No. Patients')"
   ]
  },
  {
   "cell_type": "code",
   "execution_count": null,
   "metadata": {
    "scrolled": true
   },
   "outputs": [],
   "source": [
    "#hide_input\n",
    "# TODO fix legend/axis/plot alltogether\n",
    "# Timeseries plt\n",
    "fig, ax = plt.subplots(figsize = (16, 12))\n",
    "plt.plot(iowa.date, iowa.hospitalizedCurrently/iowa.active*100, linewidth=4.7, color='r')\n",
    "plt.title('Hospitalization Rate in Iowa', fontsize=23)\n",
    "plt.xlabel('Date')\n",
    "plt.ylabel('No. Patients')"
   ]
  },
  {
   "cell_type": "code",
   "execution_count": null,
   "metadata": {},
   "outputs": [],
   "source": [
    "#hide_input\n",
    "# TODO fix legend/axis/plot alltogether\n",
    "# Timeseries plt\n",
    "fig, ax = plt.subplots(figsize = (16, 12))\n",
    "plt.plot(iowa.date, iowa.death, linewidth=4.7, color='r')\n",
    "plt.title('Cummulative Number Killed in Iowa', fontsize=23)\n",
    "plt.xlabel('Date')\n",
    "plt.ylabel('No. Killed')"
   ]
  },
  {
   "cell_type": "code",
   "execution_count": null,
   "metadata": {},
   "outputs": [],
   "source": [
    "#hide_input\n",
    "# Checking which cols have NaN values\n",
    "iowa[['positive', 'active', 'hospitalizedCurrently', 'inIcuCurrently', 'recovered', 'death', 'hospitalized']]\n",
    "iowa.head()\n",
    "\n",
    "# Omit the NaN cols\n",
    "iowa = iowa[['positive', 'active', 'hospitalizedCurrently', 'inIcuCurrently', 'recovered', 'death']]"
   ]
  },
  {
   "cell_type": "code",
   "execution_count": null,
   "metadata": {},
   "outputs": [],
   "source": [
    "#hide_input\n",
    "# Scatter plots AL\n",
    "# Split dependent var from independent variables\n",
    "target_ia = iowa.hospitalizedCurrently\n",
    "indep_var_ia = iowa.drop(columns=['hospitalizedCurrently'])\n",
    "\n",
    "fig, ax = plt.subplots(figsize = (16, 16))\n",
    "for i, col in enumerate(indep_var_al.columns):\n",
    "    ax=fig.add_subplot(2, 3, i+1) \n",
    "    sns.regplot(x=indep_var_ia[col], y=target_ia, data=indep_var_ia, label=col, scatter_kws={'s':10}, line_kws={\"color\": \"plum\"})\n",
    "    plt.suptitle('Distributions of Independent Variables Iowa', fontsize=23)\n",
    "plt.tight_layout()\n",
    "fig.subplots_adjust(top=0.95)"
   ]
  },
  {
   "cell_type": "code",
   "execution_count": null,
   "metadata": {},
   "outputs": [],
   "source": [
    "#hide_input\n",
    "###endiowa"
   ]
  },
  {
   "cell_type": "markdown",
   "metadata": {},
   "source": [
    "### Kansas"
   ]
  },
  {
   "cell_type": "code",
   "execution_count": null,
   "metadata": {},
   "outputs": [],
   "source": [
    "#hide_input\n",
    "kansas = covid_df.loc[(covid_df['abbrev'] == 'KS') & (covid_df['state']== 'Kansas')] \n"
   ]
  },
  {
   "cell_type": "code",
   "execution_count": null,
   "metadata": {
    "scrolled": true
   },
   "outputs": [],
   "source": [
    "#hide_input\n",
    "# TODO fix legend/axis/plot alltogether\n",
    "# Timeseries plt\n",
    "fig, ax = plt.subplots(figsize = (16, 12))\n",
    "plt.plot(kansas.date, kansas.hospitalizedCumulative, linewidth=4.7, color='r')\n",
    "plt.title('Cummulative Number of Patients in Kansas Hospitalized', fontsize=23)\n",
    "plt.xlabel('Date')\n",
    "plt.ylabel('No. Patients')"
   ]
  },
  {
   "cell_type": "code",
   "execution_count": null,
   "metadata": {},
   "outputs": [],
   "source": [
    "#hide_input\n",
    "# TODO fix legend/axis/plot alltogether\n",
    "# Timeseries plt\n",
    "fig, ax = plt.subplots(figsize = (16, 12))\n",
    "plt.plot(kansas.date, kansas.positiveCasesViral, linewidth=4.7, color='r')\n",
    "plt.title('Number of Active Positive Cases in Kansas', fontsize=23)\n",
    "plt.xlabel('Date')\n",
    "plt.ylabel('No. Patients')"
   ]
  },
  {
   "cell_type": "code",
   "execution_count": null,
   "metadata": {},
   "outputs": [],
   "source": [
    "#hide_input\n",
    "###endkansas"
   ]
  },
  {
   "cell_type": "markdown",
   "metadata": {},
   "source": [
    "### Kentucky"
   ]
  },
  {
   "cell_type": "code",
   "execution_count": null,
   "metadata": {},
   "outputs": [],
   "source": [
    "#hide_input\n",
    "kentucky = covid_df.loc[(covid_df['abbrev'] == 'KY') & (covid_df['state']== 'Kentucky')] \n"
   ]
  },
  {
   "cell_type": "code",
   "execution_count": null,
   "metadata": {
    "scrolled": true
   },
   "outputs": [],
   "source": [
    "#hide_input\n",
    "# TODO fix legend/axis/plot alltogether\n",
    "# Timeseries plt\n",
    "fig, ax = plt.subplots(figsize = (16, 12))\n",
    "plt.plot(kentucky.date, kentucky.hospitalizedCurrently, linewidth=4.7, color='r')\n",
    "plt.title('Number of Patients in Kentucky Currently Hospitalized', fontsize=23)\n",
    "plt.xlabel('Date')\n",
    "plt.ylabel('No. Patients')"
   ]
  },
  {
   "cell_type": "code",
   "execution_count": null,
   "metadata": {
    "scrolled": true
   },
   "outputs": [],
   "source": [
    "#hide_input\n",
    "# TODO fix legend/axis/plot alltogether\n",
    "# Timeseries plt\n",
    "fig, ax = plt.subplots(figsize = (16, 12))\n",
    "plt.plot(kentucky.date, kentucky.inIcuCurrently, linewidth=4.7, color='r')\n",
    "plt.title('Number of Patients in Kentucky Currently in ICU', fontsize=23)\n",
    "plt.xlabel('Date')\n",
    "plt.ylabel('No. Patients')"
   ]
  },
  {
   "cell_type": "code",
   "execution_count": null,
   "metadata": {
    "scrolled": true
   },
   "outputs": [],
   "source": [
    "#hide_input\n",
    "# TODO fix legend/axis/plot alltogether\n",
    "# Timeseries plt\n",
    "fig, ax = plt.subplots(figsize = (16, 12))\n",
    "plt.plot(kentucky.date, kentucky.positiveCasesViral, linewidth=4.7, color='r')\n",
    "plt.title('Number of Cummulative Positve Cases in Kentucky', fontsize=23)\n",
    "plt.xlabel('Date')\n",
    "plt.ylabel('No. Patients')"
   ]
  },
  {
   "cell_type": "code",
   "execution_count": null,
   "metadata": {},
   "outputs": [],
   "source": [
    "#hide_input\n",
    "# Checking which cols have NaN values\n",
    "kentucky[['positive', 'active', 'hospitalizedCurrently', 'inIcuCurrently', 'recovered', 'death', 'hospitalized']]\n",
    "kentucky.head()\n",
    "\n",
    "# Omit the NaN cols\n",
    "kentucky = kentucky[['positive', 'active', 'hospitalizedCurrently', 'inIcuCurrently', 'recovered', 'death']]"
   ]
  },
  {
   "cell_type": "code",
   "execution_count": null,
   "metadata": {},
   "outputs": [],
   "source": [
    "#hide_input\n",
    "# Scatter plots AL\n",
    "# Split dependent var from independent variables\n",
    "target_ky = kentucky.hospitalizedCurrently\n",
    "indep_var_ky = kentucky.drop(columns=['hospitalizedCurrently'])\n",
    "\n",
    "fig, ax = plt.subplots(figsize = (16, 16))\n",
    "for i, col in enumerate(indep_var_ky.columns):\n",
    "    ax=fig.add_subplot(2, 3, i+1) \n",
    "    sns.regplot(x=indep_var_ky[col], y=target_ky, data=indep_var_ky, label=col, scatter_kws={'s':10}, line_kws={\"color\": \"plum\"})\n",
    "    plt.suptitle('Distributions of Independent Variables Kentuky', fontsize=23)\n",
    "plt.tight_layout()\n",
    "fig.subplots_adjust(top=0.95)"
   ]
  },
  {
   "cell_type": "code",
   "execution_count": null,
   "metadata": {},
   "outputs": [],
   "source": [
    "#hide_input\n",
    "###endkentucky"
   ]
  },
  {
   "cell_type": "markdown",
   "metadata": {},
   "source": [
    "### Louisiana"
   ]
  },
  {
   "cell_type": "code",
   "execution_count": null,
   "metadata": {},
   "outputs": [],
   "source": [
    "#hide_input\n",
    "louisiana = covid_df.loc[(covid_df['abbrev'] == 'LA') & (covid_df['state']== 'Louisiana')] \n"
   ]
  },
  {
   "cell_type": "code",
   "execution_count": null,
   "metadata": {
    "scrolled": true
   },
   "outputs": [],
   "source": [
    "#hide_input\n",
    "# TODO fix legend/axis/plot alltogether\n",
    "# Timeseries plt\n",
    "fig, ax = plt.subplots(figsize = (16, 12))\n",
    "plt.plot(louisiana.date, louisiana.hospitalizedCurrently, linewidth=4.7)\n",
    "plt.title('Number of Patients in Louisiana Currently Hospitalized', fontsize=23)\n",
    "plt.xlabel('Date')\n",
    "plt.ylabel('No. Patients')"
   ]
  },
  {
   "cell_type": "code",
   "execution_count": null,
   "metadata": {},
   "outputs": [],
   "source": [
    "#hide_input\n",
    "# TODO fix legend/axis/plot alltogether\n",
    "# Timeseries plt\n",
    "fig, ax = plt.subplots(figsize = (16, 12))\n",
    "plt.plot(louisiana.date, louisiana.active, linewidth=4.7)\n",
    "plt.title('Number of Active Positive Cases in Louisiana', fontsize=23)\n",
    "plt.xlabel('Date')\n",
    "plt.ylabel('No. Patients')"
   ]
  },
  {
   "cell_type": "code",
   "execution_count": null,
   "metadata": {},
   "outputs": [],
   "source": [
    "#hide_input\n",
    "# TODO fix legend/axis/plot alltogether\n",
    "# Timeseries plt\n",
    "fig, ax = plt.subplots(figsize = (16, 12))\n",
    "plt.plot(louisiana.date, louisiana.hospitalizedCurrently/louisiana.active*100, linewidth=4.7)\n",
    "plt.title('Hospitalization Rate in Louisiana', fontsize=23)\n",
    "plt.xlabel('Date')\n",
    "plt.ylabel('No. Patients')"
   ]
  },
  {
   "cell_type": "code",
   "execution_count": null,
   "metadata": {},
   "outputs": [],
   "source": [
    "#hide_input\n",
    "# TODO fix legend/axis/plot alltogether\n",
    "# Timeseries plt\n",
    "fig, ax = plt.subplots(figsize = (16, 12))\n",
    "plt.plot(louisiana.date, louisiana.death, linewidth=4.7)\n",
    "plt.title('Cummulative Number Killed in Louisiana', fontsize=23)\n",
    "plt.xlabel('Date')\n",
    "plt.ylabel('No. Killed')"
   ]
  },
  {
   "cell_type": "code",
   "execution_count": null,
   "metadata": {},
   "outputs": [],
   "source": [
    "#hide_input\n",
    "# Checking which cols have NaN values\n",
    "louisiana[['positive', 'active', 'hospitalizedCurrently', 'inIcuCurrently', 'recovered', 'death', 'hospitalized']]\n",
    "louisiana.head()\n",
    "\n",
    "# Omit the NaN cols\n",
    "louisiana = louisiana[['positive', 'active', 'hospitalizedCurrently', 'inIcuCurrently', 'recovered', 'death']]"
   ]
  },
  {
   "cell_type": "code",
   "execution_count": null,
   "metadata": {},
   "outputs": [],
   "source": [
    "#hide_input\n",
    "# Scatter plots AL\n",
    "# Split dependent var from independent variables\n",
    "target_la = louisiana.hospitalizedCurrently\n",
    "indep_var_la = louisiana.drop(columns=['hospitalizedCurrently'])\n",
    "\n",
    "fig, ax = plt.subplots(figsize = (16, 16))\n",
    "for i, col in enumerate(indep_var_la.columns):\n",
    "    ax=fig.add_subplot(2, 3, i+1) \n",
    "    sns.regplot(x=indep_var_la[col], y=target_la, data=indep_var_la, label=col, scatter_kws={'s':10}, line_kws={\"color\": \"plum\"})\n",
    "    plt.suptitle('Distributions of Independent Variables Louisiana', fontsize=23)\n",
    "plt.tight_layout()\n",
    "fig.subplots_adjust(top=0.95)"
   ]
  },
  {
   "cell_type": "code",
   "execution_count": null,
   "metadata": {},
   "outputs": [],
   "source": [
    "#hide_input\n",
    "###endlouisiana"
   ]
  },
  {
   "cell_type": "markdown",
   "metadata": {},
   "source": [
    "### Maine"
   ]
  },
  {
   "cell_type": "code",
   "execution_count": null,
   "metadata": {},
   "outputs": [],
   "source": [
    "#hide_input\n",
    "maine = covid_df.loc[(covid_df['abbrev'] == 'ME') & (covid_df['state']== 'Maine')] \n"
   ]
  },
  {
   "cell_type": "code",
   "execution_count": null,
   "metadata": {
    "scrolled": true
   },
   "outputs": [],
   "source": [
    "#hide_input\n",
    "# TODO fix legend/axis/plot alltogether\n",
    "# Timeseries plt\n",
    "fig, ax = plt.subplots(figsize = (16, 12))\n",
    "plt.plot(maine.date, maine.hospitalizedCurrently, linewidth=4.7)\n",
    "plt.title('Number of Patients in Maine Currently Hospitalized', fontsize=23)\n",
    "plt.xlabel('Date')\n",
    "plt.ylabel('No. Patients')"
   ]
  },
  {
   "cell_type": "code",
   "execution_count": null,
   "metadata": {
    "scrolled": true
   },
   "outputs": [],
   "source": [
    "#hide_input\n",
    "# TODO fix legend/axis/plot alltogether\n",
    "# Timeseries plt\n",
    "fig, ax = plt.subplots(figsize = (16, 12))\n",
    "plt.plot(maine.date, maine.active, linewidth=4.7)\n",
    "plt.title('Number of Active Positive Cases in Maine', fontsize=23)\n",
    "plt.xlabel('Date')\n",
    "plt.ylabel('No. Patients')"
   ]
  },
  {
   "cell_type": "code",
   "execution_count": null,
   "metadata": {},
   "outputs": [],
   "source": [
    "#hide_input\n",
    "# TODO fix legend/axis/plot alltogether\n",
    "# Timeseries plt\n",
    "fig, ax = plt.subplots(figsize = (16, 12))\n",
    "plt.plot(maine.date, maine.hospitalizedCurrently/maine.active*100, linewidth=4.7)\n",
    "plt.title('Hospitalization Rate in Maine', fontsize=23)\n",
    "plt.xlabel('Date')\n",
    "plt.ylabel('No. Patients')"
   ]
  },
  {
   "cell_type": "code",
   "execution_count": null,
   "metadata": {},
   "outputs": [],
   "source": [
    "#hide_input\n",
    "# TODO fix legend/axis/plot alltogether\n",
    "# Timeseries plt\n",
    "fig, ax = plt.subplots(figsize = (16, 12))\n",
    "plt.plot(maine.date, maine.death, linewidth=4.7)\n",
    "plt.title('Cummulative Number Killed in Maine', fontsize=23)\n",
    "plt.xlabel('Date')\n",
    "plt.ylabel('No. Killed')"
   ]
  },
  {
   "cell_type": "code",
   "execution_count": null,
   "metadata": {},
   "outputs": [],
   "source": [
    "#hide_input\n",
    "# Checking which cols have NaN values\n",
    "maine[['positive', 'active', 'hospitalizedCurrently', 'inIcuCurrently', 'recovered', 'death', 'hospitalized']]\n",
    "maine.head()\n",
    "\n",
    "# Omit the NaN cols\n",
    "maine = maine[['positive', 'active', 'hospitalizedCurrently', 'inIcuCurrently', 'recovered', 'death']]"
   ]
  },
  {
   "cell_type": "code",
   "execution_count": null,
   "metadata": {},
   "outputs": [],
   "source": [
    "#hide_input\n",
    "# Scatter plots AL\n",
    "# Split dependent var from independent variables\n",
    "target_me = maine.hospitalizedCurrently\n",
    "indep_var_me = maine.drop(columns=['hospitalizedCurrently'])\n",
    "\n",
    "fig, ax = plt.subplots(figsize = (16, 16))\n",
    "for i, col in enumerate(indep_var_me.columns):\n",
    "    ax=fig.add_subplot(2, 3, i+1) \n",
    "    sns.regplot(x=indep_var_me[col], y=target_me, data=indep_var_me, label=col, scatter_kws={'s':10}, line_kws={\"color\": \"plum\"})\n",
    "    plt.suptitle('Distributions of Independent Variables Maine', fontsize=23)\n",
    "plt.tight_layout()\n",
    "fig.subplots_adjust(top=0.95)"
   ]
  },
  {
   "cell_type": "code",
   "execution_count": null,
   "metadata": {},
   "outputs": [],
   "source": [
    "#hide_input\n",
    "###endmaine"
   ]
  },
  {
   "cell_type": "markdown",
   "metadata": {},
   "source": [
    "### Maryland"
   ]
  },
  {
   "cell_type": "code",
   "execution_count": null,
   "metadata": {},
   "outputs": [],
   "source": [
    "#hide_input\n",
    "maryland = covid_df.loc[(covid_df['abbrev'] == 'MD') & (covid_df['state']== 'Maryland')] \n"
   ]
  },
  {
   "cell_type": "code",
   "execution_count": null,
   "metadata": {
    "scrolled": true
   },
   "outputs": [],
   "source": [
    "#hide_input\n",
    "# TODO fix legend/axis/plot alltogether\n",
    "# Timeseries plt\n",
    "fig, ax = plt.subplots(figsize = (16, 12))\n",
    "plt.plot(maryland.date, maryland.hospitalizedCurrently, linewidth=4.7, color='r')\n",
    "plt.title('Number of Patients in Maryland Currently Hospitalized', fontsize=23)\n",
    "plt.xlabel('Date')\n",
    "plt.ylabel('No. Patients')"
   ]
  },
  {
   "cell_type": "code",
   "execution_count": null,
   "metadata": {},
   "outputs": [],
   "source": [
    "#hide_input\n",
    "# TODO fix legend/axis/plot alltogether\n",
    "# Timeseries plt\n",
    "fig, ax = plt.subplots(figsize = (16, 12))\n",
    "plt.plot(maryland.date, maryland.active, linewidth=4.7, color='r')\n",
    "plt.title('Number of Active Positive Cases in Maryland', fontsize=23)\n",
    "plt.xlabel('Date')\n",
    "plt.ylabel('No. Patients')"
   ]
  },
  {
   "cell_type": "code",
   "execution_count": null,
   "metadata": {},
   "outputs": [],
   "source": [
    "#hide_input\n",
    "# TODO fix legend/axis/plot alltogether\n",
    "# Timeseries plt\n",
    "fig, ax = plt.subplots(figsize = (16, 12))\n",
    "plt.plot(maryland.date, maryland.inIcuCurrently, linewidth=4.7, color='r')\n",
    "plt.title('Hospitalization Rate in Maryland', fontsize=23)\n",
    "plt.xlabel('Date')\n",
    "plt.ylabel('No. Patients')"
   ]
  },
  {
   "cell_type": "code",
   "execution_count": null,
   "metadata": {},
   "outputs": [],
   "source": [
    "#hide_input\n",
    "# TODO fix legend/axis/plot alltogether\n",
    "# Timeseries plt\n",
    "fig, ax = plt.subplots(figsize = (16, 12))\n",
    "plt.plot(maryland.date, maryland.hospitalizedCurrently/maryland.active*100, linewidth=4.7, color='r')\n",
    "plt.title('Hospitalization Rate in Maryland', fontsize=23)\n",
    "plt.xlabel('Date')\n",
    "plt.ylabel('No. Patients')"
   ]
  },
  {
   "cell_type": "code",
   "execution_count": null,
   "metadata": {},
   "outputs": [],
   "source": [
    "#hide_input\n",
    "# TODO fix legend/axis/plot alltogether\n",
    "# Timeseries plt\n",
    "fig, ax = plt.subplots(figsize = (16, 12))\n",
    "plt.plot(maryland.date, maryland.death, linewidth=4.7, color='r')\n",
    "plt.title('Cummulative Number Killed in Maryland', fontsize=23)\n",
    "plt.xlabel('Date')\n",
    "plt.ylabel('No. Killed')"
   ]
  },
  {
   "cell_type": "code",
   "execution_count": null,
   "metadata": {},
   "outputs": [],
   "source": [
    "#hide_input\n",
    "# Checking which cols have NaN values\n",
    "maryland[['positive', 'active', 'hospitalizedCurrently', 'inIcuCurrently', 'recovered', 'death', 'hospitalized']]\n",
    "maryland.head()\n",
    "\n",
    "# Omit the NaN cols\n",
    "maryland = maryland[['positive', 'active', 'hospitalizedCurrently', 'inIcuCurrently', 'recovered', 'death']]"
   ]
  },
  {
   "cell_type": "code",
   "execution_count": null,
   "metadata": {},
   "outputs": [],
   "source": [
    "#hide_input\n",
    "# Scatter plots AL\n",
    "# Split dependent var from independent variables\n",
    "target_md = maryland.hospitalizedCurrently\n",
    "indep_var_md = maryland.drop(columns=['hospitalizedCurrently'])\n",
    "\n",
    "fig, ax = plt.subplots(figsize = (16, 16))\n",
    "for i, col in enumerate(indep_var_al.columns):\n",
    "    ax=fig.add_subplot(2, 3, i+1) \n",
    "    sns.regplot(x=indep_var_md[col], y=target_md, data=indep_var_md, label=col, scatter_kws={'s':10}, line_kws={\"color\": \"plum\"})\n",
    "    plt.suptitle('Distributions of Independent Variables Maryland', fontsize=23)\n",
    "plt.tight_layout()\n",
    "fig.subplots_adjust(top=0.95)"
   ]
  },
  {
   "cell_type": "code",
   "execution_count": null,
   "metadata": {},
   "outputs": [],
   "source": [
    "#hide_input\n",
    "###endmaryland"
   ]
  },
  {
   "cell_type": "markdown",
   "metadata": {},
   "source": [
    "### Massachusetts"
   ]
  },
  {
   "cell_type": "code",
   "execution_count": null,
   "metadata": {},
   "outputs": [],
   "source": [
    "#hide_input\n",
    "mass = covid_df.loc[(covid_df['abbrev'] == 'MA') & (covid_df['state']== 'Massachusetts')] \n"
   ]
  },
  {
   "cell_type": "code",
   "execution_count": null,
   "metadata": {
    "scrolled": true
   },
   "outputs": [],
   "source": [
    "#hide_input\n",
    "# TODO fix legend/axis/plot alltogether\n",
    "# Timeseries plt\n",
    "fig, ax = plt.subplots(figsize = (16, 12))\n",
    "plt.plot(mass.date, mass.hospitalizedCurrently, linewidth=4.7, color='r')\n",
    "plt.title('Number of Patients in Massachusetts Currently Hospitalized', fontsize=23)\n",
    "plt.xlabel('Date')\n",
    "plt.ylabel('No. Patients')"
   ]
  },
  {
   "cell_type": "code",
   "execution_count": null,
   "metadata": {},
   "outputs": [],
   "source": [
    "#hide_input\n",
    "# TODO fix legend/axis/plot alltogether\n",
    "# Timeseries plt\n",
    "fig, ax = plt.subplots(figsize = (16, 12))\n",
    "plt.plot(mass.date, mass.active, linewidth=4.7, color='r')\n",
    "plt.title('Number of Active Positive Cases in Massachusetts', fontsize=23)\n",
    "plt.xlabel('Date')\n",
    "plt.ylabel('No. Patients')"
   ]
  },
  {
   "cell_type": "code",
   "execution_count": null,
   "metadata": {},
   "outputs": [],
   "source": [
    "#hide_input\n",
    "# TODO fix legend/axis/plot alltogether\n",
    "# Timeseries plt\n",
    "fig, ax = plt.subplots(figsize = (16, 12))\n",
    "plt.plot(mass.date, mass.hospitalizedCurrently/mass.active*100, linewidth=4.7, color='r')\n",
    "plt.title('Hospitalization Rate in Massachusetts', fontsize=23)\n",
    "plt.xlabel('Date')\n",
    "plt.ylabel('No. Patients')"
   ]
  },
  {
   "cell_type": "code",
   "execution_count": null,
   "metadata": {},
   "outputs": [],
   "source": [
    "#hide_input\n",
    "# TODO fix legend/axis/plot alltogether\n",
    "# Timeseries plt\n",
    "fig, ax = plt.subplots(figsize = (16, 12))\n",
    "plt.plot(mass.date, mass.death, linewidth=4.7, color='r')\n",
    "plt.title('Cummulative Number Killed in Massachusetts', fontsize=23)\n",
    "plt.xlabel('Date')\n",
    "plt.ylabel('No. Killed')"
   ]
  },
  {
   "cell_type": "code",
   "execution_count": null,
   "metadata": {},
   "outputs": [],
   "source": [
    "#hide_input\n",
    "# Checking which cols have NaN values\n",
    "mass[['positive', 'active', 'hospitalizedCurrently', 'inIcuCurrently', 'recovered', 'death', 'hospitalized']]\n",
    "mass.head()\n",
    "\n",
    "# Omit the NaN cols\n",
    "mass = mass[['positive', 'active', 'hospitalizedCurrently', 'inIcuCurrently', 'recovered', 'death']]"
   ]
  },
  {
   "cell_type": "code",
   "execution_count": null,
   "metadata": {},
   "outputs": [],
   "source": [
    "#hide_input\n",
    "# Scatter plots AL\n",
    "# Split dependent var from independent variables\n",
    "target_ma = mass.hospitalizedCurrently\n",
    "indep_var_ma = mass.drop(columns=['hospitalizedCurrently'])\n",
    "\n",
    "fig, ax = plt.subplots(figsize = (16, 16))\n",
    "for i, col in enumerate(indep_var_ma.columns):\n",
    "    ax=fig.add_subplot(2, 3, i+1) \n",
    "    sns.regplot(x=indep_var_ma[col], y=target_ma, data=indep_var_ma, label=col, scatter_kws={'s':10}, line_kws={\"color\": \"plum\"})\n",
    "    plt.suptitle('Distributions of Independent Variables Massachusetts', fontsize=23)\n",
    "plt.tight_layout()\n",
    "fig.subplots_adjust(top=0.95)"
   ]
  },
  {
   "cell_type": "code",
   "execution_count": null,
   "metadata": {},
   "outputs": [],
   "source": [
    "#hide_input\n",
    "###endmass"
   ]
  },
  {
   "cell_type": "markdown",
   "metadata": {},
   "source": [
    "### Michigan"
   ]
  },
  {
   "cell_type": "code",
   "execution_count": null,
   "metadata": {},
   "outputs": [],
   "source": [
    "#hide_input\n",
    "mich = covid_df.loc[(covid_df['abbrev'] == 'MI') & (covid_df['state']== 'Michigan')] \n"
   ]
  },
  {
   "cell_type": "code",
   "execution_count": null,
   "metadata": {
    "scrolled": true
   },
   "outputs": [],
   "source": [
    "#hide_input\n",
    "# TODO fix legend/axis/plot alltogether\n",
    "# Timeseries plt\n",
    "fig, ax = plt.subplots(figsize = (16, 12))\n",
    "plt.plot(mich.date, mich.hospitalizedCurrently, linewidth=4.7)\n",
    "plt.title('Number of Patients in Michigan Currently Hospitalized', fontsize=23)\n",
    "plt.xlabel('Date')\n",
    "plt.ylabel('No. Patients')"
   ]
  },
  {
   "cell_type": "code",
   "execution_count": null,
   "metadata": {},
   "outputs": [],
   "source": [
    "#hide_input\n",
    "# TODO fix legend/axis/plot alltogether\n",
    "# Timeseries plt\n",
    "fig, ax = plt.subplots(figsize = (16, 12))\n",
    "plt.plot(mich.date, mich.active, linewidth=4.7)\n",
    "plt.title('Number of Active Positive Cases in Michigan', fontsize=23)\n",
    "plt.xlabel('Date')\n",
    "plt.ylabel('No. Patients')"
   ]
  },
  {
   "cell_type": "code",
   "execution_count": null,
   "metadata": {},
   "outputs": [],
   "source": [
    "#hide_input\n",
    "# TODO fix legend/axis/plot alltogether\n",
    "# Timeseries plt\n",
    "fig, ax = plt.subplots(figsize = (16, 12))\n",
    "plt.plot(mich.date, mich.hospitalizedCurrently/mich.active*100, linewidth=4.7)\n",
    "plt.title('Hospitalization Rate in Michigan', fontsize=23)\n",
    "plt.xlabel('Date')\n",
    "plt.ylabel('No. Patients')"
   ]
  },
  {
   "cell_type": "code",
   "execution_count": null,
   "metadata": {},
   "outputs": [],
   "source": [
    "#hide_input\n",
    "# TODO fix legend/axis/plot alltogether\n",
    "# Timeseries plt\n",
    "fig, ax = plt.subplots(figsize = (16, 12))\n",
    "plt.plot(mich.date, mich.death, linewidth=4.7)\n",
    "plt.title('Cummulative Number Killed in Michigan', fontsize=23)\n",
    "plt.xlabel('Date')\n",
    "plt.ylabel('No. Killed')"
   ]
  },
  {
   "cell_type": "code",
   "execution_count": null,
   "metadata": {},
   "outputs": [],
   "source": [
    "#hide_input\n",
    "# Checking which cols have NaN values\n",
    "mich[['positive', 'active', 'hospitalizedCurrently', 'inIcuCurrently', 'recovered', 'death', 'hospitalized']]\n",
    "mich.head()\n",
    "\n",
    "# Omit the NaN cols\n",
    "mich = mich[['positive', 'active', 'hospitalizedCurrently', 'inIcuCurrently', 'recovered', 'death']]"
   ]
  },
  {
   "cell_type": "code",
   "execution_count": null,
   "metadata": {},
   "outputs": [],
   "source": [
    "#hide_input\n",
    "# Scatter plots AL\n",
    "# Split dependent var from independent variables\n",
    "target_mi = mich.hospitalizedCurrently\n",
    "indep_var_mi = mich.drop(columns=['hospitalizedCurrently'])\n",
    "\n",
    "fig, ax = plt.subplots(figsize = (16, 16))\n",
    "for i, col in enumerate(indep_var_mi.columns):\n",
    "    ax=fig.add_subplot(2, 3, i+1) \n",
    "    sns.regplot(x=indep_var_mi[col], y=target_mi, data=indep_var_mi, label=col, scatter_kws={'s':10}, line_kws={\"color\": \"plum\"})\n",
    "    plt.suptitle('Distributions of Independent Variables Michigan', fontsize=23)\n",
    "plt.tight_layout()\n",
    "fig.subplots_adjust(top=0.95)"
   ]
  },
  {
   "cell_type": "code",
   "execution_count": null,
   "metadata": {},
   "outputs": [],
   "source": [
    "#hide_input\n",
    "###endmichigan"
   ]
  },
  {
   "cell_type": "markdown",
   "metadata": {},
   "source": [
    "### Minnesota"
   ]
  },
  {
   "cell_type": "code",
   "execution_count": null,
   "metadata": {},
   "outputs": [],
   "source": [
    "#hide_input\n",
    "minn = covid_df.loc[(covid_df['abbrev'] == 'MN') & (covid_df['state']== 'Minnesota')] \n"
   ]
  },
  {
   "cell_type": "code",
   "execution_count": null,
   "metadata": {
    "scrolled": true
   },
   "outputs": [],
   "source": [
    "#hide_input\n",
    "# TODO fix legend/axis/plot alltogether\n",
    "# Timeseries plt\n",
    "fig, ax = plt.subplots(figsize = (16, 12))\n",
    "plt.plot(minn.date, minn.hospitalizedCurrently, linewidth=4.7)\n",
    "plt.title('Number of Patients in Minnesota Currently Hospitalized', fontsize=23)\n",
    "plt.xlabel('Date')\n",
    "plt.ylabel('No. Patients')"
   ]
  },
  {
   "cell_type": "code",
   "execution_count": null,
   "metadata": {},
   "outputs": [],
   "source": [
    "#hide_input\n",
    "# TODO fix legend/axis/plot alltogether\n",
    "# Timeseries plt\n",
    "fig, ax = plt.subplots(figsize = (16, 12))\n",
    "plt.plot(minn.date, minn.active, linewidth=4.7)\n",
    "plt.title('Number of Active Positive Cases in Minnesota', fontsize=23)\n",
    "plt.xlabel('Date')\n",
    "plt.ylabel('No. Patients')"
   ]
  },
  {
   "cell_type": "code",
   "execution_count": null,
   "metadata": {},
   "outputs": [],
   "source": [
    "#hide_input\n",
    "# TODO fix legend/axis/plot alltogether\n",
    "# Timeseries plt\n",
    "fig, ax = plt.subplots(figsize = (16, 12))\n",
    "plt.plot(minn.date, minn.hospitalizedCurrently/minn.active*100, linewidth=4.7)\n",
    "plt.title('Hospitalization Rate in Minnesota', fontsize=23)\n",
    "plt.xlabel('Date')\n",
    "plt.ylabel('No. Patients')"
   ]
  },
  {
   "cell_type": "code",
   "execution_count": null,
   "metadata": {},
   "outputs": [],
   "source": [
    "#hide_input\n",
    "# TODO fix legend/axis/plot alltogether\n",
    "# Timeseries plt\n",
    "fig, ax = plt.subplots(figsize = (16, 12))\n",
    "plt.plot(minn.date, minn.death, linewidth=4.7)\n",
    "plt.title('Cummulative Number Killed in Minnesota', fontsize=23)\n",
    "plt.xlabel('Date')\n",
    "plt.ylabel('No. Killed')"
   ]
  },
  {
   "cell_type": "code",
   "execution_count": null,
   "metadata": {},
   "outputs": [],
   "source": [
    "#hide_input\n",
    "# Checking which cols have NaN values\n",
    "minn[['positive', 'active', 'hospitalizedCurrently', 'inIcuCurrently', 'recovered', 'death', 'hospitalized']]\n",
    "minn.head()\n",
    "\n",
    "# Omit the NaN cols\n",
    "minn = minn[['positive', 'active', 'hospitalizedCurrently', 'inIcuCurrently', 'recovered', 'death']]"
   ]
  },
  {
   "cell_type": "code",
   "execution_count": null,
   "metadata": {},
   "outputs": [],
   "source": [
    "#hide_input\n",
    "# Scatter plots AL\n",
    "# Split dependent var from independent variables\n",
    "target_mn = minn.hospitalizedCurrently\n",
    "indep_var_mn = minn.drop(columns=['hospitalizedCurrently'])\n",
    "\n",
    "fig, ax = plt.subplots(figsize = (16, 16))\n",
    "for i, col in enumerate(indep_var_mn.columns):\n",
    "    ax=fig.add_subplot(2, 3, i+1) \n",
    "    sns.regplot(x=indep_var_mn[col], y=target_mn, data=indep_var_mn, label=col, scatter_kws={'s':10}, line_kws={\"color\": \"plum\"})\n",
    "    plt.suptitle('Distributions of Independent Variables Minnesota', fontsize=23)\n",
    "plt.tight_layout()\n",
    "fig.subplots_adjust(top=0.95)"
   ]
  },
  {
   "cell_type": "code",
   "execution_count": null,
   "metadata": {},
   "outputs": [],
   "source": [
    "#hide_input\n",
    "###endminnesota"
   ]
  },
  {
   "cell_type": "markdown",
   "metadata": {},
   "source": [
    "### Mississippi"
   ]
  },
  {
   "cell_type": "code",
   "execution_count": null,
   "metadata": {},
   "outputs": [],
   "source": [
    "#hide_input\n",
    "miss = covid_df.loc[(covid_df['abbrev'] == 'MS') & (covid_df['state']== 'Mississippi')] \n"
   ]
  },
  {
   "cell_type": "code",
   "execution_count": null,
   "metadata": {
    "scrolled": true
   },
   "outputs": [],
   "source": [
    "#hide_input\n",
    "# TODO fix legend/axis/plot alltogether\n",
    "# Timeseries plt\n",
    "fig, ax = plt.subplots(figsize = (16, 12))\n",
    "plt.plot(miss.date, miss.hospitalizedCurrently, linewidth=4.7, color='r')\n",
    "plt.title('Number of Patients in Mississippi Currently Hospitalized', fontsize=23)\n",
    "plt.xlabel('Date')\n",
    "plt.ylabel('No. Patients')"
   ]
  },
  {
   "cell_type": "code",
   "execution_count": null,
   "metadata": {},
   "outputs": [],
   "source": [
    "#hide_input\n",
    "# TODO fix legend/axis/plot alltogether\n",
    "# Timeseries plt\n",
    "fig, ax = plt.subplots(figsize = (16, 12))\n",
    "plt.plot(miss.date, miss.active, linewidth=4.7, color='r')\n",
    "plt.title('Number of Active Positive Cases in Mississippi', fontsize=23)\n",
    "plt.xlabel('Date')\n",
    "plt.ylabel('No. Patients')"
   ]
  },
  {
   "cell_type": "code",
   "execution_count": null,
   "metadata": {},
   "outputs": [],
   "source": [
    "#hide_input\n",
    "# TODO fix legend/axis/plot alltogether\n",
    "# Timeseries plt\n",
    "fig, ax = plt.subplots(figsize = (16, 12))\n",
    "plt.plot(miss.date, miss.hospitalizedCurrently/miss.active*100, linewidth=4.7, color='r')\n",
    "plt.title('Hospitalization Rate in Mississippi', fontsize=23)\n",
    "plt.xlabel('Date')\n",
    "plt.ylabel('No. Patients')"
   ]
  },
  {
   "cell_type": "code",
   "execution_count": null,
   "metadata": {},
   "outputs": [],
   "source": [
    "#hide_input\n",
    "# TODO fix legend/axis/plot alltogether\n",
    "# Timeseries plt\n",
    "fig, ax = plt.subplots(figsize = (16, 12))\n",
    "plt.plot(miss.date, miss.death, linewidth=4.7, color='r')\n",
    "plt.title('Cummulative Number Killed in Mississippi', fontsize=23)\n",
    "plt.xlabel('Date')\n",
    "plt.ylabel('No. Killed')"
   ]
  },
  {
   "cell_type": "code",
   "execution_count": null,
   "metadata": {},
   "outputs": [],
   "source": [
    "#hide_input\n",
    "# Checking which cols have NaN values\n",
    "miss[['positive', 'active', 'hospitalizedCurrently', 'inIcuCurrently', 'recovered', 'death', 'hospitalized']]\n",
    "miss.head()\n",
    "\n",
    "# Omit the NaN cols\n",
    "miss = miss[['positive', 'active', 'hospitalizedCurrently', 'inIcuCurrently', 'recovered', 'death']]"
   ]
  },
  {
   "cell_type": "code",
   "execution_count": null,
   "metadata": {},
   "outputs": [],
   "source": [
    "#hide_input\n",
    "# Scatter plots MS\n",
    "# Split dependent var from independent variables\n",
    "target_ms = miss.hospitalizedCurrently\n",
    "indep_var_ms = miss.drop(columns=['hospitalizedCurrently'])\n",
    "\n",
    "fig, ax = plt.subplots(figsize = (16, 16))\n",
    "for i, col in enumerate(indep_var_ms.columns):\n",
    "    ax=fig.add_subplot(2, 3, i+1) \n",
    "    sns.regplot(x=indep_var_ms[col], y=target_ms, data=indep_var_ms, label=col, scatter_kws={'s':10}, line_kws={\"color\": \"plum\"})\n",
    "    plt.suptitle('Distributions of Independent Variables Mississippi', fontsize=23)\n",
    "plt.tight_layout()\n",
    "fig.subplots_adjust(top=0.95)"
   ]
  },
  {
   "cell_type": "code",
   "execution_count": null,
   "metadata": {},
   "outputs": [],
   "source": [
    "#hide_input\n",
    "###endmississippi"
   ]
  },
  {
   "cell_type": "markdown",
   "metadata": {},
   "source": [
    "### Missouri"
   ]
  },
  {
   "cell_type": "code",
   "execution_count": null,
   "metadata": {},
   "outputs": [],
   "source": [
    "#hide_input\n",
    "mo = covid_df.loc[(covid_df['abbrev'] == 'MO') & (covid_df['state']== 'Missouri')] \n"
   ]
  },
  {
   "cell_type": "code",
   "execution_count": null,
   "metadata": {
    "scrolled": true
   },
   "outputs": [],
   "source": [
    "#hide_input\n",
    "# TODO fix legend/axis/plot alltogether\n",
    "# Timeseries plt\n",
    "fig, ax = plt.subplots(figsize = (16, 12))\n",
    "plt.plot(mo.date, mo.hospitalizedCurrently, linewidth=4.7, color='r')\n",
    "plt.title('Number of Patients in Missouri Currently Hospitalized', fontsize=23)\n",
    "plt.xlabel('Date')\n",
    "plt.ylabel('No. Patients')"
   ]
  },
  {
   "cell_type": "code",
   "execution_count": null,
   "metadata": {},
   "outputs": [],
   "source": [
    "#hide_input\n",
    "# TODO fix legend/axis/plot alltogether\n",
    "# Timeseries plt\n",
    "fig, ax = plt.subplots(figsize = (16, 12))\n",
    "plt.plot(mo.date, mo.active, linewidth=4.7, color='r')\n",
    "plt.title('Number of Active Positive Cases in Missouri', fontsize=23)\n",
    "plt.xlabel('Date')\n",
    "plt.ylabel('No. Patients')"
   ]
  },
  {
   "cell_type": "code",
   "execution_count": null,
   "metadata": {},
   "outputs": [],
   "source": [
    "#hide_input\n",
    "# TODO fix legend/axis/plot alltogether\n",
    "# Timeseries plt\n",
    "fig, ax = plt.subplots(figsize = (16, 12))\n",
    "plt.plot(mo.date, mo.hospitalizedCurrently/mo.active*100, linewidth=4.7, color='r')\n",
    "plt.title('Hospitalization Rate in Missouri', fontsize=23)\n",
    "plt.xlabel('Date')\n",
    "plt.ylabel('No. Patients')"
   ]
  },
  {
   "cell_type": "code",
   "execution_count": null,
   "metadata": {},
   "outputs": [],
   "source": [
    "#hide_input\n",
    "# TODO fix legend/axis/plot alltogether\n",
    "# Timeseries plt\n",
    "fig, ax = plt.subplots(figsize = (16, 12))\n",
    "plt.plot(mo.date, mo.death, linewidth=4.7, color='r')\n",
    "plt.title('Cummulative Number Killed in Missouri', fontsize=23)\n",
    "plt.xlabel('Date')\n",
    "plt.ylabel('No. Killed')"
   ]
  },
  {
   "cell_type": "code",
   "execution_count": null,
   "metadata": {},
   "outputs": [],
   "source": [
    "#hide_input\n",
    "# Checking which cols have NaN values\n",
    "mo[['positive', 'active', 'hospitalizedCurrently', 'inIcuCurrently', 'recovered', 'death', 'hospitalized']]\n",
    "mo.head()\n",
    "\n",
    "# Omit the NaN cols\n",
    "mo = mo[['positive', 'active', 'hospitalizedCurrently', 'inIcuCurrently', 'recovered', 'death']]"
   ]
  },
  {
   "cell_type": "code",
   "execution_count": null,
   "metadata": {},
   "outputs": [],
   "source": [
    "#hide_input\n",
    "# Scatter plots AL\n",
    "# Split dependent var from independent variables\n",
    "target_mo = mo.hospitalizedCurrently\n",
    "indep_var_mo = mo.drop(columns=['hospitalizedCurrently'])\n",
    "\n",
    "fig, ax = plt.subplots(figsize = (16, 16))\n",
    "for i, col in enumerate(indep_var_mo.columns):\n",
    "    ax=fig.add_subplot(2, 3, i+1) \n",
    "    sns.regplot(x=indep_var_mo[col], y=target_mo, data=indep_var_mo, label=col, scatter_kws={'s':10}, line_kws={\"color\": \"plum\"})\n",
    "    plt.suptitle('Distributions of Independent Variables Missouri', fontsize=23)\n",
    "plt.tight_layout()\n",
    "fig.subplots_adjust(top=0.95)"
   ]
  },
  {
   "cell_type": "code",
   "execution_count": null,
   "metadata": {},
   "outputs": [],
   "source": [
    "#hide_input\n",
    "###endalabama"
   ]
  },
  {
   "cell_type": "markdown",
   "metadata": {},
   "source": [
    "### Montana"
   ]
  },
  {
   "cell_type": "code",
   "execution_count": null,
   "metadata": {},
   "outputs": [],
   "source": [
    "#hide_input\n",
    "mt = covid_df.loc[(covid_df['abbrev'] == 'MT') & (covid_df['state']== 'Montana')] \n"
   ]
  },
  {
   "cell_type": "code",
   "execution_count": null,
   "metadata": {
    "scrolled": true
   },
   "outputs": [],
   "source": [
    "#hide_input\n",
    "# TODO fix legend/axis/plot alltogether\n",
    "# Timeseries plt\n",
    "fig, ax = plt.subplots(figsize = (16, 12))\n",
    "plt.plot(mt.date, mt.hospitalizedCurrently, linewidth=4.7)\n",
    "plt.title('Number of Patients in Montana Currently Hospitalized', fontsize=23)\n",
    "plt.xlabel('Date')\n",
    "plt.ylabel('No. Patients')"
   ]
  },
  {
   "cell_type": "code",
   "execution_count": null,
   "metadata": {},
   "outputs": [],
   "source": [
    "#hide_input\n",
    "# TODO fix legend/axis/plot alltogether\n",
    "# Timeseries plt\n",
    "fig, ax = plt.subplots(figsize = (16, 12))\n",
    "plt.plot(mt.date, mt.active, linewidth=4.7)\n",
    "plt.title('Number of Active Positive Cases in Montana', fontsize=23)\n",
    "plt.xlabel('Date')\n",
    "plt.ylabel('No. Patients')"
   ]
  },
  {
   "cell_type": "code",
   "execution_count": null,
   "metadata": {},
   "outputs": [],
   "source": [
    "#hide_input\n",
    "# TODO fix legend/axis/plot alltogether\n",
    "# Timeseries plt\n",
    "fig, ax = plt.subplots(figsize = (16, 12))\n",
    "plt.plot(mt.date, mt.hospitalizedCurrently/mt.active*100, linewidth=4.7)\n",
    "plt.title('Hospitalization Rate in Montana', fontsize=23)\n",
    "plt.xlabel('Date')\n",
    "plt.ylabel('No. Patients')"
   ]
  },
  {
   "cell_type": "code",
   "execution_count": null,
   "metadata": {},
   "outputs": [],
   "source": [
    "#hide_input\n",
    "# TODO fix legend/axis/plot alltogether\n",
    "# Timeseries plt\n",
    "fig, ax = plt.subplots(figsize = (16, 12))\n",
    "plt.plot(mt.date, mt.death, linewidth=4.7)\n",
    "plt.title('Cummulative Number Killed in Montana', fontsize=23)\n",
    "plt.xlabel('Date')\n",
    "plt.ylabel('No. Killed')"
   ]
  },
  {
   "cell_type": "code",
   "execution_count": null,
   "metadata": {},
   "outputs": [],
   "source": [
    "#hide_input\n",
    "# Checking which cols have NaN values\n",
    "mt[['positive', 'active', 'hospitalizedCurrently', 'inIcuCurrently', 'recovered', 'death', 'hospitalized']]\n",
    "mt.head()\n",
    "\n",
    "# Omit the NaN cols\n",
    "mt = mt[['positive', 'active', 'hospitalizedCurrently', 'inIcuCurrently', 'recovered', 'death']]"
   ]
  },
  {
   "cell_type": "code",
   "execution_count": null,
   "metadata": {},
   "outputs": [],
   "source": [
    "#hide_input\n",
    "# Scatter plots AL\n",
    "# Split dependent var from independent variables\n",
    "target_mt = mt.hospitalizedCurrently\n",
    "indep_var_mt = mt.drop(columns=['hospitalizedCurrently'])\n",
    "\n",
    "fig, ax = plt.subplots(figsize = (16, 16))\n",
    "for i, col in enumerate(indep_var_mt.columns):\n",
    "    ax=fig.add_subplot(2, 3, i+1) \n",
    "    sns.regplot(x=indep_var_mt[col], y=target_mt, data=indep_var_mt, label=col, scatter_kws={'s':10}, line_kws={\"color\": \"plum\"})\n",
    "    plt.suptitle('Distributions of Independent Variables Montana', fontsize=23)\n",
    "plt.tight_layout()\n",
    "fig.subplots_adjust(top=0.95)"
   ]
  },
  {
   "cell_type": "code",
   "execution_count": null,
   "metadata": {},
   "outputs": [],
   "source": [
    "#hide_input\n",
    "###endmontana"
   ]
  },
  {
   "cell_type": "markdown",
   "metadata": {},
   "source": [
    "### Nebraska"
   ]
  },
  {
   "cell_type": "code",
   "execution_count": null,
   "metadata": {},
   "outputs": [],
   "source": [
    "#hide_input\n",
    "ne = covid_df.loc[(covid_df['abbrev'] == 'NE') & (covid_df['state']== 'Nebraska')] \n"
   ]
  },
  {
   "cell_type": "code",
   "execution_count": null,
   "metadata": {
    "scrolled": true
   },
   "outputs": [],
   "source": [
    "#hide_input\n",
    "# TODO fix legend/axis/plot alltogether\n",
    "# Timeseries plt\n",
    "fig, ax = plt.subplots(figsize = (16, 12))\n",
    "plt.plot(ne.date, ne.hospitalizedCurrently, linewidth=4.7, color='r')\n",
    "plt.title('Number of Patients in Nebraska Currently Hospitalized', fontsize=23)\n",
    "plt.xlabel('Date')\n",
    "plt.ylabel('No. Patients')"
   ]
  },
  {
   "cell_type": "code",
   "execution_count": null,
   "metadata": {},
   "outputs": [],
   "source": [
    "#hide_input\n",
    "# TODO fix legend/axis/plot alltogether\n",
    "# Timeseries plt\n",
    "fig, ax = plt.subplots(figsize = (16, 12))\n",
    "plt.plot(ne.date, ne.active, linewidth=4.7, color='r')\n",
    "plt.title('Number of Active Positive Cases in Nebraska', fontsize=23)\n",
    "plt.xlabel('Date')\n",
    "plt.ylabel('No. Patients')"
   ]
  },
  {
   "cell_type": "code",
   "execution_count": null,
   "metadata": {},
   "outputs": [],
   "source": [
    "#hide_input\n",
    "# TODO fix legend/axis/plot alltogether\n",
    "# Timeseries plt\n",
    "fig, ax = plt.subplots(figsize = (16, 12))\n",
    "plt.plot(ne.date, ne.hospitalizedCurrently/ne.active*100, linewidth=4.7, color='r')\n",
    "plt.title('Hospitalization Rate in Nebraska', fontsize=23)\n",
    "plt.xlabel('Date')\n",
    "plt.ylabel('No. Patients')"
   ]
  },
  {
   "cell_type": "code",
   "execution_count": null,
   "metadata": {},
   "outputs": [],
   "source": [
    "#hide_input\n",
    "# TODO fix legend/axis/plot alltogether\n",
    "# Timeseries plt\n",
    "fig, ax = plt.subplots(figsize = (16, 12))\n",
    "plt.plot(ne.date, ne.death, linewidth=4.7, color='r')\n",
    "plt.title('Cummulative Number Killed in Nebraska', fontsize=23)\n",
    "plt.xlabel('Date')\n",
    "plt.ylabel('No. Killed')"
   ]
  },
  {
   "cell_type": "code",
   "execution_count": null,
   "metadata": {},
   "outputs": [],
   "source": [
    "#hide_input\n",
    "# Checking which cols have NaN values\n",
    "ne[['positive', 'active', 'hospitalizedCurrently', 'inIcuCurrently', 'recovered', 'death', 'hospitalized']]\n",
    "ne.head()\n",
    "\n",
    "# Omit the NaN cols\n",
    "ne = ne[['positive', 'active', 'hospitalizedCurrently', 'inIcuCurrently', 'recovered', 'death']]"
   ]
  },
  {
   "cell_type": "code",
   "execution_count": null,
   "metadata": {},
   "outputs": [],
   "source": [
    "#hide_input\n",
    "# Scatter plots AL\n",
    "# Split dependent var from independent variables\n",
    "target_ne = ne.hospitalizedCurrently\n",
    "indep_var_ne = ne.drop(columns=['hospitalizedCurrently'])\n",
    "\n",
    "fig, ax = plt.subplots(figsize = (16, 16))\n",
    "for i, col in enumerate(indep_var_ne.columns):\n",
    "    ax=fig.add_subplot(2, 3, i+1) \n",
    "    sns.regplot(x=indep_var_ne[col], y=target_ne, data=indep_var_ne, label=col, scatter_kws={'s':10}, line_kws={\"color\": \"plum\"})\n",
    "    plt.suptitle('Distributions of Independent Variables Nebraska', fontsize=23)\n",
    "plt.tight_layout()\n",
    "fig.subplots_adjust(top=0.95)"
   ]
  },
  {
   "cell_type": "code",
   "execution_count": null,
   "metadata": {},
   "outputs": [],
   "source": [
    "#hide_input\n",
    "###endnebraska"
   ]
  },
  {
   "cell_type": "markdown",
   "metadata": {},
   "source": [
    "### Nevada:"
   ]
  },
  {
   "cell_type": "code",
   "execution_count": null,
   "metadata": {},
   "outputs": [],
   "source": [
    "#hide_input\n",
    "nevada = covid_df.loc[(covid_df['abbrev'] == 'NV') & (covid_df['state']== 'Nevada')] \n"
   ]
  },
  {
   "cell_type": "code",
   "execution_count": null,
   "metadata": {},
   "outputs": [],
   "source": [
    "#hide_input\n",
    "# TODO fix legend/axis/plot alltogether\n",
    "# Timeseries plt\n",
    "fig, ax = plt.subplots(figsize = (16, 12))\n",
    "plt.plot(nevada.date, nevada.hospitalizedCurrently, linewidth=4.7)\n",
    "plt.title('Number of Patients in Nevada Currently Hospitalized', fontsize=23)\n",
    "plt.xlabel('Date')\n",
    "plt.ylabel('No. Patients')"
   ]
  },
  {
   "cell_type": "code",
   "execution_count": null,
   "metadata": {
    "scrolled": true
   },
   "outputs": [],
   "source": [
    "#hide_input\n",
    "# TODO fix legend/axis/plot alltogether\n",
    "# Timeseries plt\n",
    "fig, ax = plt.subplots(figsize = (16, 12))\n",
    "plt.plot(nevada.date, nevada.inIcuCurrently, linewidth=4.7)\n",
    "plt.title('Number of Patients in Nevada Currently Hospitalized in ICU', fontsize=23)\n",
    "plt.xlabel('Date')\n",
    "plt.ylabel('No. Patients')"
   ]
  },
  {
   "cell_type": "code",
   "execution_count": null,
   "metadata": {
    "scrolled": true
   },
   "outputs": [],
   "source": [
    "#hide_input\n",
    "# TODO fix legend/axis/plot alltogether\n",
    "# Timeseries plt\n",
    "fig, ax = plt.subplots(figsize = (16, 12))\n",
    "plt.plot(nevada.date, nevada.onVentilatorCurrently, linewidth=4.7)\n",
    "plt.title('Number of Patients in Nevada Currently on a Ventilator', fontsize=23)\n",
    "plt.xlabel('Date')\n",
    "plt.ylabel('No. Patients')"
   ]
  },
  {
   "cell_type": "code",
   "execution_count": null,
   "metadata": {},
   "outputs": [],
   "source": [
    "#hide_input\n",
    "# Checking which cols have NaN values\n",
    "nevada[['positive', 'active', 'hospitalizedCurrently', 'inIcuCurrently', 'recovered', 'death', 'hospitalized']]\n",
    "nevada.head()\n",
    "\n",
    "# Omit the NaN cols\n",
    "nevada = nevada[['positive', 'active', 'hospitalizedCurrently', 'inIcuCurrently', 'recovered', 'death']]"
   ]
  },
  {
   "cell_type": "code",
   "execution_count": null,
   "metadata": {},
   "outputs": [],
   "source": [
    "#hide_input\n",
    "# Scatter plots NV\n",
    "# Split dependent var from independent variables\n",
    "target_nv = nevada.hospitalizedCurrently\n",
    "indep_var_nv = nevada.drop(columns=['hospitalizedCurrently'])\n",
    "\n",
    "fig, ax = plt.subplots(figsize = (16, 16))\n",
    "for i, col in enumerate(indep_var_nv.columns):\n",
    "    ax=fig.add_subplot(2, 3, i+1) \n",
    "    sns.regplot(x=indep_var_nv[col], y=target_nv, data=indep_var_nv, label=col, scatter_kws={'s':10}, line_kws={\"color\": \"plum\"})\n",
    "    plt.suptitle('Distributions of Independent Variables Nevada', fontsize=23)\n",
    "plt.tight_layout()\n",
    "fig.subplots_adjust(top=0.95)"
   ]
  },
  {
   "cell_type": "code",
   "execution_count": null,
   "metadata": {},
   "outputs": [],
   "source": [
    "#hide_input\n",
    "###endnevada"
   ]
  },
  {
   "cell_type": "markdown",
   "metadata": {},
   "source": [
    "### New Hampshire"
   ]
  },
  {
   "cell_type": "code",
   "execution_count": null,
   "metadata": {},
   "outputs": [],
   "source": [
    "#hide_input\n",
    "nh = covid_df.loc[(covid_df['abbrev'] == 'NH') & (covid_df['state']== 'New Hampshire')] \n"
   ]
  },
  {
   "cell_type": "code",
   "execution_count": null,
   "metadata": {
    "scrolled": true
   },
   "outputs": [],
   "source": [
    "#hide_input\n",
    "# TODO fix legend/axis/plot alltogether\n",
    "# Timeseries plt\n",
    "fig, ax = plt.subplots(figsize = (16, 12))\n",
    "plt.plot(nh.date, nh.hospitalizedCurrently, linewidth=4.7, color='r')\n",
    "plt.title('Number of Patients in New Hampshire Currently Hospitalized', fontsize=23)\n",
    "plt.xlabel('Date')\n",
    "plt.ylabel('No. Patients')"
   ]
  },
  {
   "cell_type": "code",
   "execution_count": null,
   "metadata": {},
   "outputs": [],
   "source": [
    "#hide_input\n",
    "# TODO fix legend/axis/plot alltogether\n",
    "# Timeseries plt\n",
    "fig, ax = plt.subplots(figsize = (16, 12))\n",
    "plt.plot(nh.date, nh.active, linewidth=4.7, color='r')\n",
    "plt.title('Number of Active Positive Cases in New Hampshire', fontsize=23)\n",
    "plt.xlabel('Date')\n",
    "plt.ylabel('No. Patients')"
   ]
  },
  {
   "cell_type": "code",
   "execution_count": null,
   "metadata": {},
   "outputs": [],
   "source": [
    "#hide_input\n",
    "# TODO fix legend/axis/plot alltogether\n",
    "# Timeseries plt\n",
    "fig, ax = plt.subplots(figsize = (16, 12))\n",
    "plt.plot(nh.date, nh.hospitalizedCurrently/nh.active*100, linewidth=4.7, color='r')\n",
    "plt.title('Hospitalization Rate in New Hampshire', fontsize=23)\n",
    "plt.xlabel('Date')\n",
    "plt.ylabel('No. Patients')"
   ]
  },
  {
   "cell_type": "code",
   "execution_count": null,
   "metadata": {},
   "outputs": [],
   "source": [
    "#hide_input\n",
    "# TODO fix legend/axis/plot alltogether\n",
    "# Timeseries plt\n",
    "fig, ax = plt.subplots(figsize = (16, 12))\n",
    "plt.plot(nh.date, nh.death, linewidth=4.7, color='r')\n",
    "plt.title('Cummulative Number Killed in New Hampshire', fontsize=23)\n",
    "plt.xlabel('Date')\n",
    "plt.ylabel('No. Killed')"
   ]
  },
  {
   "cell_type": "code",
   "execution_count": null,
   "metadata": {},
   "outputs": [],
   "source": [
    "#hide_input\n",
    "# Checking which cols have NaN values\n",
    "nh[['positive', 'active', 'hospitalizedCurrently', 'inIcuCurrently', 'recovered', 'death', 'hospitalized']]\n",
    "nh.head()\n",
    "\n",
    "# Omit the NaN cols\n",
    "nh = nh[['positive', 'active', 'hospitalizedCurrently', 'inIcuCurrently', 'recovered', 'death']]"
   ]
  },
  {
   "cell_type": "code",
   "execution_count": null,
   "metadata": {},
   "outputs": [],
   "source": [
    "#hide_input\n",
    "# Scatter plots NH\n",
    "# Split dependent var from independent variables\n",
    "target_nh = nh.hospitalizedCurrently\n",
    "indep_var_nh = nh.drop(columns=['hospitalizedCurrently'])\n",
    "\n",
    "fig, ax = plt.subplots(figsize = (16, 16))\n",
    "for i, col in enumerate(indep_var_nh.columns):\n",
    "    ax=fig.add_subplot(2, 3, i+1) \n",
    "    sns.regplot(x=indep_var_nh[col], y=target_nh, data=indep_var_nh, label=col, scatter_kws={'s':10}, line_kws={\"color\": \"plum\"})\n",
    "    plt.suptitle('Distributions of Independent Variables New Hampshire', fontsize=23)\n",
    "plt.tight_layout()\n",
    "fig.subplots_adjust(top=0.95)"
   ]
  },
  {
   "cell_type": "code",
   "execution_count": null,
   "metadata": {},
   "outputs": [],
   "source": [
    "#hide_input\n",
    "###endnewhampshire"
   ]
  },
  {
   "cell_type": "markdown",
   "metadata": {},
   "source": [
    "### New Jersey"
   ]
  },
  {
   "cell_type": "code",
   "execution_count": null,
   "metadata": {},
   "outputs": [],
   "source": [
    "#hide_input\n",
    "nj = covid_df.loc[(covid_df['abbrev'] == 'NJ') & (covid_df['state']== 'New Jersey')] \n"
   ]
  },
  {
   "cell_type": "code",
   "execution_count": null,
   "metadata": {
    "scrolled": true
   },
   "outputs": [],
   "source": [
    "#hide_input\n",
    "# TODO fix legend/axis/plot alltogether\n",
    "# Timeseries plt\n",
    "fig, ax = plt.subplots(figsize = (16, 12))\n",
    "plt.plot(nj.date, nj.hospitalizedCurrently, linewidth=4.7)\n",
    "plt.title('Number of Patients in New Jersey Currently Hospitalized', fontsize=23)\n",
    "plt.xlabel('Date')\n",
    "plt.ylabel('No. Patients')"
   ]
  },
  {
   "cell_type": "code",
   "execution_count": null,
   "metadata": {},
   "outputs": [],
   "source": [
    "#hide_input\n",
    "# TODO fix legend/axis/plot alltogether\n",
    "# Timeseries plt\n",
    "fig, ax = plt.subplots(figsize = (16, 12))\n",
    "plt.plot(nj.date, nj.active, linewidth=4.7)\n",
    "plt.title('Number of Active Positive Cases in New Jersey', fontsize=23)\n",
    "plt.xlabel('Date')\n",
    "plt.ylabel('No. Patients')"
   ]
  },
  {
   "cell_type": "code",
   "execution_count": null,
   "metadata": {},
   "outputs": [],
   "source": [
    "#hide_input\n",
    "# TODO fix legend/axis/plot alltogether\n",
    "# Timeseries plt\n",
    "fig, ax = plt.subplots(figsize = (16, 12))\n",
    "plt.plot(nj.date, nj.hospitalizedCurrently/nj.active*100, linewidth=4.7)\n",
    "plt.title('Hospitalization Rate in New Jersey', fontsize=23)\n",
    "plt.xlabel('Date')\n",
    "plt.ylabel('No. Patients')"
   ]
  },
  {
   "cell_type": "code",
   "execution_count": null,
   "metadata": {},
   "outputs": [],
   "source": [
    "#hide_input\n",
    "# TODO fix legend/axis/plot alltogether\n",
    "# Timeseries plt\n",
    "fig, ax = plt.subplots(figsize = (16, 12))\n",
    "plt.plot(nj.date, nj.death, linewidth=4.7)\n",
    "plt.title('Cummulative Number Killed in New Jersey', fontsize=23)\n",
    "plt.xlabel('Date')\n",
    "plt.ylabel('No. Killed')"
   ]
  },
  {
   "cell_type": "code",
   "execution_count": null,
   "metadata": {},
   "outputs": [],
   "source": [
    "#hide_input\n",
    "# Checking which cols have NaN values\n",
    "nj[['positive', 'active', 'hospitalizedCurrently', 'inIcuCurrently', 'recovered', 'death', 'hospitalized']]\n",
    "nj.head()\n",
    "\n",
    "# Omit the NaN cols\n",
    "nj = nj[['positive', 'active', 'hospitalizedCurrently', 'inIcuCurrently', 'recovered', 'death']]"
   ]
  },
  {
   "cell_type": "code",
   "execution_count": null,
   "metadata": {},
   "outputs": [],
   "source": [
    "#hide_input\n",
    "# Scatter plots AL\n",
    "# Split dependent var from independent variables\n",
    "target_nj = nj.hospitalizedCurrently\n",
    "indep_var_nj = nj.drop(columns=['hospitalizedCurrently'])\n",
    "\n",
    "fig, ax = plt.subplots(figsize = (16, 16))\n",
    "for i, col in enumerate(indep_var_nj.columns):\n",
    "    ax=fig.add_subplot(2, 3, i+1) \n",
    "    sns.regplot(x=indep_var_nj[col], y=target_nj, data=indep_var_nj, label=col, scatter_kws={'s':10}, line_kws={\"color\": \"plum\"})\n",
    "    plt.suptitle('Distributions of Independent Variables New Jersey', fontsize=23)\n",
    "plt.tight_layout()\n",
    "fig.subplots_adjust(top=0.95)"
   ]
  },
  {
   "cell_type": "code",
   "execution_count": null,
   "metadata": {},
   "outputs": [],
   "source": [
    "#hide_input\n",
    "###endnewjersey"
   ]
  },
  {
   "cell_type": "markdown",
   "metadata": {},
   "source": [
    "### New Mexico"
   ]
  },
  {
   "cell_type": "code",
   "execution_count": null,
   "metadata": {},
   "outputs": [],
   "source": [
    "#hide_input\n",
    "nm = covid_df.loc[(covid_df['abbrev'] == 'NM') & (covid_df['state']== 'New Mexico')] \n"
   ]
  },
  {
   "cell_type": "code",
   "execution_count": null,
   "metadata": {
    "scrolled": true
   },
   "outputs": [],
   "source": [
    "#hide_input\n",
    "# TODO fix legend/axis/plot alltogether\n",
    "# Timeseries plt\n",
    "fig, ax = plt.subplots(figsize = (16, 12))\n",
    "plt.plot(nm.date, nm.hospitalizedCurrently, linewidth=4.7)\n",
    "plt.title('Number of Patients in New Mexico Currently Hospitalized', fontsize=23)\n",
    "plt.xlabel('Date')\n",
    "plt.ylabel('No. Patients')"
   ]
  },
  {
   "cell_type": "code",
   "execution_count": null,
   "metadata": {},
   "outputs": [],
   "source": [
    "#hide_input\n",
    "# TODO fix legend/axis/plot alltogether\n",
    "# Timeseries plt\n",
    "fig, ax = plt.subplots(figsize = (16, 12))\n",
    "plt.plot(nm.date, nm.active, linewidth=4.7)\n",
    "plt.title('Number of Active Positive Cases in New Mexico', fontsize=23)\n",
    "plt.xlabel('Date')\n",
    "plt.ylabel('No. Patients')"
   ]
  },
  {
   "cell_type": "code",
   "execution_count": null,
   "metadata": {},
   "outputs": [],
   "source": [
    "#hide_input\n",
    "# TODO fix legend/axis/plot alltogether\n",
    "# Timeseries plt\n",
    "fig, ax = plt.subplots(figsize = (16, 12))\n",
    "plt.plot(nm.date, nm.hospitalizedCurrently/nm.active*100, linewidth=4.7)\n",
    "plt.title('Hospitalization Rate in New Mexico', fontsize=23)\n",
    "plt.xlabel('Date')\n",
    "plt.ylabel('No. Patients')"
   ]
  },
  {
   "cell_type": "code",
   "execution_count": null,
   "metadata": {},
   "outputs": [],
   "source": [
    "#hide_input\n",
    "# TODO fix legend/axis/plot alltogether\n",
    "# Timeseries plt\n",
    "fig, ax = plt.subplots(figsize = (16, 12))\n",
    "plt.plot(nm.date, nm.death, linewidth=4.7)\n",
    "plt.title('Cummulative Number Killed in New Mexico', fontsize=23)\n",
    "plt.xlabel('Date')\n",
    "plt.ylabel('No. Killed')"
   ]
  },
  {
   "cell_type": "code",
   "execution_count": null,
   "metadata": {},
   "outputs": [],
   "source": [
    "#hide_input\n",
    "# Checking which cols have NaN values\n",
    "nm[['positive', 'active', 'hospitalizedCurrently', 'inIcuCurrently', 'recovered', 'death', 'hospitalized']]\n",
    "nm.head()\n",
    "\n",
    "# Omit the NaN cols\n",
    "nm = nm[['positive', 'active', 'hospitalizedCurrently', 'inIcuCurrently', 'recovered', 'death']]"
   ]
  },
  {
   "cell_type": "code",
   "execution_count": null,
   "metadata": {},
   "outputs": [],
   "source": [
    "#hide_input\n",
    "# Scatter plots NM\n",
    "# Split dependent var from independent variables\n",
    "target_nm = nm.hospitalizedCurrently\n",
    "indep_var_nm = nm.drop(columns=['hospitalizedCurrently'])\n",
    "\n",
    "fig, ax = plt.subplots(figsize = (16, 16))\n",
    "for i, col in enumerate(indep_var_nm.columns):\n",
    "    ax=fig.add_subplot(2, 3, i+1) \n",
    "    sns.regplot(x=indep_var_nm[col], y=target_nm, data=indep_var_nm, label=col, scatter_kws={'s':10}, line_kws={\"color\": \"plum\"})\n",
    "    plt.suptitle('Distributions of Independent Variables New Mexico', fontsize=23)\n",
    "plt.tight_layout()\n",
    "fig.subplots_adjust(top=0.95)"
   ]
  },
  {
   "cell_type": "code",
   "execution_count": null,
   "metadata": {},
   "outputs": [],
   "source": [
    "#hide_input\n",
    "###endnewmexico"
   ]
  },
  {
   "cell_type": "markdown",
   "metadata": {},
   "source": [
    "### New York"
   ]
  },
  {
   "cell_type": "code",
   "execution_count": null,
   "metadata": {},
   "outputs": [],
   "source": [
    "#hide_input\n",
    "# Split covid_df into subset with only NY values\n",
    "new_york = covid_df.loc[covid_df['abbrev'] == 'NY'] \n",
    "fig, ax = plt.subplots(figsize = (16, 12))\n",
    "# Timeseries plt\n",
    "plt.plot(new_york.date, new_york.hospitalizedCurrently, linewidth=4.7)\n",
    "plt.title('Number of Patients in New York Currently Hospitalized', fontsize=23)\n",
    "plt.xlabel('Date')\n",
    "plt.ylabel('No. Patients')"
   ]
  },
  {
   "cell_type": "code",
   "execution_count": null,
   "metadata": {
    "scrolled": true
   },
   "outputs": [],
   "source": [
    "#hide_input\n",
    "# Split covid_df into subset with only NY values\n",
    "new_york = covid_df.loc[covid_df['abbrev'] == 'NY'] \n",
    "fig, ax = plt.subplots(figsize = (16, 12))\n",
    "# Timeseries plt\n",
    "plt.plot(new_york.date, new_york.inIcuCurrently, linewidth=4.7)\n",
    "plt.title('Number of Patients in New York Currently in ICU', fontsize=23)\n",
    "plt.xlabel('Date')\n",
    "plt.ylabel('No. Patients')"
   ]
  },
  {
   "cell_type": "code",
   "execution_count": null,
   "metadata": {
    "scrolled": true
   },
   "outputs": [],
   "source": [
    "#hide_input\n",
    "# Split covid_df into subset with only NY values\n",
    "new_york = covid_df.loc[covid_df['abbrev'] == 'NY'] \n",
    "fig, ax = plt.subplots(figsize = (16, 12))\n",
    "# Timeseries plt\n",
    "plt.plot(new_york.date, new_york.onVentilatorCurrently, linewidth=4.7)\n",
    "plt.title('Number of Patients in New York Currently on a Ventilator', fontsize=23)\n",
    "plt.xlabel('Date')\n",
    "plt.ylabel('No. Patients')\n",
    "\n",
    "#hide_input\n",
    "# Split covid_df into subset with only NY values\n",
    "new_york = covid_df.loc[covid_df['abbrev'] == 'NY'] \n",
    "fig, ax = plt.subplots(figsize = (16, 12))\n",
    "# Timeseries plt\n",
    "plt.plot(new_york.date, new_york.recovered, linewidth=4.7)\n",
    "plt.title('Number of Recoveries in New York', fontsize=23)\n",
    "plt.xlabel('Date')\n",
    "plt.ylabel('No. Patients')"
   ]
  },
  {
   "cell_type": "code",
   "execution_count": null,
   "metadata": {
    "scrolled": true
   },
   "outputs": [],
   "source": [
    "#hide_input\n",
    "# Split covid_df into subset with only NY values\n",
    "new_york = covid_df.loc[covid_df['abbrev'] == 'NY'] \n",
    "fig, ax = plt.subplots(figsize = (16, 12))\n",
    "# Timeseries plt\n",
    "plt.plot(new_york.date, new_york.onVentilatorCurrently, linewidth=4.7)\n",
    "plt.title('Number of Patients in New York Currently on a Ventilator', fontsize=23)\n",
    "plt.xlabel('Date')\n",
    "plt.ylabel('No. Patients')\n",
    "\n",
    "#hide_input\n",
    "# Split covid_df into subset with only NY values\n",
    "new_york = covid_df.loc[covid_df['abbrev'] == 'NY'] \n",
    "fig, ax = plt.subplots(figsize = (16, 12))\n",
    "# Timeseries plt\n",
    "plt.plot(new_york.date, new_york.recovered, linewidth=4.7)\n",
    "plt.title('Number of Recoveries in New York', fontsize=23)\n",
    "plt.xlabel('Date')\n",
    "plt.ylabel('No. Patients')"
   ]
  },
  {
   "cell_type": "code",
   "execution_count": null,
   "metadata": {},
   "outputs": [],
   "source": [
    "#hide_input\n",
    "# Omit the categorical and date cols \n",
    "new_york = new_york[['positive', 'active', 'hospitalizedCurrently', 'hospitalizedCumulative', 'inIcuCurrently', 'recovered', 'death', 'hospitalized']]"
   ]
  },
  {
   "cell_type": "code",
   "execution_count": null,
   "metadata": {},
   "outputs": [],
   "source": [
    "#hide_input\n",
    "# Checking which cols have NaN values\n",
    "new_york[['positive', 'active', 'hospitalizedCurrently', 'inIcuCurrently', 'recovered', 'death', 'hospitalized']]\n",
    "new_york.head()\n",
    "\n",
    "# Omit the NaN cols\n",
    "new_york = new_york[['positive', 'active', 'hospitalizedCurrently', 'inIcuCurrently', 'recovered', 'death']]"
   ]
  },
  {
   "cell_type": "code",
   "execution_count": null,
   "metadata": {},
   "outputs": [],
   "source": [
    "#hide_input\n",
    "# Scatter plots AL\n",
    "# Split dependent var from independent variables\n",
    "target_ny = new_york.hospitalizedCurrently\n",
    "indep_var_ny = new_york.drop(columns=['hospitalizedCurrently'])\n",
    "\n",
    "fig, ax = plt.subplots(figsize = (16, 16))\n",
    "for i, col in enumerate(indep_var_ny.columns):\n",
    "    ax=fig.add_subplot(2, 3, i+1) \n",
    "    sns.regplot(x=indep_var_ny[col], y=target_ny, data=indep_var_ny, label=col, scatter_kws={'s':10}, line_kws={\"color\": \"plum\"})\n",
    "    plt.suptitle('Distributions of Independent Variables New York', fontsize=23)\n",
    "plt.tight_layout()\n",
    "fig.subplots_adjust(top=0.95)"
   ]
  },
  {
   "cell_type": "markdown",
   "metadata": {},
   "source": [
    "### North Carolina"
   ]
  },
  {
   "cell_type": "code",
   "execution_count": null,
   "metadata": {},
   "outputs": [],
   "source": [
    "#hide_input\n",
    "nc = covid_df.loc[(covid_df['abbrev'] == 'NC') & (covid_df['state']== 'North Carolina')] \n"
   ]
  },
  {
   "cell_type": "code",
   "execution_count": null,
   "metadata": {
    "scrolled": true
   },
   "outputs": [],
   "source": [
    "#hide_input\n",
    "# TODO fix legend/axis/plot alltogether\n",
    "# Timeseries plt\n",
    "fig, ax = plt.subplots(figsize = (16, 12))\n",
    "plt.plot(nc.date, nc.hospitalizedCurrently, linewidth=4.7, color='r')\n",
    "plt.title('Number of Patients in North Carolina Currently Hospitalized', fontsize=23)\n",
    "plt.xlabel('Date')\n",
    "plt.ylabel('No. Patients')"
   ]
  },
  {
   "cell_type": "code",
   "execution_count": null,
   "metadata": {},
   "outputs": [],
   "source": [
    "#hide_input\n",
    "# TODO fix legend/axis/plot alltogether\n",
    "# Timeseries plt\n",
    "fig, ax = plt.subplots(figsize = (16, 12))\n",
    "plt.plot(nc.date, nc.active, linewidth=4.7, color='r')\n",
    "plt.title('Number of Active Positive Cases in North Carolina', fontsize=23)\n",
    "plt.xlabel('Date')\n",
    "plt.ylabel('No. Patients')"
   ]
  },
  {
   "cell_type": "code",
   "execution_count": null,
   "metadata": {},
   "outputs": [],
   "source": [
    "#hide_input\n",
    "# TODO fix legend/axis/plot alltogether\n",
    "# Timeseries plt\n",
    "fig, ax = plt.subplots(figsize = (16, 12))\n",
    "plt.plot(nc.date, nc.hospitalizedCurrently/nc.active*100, linewidth=4.7, color='r')\n",
    "plt.title('Hospitalization Rate in North Carolina', fontsize=23)\n",
    "plt.xlabel('Date')\n",
    "plt.ylabel('No. Patients')"
   ]
  },
  {
   "cell_type": "code",
   "execution_count": null,
   "metadata": {},
   "outputs": [],
   "source": [
    "#hide_input\n",
    "# TODO fix legend/axis/plot alltogether\n",
    "# Timeseries plt\n",
    "fig, ax = plt.subplots(figsize = (16, 12))\n",
    "plt.plot(nc.date, nc.death, linewidth=4.7, color='r')\n",
    "plt.title('Cummulative Number Killed in North Carolina', fontsize=23)\n",
    "plt.xlabel('Date')\n",
    "plt.ylabel('No. Killed')"
   ]
  },
  {
   "cell_type": "code",
   "execution_count": null,
   "metadata": {},
   "outputs": [],
   "source": [
    "#hide_input\n",
    "# Checking which cols have NaN values\n",
    "nc[['positive', 'active', 'hospitalizedCurrently', 'inIcuCurrently', 'recovered', 'death', 'hospitalized']]\n",
    "nc.head()\n",
    "\n",
    "# Omit the NaN cols\n",
    "nc = nc[['positive', 'active', 'hospitalizedCurrently', 'inIcuCurrently', 'recovered', 'death']]"
   ]
  },
  {
   "cell_type": "code",
   "execution_count": null,
   "metadata": {},
   "outputs": [],
   "source": [
    "#hide_input\n",
    "# Scatter plots NC\n",
    "# Split dependent var from independent variables\n",
    "target_nc = nc.hospitalizedCurrently\n",
    "indep_var_nc = nc.drop(columns=['hospitalizedCurrently'])\n",
    "\n",
    "fig, ax = plt.subplots(figsize = (16, 16))\n",
    "for i, col in enumerate(indep_var_nc.columns):\n",
    "    ax=fig.add_subplot(2, 3, i+1) \n",
    "    sns.regplot(x=indep_var_nc[col], y=target_nc, data=indep_var_nc, label=col, scatter_kws={'s':10}, line_kws={\"color\": \"plum\"})\n",
    "    plt.suptitle('Distributions of Independent Variables North Carolina', fontsize=23)\n",
    "plt.tight_layout()\n",
    "fig.subplots_adjust(top=0.95)"
   ]
  },
  {
   "cell_type": "code",
   "execution_count": null,
   "metadata": {},
   "outputs": [],
   "source": [
    "#hide_input\n",
    "###endnorthcarolina"
   ]
  },
  {
   "cell_type": "markdown",
   "metadata": {},
   "source": [
    "### Ohio"
   ]
  },
  {
   "cell_type": "code",
   "execution_count": null,
   "metadata": {},
   "outputs": [],
   "source": [
    "#hide_input\n",
    "oh = covid_df.loc[(covid_df['abbrev'] == 'OH') & (covid_df['state']== 'Ohio')] \n"
   ]
  },
  {
   "cell_type": "code",
   "execution_count": null,
   "metadata": {
    "scrolled": true
   },
   "outputs": [],
   "source": [
    "#hide_input\n",
    "# TODO fix legend/axis/plot alltogether\n",
    "# Timeseries plt\n",
    "fig, ax = plt.subplots(figsize = (16, 12))\n",
    "plt.plot(oh.date, oh.hospitalizedCurrently, linewidth=4.7, color='r')\n",
    "plt.title('Number of Patients in Ohio Currently Hospitalized', fontsize=23)\n",
    "plt.xlabel('Date')\n",
    "plt.ylabel('No. Patients')"
   ]
  },
  {
   "cell_type": "code",
   "execution_count": null,
   "metadata": {},
   "outputs": [],
   "source": [
    "#hide_input\n",
    "# TODO fix legend/axis/plot alltogether\n",
    "# Timeseries plt\n",
    "fig, ax = plt.subplots(figsize = (16, 12))\n",
    "plt.plot(oh.date, oh.active, linewidth=4.7, color='r')\n",
    "plt.title('Number of Active Positive Cases in Ohio', fontsize=23)\n",
    "plt.xlabel('Date')\n",
    "plt.ylabel('No. Patients')"
   ]
  },
  {
   "cell_type": "code",
   "execution_count": null,
   "metadata": {},
   "outputs": [],
   "source": [
    "#hide_input\n",
    "# TODO fix legend/axis/plot alltogether\n",
    "# Timeseries plt\n",
    "fig, ax = plt.subplots(figsize = (16, 12))\n",
    "plt.plot(oh.date, oh.hospitalizedCurrently/oh.active*100, linewidth=4.7, color='r')\n",
    "plt.title('Hospitalization Rate in Ohio', fontsize=23)\n",
    "plt.xlabel('Date')\n",
    "plt.ylabel('No. Patients')"
   ]
  },
  {
   "cell_type": "code",
   "execution_count": null,
   "metadata": {},
   "outputs": [],
   "source": [
    "#hide_input\n",
    "# TODO fix legend/axis/plot alltogether\n",
    "# Timeseries plt\n",
    "fig, ax = plt.subplots(figsize = (16, 12))\n",
    "plt.plot(oh.date, oh.death, linewidth=4.7, color='r')\n",
    "plt.title('Cummulative Number Killed in Ohio', fontsize=23)\n",
    "plt.xlabel('Date')\n",
    "plt.ylabel('No. Killed')"
   ]
  },
  {
   "cell_type": "code",
   "execution_count": null,
   "metadata": {},
   "outputs": [],
   "source": [
    "#hide_input\n",
    "# Checking which cols have NaN values\n",
    "oh[['positive', 'active', 'hospitalizedCurrently', 'inIcuCurrently', 'recovered', 'death', 'hospitalized']]\n",
    "oh.head()\n",
    "\n",
    "# Omit the NaN cols\n",
    "oh = oh[['positive', 'active', 'hospitalizedCurrently', 'inIcuCurrently', 'recovered', 'death']]"
   ]
  },
  {
   "cell_type": "code",
   "execution_count": null,
   "metadata": {},
   "outputs": [],
   "source": [
    "#hide_input\n",
    "# Scatter plots AL\n",
    "# Split dependent var from independent variables\n",
    "target_oh = oh.hospitalizedCurrently\n",
    "indep_var_oh = oh.drop(columns=['hospitalizedCurrently'])\n",
    "\n",
    "fig, ax = plt.subplots(figsize = (16, 16))\n",
    "for i, col in enumerate(indep_var_oh.columns):\n",
    "    ax=fig.add_subplot(2, 3, i+1) \n",
    "    sns.regplot(x=indep_var_oh[col], y=target_oh, data=indep_var_oh, label=col, scatter_kws={'s':10}, line_kws={\"color\": \"plum\"})\n",
    "    plt.suptitle('Distributions of Independent Variables Ohio', fontsize=23)\n",
    "plt.tight_layout()\n",
    "fig.subplots_adjust(top=0.95)"
   ]
  },
  {
   "cell_type": "code",
   "execution_count": null,
   "metadata": {},
   "outputs": [],
   "source": [
    "#hide_input\n",
    "###endohio"
   ]
  },
  {
   "cell_type": "markdown",
   "metadata": {},
   "source": [
    "### Oklahoma"
   ]
  },
  {
   "cell_type": "code",
   "execution_count": null,
   "metadata": {},
   "outputs": [],
   "source": [
    "#hide_input\n",
    "oklahoma = covid_df.loc[(covid_df['abbrev'] == 'OK') & (covid_df['state']== 'Oklahoma')] \n"
   ]
  },
  {
   "cell_type": "code",
   "execution_count": null,
   "metadata": {},
   "outputs": [],
   "source": [
    "#hide_input\n",
    "# TODO fix legend/axis/plot alltogether\n",
    "# Timeseries plt\n",
    "fig, ax = plt.subplots(figsize = (16, 12))\n",
    "plt.plot(oklahoma.date, oklahoma.hospitalizedCurrently, linewidth=4.7, color='r')\n",
    "plt.title('Number of Patients in Oklahoma Currently Hospitalized', fontsize=23)\n",
    "plt.xlabel('Date')\n",
    "plt.ylabel('No. Patients')"
   ]
  },
  {
   "cell_type": "code",
   "execution_count": null,
   "metadata": {},
   "outputs": [],
   "source": [
    "#hide_input\n",
    "# Checking which cols have NaN values\n",
    "oklahoma[['positive', 'active', 'hospitalizedCurrently', 'inIcuCurrently', 'recovered', 'death', 'hospitalized']]\n",
    "oklahoma.head()\n",
    "\n",
    "# Omit the NaN cols\n",
    "oklahoma = oklahoma[['positive', 'active', 'hospitalizedCurrently', 'inIcuCurrently', 'recovered', 'death']]"
   ]
  },
  {
   "cell_type": "code",
   "execution_count": null,
   "metadata": {},
   "outputs": [],
   "source": [
    "#hide_input\n",
    "# Scatter plots OK\n",
    "# Split dependent var from independent variables\n",
    "target_ok = oklahoma.hospitalizedCurrently\n",
    "indep_var_ok = oklahoma.drop(columns=['hospitalizedCurrently'])\n",
    "\n",
    "fig, ax = plt.subplots(figsize = (16, 16))\n",
    "for i, col in enumerate(indep_var_ok.columns):\n",
    "    ax=fig.add_subplot(2, 3, i+1) \n",
    "    sns.regplot(x=indep_var_ok[col], y=target_ok, data=indep_var_ok, label=col, scatter_kws={'s':10}, line_kws={\"color\": \"plum\"})\n",
    "    plt.suptitle('Distributions of Independent Variables Oklahoma', fontsize=23)\n",
    "plt.tight_layout()\n",
    "fig.subplots_adjust(top=0.95)"
   ]
  },
  {
   "cell_type": "code",
   "execution_count": null,
   "metadata": {},
   "outputs": [],
   "source": [
    "#hide_input\n",
    "###endoklahoma"
   ]
  },
  {
   "cell_type": "markdown",
   "metadata": {},
   "source": [
    "### Oregon"
   ]
  },
  {
   "cell_type": "code",
   "execution_count": null,
   "metadata": {},
   "outputs": [],
   "source": [
    "#hide_input\n",
    "oregon = covid_df.loc[(covid_df['abbrev'] == 'OR') & (covid_df['state']== 'Oregon')] \n"
   ]
  },
  {
   "cell_type": "code",
   "execution_count": null,
   "metadata": {
    "scrolled": true
   },
   "outputs": [],
   "source": [
    "#hide_input\n",
    "# TODO fix legend/axis/plot alltogether\n",
    "# Timeseries plt\n",
    "fig, ax = plt.subplots(figsize = (16, 12))\n",
    "plt.plot(oregon.date, oregon.hospitalizedCurrently, linewidth=4.7)\n",
    "plt.title('Number of Patients in Oregon Currently Hospitalized', fontsize=23)\n",
    "plt.xlabel('Date')\n",
    "plt.ylabel('No. Patients')"
   ]
  },
  {
   "cell_type": "code",
   "execution_count": null,
   "metadata": {},
   "outputs": [],
   "source": [
    "#hide_input\n",
    "# TODO fix legend/axis/plot alltogether\n",
    "# Timeseries plt\n",
    "fig, ax = plt.subplots(figsize = (16, 12))\n",
    "plt.plot(oregon.date, oregon.active, linewidth=4.7)\n",
    "plt.title('Number of Active Positive Cases in Oregon', fontsize=23)\n",
    "plt.xlabel('Date')\n",
    "plt.ylabel('No. Patients')"
   ]
  },
  {
   "cell_type": "code",
   "execution_count": null,
   "metadata": {},
   "outputs": [],
   "source": [
    "#hide_input\n",
    "# TODO fix legend/axis/plot alltogether\n",
    "# Timeseries plt\n",
    "fig, ax = plt.subplots(figsize = (16, 12))\n",
    "plt.plot(oregon.date, oregon.hospitalizedCurrently/oregon.active*100, linewidth=4.7)\n",
    "plt.title('Hospitalization Rate in Oregon', fontsize=23)\n",
    "plt.xlabel('Date')\n",
    "plt.ylabel('No. Patients')"
   ]
  },
  {
   "cell_type": "code",
   "execution_count": null,
   "metadata": {},
   "outputs": [],
   "source": [
    "#hide_input\n",
    "# TODO fix legend/axis/plot alltogether\n",
    "# Timeseries plt\n",
    "fig, ax = plt.subplots(figsize = (16, 12))\n",
    "plt.plot(oregon.date, oregon.death, linewidth=4.7)\n",
    "plt.title('Cummulative Number Killed in Oregon', fontsize=23)\n",
    "plt.xlabel('Date')\n",
    "plt.ylabel('No. Killed')"
   ]
  },
  {
   "cell_type": "code",
   "execution_count": null,
   "metadata": {},
   "outputs": [],
   "source": [
    "#hide_input\n",
    "# Checking which cols have NaN values\n",
    "oregon[['positive', 'active', 'hospitalizedCurrently', 'inIcuCurrently', 'recovered', 'death', 'hospitalized']]\n",
    "oregon.head()\n",
    "\n",
    "# Omit the NaN cols\n",
    "oregon = oregon[['positive', 'active', 'hospitalizedCurrently', 'inIcuCurrently', 'recovered', 'death']]"
   ]
  },
  {
   "cell_type": "code",
   "execution_count": null,
   "metadata": {},
   "outputs": [],
   "source": [
    "#hide_input\n",
    "# Scatter plots OR\n",
    "# Split dependent var from independent variables\n",
    "target_oregon = oregon.hospitalizedCurrently\n",
    "indep_var_oregon = oregon.drop(columns=['hospitalizedCurrently'])\n",
    "\n",
    "fig, ax = plt.subplots(figsize = (16, 16))\n",
    "for i, col in enumerate(indep_var_oregon.columns):\n",
    "    ax=fig.add_subplot(2, 3, i+1) \n",
    "    sns.regplot(x=indep_var_oregon[col], y=target_oregon, data=indep_var_oregon, label=col, scatter_kws={'s':10}, line_kws={\"color\": \"plum\"})\n",
    "    plt.suptitle('Distributions of Independent Variables Oregon', fontsize=23)\n",
    "plt.tight_layout()\n",
    "fig.subplots_adjust(top=0.95)"
   ]
  },
  {
   "cell_type": "code",
   "execution_count": null,
   "metadata": {},
   "outputs": [],
   "source": [
    "#hide_input\n",
    "###endoregon"
   ]
  },
  {
   "cell_type": "markdown",
   "metadata": {},
   "source": [
    "### Pennsylvania"
   ]
  },
  {
   "cell_type": "code",
   "execution_count": null,
   "metadata": {},
   "outputs": [],
   "source": [
    "#hide_input\n",
    "pa = covid_df.loc[(covid_df['abbrev'] == 'PA') & (covid_df['state']== 'Pennsylvania')] \n"
   ]
  },
  {
   "cell_type": "code",
   "execution_count": null,
   "metadata": {
    "scrolled": true
   },
   "outputs": [],
   "source": [
    "#hide_input\n",
    "# TODO fix legend/axis/plot alltogether\n",
    "# Timeseries plt\n",
    "fig, ax = plt.subplots(figsize = (16, 12))\n",
    "plt.plot(pa.date, pa.hospitalizedCurrently, linewidth=4.7)\n",
    "plt.title('Number of Patients in Pennsylvania Currently Hospitalized', fontsize=23)\n",
    "plt.xlabel('Date')\n",
    "plt.ylabel('No. Patients')"
   ]
  },
  {
   "cell_type": "code",
   "execution_count": null,
   "metadata": {},
   "outputs": [],
   "source": [
    "#hide_input\n",
    "# TODO fix legend/axis/plot alltogether\n",
    "# Timeseries plt\n",
    "fig, ax = plt.subplots(figsize = (16, 12))\n",
    "plt.plot(pa.date, pa.active, linewidth=4.7)\n",
    "plt.title('Number of Active Positive Cases in Pennsylvania', fontsize=23)\n",
    "plt.xlabel('Date')\n",
    "plt.ylabel('No. Patients')"
   ]
  },
  {
   "cell_type": "code",
   "execution_count": null,
   "metadata": {},
   "outputs": [],
   "source": [
    "#hide_input\n",
    "# TODO fix legend/axis/plot alltogether\n",
    "# Timeseries plt\n",
    "fig, ax = plt.subplots(figsize = (16, 12))\n",
    "plt.plot(pa.date, pa.hospitalizedCurrently/pa.active*100, linewidth=4.7)\n",
    "plt.title('Hospitalization Rate in Pennsylvania', fontsize=23)\n",
    "plt.xlabel('Date')\n",
    "plt.ylabel('No. Patients')"
   ]
  },
  {
   "cell_type": "code",
   "execution_count": null,
   "metadata": {},
   "outputs": [],
   "source": [
    "#hide_input\n",
    "# TODO fix legend/axis/plot alltogether\n",
    "# Timeseries plt\n",
    "fig, ax = plt.subplots(figsize = (16, 12))\n",
    "plt.plot(pa.date, pa.death, linewidth=4.7)\n",
    "plt.title('Cummulative Number Killed in Pennsylvania', fontsize=23)\n",
    "plt.xlabel('Date')\n",
    "plt.ylabel('No. Killed')"
   ]
  },
  {
   "cell_type": "code",
   "execution_count": null,
   "metadata": {},
   "outputs": [],
   "source": [
    "#hide_input\n",
    "# Checking which cols have NaN values\n",
    "pa[['positive', 'active', 'hospitalizedCurrently', 'inIcuCurrently', 'recovered', 'death', 'hospitalized']]\n",
    "pa.head()\n",
    "\n",
    "# Omit the NaN cols\n",
    "pa = pa[['positive', 'active', 'hospitalizedCurrently', 'inIcuCurrently', 'recovered', 'death']]"
   ]
  },
  {
   "cell_type": "code",
   "execution_count": null,
   "metadata": {},
   "outputs": [],
   "source": [
    "#hide_input\n",
    "# Scatter plots PA\n",
    "# Split dependent var from independent variables\n",
    "target_pa = pa.hospitalizedCurrently\n",
    "indep_var_pa = pa.drop(columns=['hospitalizedCurrently'])\n",
    "\n",
    "fig, ax = plt.subplots(figsize = (16, 16))\n",
    "for i, col in enumerate(indep_var_pa.columns):\n",
    "    ax=fig.add_subplot(2, 3, i+1) \n",
    "    sns.regplot(x=indep_var_pa[col], y=target_pa, data=indep_var_pa, label=col, scatter_kws={'s':10}, line_kws={\"color\": \"plum\"})\n",
    "    plt.suptitle('Distributions of Independent Variables Pennsylvania', fontsize=23)\n",
    "plt.tight_layout()\n",
    "fig.subplots_adjust(top=0.95)"
   ]
  },
  {
   "cell_type": "code",
   "execution_count": null,
   "metadata": {},
   "outputs": [],
   "source": [
    "#hide_input\n",
    "###endpennsylvania"
   ]
  },
  {
   "cell_type": "markdown",
   "metadata": {},
   "source": [
    "### Rhode Island"
   ]
  },
  {
   "cell_type": "code",
   "execution_count": null,
   "metadata": {},
   "outputs": [],
   "source": [
    "#hide_input\n",
    "ri = covid_df.loc[(covid_df['abbrev'] == 'RI') & (covid_df['state']== 'Rhode Island')] \n"
   ]
  },
  {
   "cell_type": "code",
   "execution_count": null,
   "metadata": {
    "scrolled": true
   },
   "outputs": [],
   "source": [
    "#hide_input\n",
    "# TODO fix legend/axis/plot alltogether\n",
    "# Timeseries plt\n",
    "fig, ax = plt.subplots(figsize = (16, 12))\n",
    "plt.plot(ri.date, ri.hospitalizedCurrently, linewidth=4.7)\n",
    "plt.title('Number of Patients in Rhode Island Currently Hospitalized', fontsize=23)\n",
    "plt.xlabel('Date')\n",
    "plt.ylabel('No. Patients')"
   ]
  },
  {
   "cell_type": "code",
   "execution_count": null,
   "metadata": {},
   "outputs": [],
   "source": [
    "#hide_input\n",
    "# TODO fix legend/axis/plot alltogether\n",
    "# Timeseries plt\n",
    "fig, ax = plt.subplots(figsize = (16, 12))\n",
    "plt.plot(ri.date, ri.active, linewidth=4.7)\n",
    "plt.title('Number of Active Positive Cases in Rhode Island', fontsize=23)\n",
    "plt.xlabel('Date')\n",
    "plt.ylabel('No. Patients')"
   ]
  },
  {
   "cell_type": "code",
   "execution_count": null,
   "metadata": {},
   "outputs": [],
   "source": [
    "#hide_input\n",
    "# TODO fix legend/axis/plot alltogether\n",
    "# Timeseries plt\n",
    "fig, ax = plt.subplots(figsize = (16, 12))\n",
    "plt.plot(ri.date, ri.hospitalizedCurrently/ri.active*100, linewidth=4.7)\n",
    "plt.title('Hospitalization Rate in Rhode Island', fontsize=23)\n",
    "plt.xlabel('Date')\n",
    "plt.ylabel('No. Patients')"
   ]
  },
  {
   "cell_type": "code",
   "execution_count": null,
   "metadata": {},
   "outputs": [],
   "source": [
    "#hide_input\n",
    "# TODO fix legend/axis/plot alltogether\n",
    "# Timeseries plt\n",
    "fig, ax = plt.subplots(figsize = (16, 12))\n",
    "plt.plot(ri.date, ri.death, linewidth=4.7)\n",
    "plt.title('Cummulative Number Killed in Rhode Island', fontsize=23)\n",
    "plt.xlabel('Date')\n",
    "plt.ylabel('No. Killed')"
   ]
  },
  {
   "cell_type": "code",
   "execution_count": null,
   "metadata": {},
   "outputs": [],
   "source": [
    "#hide_input\n",
    "# Checking which cols have NaN values\n",
    "ri[['positive', 'active', 'hospitalizedCurrently', 'inIcuCurrently', 'recovered', 'death', 'hospitalized']]\n",
    "ri.head()\n",
    "\n",
    "# Omit the NaN cols\n",
    "ri = ri[['positive', 'active', 'hospitalizedCurrently', 'inIcuCurrently', 'recovered', 'death']]"
   ]
  },
  {
   "cell_type": "code",
   "execution_count": null,
   "metadata": {},
   "outputs": [],
   "source": [
    "#hide_input\n",
    "# Scatter plots RI\n",
    "# Split dependent var from independent variables\n",
    "target_ri = ri.hospitalizedCurrently\n",
    "indep_var_ri = ri.drop(columns=['hospitalizedCurrently'])\n",
    "\n",
    "fig, ax = plt.subplots(figsize = (16, 16))\n",
    "for i, col in enumerate(indep_var_ri.columns):\n",
    "    ax=fig.add_subplot(2, 3, i+1) \n",
    "    sns.regplot(x=indep_var_ri[col], y=target_ri, data=indep_var_ri, label=col, scatter_kws={'s':10}, line_kws={\"color\": \"plum\"})\n",
    "    plt.suptitle('Distributions of Independent Variables Rhode Island', fontsize=23)\n",
    "plt.tight_layout()\n",
    "fig.subplots_adjust(top=0.95)"
   ]
  },
  {
   "cell_type": "code",
   "execution_count": null,
   "metadata": {},
   "outputs": [],
   "source": [
    "#hide_input\n",
    "###endrhodeisland"
   ]
  },
  {
   "cell_type": "markdown",
   "metadata": {},
   "source": [
    "### South Carolina"
   ]
  },
  {
   "cell_type": "code",
   "execution_count": null,
   "metadata": {},
   "outputs": [],
   "source": [
    "#hide_input\n",
    "sc = covid_df.loc[(covid_df['abbrev'] == 'SC') & (covid_df['state']== 'South Carolina')] \n"
   ]
  },
  {
   "cell_type": "code",
   "execution_count": null,
   "metadata": {
    "scrolled": true
   },
   "outputs": [],
   "source": [
    "#hide_input\n",
    "# TODO fix legend/axis/plot alltogether\n",
    "# Timeseries plt\n",
    "fig, ax = plt.subplots(figsize = (16, 12))\n",
    "plt.plot(sc.date, sc.hospitalizedCurrently, linewidth=4.7, color='r')\n",
    "plt.title('Number of Patients in South Carolina Currently Hospitalized', fontsize=23)\n",
    "plt.xlabel('Date')\n",
    "plt.ylabel('No. Patients')"
   ]
  },
  {
   "cell_type": "code",
   "execution_count": null,
   "metadata": {
    "scrolled": true
   },
   "outputs": [],
   "source": [
    "#hide_input\n",
    "# TODO fix legend/axis/plot alltogether\n",
    "# Timeseries plt\n",
    "fig, ax = plt.subplots(figsize = (16, 12))\n",
    "plt.plot(sc.date, sc.death, linewidth=4.7, color='r')\n",
    "plt.title('Number of Cummulative Deaths in South Carolina', fontsize=23)\n",
    "plt.xlabel('Date')\n",
    "plt.ylabel('No. Patients')"
   ]
  },
  {
   "cell_type": "code",
   "execution_count": null,
   "metadata": {
    "scrolled": true
   },
   "outputs": [],
   "source": [
    "#hide_input\n",
    "# TODO fix legend/axis/plot alltogether\n",
    "# Timeseries plt\n",
    "fig, ax = plt.subplots(figsize = (16, 12))\n",
    "plt.plot(sc.date, sc.totalTestsViral, linewidth=4.7, color='r')\n",
    "plt.title('Number of Cummulative Viral Tests in South Carolina', fontsize=23)\n",
    "plt.xlabel('Date')\n",
    "plt.ylabel('No. Patients')"
   ]
  },
  {
   "cell_type": "code",
   "execution_count": null,
   "metadata": {
    "scrolled": true
   },
   "outputs": [],
   "source": [
    "#hide_input\n",
    "# TODO fix legend/axis/plot alltogether\n",
    "# Timeseries plt\n",
    "fig, ax = plt.subplots(figsize = (16, 12))\n",
    "plt.plot(sc.date, sc.positiveTestsViral, linewidth=4.7, color='r')\n",
    "plt.title('Number of Cummulative Positive Viral Tests in South Carolina', fontsize=23)\n",
    "plt.xlabel('Date')\n",
    "plt.ylabel('No. Patients')"
   ]
  },
  {
   "cell_type": "code",
   "execution_count": null,
   "metadata": {
    "scrolled": true
   },
   "outputs": [],
   "source": [
    "#hide_input\n",
    "# TODO fix legend/axis/plot alltogether\n",
    "# Timeseries plt\n",
    "fig, ax = plt.subplots(figsize = (16, 12))\n",
    "plt.plot(sc.date, sc.positiveTestsViral/sc.totalTestsViral*100, linewidth=4.7, color='r')\n",
    "plt.title('Viral Infection Rate in South Carolina', fontsize=23)\n",
    "plt.xlabel('Date')\n",
    "plt.ylabel('% Infection Rate')"
   ]
  },
  {
   "cell_type": "code",
   "execution_count": null,
   "metadata": {},
   "outputs": [],
   "source": [
    "#hide_input\n",
    "# Checking which cols have NaN values\n",
    "sc[['positive', 'active', 'hospitalizedCurrently', 'inIcuCurrently', 'recovered', 'death', 'hospitalized']]\n",
    "sc.head()\n",
    "\n",
    "# Omit the NaN cols\n",
    "sc = sc[['positive', 'active', 'hospitalizedCurrently', 'inIcuCurrently', 'recovered', 'death']]"
   ]
  },
  {
   "cell_type": "code",
   "execution_count": null,
   "metadata": {},
   "outputs": [],
   "source": [
    "#hide_input\n",
    "# Scatter plots SC\n",
    "# Split dependent var from independent variables\n",
    "target_sc = sc.hospitalizedCurrently\n",
    "indep_var_sc = sc.drop(columns=['hospitalizedCurrently'])\n",
    "\n",
    "fig, ax = plt.subplots(figsize = (16, 16))\n",
    "for i, col in enumerate(indep_var_sc.columns):\n",
    "    ax=fig.add_subplot(2, 3, i+1) \n",
    "    sns.regplot(x=indep_var_sc[col], y=target_sc, data=indep_var_sc, label=col, scatter_kws={'s':10}, line_kws={\"color\": \"plum\"})\n",
    "    plt.suptitle('Distributions of Independent Variables South Carolina', fontsize=23)\n",
    "plt.tight_layout()\n",
    "fig.subplots_adjust(top=0.95)"
   ]
  },
  {
   "cell_type": "code",
   "execution_count": null,
   "metadata": {},
   "outputs": [],
   "source": [
    "#hide_input\n",
    "###endsouthcarolina"
   ]
  },
  {
   "cell_type": "markdown",
   "metadata": {},
   "source": [
    "### South Dakota"
   ]
  },
  {
   "cell_type": "code",
   "execution_count": null,
   "metadata": {},
   "outputs": [],
   "source": [
    "#hide_input\n",
    "sd = covid_df.loc[(covid_df['abbrev'] == 'SD') & (covid_df['state']== 'South Dakota')] \n"
   ]
  },
  {
   "cell_type": "code",
   "execution_count": null,
   "metadata": {
    "scrolled": true
   },
   "outputs": [],
   "source": [
    "#hide_input\n",
    "# TODO fix legend/axis/plot alltogether\n",
    "# Timeseries plt\n",
    "fig, ax = plt.subplots(figsize = (16, 12))\n",
    "plt.plot(sd.date, sd.hospitalizedCurrently, linewidth=4.7, color='r')\n",
    "plt.title('Number of Patients in South Dakota Currently Hospitalized', fontsize=23)\n",
    "plt.xlabel('Date')\n",
    "plt.ylabel('No. Patients')"
   ]
  },
  {
   "cell_type": "code",
   "execution_count": null,
   "metadata": {},
   "outputs": [],
   "source": [
    "#hide_input\n",
    "# TODO fix legend/axis/plot alltogether\n",
    "# Timeseries plt\n",
    "fig, ax = plt.subplots(figsize = (16, 12))\n",
    "plt.plot(sd.date, sd.active, linewidth=4.7, color='r')\n",
    "plt.title('Number of Active Positive Cases in South Dakota', fontsize=23)\n",
    "plt.xlabel('Date')\n",
    "plt.ylabel('No. Patients')"
   ]
  },
  {
   "cell_type": "code",
   "execution_count": null,
   "metadata": {},
   "outputs": [],
   "source": [
    "#hide_input\n",
    "# TODO fix legend/axis/plot alltogether\n",
    "# Timeseries plt\n",
    "fig, ax = plt.subplots(figsize = (16, 12))\n",
    "plt.plot(sd.date, sd.hospitalizedCurrently/sd.active*100, linewidth=4.7, color='r')\n",
    "plt.title('Hospitalization Rate in South Dakota', fontsize=23)\n",
    "plt.xlabel('Date')\n",
    "plt.ylabel('No. Patients')"
   ]
  },
  {
   "cell_type": "code",
   "execution_count": null,
   "metadata": {},
   "outputs": [],
   "source": [
    "#hide_input\n",
    "# TODO fix legend/axis/plot alltogether\n",
    "# Timeseries plt\n",
    "fig, ax = plt.subplots(figsize = (16, 12))\n",
    "plt.plot(sd.date, sd.death, linewidth=4.7, color='r')\n",
    "plt.title('Cummulative Number Killed in South Dakota', fontsize=23)\n",
    "plt.xlabel('Date')\n",
    "plt.ylabel('No. Killed')"
   ]
  },
  {
   "cell_type": "code",
   "execution_count": null,
   "metadata": {},
   "outputs": [],
   "source": [
    "#hide_input\n",
    "# Checking which cols have NaN values\n",
    "sd[['positive', 'active', 'hospitalizedCurrently', 'inIcuCurrently', 'recovered', 'death', 'hospitalized']]\n",
    "sd.head()\n",
    "\n",
    "# Omit the NaN cols\n",
    "sd = sd[['positive', 'active', 'hospitalizedCurrently', 'inIcuCurrently', 'recovered', 'death']]"
   ]
  },
  {
   "cell_type": "code",
   "execution_count": null,
   "metadata": {},
   "outputs": [],
   "source": [
    "#hide_input\n",
    "# Scatter plots SD\n",
    "# Split dependent var from independent variables\n",
    "target_sd = sd.hospitalizedCurrently\n",
    "indep_var_sd = sd.drop(columns=['hospitalizedCurrently'])\n",
    "\n",
    "fig, ax = plt.subplots(figsize = (16, 16))\n",
    "for i, col in enumerate(indep_var_sd.columns):\n",
    "    ax=fig.add_subplot(2, 3, i+1) \n",
    "    sns.regplot(x=indep_var_sd[col], y=target_sd, data=indep_var_sd, label=col, scatter_kws={'s':10}, line_kws={\"color\": \"plum\"})\n",
    "    plt.suptitle('Distributions of Independent Variables South Dakota', fontsize=23)\n",
    "plt.tight_layout()\n",
    "fig.subplots_adjust(top=0.95)"
   ]
  },
  {
   "cell_type": "code",
   "execution_count": null,
   "metadata": {},
   "outputs": [],
   "source": [
    "#hide_input\n",
    "###endsouthdakota"
   ]
  },
  {
   "cell_type": "markdown",
   "metadata": {},
   "source": [
    "### Tennessee"
   ]
  },
  {
   "cell_type": "code",
   "execution_count": null,
   "metadata": {},
   "outputs": [],
   "source": [
    "#hide_input\n",
    "tn = covid_df.loc[(covid_df['abbrev'] == 'TN') & (covid_df['state']== 'Tennessee')] \n"
   ]
  },
  {
   "cell_type": "code",
   "execution_count": null,
   "metadata": {
    "scrolled": true
   },
   "outputs": [],
   "source": [
    "#hide_input\n",
    "# TODO fix legend/axis/plot alltogether\n",
    "# Timeseries plt\n",
    "fig, ax = plt.subplots(figsize = (16, 12))\n",
    "plt.plot(tn.date, tn.hospitalizedCurrently, linewidth=4.7, color='r')\n",
    "plt.title('Number of Patients in Tennessee Currently Hospitalized', fontsize=23)\n",
    "plt.xlabel('Date')\n",
    "plt.ylabel('No. Patients')"
   ]
  },
  {
   "cell_type": "code",
   "execution_count": null,
   "metadata": {},
   "outputs": [],
   "source": [
    "#hide_input\n",
    "# TODO fix legend/axis/plot alltogether\n",
    "# Timeseries plt\n",
    "fig, ax = plt.subplots(figsize = (16, 12))\n",
    "plt.plot(tn.date, tn.active, linewidth=4.7, color='r')\n",
    "plt.title('Number of Active Positive Cases in Tennessee', fontsize=23)\n",
    "plt.xlabel('Date')\n",
    "plt.ylabel('No. Patients')"
   ]
  },
  {
   "cell_type": "code",
   "execution_count": null,
   "metadata": {},
   "outputs": [],
   "source": [
    "#hide_input\n",
    "# TODO fix legend/axis/plot alltogether\n",
    "# Timeseries plt\n",
    "fig, ax = plt.subplots(figsize = (16, 12))\n",
    "plt.plot(tn.date, tn.hospitalizedCurrently/tn.active*100, linewidth=4.7, color='r')\n",
    "plt.title('Hospitalization Rate in Tennessee', fontsize=23)\n",
    "plt.xlabel('Date')\n",
    "plt.ylabel('No. Patients')"
   ]
  },
  {
   "cell_type": "code",
   "execution_count": null,
   "metadata": {},
   "outputs": [],
   "source": [
    "#hide_input\n",
    "# TODO fix legend/axis/plot alltogether\n",
    "# Timeseries plt\n",
    "fig, ax = plt.subplots(figsize = (16, 12))\n",
    "plt.plot(tn.date, tn.death, linewidth=4.7, color='r')\n",
    "plt.title('Cummulative Number Killed in Tennessee', fontsize=23)\n",
    "plt.xlabel('Date')\n",
    "plt.ylabel('No. Killed')"
   ]
  },
  {
   "cell_type": "code",
   "execution_count": null,
   "metadata": {},
   "outputs": [],
   "source": [
    "#hide_input\n",
    "# Checking which cols have NaN values\n",
    "tn[['positive', 'active', 'hospitalizedCurrently', 'inIcuCurrently', 'recovered', 'death', 'hospitalized']]\n",
    "tn.head()\n",
    "\n",
    "# Omit the NaN cols\n",
    "tn = tn[['positive', 'active', 'hospitalizedCurrently', 'inIcuCurrently', 'recovered', 'death']]"
   ]
  },
  {
   "cell_type": "code",
   "execution_count": null,
   "metadata": {},
   "outputs": [],
   "source": [
    "#hide_input\n",
    "# Scatter plots AL\n",
    "# Split dependent var from independent variables\n",
    "target_tn = tn.hospitalizedCurrently\n",
    "indep_var_tn = tn.drop(columns=['hospitalizedCurrently'])\n",
    "\n",
    "fig, ax = plt.subplots(figsize = (16, 16))\n",
    "for i, col in enumerate(indep_var_tn.columns):\n",
    "    ax=fig.add_subplot(2, 3, i+1) \n",
    "    sns.regplot(x=indep_var_tn[col], y=target_tn, data=indep_var_tn, label=col, scatter_kws={'s':10}, line_kws={\"color\": \"plum\"})\n",
    "    plt.suptitle('Distributions of Independent Variables Tennessee', fontsize=23)\n",
    "plt.tight_layout()\n",
    "fig.subplots_adjust(top=0.95)"
   ]
  },
  {
   "cell_type": "code",
   "execution_count": null,
   "metadata": {},
   "outputs": [],
   "source": [
    "#hide_input\n",
    "###endtennessee"
   ]
  },
  {
   "cell_type": "markdown",
   "metadata": {},
   "source": [
    "### Texas"
   ]
  },
  {
   "cell_type": "code",
   "execution_count": null,
   "metadata": {},
   "outputs": [],
   "source": [
    "#hide_input\n",
    "texas = covid_df.loc[(covid_df['abbrev'] == 'TX') & (covid_df['state']== 'Texas')] \n"
   ]
  },
  {
   "cell_type": "code",
   "execution_count": null,
   "metadata": {},
   "outputs": [],
   "source": [
    "#hide_input\n",
    "# TODO fix legend/axis/plot alltogether\n",
    "# Timeseries plt\n",
    "fig, ax = plt.subplots(figsize = (16, 12))\n",
    "plt.plot(texas.date, texas.hospitalizedCurrently, linewidth=4.7, color='r')\n",
    "plt.title('Number of Patients in Texas Currently Hospitalized', fontsize=23)\n",
    "plt.xlabel('Date')\n",
    "plt.ylabel('No. Patients')"
   ]
  },
  {
   "cell_type": "code",
   "execution_count": null,
   "metadata": {
    "scrolled": true
   },
   "outputs": [],
   "source": [
    "#hide_input\n",
    "# TODO fix legend/axis/plot alltogether\n",
    "# Timeseries plt\n",
    "fig, ax = plt.subplots(figsize = (16, 12))\n",
    "plt.plot(texas.date, texas.death, linewidth=4.7, color='r')\n",
    "plt.title('Number of Cummulative Deaths in Texas', fontsize=23)\n",
    "plt.xlabel('Date')\n",
    "plt.ylabel('No. Patients')"
   ]
  },
  {
   "cell_type": "code",
   "execution_count": null,
   "metadata": {
    "scrolled": true
   },
   "outputs": [],
   "source": [
    "#hide_input\n",
    "# TODO fix legend/axis/plot alltogether\n",
    "# Timeseries plt\n",
    "fig, ax = plt.subplots(figsize = (16, 12))\n",
    "plt.plot(texas.date, texas.totalTestsViral, linewidth=4.7, color='r')\n",
    "plt.title('Number of Cummulative Viral Tests in Texas', fontsize=23)\n",
    "plt.xlabel('Date')\n",
    "plt.ylabel('No. Patients')"
   ]
  },
  {
   "cell_type": "code",
   "execution_count": null,
   "metadata": {},
   "outputs": [],
   "source": [
    "#hide_input\n",
    "# Checking which cols have NaN values\n",
    "texas[['positive', 'active', 'hospitalizedCurrently', 'inIcuCurrently', 'recovered', 'death', 'hospitalized']]\n",
    "texas.head()\n",
    "\n",
    "# Omit the NaN cols\n",
    "texas = texas[['positive', 'active', 'hospitalizedCurrently', 'inIcuCurrently', 'recovered', 'death']]"
   ]
  },
  {
   "cell_type": "code",
   "execution_count": null,
   "metadata": {
    "scrolled": true
   },
   "outputs": [],
   "source": [
    "#hide_input\n",
    "# Scatter plots TX\n",
    "# Split dependent var from independent variables\n",
    "target_tx = texas.hospitalizedCurrently\n",
    "indep_var_tx = texas.drop(columns=['hospitalizedCurrently'])\n",
    "\n",
    "fig, ax = plt.subplots(figsize = (16, 16))\n",
    "for i, col in enumerate(indep_var_tx.columns):\n",
    "    ax=fig.add_subplot(2, 3, i+1) \n",
    "    sns.regplot(x=indep_var_tx[col], y=target_tx, data=indep_var_tx, label=col, scatter_kws={'s':10}, line_kws={\"color\": \"plum\"})\n",
    "    plt.suptitle('Distributions of Independent Variables TX', fontsize=23)\n",
    "plt.tight_layout()\n",
    "fig.subplots_adjust(top=0.95)"
   ]
  },
  {
   "cell_type": "code",
   "execution_count": null,
   "metadata": {},
   "outputs": [],
   "source": [
    "#hide_input\n",
    "###endtx"
   ]
  },
  {
   "cell_type": "markdown",
   "metadata": {},
   "source": [
    "### Utah"
   ]
  },
  {
   "cell_type": "code",
   "execution_count": null,
   "metadata": {},
   "outputs": [],
   "source": [
    "#hide_input\n",
    "utah = covid_df.loc[(covid_df['abbrev'] == 'UT') & (covid_df['state']== 'Utah')] \n"
   ]
  },
  {
   "cell_type": "code",
   "execution_count": null,
   "metadata": {
    "scrolled": true
   },
   "outputs": [],
   "source": [
    "#hide_input\n",
    "# TODO fix legend/axis/plot alltogether\n",
    "# Timeseries plt\n",
    "fig, ax = plt.subplots(figsize = (16, 12))\n",
    "plt.plot(utah.date, utah.hospitalizedCurrently, linewidth=4.7, color='r')\n",
    "plt.title('Number of Patients in UT Currently Hospitalized', fontsize=23)\n",
    "plt.xlabel('Date')\n",
    "plt.ylabel('No. Patients')"
   ]
  },
  {
   "cell_type": "code",
   "execution_count": null,
   "metadata": {
    "scrolled": true
   },
   "outputs": [],
   "source": [
    "#hide_input\n",
    "# TODO fix legend/axis/plot alltogether\n",
    "# Timeseries plt\n",
    "fig, ax = plt.subplots(figsize = (16, 12))\n",
    "plt.plot(utah.date, utah.inIcuCurrently, linewidth=4.7, color='r')\n",
    "plt.title('Number of Patients in UT Currently in ICU', fontsize=23)\n",
    "plt.xlabel('Date')\n",
    "plt.ylabel('No. Patients')"
   ]
  },
  {
   "cell_type": "code",
   "execution_count": null,
   "metadata": {
    "scrolled": true
   },
   "outputs": [],
   "source": [
    "#hide_input\n",
    "# TODO fix legend/axis/plot alltogether\n",
    "# Timeseries plt\n",
    "fig, ax = plt.subplots(figsize = (16, 12))\n",
    "plt.plot(utah.date, utah.death, linewidth=4.7, color='r')\n",
    "plt.title('Number of Cummulative Deaths in Utah', fontsize=23)\n",
    "plt.xlabel('Date')\n",
    "plt.ylabel('No. Patients')"
   ]
  },
  {
   "cell_type": "code",
   "execution_count": null,
   "metadata": {},
   "outputs": [],
   "source": [
    "#hide_input\n",
    "# Checking which cols have NaN values\n",
    "utah[['positive', 'active', 'hospitalizedCurrently', 'inIcuCurrently', 'recovered', 'death', 'hospitalized']]\n",
    "utah.head()\n",
    "\n",
    "# Omit the NaN cols\n",
    "utah = utah[['positive', 'active', 'hospitalizedCurrently', 'inIcuCurrently', 'recovered', 'death']]"
   ]
  },
  {
   "cell_type": "code",
   "execution_count": null,
   "metadata": {},
   "outputs": [],
   "source": [
    "#hide_input\n",
    "# Scatter plots UT\n",
    "# Split dependent var from independent variables\n",
    "target_ut = utah.hospitalizedCurrently\n",
    "indep_var_ut = utah.drop(columns=['hospitalizedCurrently'])\n",
    "\n",
    "fig, ax = plt.subplots(figsize = (16, 16))\n",
    "for i, col in enumerate(indep_var_tx.columns):\n",
    "    ax=fig.add_subplot(2, 3, i+1) \n",
    "    sns.regplot(x=indep_var_ut[col], y=target_ut, data=indep_var_ut, label=col, scatter_kws={'s':10}, line_kws={\"color\": \"plum\"})\n",
    "    plt.suptitle('Distributions of Independent Variables Utah', fontsize=23)\n",
    "plt.tight_layout()\n",
    "fig.subplots_adjust(top=0.95)"
   ]
  },
  {
   "cell_type": "code",
   "execution_count": null,
   "metadata": {},
   "outputs": [],
   "source": [
    "#hide_input\n",
    "###endutah"
   ]
  },
  {
   "cell_type": "markdown",
   "metadata": {},
   "source": [
    "### Vermont"
   ]
  },
  {
   "cell_type": "code",
   "execution_count": null,
   "metadata": {},
   "outputs": [],
   "source": [
    "#hide_input\n",
    "vt = covid_df.loc[(covid_df['abbrev'] == 'VT') & (covid_df['state']== 'Vermont')] \n"
   ]
  },
  {
   "cell_type": "code",
   "execution_count": null,
   "metadata": {
    "scrolled": true
   },
   "outputs": [],
   "source": [
    "#hide_input\n",
    "# TODO fix legend/axis/plot alltogether\n",
    "# Timeseries plt\n",
    "fig, ax = plt.subplots(figsize = (16, 12))\n",
    "plt.plot(vt.date, vt.hospitalizedCurrently, linewidth=4.7, color='r')\n",
    "plt.title('Number of Patients in Vermont Currently Hospitalized', fontsize=23)\n",
    "plt.xlabel('Date')\n",
    "plt.ylabel('No. Patients')"
   ]
  },
  {
   "cell_type": "code",
   "execution_count": null,
   "metadata": {},
   "outputs": [],
   "source": [
    "#hide_input\n",
    "# TODO fix legend/axis/plot alltogether\n",
    "# Timeseries plt\n",
    "fig, ax = plt.subplots(figsize = (16, 12))\n",
    "plt.plot(vt.date, vt.active, linewidth=4.7, color='r')\n",
    "plt.title('Number of Active Positive Cases in Vermont', fontsize=23)\n",
    "plt.xlabel('Date')\n",
    "plt.ylabel('No. Patients')"
   ]
  },
  {
   "cell_type": "code",
   "execution_count": null,
   "metadata": {},
   "outputs": [],
   "source": [
    "#hide_input\n",
    "# TODO fix legend/axis/plot alltogether\n",
    "# Timeseries plt\n",
    "fig, ax = plt.subplots(figsize = (16, 12))\n",
    "plt.plot(vt.date, vt.hospitalizedCurrently/vt.active*100, linewidth=4.7, color='r')\n",
    "plt.title('Hospitalization Rate in Vermont', fontsize=23)\n",
    "plt.xlabel('Date')\n",
    "plt.ylabel('No. Patients')"
   ]
  },
  {
   "cell_type": "code",
   "execution_count": null,
   "metadata": {},
   "outputs": [],
   "source": [
    "#hide_input\n",
    "# TODO fix legend/axis/plot alltogether\n",
    "# Timeseries plt\n",
    "fig, ax = plt.subplots(figsize = (16, 12))\n",
    "plt.plot(vt.date, vt.death, linewidth=4.7, color='r')\n",
    "plt.title('Cummulative Number Killed in Vermont', fontsize=23)\n",
    "plt.xlabel('Date')\n",
    "plt.ylabel('No. Killed')"
   ]
  },
  {
   "cell_type": "code",
   "execution_count": null,
   "metadata": {},
   "outputs": [],
   "source": [
    "#hide_input\n",
    "# Checking which cols have NaN values\n",
    "vt[['positive', 'active', 'hospitalizedCurrently', 'inIcuCurrently', 'recovered', 'death', 'hospitalized']]\n",
    "vt.head()\n",
    "\n",
    "# Omit the NaN cols\n",
    "vt = vt[['positive', 'active', 'hospitalizedCurrently', 'inIcuCurrently', 'recovered', 'death']]"
   ]
  },
  {
   "cell_type": "code",
   "execution_count": null,
   "metadata": {},
   "outputs": [],
   "source": [
    "#hide_input\n",
    "# Scatter plots AL\n",
    "# Split dependent var from independent variables\n",
    "target_vt = vt.hospitalizedCurrently\n",
    "indep_var_vt = vt.drop(columns=['hospitalizedCurrently'])\n",
    "\n",
    "fig, ax = plt.subplots(figsize = (16, 16))\n",
    "for i, col in enumerate(indep_var_vt.columns):\n",
    "    ax=fig.add_subplot(2, 3, i+1) \n",
    "    sns.regplot(x=indep_var_vt[col], y=target_vt, data=indep_var_vt, label=col, scatter_kws={'s':10}, line_kws={\"color\": \"plum\"})\n",
    "    plt.suptitle('Distributions of Independent Variables Vermont', fontsize=23)\n",
    "plt.tight_layout()\n",
    "fig.subplots_adjust(top=0.95)"
   ]
  },
  {
   "cell_type": "code",
   "execution_count": null,
   "metadata": {},
   "outputs": [],
   "source": [
    "#hide_input\n",
    "###endalabama"
   ]
  },
  {
   "cell_type": "markdown",
   "metadata": {},
   "source": [
    "### Virginia"
   ]
  },
  {
   "cell_type": "code",
   "execution_count": null,
   "metadata": {},
   "outputs": [],
   "source": [
    "#hide_input\n",
    "va = covid_df.loc[(covid_df['abbrev'] == 'VA') & (covid_df['state']== 'Virginia')] \n"
   ]
  },
  {
   "cell_type": "code",
   "execution_count": null,
   "metadata": {
    "scrolled": true
   },
   "outputs": [],
   "source": [
    "#hide_input\n",
    "# TODO fix legend/axis/plot alltogether\n",
    "# Timeseries plt\n",
    "fig, ax = plt.subplots(figsize = (16, 12))\n",
    "plt.plot(va.date, va.hospitalizedCurrently, linewidth=4.7)\n",
    "plt.title('Number of Patients in Virginia Currently Hospitalized', fontsize=23)\n",
    "plt.xlabel('Date')\n",
    "plt.ylabel('No. Patients')"
   ]
  },
  {
   "cell_type": "code",
   "execution_count": null,
   "metadata": {},
   "outputs": [],
   "source": [
    "#hide_input\n",
    "# TODO fix legend/axis/plot alltogether\n",
    "# Timeseries plt\n",
    "fig, ax = plt.subplots(figsize = (16, 12))\n",
    "plt.plot(va.date, va.active, linewidth=4.7)\n",
    "plt.title('Number of Active Positive Cases in Virginia', fontsize=23)\n",
    "plt.xlabel('Date')\n",
    "plt.ylabel('No. Patients')"
   ]
  },
  {
   "cell_type": "code",
   "execution_count": null,
   "metadata": {},
   "outputs": [],
   "source": [
    "#hide_input\n",
    "# TODO fix legend/axis/plot alltogether\n",
    "# Timeseries plt\n",
    "fig, ax = plt.subplots(figsize = (16, 12))\n",
    "plt.plot(va.date, va.hospitalizedCurrently/va.active*100, linewidth=4.7)\n",
    "plt.title('Hospitalization Rate in Virginia', fontsize=23)\n",
    "plt.xlabel('Date')\n",
    "plt.ylabel('No. Patients')"
   ]
  },
  {
   "cell_type": "code",
   "execution_count": null,
   "metadata": {},
   "outputs": [],
   "source": [
    "#hide_input\n",
    "# TODO fix legend/axis/plot alltogether\n",
    "# Timeseries plt\n",
    "fig, ax = plt.subplots(figsize = (16, 12))\n",
    "plt.plot(va.date, va.death, linewidth=4.7)\n",
    "plt.title('Cummulative Number Killed in Virginia', fontsize=23)\n",
    "plt.xlabel('Date')\n",
    "plt.ylabel('No. Killed')"
   ]
  },
  {
   "cell_type": "code",
   "execution_count": null,
   "metadata": {},
   "outputs": [],
   "source": [
    "#hide_input\n",
    "# Checking which cols have NaN values\n",
    "va[['positive', 'active', 'hospitalizedCurrently', 'inIcuCurrently', 'recovered', 'death', 'hospitalized']]\n",
    "va.head()\n",
    "\n",
    "# Omit the NaN cols\n",
    "va = va[['positive', 'active', 'hospitalizedCurrently', 'inIcuCurrently', 'recovered', 'death']]"
   ]
  },
  {
   "cell_type": "code",
   "execution_count": null,
   "metadata": {},
   "outputs": [],
   "source": [
    "#hide_input\n",
    "# Scatter plots VA\n",
    "# Split dependent var from independent variables\n",
    "target_va = va.hospitalizedCurrently\n",
    "indep_var_va = va.drop(columns=['hospitalizedCurrently'])\n",
    "\n",
    "fig, ax = plt.subplots(figsize = (16, 16))\n",
    "for i, col in enumerate(indep_var_va.columns):\n",
    "    ax=fig.add_subplot(2, 3, i+1) \n",
    "    sns.regplot(x=indep_var_va[col], y=target_va, data=indep_var_va, label=col, scatter_kws={'s':10}, line_kws={\"color\": \"plum\"})\n",
    "    plt.suptitle('Distributions of Independent Variables Virginia', fontsize=23)\n",
    "plt.tight_layout()\n",
    "fig.subplots_adjust(top=0.95)"
   ]
  },
  {
   "cell_type": "code",
   "execution_count": null,
   "metadata": {},
   "outputs": [],
   "source": [
    "#hide_input\n",
    "###endvirginia"
   ]
  },
  {
   "cell_type": "markdown",
   "metadata": {},
   "source": [
    "### Washington"
   ]
  },
  {
   "cell_type": "code",
   "execution_count": null,
   "metadata": {},
   "outputs": [],
   "source": [
    "#hide_input\n",
    "wa = covid_df.loc[(covid_df['abbrev'] == 'WA') & (covid_df['state']== 'Washington')] \n"
   ]
  },
  {
   "cell_type": "code",
   "execution_count": null,
   "metadata": {
    "scrolled": true
   },
   "outputs": [],
   "source": [
    "#hide_input\n",
    "# TODO fix legend/axis/plot alltogether\n",
    "# Timeseries plt\n",
    "fig, ax = plt.subplots(figsize = (16, 12))\n",
    "plt.plot(wa.date, wa.hospitalizedCurrently, linewidth=4.7)\n",
    "plt.title('Number of Patients in Washington Currently Hospitalized', fontsize=23)\n",
    "plt.xlabel('Date')\n",
    "plt.ylabel('No. Patients')"
   ]
  },
  {
   "cell_type": "code",
   "execution_count": null,
   "metadata": {},
   "outputs": [],
   "source": [
    "#hide_input\n",
    "# TODO fix legend/axis/plot alltogether\n",
    "# Timeseries plt\n",
    "fig, ax = plt.subplots(figsize = (16, 12))\n",
    "plt.plot(wa.date, wa.active, linewidth=4.7)\n",
    "plt.title('Number of Active Positive Cases in Washington', fontsize=23)\n",
    "plt.xlabel('Date')\n",
    "plt.ylabel('No. Patients')"
   ]
  },
  {
   "cell_type": "code",
   "execution_count": null,
   "metadata": {},
   "outputs": [],
   "source": [
    "#hide_input\n",
    "# TODO fix legend/axis/plot alltogether\n",
    "# Timeseries plt\n",
    "fig, ax = plt.subplots(figsize = (16, 12))\n",
    "plt.plot(wa.date, wa.hospitalizedCurrently/wa.active*100, linewidth=4.7)\n",
    "plt.title('Hospitalization Rate in Washington', fontsize=23)\n",
    "plt.xlabel('Date')\n",
    "plt.ylabel('No. Patients')"
   ]
  },
  {
   "cell_type": "code",
   "execution_count": null,
   "metadata": {},
   "outputs": [],
   "source": [
    "#hide_input\n",
    "# TODO fix legend/axis/plot alltogether\n",
    "# Timeseries plt\n",
    "fig, ax = plt.subplots(figsize = (16, 12))\n",
    "plt.plot(wa.date, wa.death, linewidth=4.7)\n",
    "plt.title('Cummulative Number Killed in Washington', fontsize=23)\n",
    "plt.xlabel('Date')\n",
    "plt.ylabel('No. Killed')"
   ]
  },
  {
   "cell_type": "code",
   "execution_count": null,
   "metadata": {},
   "outputs": [],
   "source": [
    "#hide_input\n",
    "# Checking which cols have NaN values\n",
    "wa[['positive', 'active', 'hospitalizedCurrently', 'inIcuCurrently', 'recovered', 'death', 'hospitalized']]\n",
    "wa.head()\n",
    "\n",
    "# Omit the NaN cols\n",
    "wa = wa[['positive', 'active', 'hospitalizedCurrently', 'inIcuCurrently', 'recovered', 'death']]"
   ]
  },
  {
   "cell_type": "code",
   "execution_count": null,
   "metadata": {},
   "outputs": [],
   "source": [
    "#hide_input\n",
    "# Scatter plots AL\n",
    "# Split dependent var from independent variables\n",
    "target_wa = wa.hospitalizedCurrently\n",
    "indep_var_wa = wa.drop(columns=['hospitalizedCurrently'])\n",
    "\n",
    "fig, ax = plt.subplots(figsize = (16, 16))\n",
    "for i, col in enumerate(indep_var_wa.columns):\n",
    "    ax=fig.add_subplot(2, 3, i+1) \n",
    "    sns.regplot(x=indep_var_wa[col], y=target_wa, data=indep_var_wa, label=col, scatter_kws={'s':10}, line_kws={\"color\": \"plum\"})\n",
    "    plt.suptitle('Distributions of Independent Variables Washington', fontsize=23)\n",
    "plt.tight_layout()\n",
    "fig.subplots_adjust(top=0.95)"
   ]
  },
  {
   "cell_type": "code",
   "execution_count": null,
   "metadata": {},
   "outputs": [],
   "source": [
    "#hide_input\n",
    "###endalabama"
   ]
  },
  {
   "cell_type": "markdown",
   "metadata": {},
   "source": [
    "### West Virginia"
   ]
  },
  {
   "cell_type": "code",
   "execution_count": null,
   "metadata": {},
   "outputs": [],
   "source": [
    "#hide_input\n",
    "wv = covid_df.loc[(covid_df['abbrev'] == 'WV') & (covid_df['state']== 'West Virginia')] \n"
   ]
  },
  {
   "cell_type": "code",
   "execution_count": null,
   "metadata": {
    "scrolled": true
   },
   "outputs": [],
   "source": [
    "#hide_input\n",
    "# TODO fix legend/axis/plot alltogether\n",
    "# Timeseries plt\n",
    "fig, ax = plt.subplots(figsize = (16, 12))\n",
    "plt.plot(wv.date, wv.hospitalizedCurrently, linewidth=4.7, color='r')\n",
    "plt.title('Number of Patients in West Virginia Currently Hospitalized', fontsize=23)\n",
    "plt.xlabel('Date')\n",
    "plt.ylabel('No. Patients')"
   ]
  },
  {
   "cell_type": "code",
   "execution_count": null,
   "metadata": {},
   "outputs": [],
   "source": [
    "#hide_input\n",
    "# TODO fix legend/axis/plot alltogether\n",
    "# Timeseries plt\n",
    "fig, ax = plt.subplots(figsize = (16, 12))\n",
    "plt.plot(wv.date, wv.active, linewidth=4.7, color='r')\n",
    "plt.title('Number of Active Positive Cases in West Virginia', fontsize=23)\n",
    "plt.xlabel('Date')\n",
    "plt.ylabel('No. Patients')"
   ]
  },
  {
   "cell_type": "code",
   "execution_count": null,
   "metadata": {},
   "outputs": [],
   "source": [
    "#hide_input\n",
    "# TODO fix legend/axis/plot alltogether\n",
    "# Timeseries plt\n",
    "fig, ax = plt.subplots(figsize = (16, 12))\n",
    "plt.plot(wv.date, wv.hospitalizedCurrently/wv.active*100, linewidth=4.7, color='r')\n",
    "plt.title('Hospitalization Rate in West Virginia', fontsize=23)\n",
    "plt.xlabel('Date')\n",
    "plt.ylabel('No. Patients')"
   ]
  },
  {
   "cell_type": "code",
   "execution_count": null,
   "metadata": {},
   "outputs": [],
   "source": [
    "#hide_input\n",
    "# TODO fix legend/axis/plot alltogether\n",
    "# Timeseries plt\n",
    "fig, ax = plt.subplots(figsize = (16, 12))\n",
    "plt.plot(wv.date, wv.death, linewidth=4.7, color='r')\n",
    "plt.title('Cummulative Number Killed in West Virginia', fontsize=23)\n",
    "plt.xlabel('Date')\n",
    "plt.ylabel('No. Killed')"
   ]
  },
  {
   "cell_type": "code",
   "execution_count": null,
   "metadata": {},
   "outputs": [],
   "source": [
    "#hide_input\n",
    "# Checking which cols have NaN values\n",
    "wv[['positive', 'active', 'hospitalizedCurrently', 'inIcuCurrently', 'recovered', 'death', 'hospitalized']]\n",
    "wv.head()\n",
    "\n",
    "# Omit the NaN cols\n",
    "wv = wv[['positive', 'active', 'hospitalizedCurrently', 'inIcuCurrently', 'recovered', 'death']]"
   ]
  },
  {
   "cell_type": "code",
   "execution_count": null,
   "metadata": {},
   "outputs": [],
   "source": [
    "#hide_input\n",
    "# Scatter plots AL\n",
    "# Split dependent var from independent variables\n",
    "target_wv = wv.hospitalizedCurrently\n",
    "indep_var_wv = wv.drop(columns=['hospitalizedCurrently'])\n",
    "\n",
    "fig, ax = plt.subplots(figsize = (16, 16))\n",
    "for i, col in enumerate(indep_var_wv.columns):\n",
    "    ax=fig.add_subplot(2, 3, i+1) \n",
    "    sns.regplot(x=indep_var_wv[col], y=target_wv, data=indep_var_wv, label=col, scatter_kws={'s':10}, line_kws={\"color\": \"plum\"})\n",
    "    plt.suptitle('Distributions of Independent Variables West Virginia', fontsize=23)\n",
    "plt.tight_layout()\n",
    "fig.subplots_adjust(top=0.95)"
   ]
  },
  {
   "cell_type": "code",
   "execution_count": null,
   "metadata": {},
   "outputs": [],
   "source": [
    "#hide_input\n",
    "###endwestvirginia"
   ]
  },
  {
   "cell_type": "markdown",
   "metadata": {},
   "source": [
    "### Wisconsin"
   ]
  },
  {
   "cell_type": "code",
   "execution_count": null,
   "metadata": {},
   "outputs": [],
   "source": [
    "#hide_input\n",
    "wi = covid_df.loc[(covid_df['abbrev'] == 'WI') & (covid_df['state']== 'Wisconsin')] \n"
   ]
  },
  {
   "cell_type": "code",
   "execution_count": null,
   "metadata": {
    "scrolled": true
   },
   "outputs": [],
   "source": [
    "#hide_input\n",
    "# TODO fix legend/axis/plot alltogether\n",
    "# Timeseries plt\n",
    "fig, ax = plt.subplots(figsize = (16, 12))\n",
    "plt.plot(wi.date, wi.hospitalizedCurrently, linewidth=4.7)\n",
    "plt.title('Number of Patients in Wisconsin Currently Hospitalized', fontsize=23)\n",
    "plt.xlabel('Date')\n",
    "plt.ylabel('No. Patients')"
   ]
  },
  {
   "cell_type": "code",
   "execution_count": null,
   "metadata": {},
   "outputs": [],
   "source": [
    "#hide_input\n",
    "# TODO fix legend/axis/plot alltogether\n",
    "# Timeseries plt\n",
    "fig, ax = plt.subplots(figsize = (16, 12))\n",
    "plt.plot(wi.date, wi.active, linewidth=4.7)\n",
    "plt.title('Number of Active Positive Cases in Wisconsin', fontsize=23)\n",
    "plt.xlabel('Date')\n",
    "plt.ylabel('No. Patients')"
   ]
  },
  {
   "cell_type": "code",
   "execution_count": null,
   "metadata": {},
   "outputs": [],
   "source": [
    "#hide_input\n",
    "# TODO fix legend/axis/plot alltogether\n",
    "# Timeseries plt\n",
    "fig, ax = plt.subplots(figsize = (16, 12))\n",
    "plt.plot(wi.date, wi.hospitalizedCurrently/wi.active*100, linewidth=4.7)\n",
    "plt.title('Hospitalization Rate in Wisconsin', fontsize=23)\n",
    "plt.xlabel('Date')\n",
    "plt.ylabel('No. Patients')"
   ]
  },
  {
   "cell_type": "code",
   "execution_count": null,
   "metadata": {},
   "outputs": [],
   "source": [
    "#hide_input\n",
    "# TODO fix legend/axis/plot alltogether\n",
    "# Timeseries plt\n",
    "fig, ax = plt.subplots(figsize = (16, 12))\n",
    "plt.plot(wi.date, wi.death, linewidth=4.7)\n",
    "plt.title('Cummulative Number Killed in Wisconsin', fontsize=23)\n",
    "plt.xlabel('Date')\n",
    "plt.ylabel('No. Killed')"
   ]
  },
  {
   "cell_type": "code",
   "execution_count": null,
   "metadata": {},
   "outputs": [],
   "source": [
    "#hide_input\n",
    "# Checking which cols have NaN values\n",
    "wi[['positive', 'active', 'hospitalizedCurrently', 'inIcuCurrently', 'recovered', 'death', 'hospitalized']]\n",
    "wi.head()\n",
    "\n",
    "# Omit the NaN cols\n",
    "wi = wi[['positive', 'active', 'hospitalizedCurrently', 'inIcuCurrently', 'recovered', 'death']]"
   ]
  },
  {
   "cell_type": "code",
   "execution_count": null,
   "metadata": {},
   "outputs": [],
   "source": [
    "#hide_input\n",
    "# Scatter plots AL\n",
    "# Split dependent var from independent variables\n",
    "target_wi = wi.hospitalizedCurrently\n",
    "indep_var_wi = wi.drop(columns=['hospitalizedCurrently'])\n",
    "\n",
    "fig, ax = plt.subplots(figsize = (16, 16))\n",
    "for i, col in enumerate(indep_var_wi.columns):\n",
    "    ax=fig.add_subplot(2, 3, i+1) \n",
    "    sns.regplot(x=indep_var_wi[col], y=target_wi, data=indep_var_wi, label=col, scatter_kws={'s':10}, line_kws={\"color\": \"plum\"})\n",
    "    plt.suptitle('Distributions of Independent Variables Wisconsin', fontsize=23)\n",
    "plt.tight_layout()\n",
    "fig.subplots_adjust(top=0.95)"
   ]
  },
  {
   "cell_type": "code",
   "execution_count": null,
   "metadata": {},
   "outputs": [],
   "source": [
    "#hide_input\n",
    "###endwisconsin"
   ]
  },
  {
   "cell_type": "markdown",
   "metadata": {},
   "source": [
    "### Wyoming"
   ]
  },
  {
   "cell_type": "code",
   "execution_count": null,
   "metadata": {},
   "outputs": [],
   "source": [
    "#hide_input\n",
    "wy = covid_df.loc[(covid_df['abbrev'] == 'WY') & (covid_df['state']== 'Wyoming')] \n"
   ]
  },
  {
   "cell_type": "code",
   "execution_count": null,
   "metadata": {
    "scrolled": true
   },
   "outputs": [],
   "source": [
    "#hide_input\n",
    "# TODO fix legend/axis/plot alltogether\n",
    "# Timeseries plt\n",
    "fig, ax = plt.subplots(figsize = (16, 12))\n",
    "plt.plot(wy.date, wy.hospitalizedCurrently, linewidth=4.7, color='r')\n",
    "plt.title('Number of Patients in Wyoming Currently Hospitalized', fontsize=23)\n",
    "plt.xlabel('Date')\n",
    "plt.ylabel('No. Patients')"
   ]
  },
  {
   "cell_type": "code",
   "execution_count": null,
   "metadata": {},
   "outputs": [],
   "source": [
    "#hide_input\n",
    "# TODO fix legend/axis/plot alltogether\n",
    "# Timeseries plt\n",
    "fig, ax = plt.subplots(figsize = (16, 12))\n",
    "plt.plot(wy.date, wy.active, linewidth=4.7, color='r')\n",
    "plt.title('Number of Active Positive Cases in Wyoming', fontsize=23)\n",
    "plt.xlabel('Date')\n",
    "plt.ylabel('No. Patients')"
   ]
  },
  {
   "cell_type": "code",
   "execution_count": null,
   "metadata": {},
   "outputs": [],
   "source": [
    "#hide_input\n",
    "# TODO fix legend/axis/plot alltogether\n",
    "# Timeseries plt\n",
    "fig, ax = plt.subplots(figsize = (16, 12))\n",
    "plt.plot(wy.date, wy.hospitalizedCurrently/wy.active*100, linewidth=4.7, color='r')\n",
    "plt.title('Hospitalization Rate in Wyoming', fontsize=23)\n",
    "plt.xlabel('Date')\n",
    "plt.ylabel('No. Patients')"
   ]
  },
  {
   "cell_type": "code",
   "execution_count": null,
   "metadata": {},
   "outputs": [],
   "source": [
    "#hide_input\n",
    "# TODO fix legend/axis/plot alltogether\n",
    "# Timeseries plt\n",
    "fig, ax = plt.subplots(figsize = (16, 12))\n",
    "plt.plot(wy.date, wy.death, linewidth=4.7, color='r')\n",
    "plt.title('Cummulative Number Killed in Wyoming', fontsize=23)\n",
    "plt.xlabel('Date')\n",
    "plt.ylabel('No. Killed')"
   ]
  },
  {
   "cell_type": "code",
   "execution_count": null,
   "metadata": {},
   "outputs": [],
   "source": [
    "#hide_input\n",
    "# Checking which cols have NaN values\n",
    "wy[['positive', 'active', 'hospitalizedCurrently', 'inIcuCurrently', 'recovered', 'death', 'hospitalized']]\n",
    "wy.head()\n",
    "\n",
    "# Omit the NaN cols\n",
    "wy = wy[['positive', 'active', 'hospitalizedCurrently', 'inIcuCurrently', 'recovered', 'death']]"
   ]
  },
  {
   "cell_type": "code",
   "execution_count": null,
   "metadata": {},
   "outputs": [],
   "source": [
    "#hide_input\n",
    "# Scatter plots AL\n",
    "# Split dependent var from independent variables\n",
    "target_wy = wy.hospitalizedCurrently\n",
    "indep_var_wy = wy.drop(columns=['hospitalizedCurrently'])\n",
    "\n",
    "fig, ax = plt.subplots(figsize = (16, 16))\n",
    "for i, col in enumerate(indep_var_wy.columns):\n",
    "    ax=fig.add_subplot(2, 3, i+1) \n",
    "    sns.regplot(x=indep_var_wy[col], y=target_wy, data=indep_var_wy, label=col, scatter_kws={'s':10}, line_kws={\"color\": \"plum\"})\n",
    "    plt.suptitle('Distributions of Independent Variables Wyoming', fontsize=23)\n",
    "plt.tight_layout()\n",
    "fig.subplots_adjust(top=0.95)"
   ]
  },
  {
   "cell_type": "code",
   "execution_count": null,
   "metadata": {},
   "outputs": [],
   "source": [
    "#hide_input\n",
    "###endwyoming"
   ]
  },
  {
   "cell_type": "markdown",
   "metadata": {},
   "source": [
    "## Assessing Correlation of Independent Variables."
   ]
  },
  {
   "cell_type": "code",
   "execution_count": null,
   "metadata": {},
   "outputs": [],
   "source": [
    "#hide_input\n",
    "# TODO add some explanation / look more into collinear variables"
   ]
  },
  {
   "cell_type": "code",
   "execution_count": null,
   "metadata": {},
   "outputs": [],
   "source": [
    "#hide_input\n",
    "# Heatmap of correlations\n",
    "# Save correlations to variable\n",
    "corr = covid_cleaned.corr(method='pearson')\n",
    "# We can create a mask to not show duplicate values\n",
    "mask = np.triu(np.ones_like(corr, dtype=np.bool))\n",
    "# Set up the matplotlib figure\n",
    "fig, ax = plt.subplots(figsize=(16,16))\n",
    "\n",
    "# Generate heatmap\n",
    "sns.heatmap(corr, annot=True, mask=mask, cmap='GnBu', center=0,\n",
    "            square=True, linewidths=.5, cbar_kws={\"shrink\": .5})"
   ]
  },
  {
   "cell_type": "markdown",
   "metadata": {},
   "source": [
    "## Build Model for Dependent Variables\n",
    "- To be used to predict future projections\n"
   ]
  },
  {
   "cell_type": "code",
   "execution_count": null,
   "metadata": {},
   "outputs": [],
   "source": [
    "#hide_input\n",
    "# We compare three models:\n",
    "# - Polynomial Regression\n",
    "# - Linear Regression\n",
    "# - ElasticNet\n",
    "\n",
    "# Copy DFs to not mess up original one\n",
    "# We will use model_df for our regression model\n",
    "model_df = all_cases.copy()\n",
    "\n",
    "# Delete redundant rows\n",
    "for row in ['abbrev', 'bedsPerThousand', 'hospitalized', \n",
    "'state', 'hospitalizedCumulative', 'dataQualityGrade', 'lastUpdateEt']:\n",
    "    del model_df[row]\n",
    "\n",
    "# Drop NaN values for hospitalizedCurrently\n",
    "model_df = model_df.dropna(subset=['hospitalizedCurrently'])\n",
    "\n",
    "# Drop Values with abnormal active-hospitalised ratios (outside Conf. Interval)\n",
    "model_df['ratio_hospital'] = model_df['hospitalizedCurrently'] / model_df['active']\n",
    "model_df = model_df[~(model_df['ratio_hospital'] >= model_df.ratio_hospital.quantile(0.99))]\n",
    "\n",
    "#model_df = model_df[~(model_df['ratio_hospital'] <= model_df['ratio_hospital'].median())]\n",
    "del model_df['ratio_hospital']\n",
    "\n",
    "# Get peek of model to use\n",
    "model_df.describe()"
   ]
  },
  {
   "cell_type": "code",
   "execution_count": null,
   "metadata": {},
   "outputs": [],
   "source": []
  },
  {
   "cell_type": "code",
   "execution_count": null,
   "metadata": {},
   "outputs": [],
   "source": []
  },
  {
   "cell_type": "code",
   "execution_count": null,
   "metadata": {},
   "outputs": [],
   "source": []
  },
  {
   "cell_type": "code",
   "execution_count": null,
   "metadata": {},
   "outputs": [],
   "source": []
  },
  {
   "cell_type": "code",
   "execution_count": null,
   "metadata": {},
   "outputs": [],
   "source": []
  },
  {
   "cell_type": "code",
   "execution_count": null,
   "metadata": {},
   "outputs": [],
   "source": []
  }
 ],
 "metadata": {
  "celltoolbar": "Edit Metadata",
  "kernelspec": {
   "display_name": "Python 3",
   "language": "python",
   "name": "python3"
  },
  "language_info": {
   "codemirror_mode": {
    "name": "ipython",
    "version": 3
   },
   "file_extension": ".py",
   "mimetype": "text/x-python",
   "name": "python",
   "nbconvert_exporter": "python",
   "pygments_lexer": "ipython3",
   "version": "3.7.6"
  }
 },
 "nbformat": 4,
 "nbformat_minor": 2
}
