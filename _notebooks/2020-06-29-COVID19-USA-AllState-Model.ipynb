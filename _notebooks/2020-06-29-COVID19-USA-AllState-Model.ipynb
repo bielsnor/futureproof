{
 "cells": [
  {
   "cell_type": "markdown",
   "metadata": {},
   "source": [
    "# COVID19 Data Models by State\n",
    "\n",
    "- comments: false\n",
    "- author: Ryan Gomez\n",
    "- toc: true\n",
    "- categories: [growth, compare, hospitalizations]\n",
    "- image: images/covid-compare-country-death-hos.png\n",
    "- permalink: /futureproof-COVID19-us-hosp/"
   ]
  },
  {
   "cell_type": "code",
   "execution_count": null,
   "metadata": {},
   "outputs": [],
   "source": [
    "# Imports\n",
    "import os\n",
    "import pandas as pd\n",
    "import csv\n",
    "import kaggle\n",
    "\n",
    "# other imports\n",
    "import numpy as np \n",
    "import matplotlib.pyplot as plt\n",
    "from sklearn.model_selection import train_test_split\n",
    "from sklearn.model_selection import GridSearchCV\n",
    "from sklearn.linear_model import ElasticNet\n",
    "from sklearn.linear_model import LinearRegression\n",
    "from sklearn.preprocessing import PolynomialFeatures\n",
    "from sklearn.metrics import mean_squared_error, mean_absolute_error, classification_report\n",
    "from sklearn.utils.testing import ignore_warnings\n",
    "from sklearn.exceptions import ConvergenceWarning\n",
    "from copy import copy\n",
    "import seaborn as sns\n",
    "from scipy.stats import norm\n",
    "import matplotlib.dates as mdates\n",
    "# import matplotlib.colors as mcolors\n",
    "# import random\n",
    "# import math\n",
    "# import time\n",
    "# from sklearn.linear_model import LinearRegression, BayesianRidge\n",
    "# from sklearn.model_selection import RandomizedSearchCV\n",
    "from sklearn.tree import DecisionTreeRegressor\n",
    "# from sklearn.svm import SVR\n",
    "from datetime import date, datetime\n",
    "from dateutil.parser import parse\n",
    "import us\n",
    "# import operator \n",
    "# plt.style.use('fivethirtyeight')\n",
    "import plotly.graph_objects as go\n",
    "from plotly.subplots import make_subplots\n",
    "%matplotlib inline "
   ]
  },
  {
   "cell_type": "markdown",
   "metadata": {},
   "source": [
    "# Covid Tracking Dataset (w/ hospitalised data)\n",
    "\n",
    "Source: https://covidtracking.com/"
   ]
  },
  {
   "cell_type": "markdown",
   "metadata": {},
   "source": [
    "## Load and Clean the Data"
   ]
  },
  {
   "cell_type": "code",
   "execution_count": null,
   "metadata": {},
   "outputs": [],
   "source": [
    "all_cases = pd.read_csv('https://covidtracking.com/api/v1/states/daily.csv')\n",
    "\n",
    "# Delete unecessary rows\n",
    "for row in ['negative', 'pending', 'hash', 'negativeIncrease', 'totalTestResults', 'totalTestResultsIncrease', 'dateChecked', 'fips', 'inIcuCumulative', 'onVentilatorCumulative', 'total', 'posNeg', 'deathIncrease', 'hospitalizedIncrease', 'positiveIncrease']:\n",
    "    del all_cases[row]\n",
    "\n",
    "# TODO missing values\n",
    "#      Do we get avg or missing values, or predict them?\n",
    "#      See https://developerzen.com/data-mining-handling-missing-values-the-database-bd2241882e72\n",
    "\n",
    "for i, row in all_cases.iterrows():\n",
    "    # Set Dates\n",
    "    s = str(row['date'])\n",
    "    all_cases.at[i, 'date'] = date(year=int(s[0:4]), month=int(s[4:6]), day=int(s[6:8]))\n",
    "\n",
    "# Missing death figures means no death reports yet\n",
    "# These are set to 0\n",
    "for i, row in all_cases.iterrows():\n",
    "    if np.isnan(row['death']):\n",
    "        all_cases.at[i, 'death'] = 0"
   ]
  },
  {
   "cell_type": "markdown",
   "metadata": {},
   "source": [
    "## Missing values: Retrieving from other datasets or through merging columns (or both)\n",
    "\n",
    "The following will be done:\n",
    "- **Active Cases**: Retrieved from JHU dataset and calculating $active = pos-dead-recovered$\n",
    "- **Beds per State**: Retrieved from External Datasets"
   ]
  },
  {
   "cell_type": "code",
   "execution_count": null,
   "metadata": {},
   "outputs": [],
   "source": [
    "# TODO Replace active cases with JHU and/or regression model (Selma)\n",
    "all_cases['active'] = all_cases['positive'] - all_cases['recovered'] - all_cases['death']\n",
    "# change location of 'active' column\n",
    "cols = list(all_cases)\n",
    "cols.insert(3, cols.pop(cols.index('active')))\n",
    "all_cases = all_cases.loc[:, cols]"
   ]
  },
  {
   "cell_type": "code",
   "execution_count": null,
   "metadata": {},
   "outputs": [],
   "source": [
    "# Load datasets for US population and Hospital beds per 1000\n",
    "us_population = pd.read_csv('data/us_population.csv')\n",
    "hosp_beds = pd.read_csv('data/hospital_beds.csv')\n",
    "state_abbrev = pd.read_csv('data/us_state_names.csv')\n",
    "\n",
    "# add state abbreviations to us_population and hospital beds dataframe\n",
    "for state in state_abbrev['State'].tolist():\n",
    "    # store state abbreviation in variable\n",
    "    abbrev = state_abbrev.loc[state_abbrev['State'] == state, 'Abbreviation'].tolist()[0]\n",
    "    # add abbrev to new column 'Abbreviation' in us_population df\n",
    "    us_population.loc[us_population['State'] == state, 'Abbreviation'] = abbrev\n",
    "    # add abbrev to new column in hosp_beds df\n",
    "    hosp_beds.loc[hosp_beds['Location'] == state, 'Abbreviation'] = abbrev\n",
    "    \n",
    "# change order of columns of us_population\n",
    "cols = list(us_population)\n",
    "cols.insert(2, cols.pop(cols.index('Abbreviation')))\n",
    "us_population = us_population.loc[:, cols]\n",
    "\n",
    "# drop unnecessary columns of us_population\n",
    "us_population = us_population.drop(columns=['rank', 'Growth', 'Pop2018', 'Pop2010', 'growthSince2010', 'Percent', 'density'])\n",
    "\n",
    "# drop unnecessary columns of hosp_beds\n",
    "hosp_beds = hosp_beds.drop(columns=['Location', 'State/Local Government', 'Non-Profit', 'For-Profit'])\n",
    "\n",
    "# change order of columns of hosp_beds\n",
    "cols = list(hosp_beds)\n",
    "cols.insert(0, cols.pop(cols.index('Abbreviation')))\n",
    "hosp_beds = hosp_beds.loc[:, cols]"
   ]
  },
  {
   "cell_type": "code",
   "execution_count": null,
   "metadata": {},
   "outputs": [],
   "source": [
    "us_population.head()"
   ]
  },
  {
   "cell_type": "code",
   "execution_count": null,
   "metadata": {},
   "outputs": [],
   "source": [
    "hosp_beds.head()"
   ]
  },
  {
   "cell_type": "code",
   "execution_count": null,
   "metadata": {},
   "outputs": [],
   "source": [
    "# filter out non-existing states like 'AS'\n",
    "all_cases = all_cases[all_cases['state'].isin(state_abbrev['Abbreviation'].tolist())]"
   ]
  },
  {
   "cell_type": "code",
   "execution_count": null,
   "metadata": {},
   "outputs": [],
   "source": [
    "# see what filtered dataframe looks like\n",
    "all_cases.head()"
   ]
  },
  {
   "cell_type": "code",
   "execution_count": null,
   "metadata": {},
   "outputs": [],
   "source": [
    "# Split dataframes by date\n",
    "df_split_by_date = dict(tuple(all_cases.groupby('date')))\n",
    "\n",
    "# Split dataframes by state\n",
    "df_split_by_state = dict(tuple(all_cases.groupby('state')))"
   ]
  },
  {
   "cell_type": "code",
   "execution_count": null,
   "metadata": {},
   "outputs": [],
   "source": [
    "# merge dataframes us_population and all_cases\n",
    "df_merge_uspop = all_cases.merge(us_population, how='left', left_on='state', right_on='Abbreviation')\n",
    "df_merge_uspop = df_merge_uspop.drop(columns=['Abbreviation'])\n",
    "df_merge_uspop = df_merge_uspop.rename(columns={'Pop': 'population'})\n",
    "\n",
    "# change location of 'population' column\n",
    "cols = list(df_merge_uspop)\n",
    "cols.insert(2, cols.pop(cols.index('population')))\n",
    "df_merge_uspop = df_merge_uspop.loc[:, cols]\n",
    "\n",
    "# merge dataframes hosp_beds and df_merge_uspop\n",
    "df_merge_hosp = df_merge_uspop.merge(hosp_beds, how='left', left_on='state', right_on='Abbreviation')\n",
    "df_merge_hosp = df_merge_hosp.drop(columns=['Abbreviation'])\n",
    "all_cases = df_merge_hosp.rename(columns={'Total': 'bedsPerThousand'})"
   ]
  },
  {
   "cell_type": "code",
   "execution_count": null,
   "metadata": {},
   "outputs": [],
   "source": [
    "all_cases.head()"
   ]
  },
  {
   "cell_type": "code",
   "execution_count": null,
   "metadata": {},
   "outputs": [],
   "source": [
    "# Calculate the total beds, and add the column\n",
    "all_cases['total_beds'] = all_cases['population'] / 1000 * all_cases['bedsPerThousand']"
   ]
  },
  {
   "cell_type": "code",
   "execution_count": null,
   "metadata": {},
   "outputs": [],
   "source": [
    "# change abbreviations to state names\n",
    "all_cases = all_cases.rename(columns={'state': 'abbrev'})\n",
    "all_cases = all_cases.rename(columns={'State': 'state'})"
   ]
  },
  {
   "cell_type": "code",
   "execution_count": null,
   "metadata": {},
   "outputs": [],
   "source": [
    "# change location of 'state' column\n",
    "cols = list(all_cases)\n",
    "cols.insert(1, cols.pop(cols.index('state')))\n",
    "all_cases = all_cases.loc[:, cols]"
   ]
  },
  {
   "cell_type": "code",
   "execution_count": null,
   "metadata": {},
   "outputs": [],
   "source": [
    "all_cases.head()"
   ]
  },
  {
   "cell_type": "markdown",
   "metadata": {},
   "source": [
    "- Load and clean JHU data\n",
    "- Merge JHU dataset with main dataset"
   ]
  },
  {
   "cell_type": "code",
   "execution_count": null,
   "metadata": {},
   "outputs": [],
   "source": [
    "# This cell takes some time, as it needs to connect to Kaggle Servers to retrieve data\n",
    "kaggle.api.authenticate()\n",
    "kaggle.api.dataset_download_files('benhamner/jhucovid19', path='./kaggle/input/jhucovid19/', unzip=True)"
   ]
  },
  {
   "cell_type": "code",
   "execution_count": null,
   "metadata": {
    "tags": []
   },
   "outputs": [],
   "source": [
    "# Get Time-Series Data of cases as Pandas DataFrame\n",
    "dir_jhu = './kaggle/input/jhucovid19/csse_covid_19_data/csse_covid_19_daily_reports'\n",
    "\n",
    "df_list = []\n",
    "for dirname, _, files in os.walk(dir_jhu):\n",
    "    for file in files:\n",
    "        if 'gitignore' not in file and 'README' not in file:\n",
    "            full_dir = os.path.join(dirname, file)\n",
    "            df_list.append(pd.read_csv(full_dir))\n",
    "            \n",
    "jhu_df = pd.concat(df_list, axis=0, ignore_index=True, sort=True)\n",
    "\n",
    "# convert Last Update columns to datetime format\n",
    "jhu_df.loc[:, 'Last Update'] = pd.to_datetime(jhu_df['Last Update']).apply(lambda x: x.date())\n",
    "jhu_df.loc[:, 'Last_Update'] = pd.to_datetime(jhu_df['Last_Update']).apply(lambda x: x.date())\n",
    "\n",
    "# Combine Last Update with Last_Update\n",
    "jhu_df['LastUpdate'] = jhu_df['Last_Update'].combine_first(jhu_df['Last Update'])\n",
    "\n",
    "# Combine Country/Region with Country_Region\n",
    "jhu_df['CountryRegion'] = jhu_df['Country/Region'].combine_first(jhu_df['Country_Region'])\n",
    "\n",
    "# Retrieve only US data\n",
    "jhu_df = jhu_df[jhu_df['CountryRegion']=='US']\n",
    "\n",
    "# Combine Province/State with Province_State\n",
    "jhu_df['ProvinceState'] = jhu_df['Province/State'].combine_first(jhu_df['Province_State'])\n",
    "\n",
    "# Drop unnecessary columns\n",
    "jhu_df = jhu_df.drop(['Admin2', 'Lat', 'Latitude', 'Long_', 'Longitude', 'Combined_Key', 'Country/Region',\n",
    "                      'Country_Region', 'Province/State', 'Province_State',\n",
    "                      'Last Update', 'Last_Update', 'FIPS'], axis=1)\n",
    "\n",
    "# Change column order\n",
    "cols = list(jhu_df)\n",
    "cols.insert(0, cols.pop(cols.index('CountryRegion')))\n",
    "cols.insert(1, cols.pop(cols.index('ProvinceState')))\n",
    "cols.insert(2, cols.pop(cols.index('LastUpdate')))\n",
    "jhu_df = jhu_df.loc[:, cols]\n",
    "\n",
    "# Change region to known US states\n",
    "state_abbrs_dict = {}\n",
    "for state in us.states.STATES:\n",
    "    state_abbrs_dict[state.abbr] = state.name\n",
    "\n",
    "def toState(input_state, mapping):\n",
    "    abbreviation = input_state.rstrip()[-2:]\n",
    "    try:\n",
    "        return_value = mapping[abbreviation]\n",
    "    except KeyError:\n",
    "        return_value = input_state\n",
    "    return return_value\n",
    "\n",
    "jhu_df['ProvinceState'] = jhu_df['ProvinceState'].apply(lambda x: toState(x, state_abbrs_dict) if x != 'Washington, D.C.' else 'District of Columbia')\n",
    "\n",
    "# Filter out unknown states\n",
    "jhu_df = jhu_df[jhu_df['ProvinceState'].isin(all_cases.state.unique().tolist())]\n",
    "\n",
    "# Merge-sum rows with same date and State\n",
    "jhu_df = jhu_df.groupby(['LastUpdate', 'ProvinceState']).agg(\n",
    "    {\n",
    "        'Active': sum,\n",
    "        'Confirmed': sum,\n",
    "        'Deaths': sum,\n",
    "        'Recovered': sum\n",
    "    }\n",
    ").reset_index()\n",
    "\n",
    "jhu_df.tail()"
   ]
  },
  {
   "cell_type": "code",
   "execution_count": null,
   "metadata": {},
   "outputs": [],
   "source": [
    "# Now that we have the JHU dataset relatively cleaned\n",
    "# we can go ahead and merge its data with our main dataset\n",
    "\n",
    "for i, row in all_cases.iterrows():\n",
    "    last_update = all_cases.at[i, 'date']\n",
    "    state = all_cases.at[i, 'state']\n",
    "    matching_row = jhu_df[jhu_df['ProvinceState'] == state]\n",
    "    matching_row = matching_row[matching_row['LastUpdate'] == last_update].reset_index()\n",
    "\n",
    "    if len(matching_row.values) > 0:\n",
    "        #all_cases.at[i, 'positive'] = matching_row['Confirmed'].values[0]\n",
    "        all_cases.at[i, 'active'] = matching_row['Active'].values[0]\n",
    "        #all_cases.at[i, 'recovered'] = matching_row['Recovered'].values[0]   --- JHU was inconsistent, therefore removed\n",
    "        #all_cases.at[i, 'death'] = matching_row['Deaths'].values[0]\n",
    "\n",
    "    # Replace unknown recovery numbers with 0\n",
    "    if np.isnan(row['recovered']):\n",
    "        all_cases.at[i, 'recovered'] = 0\n",
    "\n",
    "    if all_cases.at[i, 'active'] == 0 or np.isnan(row['active']):\n",
    "        positive = all_cases.at[i, 'positive']\n",
    "        recovered = all_cases.at[i, 'recovered']\n",
    "        dead = all_cases.at[i, 'death']\n",
    "        all_cases.at[i, 'active'] = positive - recovered - dead\n",
    "\n",
    "all_cases.tail()"
   ]
  },
  {
   "cell_type": "code",
   "execution_count": null,
   "metadata": {},
   "outputs": [],
   "source": [
    "# Save formatted dataset offline in case of disaster\n",
    "dataset_file = 'results/all_cases.csv'\n",
    "all_cases.to_csv(dataset_file)"
   ]
  },
  {
   "cell_type": "code",
   "execution_count": null,
   "metadata": {},
   "outputs": [],
   "source": [
    "# convert date to datetime format\n",
    "all_cases['date'] = pd.to_datetime(all_cases['date'])"
   ]
  },
  {
   "cell_type": "markdown",
   "metadata": {},
   "source": [
    "# An Exploratory data analysis of the US dataset\n",
    "# Basic triad of the dataset: validating data types and data integrity of each row\n"
   ]
  },
  {
   "cell_type": "code",
   "execution_count": null,
   "metadata": {},
   "outputs": [],
   "source": [
    "dataset_file = 'results/all_cases.csv'\n",
    "covid_df = pd.read_csv(dataset_file, index_col=0) \n",
    "# convert date to datetime format\n",
    "covid_df['date'] = pd.to_datetime(covid_df['date'])\n",
    "covid_df.info()\n",
    "# set float format to 3 decimals\n",
    "pd.set_option('display.float_format', lambda x: '%.3f' % x)"
   ]
  },
  {
   "cell_type": "code",
   "execution_count": null,
   "metadata": {},
   "outputs": [],
   "source": [
    "covid_df.head()"
   ]
  },
  {
   "cell_type": "markdown",
   "metadata": {},
   "source": [
    "The NaN values may indicate that there were no to few Covid-19 patients at these date points.\n",
    "We further analyse the statistical values of the dataset columns to ensure data integrity and accuracy. "
   ]
  },
  {
   "cell_type": "code",
   "execution_count": null,
   "metadata": {},
   "outputs": [],
   "source": [
    "covid_df.describe()\n",
    "# TODO rounding up the numbers"
   ]
  },
  {
   "cell_type": "code",
   "execution_count": null,
   "metadata": {},
   "outputs": [],
   "source": [
    "# drop unnecessary columns\n",
    "covid_cleaned = covid_df.drop(['hospitalized', 'bedsPerThousand'], axis=1)\n",
    "covid_100k = covid_cleaned.copy()\n",
    "# list of columns to transform to per 100k\n",
    "columns_list = ['positive', 'active', 'recovered', 'death', 'hospitalizedCurrently', 'hospitalizedCumulative', 'inIcuCurrently', 'onVentilatorCurrently', 'total_beds']\n",
    "# add columns per 100k\n",
    "for column in columns_list:\n",
    "    if column == 'total_beds':\n",
    "        covid_100k['BedsPer100k'.format(column)] = (covid_cleaned.loc[:, column] / covid_cleaned.loc[:, 'population']) * 100000\n",
    "    else:\n",
    "        covid_100k['{}_100k'.format(column)] = (covid_cleaned.loc[:, column] / covid_cleaned.loc[:, 'population']) * 100000\n",
    "\n",
    "covid_100k = covid_100k.drop(columns_list, axis=1)"
   ]
  },
  {
   "cell_type": "code",
   "execution_count": null,
   "metadata": {},
   "outputs": [],
   "source": [
    "covid_100k['date'] = pd.to_datetime(covid_100k['date'])\n",
    "start_date = '2020-04-18'\n",
    "end_date = '2020-05-19'\n",
    "mask = (covid_100k['date'] > start_date) & (covid_100k['date'] <= end_date)\n",
    "covid_100k_last_month = covid_100k.loc[mask]"
   ]
  },
  {
   "cell_type": "code",
   "execution_count": null,
   "metadata": {},
   "outputs": [],
   "source": [
    "covid_100k_last_month_part1 =  covid_100k_last_month.groupby('date').sum().loc[:, ['positive_100k','active_100k','recovered_100k','death_100k','hospitalizedCumulative_100k']].diff(periods=1, axis=0)\n",
    "\n",
    "covid_100k_last_month_part2 = covid_100k_last_month.groupby('date').sum().loc[:, ['inIcuCurrently_100k','onVentilatorCurrently_100k','BedsPer100k']]\n",
    "\n",
    "final_100k_last_month = covid_100k_last_month_part1.merge(covid_100k_last_month_part2, left_index=True, right_index=True)"
   ]
  },
  {
   "cell_type": "code",
   "execution_count": null,
   "metadata": {},
   "outputs": [],
   "source": [
    "final_100k_last_month.head()"
   ]
  },
  {
   "cell_type": "code",
   "execution_count": null,
   "metadata": {},
   "outputs": [],
   "source": [
    "final_100k_last_month.describe()"
   ]
  },
  {
   "cell_type": "code",
   "execution_count": null,
   "metadata": {},
   "outputs": [],
   "source": [
    "# save description cleaned dataset to csv\n",
    "describe_file = 'results/final_100k_last_month.csv'\n",
    "final_100k_last_month.describe().to_csv(describe_file)"
   ]
  },
  {
   "cell_type": "markdown",
   "metadata": {},
   "source": [
    "## Graphical Exploratory Analysis\n",
    "\n",
    "Plotting histograms, scatterplots and boxplots to assess the distribution of the entire US dataset. "
   ]
  },
  {
   "cell_type": "code",
   "execution_count": null,
   "metadata": {},
   "outputs": [],
   "source": [
    "# Omitting the categorical (states/abbreviations) and time columns \n",
    "# There must be an easier way for you, but this was the easiest way I could think of\n",
    "covid_cleaned['date'] = pd.to_datetime(covid_cleaned['date'])\n",
    "# mask data for last month\n",
    "start_date = '2020-04-18'\n",
    "end_date = '2020-05-19'\n",
    "mask = (covid_cleaned['date'] > start_date) & (covid_cleaned['date'] <= end_date)\n",
    "covid_cleaned_last_month = covid_cleaned.loc[mask]\n",
    "plot_df = covid_cleaned_last_month[['population', 'active', 'recovered', 'death', 'hospitalizedCurrently', 'inIcuCurrently', 'onVentilatorCurrently', 'total_beds']]\n",
    "plot_df_last_month = covid_100k_last_month[['population', 'active_100k', 'recovered_100k', 'death_100k', 'hospitalizedCurrently_100k', 'inIcuCurrently_100k', 'onVentilatorCurrently_100k', 'BedsPer100k']]"
   ]
  },
  {
   "cell_type": "code",
   "execution_count": null,
   "metadata": {},
   "outputs": [],
   "source": [
    "timeseries_usa_df = covid_100k.loc[:, ['date', 'positive_100k', 'active_100k', 'recovered_100k', 'death_100k', 'hospitalizedCurrently_100k', 'inIcuCurrently_100k', 'onVentilatorCurrently_100k', 'BedsPer100k']].groupby('date').sum().reset_index()\n",
    "# timeseries_usa_df['log_positive'] = np.log(timeseries_usa_df['positive_100k'])\n",
    "# timeseries_usa_df['log_active'] = np.log(timeseries_usa_df['active_100k'])\n",
    "# timeseries_usa_df['log_recovered'] = np.log(timeseries_usa_df['recovered_100k'])\n",
    "# timeseries_usa_df['log_death'] = np.log(timeseries_usa_df['death_100k'])"
   ]
  },
  {
   "cell_type": "code",
   "execution_count": null,
   "metadata": {
    "scrolled": true
   },
   "outputs": [],
   "source": [
    "timeseries_usa_df.tail()"
   ]
  },
  {
   "cell_type": "code",
   "execution_count": null,
   "metadata": {},
   "outputs": [],
   "source": [
    "# get data from last day\n",
    "# plot_df_last_date = plot_df.loc[covid_df['date'] == '2020-05-18'] \n",
    "\n",
    "# Plotting histograms to gain insight of the distribution shape, skewness and scale\n",
    "fig, axs = plt.subplots(4,2,figsize = (16, 16))\n",
    "sns.set()\n",
    "for i, column in enumerate(plot_df_last_month.columns):\n",
    "    if (i + 1) % 2 == 0:\n",
    "        ax = axs[(i//2), 1]\n",
    "    else:\n",
    "        ax = axs[(i//2), 0]\n",
    "    sns.distplot(plot_df_last_month[column], fit=norm, fit_kws=dict(label='normality'), hist_kws=dict(color='plum', edgecolor='k', linewidth=1, label='frequency'), ax=ax, color='#9d53ad')\n",
    "    ax.legend(loc='upper right')\n",
    "plt.tight_layout()\n",
    "fig.subplots_adjust(top=0.95)"
   ]
  },
  {
   "cell_type": "code",
   "execution_count": null,
   "metadata": {},
   "outputs": [],
   "source": [
    "# Looking at linearity and variance with scatterplots\n",
    "# Removing the target variable and saving it in another df\n",
    "target = plot_df.hospitalizedCurrently\n",
    "indep_var = plot_df.drop(columns=['hospitalizedCurrently'])\n",
    "\n",
    "fig, ax = plt.subplots(figsize = (16, 16))\n",
    "for i, col in enumerate(indep_var.columns):\n",
    "    ax=fig.add_subplot(4, 3, i+1) \n",
    "    sns.regplot(x=indep_var[col], y=target, data=indep_var, label=col, scatter_kws={'s':10}, line_kws={\"color\": \"plum\", 'label': 'hospitCurr'})\n",
    "    plt.suptitle('Scatterplots with Target Hospitalized Patients Showing Growth Trajectories', fontsize=23)\n",
    "    plt.legend()\n",
    "plt.tight_layout()\n",
    "fig.subplots_adjust(top=0.95)"
   ]
  },
  {
   "cell_type": "code",
   "execution_count": null,
   "metadata": {},
   "outputs": [],
   "source": [
    "# Assessing the normality of the distribution with a boxplot\n",
    "# Boxplot with removed outliers\n",
    "fig, ax = plt.subplots(figsize = (16, 12))\n",
    "for i, col in enumerate(plot_df.columns):\n",
    "    ax=fig.add_subplot(4, 3, i+1) \n",
    "    sns.boxplot(x=plot_df[col], data=plot_df, color='lightblue', showfliers=False)\n",
    "    plt.suptitle('Boxplots of Independent Variables', fontsize=23)\n",
    "plt.tight_layout()\n",
    "fig.subplots_adjust(top=0.95)"
   ]
  },
  {
   "cell_type": "code",
   "execution_count": null,
   "metadata": {},
   "outputs": [],
   "source": [
    "# get data from last day\n",
    "plot_df_last_date = plot_df.loc[covid_df['date'] == '2020-05-18'] \n",
    "\n",
    "fig, ax = plt.subplots(figsize = (16, 12))\n",
    "for i, col in enumerate(plot_df_last_date.columns):\n",
    "    ax=fig.add_subplot(4, 3, i+1) \n",
    "    sns.boxplot(x=plot_df_last_date[col], data=plot_df, color='lightblue', showfliers=True)\n",
    "    plt.suptitle('Boxplots of Independent Variables', fontsize=23)\n",
    "plt.tight_layout()\n",
    "fig.subplots_adjust(top=0.95)"
   ]
  },
  {
   "cell_type": "markdown",
   "metadata": {},
   "source": [
    "## Analysis of Hospitalizations by State\n",
    "### Since the normality of the independent variables is highly variable do to temporal and precision differences from each state, we further assess each state's data by viewing trends on the independent variables in both scatter and box-and-whisker plots.  \n"
   ]
  },
  {
   "cell_type": "markdown",
   "metadata": {},
   "source": [
    "### New York:"
   ]
  },
  {
   "cell_type": "code",
   "execution_count": null,
   "metadata": {},
   "outputs": [],
   "source": [
    "# Split covid_df into subset with only NY values\n",
    "new_york = covid_df.loc[covid_df['abbrev'] == 'NY'] \n",
    "fig, ax = plt.subplots(figsize = (16, 12))\n",
    "# Timeseries plt\n",
    "plt.plot(new_york.date, new_york.hospitalizedCurrently, linewidth=3.3)\n",
    "plt.title('Number of Patients in NY Currently Hospitalized', fontsize=23)\n",
    "plt.xlabel('Date')\n",
    "plt.ylabel('No. Patients')"
   ]
  },
  {
   "cell_type": "code",
   "execution_count": null,
   "metadata": {},
   "outputs": [],
   "source": [
    "# Omit the categorical and date cols \n",
    "new_york = new_york[['positive', 'active', 'hospitalizedCurrently', 'hospitalizedCumulative', 'inIcuCurrently', 'recovered', 'death', 'hospitalized']]"
   ]
  },
  {
   "cell_type": "code",
   "execution_count": null,
   "metadata": {
    "scrolled": true
   },
   "outputs": [],
   "source": [
    "# Scatter plots NY\n",
    "# Split dependent var from independent variables\n",
    "target_ny = new_york.hospitalizedCurrently\n",
    "indep_var_ny = new_york.drop(columns=['hospitalizedCurrently'])\n",
    "\n",
    "fig, ax = plt.subplots(figsize = (16, 16))\n",
    "for i, col in enumerate(indep_var_ny.columns):\n",
    "    ax=fig.add_subplot(3, 3, i+1) \n",
    "    sns.regplot(x=indep_var_ny[col], y=target_ny, data=indep_var_ny, label=col, scatter_kws={'s':10}, line_kws={\"color\": \"plum\"})\n",
    "    plt.suptitle('Distributions of Independent Variables NY', fontsize=23)\n",
    "plt.tight_layout()\n",
    "fig.subplots_adjust(top=0.95)\n"
   ]
  },
  {
   "cell_type": "code",
   "execution_count": null,
   "metadata": {},
   "outputs": [],
   "source": [
    "# Boxplot of NY\n",
    "fig, ax = plt.subplots(figsize = (16, 16))\n",
    "for i, col in enumerate(new_york.columns):\n",
    "    ax=fig.add_subplot(3, 3, i+1) \n",
    "    sns.boxplot(x=new_york[col], data=new_york, color='lightpink', showfliers=True)\n",
    "    plt.suptitle('Boxplots of Independent Variables NY', fontsize=23)\n",
    "plt.tight_layout()\n",
    "fig.subplots_adjust(top=0.95)"
   ]
  },
  {
   "cell_type": "markdown",
   "metadata": {},
   "source": [
    "### END New York:"
   ]
  },
  {
   "cell_type": "markdown",
   "metadata": {},
   "source": [
    "### Alabama:"
   ]
  },
  {
   "cell_type": "code",
   "execution_count": null,
   "metadata": {},
   "outputs": [],
   "source": [
    "bama = covid_df.loc[(covid_df['abbrev'] == 'AL') & (covid_df['state']== 'Alabama')] \n"
   ]
  },
  {
   "cell_type": "code",
   "execution_count": null,
   "metadata": {},
   "outputs": [],
   "source": [
    "# TODO fix legend/axis/plot alltogether\n",
    "# Timeseries plt\n",
    "fig, ax = plt.subplots(figsize = (16, 12))\n",
    "plt.plot(bama.date, bama.hospitalizedCurrently, linewidth=4.7, color='r')\n",
    "plt.title('Number of Patients in Alabama Currently Hospitalized', fontsize=23)\n",
    "plt.xlabel('Date')\n",
    "plt.ylabel('No. Patients')"
   ]
  },
  {
   "cell_type": "code",
   "execution_count": null,
   "metadata": {},
   "outputs": [],
   "source": [
    "# Checking which cols have NaN values\n",
    "bama[['positive', 'active', 'hospitalizedCurrently', 'inIcuCurrently', 'recovered', 'death', 'hospitalized']]\n",
    "bama.head()\n",
    "\n",
    "# Omit the NaN cols\n",
    "bama = bama[['positive', 'active', 'hospitalizedCurrently', 'inIcuCurrently', 'recovered', 'death']]"
   ]
  },
  {
   "cell_type": "code",
   "execution_count": null,
   "metadata": {},
   "outputs": [],
   "source": [
    "# Scatter plots AL\n",
    "# Split dependent var from independent variables\n",
    "target_al = bama.hospitalizedCurrently\n",
    "indep_var_al = bama.drop(columns=['hospitalizedCurrently'])\n",
    "\n",
    "fig, ax = plt.subplots(figsize = (16, 16))\n",
    "for i, col in enumerate(indep_var_al.columns):\n",
    "    ax=fig.add_subplot(2, 3, i+1) \n",
    "    sns.regplot(x=indep_var_al[col], y=target_al, data=indep_var_al, label=col, scatter_kws={'s':10}, line_kws={\"color\": \"plum\"})\n",
    "    plt.suptitle('Distributions of Independent Variables Alabama', fontsize=18)\n",
    "plt.tight_layout()\n",
    "fig.subplots_adjust(top=0.95)"
   ]
  },
  {
   "cell_type": "code",
   "execution_count": null,
   "metadata": {
    "scrolled": true
   },
   "outputs": [],
   "source": [
    "# Boxplot of AL\n",
    "fig, ax = plt.subplots(figsize = (16, 16))\n",
    "for i, col in enumerate(bama.columns):\n",
    "    ax=fig.add_subplot(3, 3, i+1) \n",
    "    sns.boxplot(x=bama[col], data=bama, color='lightpink', showfliers=True)\n",
    "    plt.suptitle('Boxplots of Independent Variables Alabama', fontsize=18)\n",
    "plt.tight_layout()\n",
    "fig.subplots_adjust(top=0.95)"
   ]
  },
  {
   "cell_type": "code",
   "execution_count": null,
   "metadata": {},
   "outputs": [],
   "source": [
    "###endalabama"
   ]
  },
  {
   "cell_type": "markdown",
   "metadata": {},
   "source": [
    "### Arizona:"
   ]
  },
  {
   "cell_type": "code",
   "execution_count": null,
   "metadata": {},
   "outputs": [],
   "source": [
    "arizona = covid_df.loc[(covid_df['abbrev'] == 'AZ') & (covid_df['state']== 'Arizona')] \n"
   ]
  },
  {
   "cell_type": "code",
   "execution_count": null,
   "metadata": {},
   "outputs": [],
   "source": [
    "# TODO fix legend/axis/plot alltogether\n",
    "# Timeseries plt\n",
    "fig, ax = plt.subplots(figsize = (16, 12))\n",
    "plt.plot(arizona.date, arizona.hospitalizedCurrently, linewidth=4.7, color='r')\n",
    "plt.title('Number of Patients in Arizona Currently Hospitalized', fontsize=23)\n",
    "plt.xlabel('Date')\n",
    "plt.ylabel('No. Patients')"
   ]
  },
  {
   "cell_type": "code",
   "execution_count": null,
   "metadata": {
    "scrolled": true
   },
   "outputs": [],
   "source": [
    "# TODO fix legend/axis/plot alltogether\n",
    "# Timeseries plt\n",
    "fig, ax = plt.subplots(figsize = (16, 12))\n",
    "plt.plot(arizona.date, arizona.inIcuCurrently, linewidth=4.7, color='r')\n",
    "plt.title('Number of Patients in Arizona Currently Hospitalized in ICU', fontsize=23)\n",
    "plt.xlabel('Date')\n",
    "plt.ylabel('No. Patients')"
   ]
  },
  {
   "cell_type": "code",
   "execution_count": null,
   "metadata": {
    "scrolled": true
   },
   "outputs": [],
   "source": [
    "# TODO fix legend/axis/plot alltogether\n",
    "# Timeseries plt\n",
    "fig, ax = plt.subplots(figsize = (16, 12))\n",
    "plt.plot(arizona.date, arizona.onVentilatorCurrently, linewidth=4.7, color='r')\n",
    "plt.title('Number of Patients in Arizona Currently on Ventilator', fontsize=23)\n",
    "plt.xlabel('Date')\n",
    "plt.ylabel('No. Patients')"
   ]
  },
  {
   "cell_type": "code",
   "execution_count": null,
   "metadata": {},
   "outputs": [],
   "source": [
    "# Checking which cols have NaN values\n",
    "arizona[['positive', 'active', 'hospitalizedCurrently', 'inIcuCurrently', 'recovered', 'death', 'hospitalized']]\n",
    "arizona.head()\n",
    "\n",
    "# Omit the NaN cols\n",
    "arizona = arizona[['positive', 'active', 'hospitalizedCurrently', 'inIcuCurrently', 'recovered', 'death']]"
   ]
  },
  {
   "cell_type": "code",
   "execution_count": null,
   "metadata": {
    "scrolled": true
   },
   "outputs": [],
   "source": [
    "# Scatter plots AZ\n",
    "# Split dependent var from independent variables\n",
    "target_az = arizona.hospitalizedCurrently\n",
    "indep_var_az = arizona.drop(columns=['hospitalizedCurrently'])\n",
    "\n",
    "fig, ax = plt.subplots(figsize = (16, 16))\n",
    "for i, col in enumerate(indep_var_az.columns):\n",
    "    ax=fig.add_subplot(2, 3, i+1) \n",
    "    sns.regplot(x=indep_var_az[col], y=target_az, data=indep_var_az, label=col, scatter_kws={'s':10}, line_kws={\"color\": \"plum\"})\n",
    "    plt.suptitle('Distributions of Independent Variables Arizona', fontsize=23)\n",
    "plt.tight_layout()\n",
    "fig.subplots_adjust(top=0.95)"
   ]
  },
  {
   "cell_type": "code",
   "execution_count": null,
   "metadata": {},
   "outputs": [],
   "source": [
    "# Boxplot of AZ\n",
    "fig, ax = plt.subplots(figsize = (16, 16))\n",
    "for i, col in enumerate(arizona.columns):\n",
    "    ax=fig.add_subplot(3, 3, i+1) \n",
    "    sns.boxplot(x=arizona[col], data=arizona, color='lightpink', showfliers=True)\n",
    "    plt.suptitle('Boxplots of Independent Variables Arizona', fontsize=23)\n",
    "plt.tight_layout()\n",
    "fig.subplots_adjust(top=0.95)"
   ]
  },
  {
   "cell_type": "code",
   "execution_count": null,
   "metadata": {},
   "outputs": [],
   "source": [
    "###endarizona"
   ]
  },
  {
   "cell_type": "markdown",
   "metadata": {},
   "source": [
    "### Arkansas:"
   ]
  },
  {
   "cell_type": "code",
   "execution_count": null,
   "metadata": {},
   "outputs": [],
   "source": [
    "arkansas = covid_df.loc[(covid_df['abbrev'] == 'AR') & (covid_df['state']== 'Arkansas')] \n"
   ]
  },
  {
   "cell_type": "code",
   "execution_count": null,
   "metadata": {},
   "outputs": [],
   "source": [
    "# TODO fix legend/axis/plot alltogether\n",
    "# Timeseries plt\n",
    "fig, ax = plt.subplots(figsize = (16, 12))\n",
    "plt.plot(arkansas.date, arkansas.hospitalizedCurrently, linewidth=4.7, color='r')\n",
    "plt.title('Number of Patients in Arkansas Currently Hospitalized', fontsize=23)\n",
    "plt.xlabel('Date')\n",
    "plt.ylabel('No. Patients')"
   ]
  },
  {
   "cell_type": "code",
   "execution_count": null,
   "metadata": {},
   "outputs": [],
   "source": [
    "# TODO fix legend/axis/plot alltogether\n",
    "# Timeseries plt\n",
    "fig, ax = plt.subplots(figsize = (16, 12))\n",
    "plt.plot(arkansas.date, arkansas.onVentilatorCurrently, linewidth=4.7, color='r')\n",
    "plt.title('Number of Patients in Arkansas Currently on a Ventilator', fontsize=23)\n",
    "plt.xlabel('Date')\n",
    "plt.ylabel('No. Patients')"
   ]
  },
  {
   "cell_type": "code",
   "execution_count": null,
   "metadata": {},
   "outputs": [],
   "source": [
    "# Checking which cols have NaN values\n",
    "arkansas[['positive', 'active', 'hospitalizedCurrently', 'inIcuCurrently', 'recovered', 'death', 'hospitalized']]\n",
    "ark.head()\n",
    "\n",
    "# Omit the NaN cols\n",
    "arkansas = arkansas[['positive', 'active', 'hospitalizedCurrently', 'inIcuCurrently', 'recovered', 'death']]"
   ]
  },
  {
   "cell_type": "code",
   "execution_count": null,
   "metadata": {
    "scrolled": false
   },
   "outputs": [],
   "source": [
    "# Scatter plots AK\n",
    "# Split dependent var from independent variables\n",
    "target_ak = arkansas.hospitalizedCurrently\n",
    "indep_var_ak = arkansas.drop(columns=['hospitalizedCurrently'])\n",
    "\n",
    "fig, ax = plt.subplots(figsize = (16, 16))\n",
    "for i, col in enumerate(indep_var_ak.columns):\n",
    "    ax=fig.add_subplot(2, 3, i+1) \n",
    "    sns.regplot(x=indep_var_ak[col], y=target_ak, data=indep_var_ak, label=col, scatter_kws={'s':10}, line_kws={\"color\": \"plum\"})\n",
    "    plt.suptitle('Distributions of Independent Variables Arkansas', fontsize=23)\n",
    "plt.tight_layout()\n",
    "fig.subplots_adjust(top=0.95)"
   ]
  },
  {
   "cell_type": "code",
   "execution_count": null,
   "metadata": {},
   "outputs": [],
   "source": [
    "###endarkansas"
   ]
  },
  {
   "cell_type": "markdown",
   "metadata": {},
   "source": [
    "### California:"
   ]
  },
  {
   "cell_type": "code",
   "execution_count": null,
   "metadata": {},
   "outputs": [],
   "source": [
    "cali = covid_df.loc[(covid_df['abbrev'] == 'CA') & (covid_df['state']== 'California')] \n"
   ]
  },
  {
   "cell_type": "code",
   "execution_count": null,
   "metadata": {},
   "outputs": [],
   "source": [
    "# TODO fix legend/axis/plot alltogether\n",
    "# Timeseries plt\n",
    "fig, ax = plt.subplots(figsize = (16, 12))\n",
    "plt.plot(cali.date, cali.hospitalizedCurrently, linewidth=4.7)\n",
    "plt.title('Number of Patients in CA Currently Hospitalized', fontsize=23)\n",
    "plt.xlabel('Date')\n",
    "plt.ylabel('No. Patients')"
   ]
  },
  {
   "cell_type": "code",
   "execution_count": null,
   "metadata": {},
   "outputs": [],
   "source": []
  },
  {
   "cell_type": "code",
   "execution_count": null,
   "metadata": {},
   "outputs": [],
   "source": [
    "# Checking which cols have NaN values\n",
    "cali[['positive', 'active', 'hospitalizedCurrently', 'inIcuCurrently', 'recovered', 'death', 'hospitalized']]\n",
    "cali.head()\n",
    "\n",
    "# Omit the NaN cols\n",
    "cali = cali[['positive', 'active', 'hospitalizedCurrently', 'inIcuCurrently', 'recovered', 'death']]"
   ]
  },
  {
   "cell_type": "code",
   "execution_count": null,
   "metadata": {},
   "outputs": [],
   "source": [
    "# Scatter plots CA\n",
    "# Split dependent var from independent variables\n",
    "target_ca = cali.hospitalizedCurrently\n",
    "indep_var_ca = cali.drop(columns=['hospitalizedCurrently'])\n",
    "\n",
    "fig, ax = plt.subplots(figsize = (16, 16))\n",
    "for i, col in enumerate(indep_var_ca.columns):\n",
    "    ax=fig.add_subplot(2, 3, i+1) \n",
    "    sns.regplot(x=indep_var_ca[col], y=target_ca, data=indep_var_ca, label=col, scatter_kws={'s':10}, line_kws={\"color\": \"plum\"})\n",
    "    plt.suptitle('Distributions of Independent Variables CA', fontsize=23)\n",
    "plt.tight_layout()\n",
    "fig.subplots_adjust(top=0.95)"
   ]
  },
  {
   "cell_type": "code",
   "execution_count": null,
   "metadata": {},
   "outputs": [],
   "source": [
    "# Boxplot of CA\n",
    "fig, ax = plt.subplots(figsize = (16, 16))\n",
    "for i, col in enumerate(cali.columns):\n",
    "    ax=fig.add_subplot(3, 3, i+1) \n",
    "    sns.boxplot(x=cali[col], data=cali, color='lightpink', showfliers=True)\n",
    "    plt.suptitle('Boxplots of Independent Variables CA', fontsize=23)\n",
    "plt.tight_layout()\n",
    "fig.subplots_adjust(top=0.95)"
   ]
  },
  {
   "cell_type": "code",
   "execution_count": null,
   "metadata": {},
   "outputs": [],
   "source": [
    "###endcali"
   ]
  },
  {
   "cell_type": "markdown",
   "metadata": {},
   "source": [
    "### South Carolina:"
   ]
  },
  {
   "cell_type": "code",
   "execution_count": null,
   "metadata": {},
   "outputs": [],
   "source": [
    "sc = covid_df.loc[(covid_df['abbrev'] == 'SC') & (covid_df['state']== 'South Carolina')] \n"
   ]
  },
  {
   "cell_type": "code",
   "execution_count": null,
   "metadata": {
    "scrolled": true
   },
   "outputs": [],
   "source": [
    "# TODO fix legend/axis/plot alltogether\n",
    "# Timeseries plt\n",
    "fig, ax = plt.subplots(figsize = (16, 12))\n",
    "plt.plot(sc.date, sc.hospitalizedCurrently, linewidth=4.7, color='r')\n",
    "plt.title('Number of Patients in South Carolina Currently Hospitalized', fontsize=23)\n",
    "plt.xlabel('Date')\n",
    "plt.ylabel('No. Patients')"
   ]
  },
  {
   "cell_type": "code",
   "execution_count": null,
   "metadata": {
    "scrolled": true
   },
   "outputs": [],
   "source": [
    "# TODO fix legend/axis/plot alltogether\n",
    "# Timeseries plt\n",
    "fig, ax = plt.subplots(figsize = (16, 12))\n",
    "plt.plot(sc.date, sc.death, linewidth=4.7, color='r')\n",
    "plt.title('Number of Cummulative Deaths in South Carolina', fontsize=23)\n",
    "plt.xlabel('Date')\n",
    "plt.ylabel('No. Patients')"
   ]
  },
  {
   "cell_type": "code",
   "execution_count": null,
   "metadata": {
    "scrolled": true
   },
   "outputs": [],
   "source": [
    "# TODO fix legend/axis/plot alltogether\n",
    "# Timeseries plt\n",
    "fig, ax = plt.subplots(figsize = (16, 12))\n",
    "plt.plot(sc.date, sc.totalTestsViral, linewidth=4.7, color='r')\n",
    "plt.title('Number of Cummulative Viral Tests in South Carolina', fontsize=23)\n",
    "plt.xlabel('Date')\n",
    "plt.ylabel('No. Patients')"
   ]
  },
  {
   "cell_type": "code",
   "execution_count": null,
   "metadata": {
    "scrolled": true
   },
   "outputs": [],
   "source": [
    "# TODO fix legend/axis/plot alltogether\n",
    "# Timeseries plt\n",
    "fig, ax = plt.subplots(figsize = (16, 12))\n",
    "plt.plot(sc.date, sc.positiveTestsViral, linewidth=4.7, color='r')\n",
    "plt.title('Number of Cummulative Positive Viral Tests in South Carolina', fontsize=23)\n",
    "plt.xlabel('Date')\n",
    "plt.ylabel('No. Patients')"
   ]
  },
  {
   "cell_type": "code",
   "execution_count": null,
   "metadata": {
    "scrolled": true
   },
   "outputs": [],
   "source": [
    "# TODO fix legend/axis/plot alltogether\n",
    "# Timeseries plt\n",
    "fig, ax = plt.subplots(figsize = (16, 12))\n",
    "plt.plot(sc.date, sc.positiveTestsViral/sc.totalTestsViral*100, linewidth=4.7, color='r')\n",
    "plt.title('Viral Infection Rate in South Carolina', fontsize=23)\n",
    "plt.xlabel('Date')\n",
    "plt.ylabel('% Infection Rate')"
   ]
  },
  {
   "cell_type": "code",
   "execution_count": null,
   "metadata": {},
   "outputs": [],
   "source": [
    "# Checking which cols have NaN values\n",
    "sc[['positive', 'active', 'hospitalizedCurrently', 'inIcuCurrently', 'recovered', 'death', 'hospitalized']]\n",
    "sc.head()\n",
    "\n",
    "# Omit the NaN cols\n",
    "sc = sc[['positive', 'active', 'hospitalizedCurrently', 'inIcuCurrently', 'recovered', 'death']]"
   ]
  },
  {
   "cell_type": "code",
   "execution_count": null,
   "metadata": {},
   "outputs": [],
   "source": [
    "# Scatter plots SC\n",
    "# Split dependent var from independent variables\n",
    "target_sc = sc.hospitalizedCurrently\n",
    "indep_var_sc = sc.drop(columns=['hospitalizedCurrently'])\n",
    "\n",
    "fig, ax = plt.subplots(figsize = (16, 16))\n",
    "for i, col in enumerate(indep_var_sc.columns):\n",
    "    ax=fig.add_subplot(2, 3, i+1) \n",
    "    sns.regplot(x=indep_var_sc[col], y=target_sc, data=indep_var_sc, label=col, scatter_kws={'s':10}, line_kws={\"color\": \"plum\"})\n",
    "    plt.suptitle('Distributions of Independent Variables South Carolina', fontsize=23)\n",
    "plt.tight_layout()\n",
    "fig.subplots_adjust(top=0.95)"
   ]
  },
  {
   "cell_type": "code",
   "execution_count": null,
   "metadata": {},
   "outputs": [],
   "source": [
    "# Boxplot of SC\n",
    "fig, ax = plt.subplots(figsize = (16, 16))\n",
    "for i, col in enumerate(sc.columns):\n",
    "    ax=fig.add_subplot(3, 3, i+1) \n",
    "    sns.boxplot(x=sc[col], data=sc, color='lightpink', showfliers=True)\n",
    "    plt.suptitle('Boxplots of Independent Variables South Carolina', fontsize=18)\n",
    "plt.tight_layout()\n",
    "fig.subplots_adjust(top=0.95)"
   ]
  },
  {
   "cell_type": "code",
   "execution_count": null,
   "metadata": {},
   "outputs": [],
   "source": [
    "###endsouthcarolina"
   ]
  },
  {
   "cell_type": "markdown",
   "metadata": {},
   "source": [
    "### Texas:"
   ]
  },
  {
   "cell_type": "code",
   "execution_count": null,
   "metadata": {},
   "outputs": [],
   "source": [
    "texas = covid_df.loc[(covid_df['abbrev'] == 'TX') & (covid_df['state']== 'Texas')] \n"
   ]
  },
  {
   "cell_type": "code",
   "execution_count": null,
   "metadata": {},
   "outputs": [],
   "source": [
    "# TODO fix legend/axis/plot alltogether\n",
    "# Timeseries plt\n",
    "fig, ax = plt.subplots(figsize = (16, 12))\n",
    "plt.plot(texas.date, texas.hospitalizedCurrently, linewidth=4.7, color='r')\n",
    "plt.title('Number of Patients in TX Currently Hospitalized', fontsize=23)\n",
    "plt.xlabel('Date')\n",
    "plt.ylabel('No. Patients')"
   ]
  },
  {
   "cell_type": "code",
   "execution_count": null,
   "metadata": {
    "scrolled": true
   },
   "outputs": [],
   "source": [
    "# TODO fix legend/axis/plot alltogether\n",
    "# Timeseries plt\n",
    "fig, ax = plt.subplots(figsize = (16, 12))\n",
    "plt.plot(texas.date, texas.death, linewidth=4.7, color='r')\n",
    "plt.title('Number of Cummulative Deaths in Texas', fontsize=23)\n",
    "plt.xlabel('Date')\n",
    "plt.ylabel('No. Patients')"
   ]
  },
  {
   "cell_type": "code",
   "execution_count": null,
   "metadata": {
    "scrolled": true
   },
   "outputs": [],
   "source": [
    "# TODO fix legend/axis/plot alltogether\n",
    "# Timeseries plt\n",
    "fig, ax = plt.subplots(figsize = (16, 12))\n",
    "plt.plot(texas.date, texas.totalTestsViral, linewidth=4.7, color='r')\n",
    "plt.title('Number of Cummulative Viral Tests in Texas', fontsize=23)\n",
    "plt.xlabel('Date')\n",
    "plt.ylabel('No. Patients')"
   ]
  },
  {
   "cell_type": "code",
   "execution_count": null,
   "metadata": {},
   "outputs": [],
   "source": [
    "# Checking which cols have NaN values\n",
    "texas[['positive', 'active', 'hospitalizedCurrently', 'inIcuCurrently', 'recovered', 'death', 'hospitalized']]\n",
    "texas.head()\n",
    "\n",
    "# Omit the NaN cols\n",
    "texas = texas[['positive', 'active', 'hospitalizedCurrently', 'inIcuCurrently', 'recovered', 'death']]"
   ]
  },
  {
   "cell_type": "code",
   "execution_count": null,
   "metadata": {},
   "outputs": [],
   "source": [
    "# Scatter plots TX\n",
    "# Split dependent var from independent variables\n",
    "target_tx = texas.hospitalizedCurrently\n",
    "indep_var_tx = texas.drop(columns=['hospitalizedCurrently'])\n",
    "\n",
    "fig, ax = plt.subplots(figsize = (16, 16))\n",
    "for i, col in enumerate(indep_var_tx.columns):\n",
    "    ax=fig.add_subplot(2, 3, i+1) \n",
    "    sns.regplot(x=indep_var_tx[col], y=target_tx, data=indep_var_tx, label=col, scatter_kws={'s':10}, line_kws={\"color\": \"plum\"})\n",
    "    plt.suptitle('Distributions of Independent Variables TX', fontsize=23)\n",
    "plt.tight_layout()\n",
    "fig.subplots_adjust(top=0.95)"
   ]
  },
  {
   "cell_type": "code",
   "execution_count": null,
   "metadata": {},
   "outputs": [],
   "source": [
    "# Boxplot of TX\n",
    "fig, ax = plt.subplots(figsize = (16, 16))\n",
    "for i, col in enumerate(texas.columns):\n",
    "    ax=fig.add_subplot(3, 3, i+1) \n",
    "    sns.boxplot(x=texas[col], data=texas, color='lightpink', showfliers=True)\n",
    "    plt.suptitle('Boxplots of Independent Variables TX', fontsize=18)\n",
    "plt.tight_layout()\n",
    "fig.subplots_adjust(top=0.95)"
   ]
  },
  {
   "cell_type": "code",
   "execution_count": null,
   "metadata": {},
   "outputs": [],
   "source": [
    "###endtx"
   ]
  },
  {
   "cell_type": "markdown",
   "metadata": {},
   "source": [
    "### Nevada:"
   ]
  },
  {
   "cell_type": "code",
   "execution_count": null,
   "metadata": {},
   "outputs": [],
   "source": [
    "nevada = covid_df.loc[(covid_df['abbrev'] == 'NV') & (covid_df['state']== 'Nevada')] \n"
   ]
  },
  {
   "cell_type": "code",
   "execution_count": null,
   "metadata": {},
   "outputs": [],
   "source": [
    "# TODO fix legend/axis/plot alltogether\n",
    "# Timeseries plt\n",
    "fig, ax = plt.subplots(figsize = (16, 12))\n",
    "plt.plot(nevada.date, nevada.hospitalizedCurrently, linewidth=4.7)\n",
    "plt.title('Number of Patients in Nevada Currently Hospitalized', fontsize=23)\n",
    "plt.xlabel('Date')\n",
    "plt.ylabel('No. Patients')"
   ]
  },
  {
   "cell_type": "code",
   "execution_count": null,
   "metadata": {
    "scrolled": true
   },
   "outputs": [],
   "source": [
    "# TODO fix legend/axis/plot alltogether\n",
    "# Timeseries plt\n",
    "fig, ax = plt.subplots(figsize = (16, 12))\n",
    "plt.plot(nevada.date, nevada.inIcuCurrently, linewidth=4.7)\n",
    "plt.title('Number of Patients in Nevada Currently Hospitalized in ICU', fontsize=23)\n",
    "plt.xlabel('Date')\n",
    "plt.ylabel('No. Patients')"
   ]
  },
  {
   "cell_type": "code",
   "execution_count": null,
   "metadata": {
    "scrolled": true
   },
   "outputs": [],
   "source": [
    "# TODO fix legend/axis/plot alltogether\n",
    "# Timeseries plt\n",
    "fig, ax = plt.subplots(figsize = (16, 12))\n",
    "plt.plot(nevada.date, nevada.onVentilatorCurrently, linewidth=4.7)\n",
    "plt.title('Number of Patients in Nevada Currently on a Ventilator', fontsize=23)\n",
    "plt.xlabel('Date')\n",
    "plt.ylabel('No. Patients')"
   ]
  },
  {
   "cell_type": "code",
   "execution_count": null,
   "metadata": {},
   "outputs": [],
   "source": [
    "# Checking which cols have NaN values\n",
    "nevada[['positive', 'active', 'hospitalizedCurrently', 'inIcuCurrently', 'recovered', 'death', 'hospitalized']]\n",
    "nevada.head()\n",
    "\n",
    "# Omit the NaN cols\n",
    "nevada = nevada[['positive', 'active', 'hospitalizedCurrently', 'inIcuCurrently', 'recovered', 'death']]"
   ]
  },
  {
   "cell_type": "code",
   "execution_count": null,
   "metadata": {},
   "outputs": [],
   "source": [
    "# Scatter plots NV\n",
    "# Split dependent var from independent variables\n",
    "target_nv = nevada.hospitalizedCurrently\n",
    "indep_var_nv = nevada.drop(columns=['hospitalizedCurrently'])\n",
    "\n",
    "fig, ax = plt.subplots(figsize = (16, 16))\n",
    "for i, col in enumerate(indep_var_nv.columns):\n",
    "    ax=fig.add_subplot(2, 3, i+1) \n",
    "    sns.regplot(x=indep_var_nv[col], y=target_nv, data=indep_var_nv, label=col, scatter_kws={'s':10}, line_kws={\"color\": \"plum\"})\n",
    "    plt.suptitle('Distributions of Independent Variables Nevada', fontsize=23)\n",
    "plt.tight_layout()\n",
    "fig.subplots_adjust(top=0.95)"
   ]
  },
  {
   "cell_type": "code",
   "execution_count": null,
   "metadata": {},
   "outputs": [],
   "source": [
    "# Boxplot of NV\n",
    "fig, ax = plt.subplots(figsize = (16, 16))\n",
    "for i, col in enumerate(nevada.columns):\n",
    "    ax=fig.add_subplot(3, 3, i+1) \n",
    "    sns.boxplot(x=nevada[col], data=nevada, color='lightpink', showfliers=True)\n",
    "    plt.suptitle('Boxplots of Independent Variables Nevada', fontsize=23)\n",
    "plt.tight_layout()\n",
    "fig.subplots_adjust(top=0.95)"
   ]
  },
  {
   "cell_type": "code",
   "execution_count": null,
   "metadata": {},
   "outputs": [],
   "source": [
    "###endnevada"
   ]
  },
  {
   "cell_type": "markdown",
   "metadata": {},
   "source": [
    "### Mississippi:"
   ]
  },
  {
   "cell_type": "code",
   "execution_count": null,
   "metadata": {},
   "outputs": [],
   "source": [
    "mississippi = covid_df.loc[(covid_df['abbrev'] == 'MS') & (covid_df['state']== 'Mississippi')] \n"
   ]
  },
  {
   "cell_type": "code",
   "execution_count": null,
   "metadata": {
    "scrolled": true
   },
   "outputs": [],
   "source": [
    "# TODO fix legend/axis/plot alltogether\n",
    "# Timeseries plt\n",
    "fig, ax = plt.subplots(figsize = (16, 12))\n",
    "plt.plot(mississippi.date, mississippi.hospitalizedCurrently, linewidth=4.7, color='r')\n",
    "plt.title('Number of Patients in Mississippi Currently Hospitalized', fontsize=23)\n",
    "plt.xlabel('Date')\n",
    "plt.ylabel('No. Patients')"
   ]
  },
  {
   "cell_type": "code",
   "execution_count": null,
   "metadata": {
    "scrolled": false
   },
   "outputs": [],
   "source": [
    "# TODO fix legend/axis/plot alltogether\n",
    "# Timeseries plt\n",
    "fig, ax = plt.subplots(figsize = (16, 12))\n",
    "plt.plot(mississippi.date, mississippi.inIcuCurrently, linewidth=4.7, color='r')\n",
    "plt.title('Number of Patients in Mississippi Currently in ICU', fontsize=23)\n",
    "plt.xlabel('Date')\n",
    "plt.ylabel('No. Patients')"
   ]
  },
  {
   "cell_type": "code",
   "execution_count": null,
   "metadata": {
    "scrolled": false
   },
   "outputs": [],
   "source": [
    "# TODO fix legend/axis/plot alltogether\n",
    "# Timeseries plt\n",
    "fig, ax = plt.subplots(figsize = (16, 12))\n",
    "plt.plot(mississippi.date, mississippi.onVentilatorCurrently, linewidth=4.7, color='r')\n",
    "plt.title('Number of Patients in Mississippi Currently on a Ventilator', fontsize=23)\n",
    "plt.xlabel('Date')\n",
    "plt.ylabel('No. Patients')"
   ]
  },
  {
   "cell_type": "code",
   "execution_count": null,
   "metadata": {
    "scrolled": true
   },
   "outputs": [],
   "source": [
    "# TODO fix legend/axis/plot alltogether\n",
    "# Timeseries plt\n",
    "fig, ax = plt.subplots(figsize = (16, 12))\n",
    "plt.plot(mississippi.date, mississippi.death, linewidth=4.7, color='r')\n",
    "plt.title('Number of Patients in Mississippi Killed', fontsize=23)\n",
    "plt.xlabel('Date')\n",
    "plt.ylabel('No. Patients')"
   ]
  },
  {
   "cell_type": "code",
   "execution_count": null,
   "metadata": {},
   "outputs": [],
   "source": [
    "# Checking which cols have NaN values\n",
    "mississippi[['positive', 'active', 'hospitalizedCurrently', 'inIcuCurrently', 'recovered', 'death', 'hospitalized']]\n",
    "mississippi.head()\n",
    "\n",
    "# Omit the NaN cols\n",
    "mississippi = mississippi[['positive', 'active', 'hospitalizedCurrently', 'inIcuCurrently', 'recovered', 'death']]"
   ]
  },
  {
   "cell_type": "code",
   "execution_count": null,
   "metadata": {},
   "outputs": [],
   "source": [
    "# Scatter plots MS\n",
    "# Split dependent var from independent variables\n",
    "target_ms = texas.hospitalizedCurrently\n",
    "indep_var_ms = texas.drop(columns=['hospitalizedCurrently'])\n",
    "\n",
    "fig, ax = plt.subplots(figsize = (16, 16))\n",
    "for i, col in enumerate(indep_var_ms.columns):\n",
    "    ax=fig.add_subplot(2, 3, i+1) \n",
    "    sns.regplot(x=indep_var_ms[col], y=target_ms, data=indep_var_ms, label=col, scatter_kws={'s':10}, line_kws={\"color\": \"plum\"})\n",
    "    plt.suptitle('Distributions of Independent Variables Mississippi', fontsize=18)\n",
    "plt.tight_layout()\n",
    "fig.subplots_adjust(top=0.95)"
   ]
  },
  {
   "cell_type": "code",
   "execution_count": null,
   "metadata": {},
   "outputs": [],
   "source": [
    "# Boxplot of MS\n",
    "fig, ax = plt.subplots(figsize = (16, 16))\n",
    "for i, col in enumerate(texas.columns):\n",
    "    ax=fig.add_subplot(3, 3, i+1) \n",
    "    sns.boxplot(x=mississippi[col], data=mississippi, color='lightpink', showfliers=True)\n",
    "    plt.suptitle('Boxplots of Independent Variables Mississippi', fontsize=18)\n",
    "plt.tight_layout()\n",
    "fig.subplots_adjust(top=0.95)"
   ]
  },
  {
   "cell_type": "code",
   "execution_count": null,
   "metadata": {},
   "outputs": [],
   "source": [
    "###endmississippi"
   ]
  },
  {
   "cell_type": "markdown",
   "metadata": {},
   "source": [
    "### Utah:"
   ]
  },
  {
   "cell_type": "code",
   "execution_count": null,
   "metadata": {},
   "outputs": [],
   "source": [
    "utah = covid_df.loc[(covid_df['abbrev'] == 'UT') & (covid_df['state']== 'Utah')] \n"
   ]
  },
  {
   "cell_type": "code",
   "execution_count": null,
   "metadata": {
    "scrolled": true
   },
   "outputs": [],
   "source": [
    "# TODO fix legend/axis/plot alltogether\n",
    "# Timeseries plt\n",
    "fig, ax = plt.subplots(figsize = (16, 12))\n",
    "plt.plot(utah.date, utah.hospitalizedCurrently, linewidth=4.7, color='r')\n",
    "plt.title('Number of Patients in UT Currently Hospitalized', fontsize=23)\n",
    "plt.xlabel('Date')\n",
    "plt.ylabel('No. Patients')"
   ]
  },
  {
   "cell_type": "code",
   "execution_count": null,
   "metadata": {
    "scrolled": true
   },
   "outputs": [],
   "source": [
    "# TODO fix legend/axis/plot alltogether\n",
    "# Timeseries plt\n",
    "fig, ax = plt.subplots(figsize = (16, 12))\n",
    "plt.plot(utah.date, utah.inIcuCurrently, linewidth=4.7, color='r')\n",
    "plt.title('Number of Patients in UT Currently in ICU', fontsize=23)\n",
    "plt.xlabel('Date')\n",
    "plt.ylabel('No. Patients')"
   ]
  },
  {
   "cell_type": "code",
   "execution_count": null,
   "metadata": {
    "scrolled": true
   },
   "outputs": [],
   "source": [
    "# TODO fix legend/axis/plot alltogether\n",
    "# Timeseries plt\n",
    "fig, ax = plt.subplots(figsize = (16, 12))\n",
    "plt.plot(utah.date, utah.death, linewidth=4.7, color='r')\n",
    "plt.title('Number of Cummulative Deaths in Utah', fontsize=23)\n",
    "plt.xlabel('Date')\n",
    "plt.ylabel('No. Patients')"
   ]
  },
  {
   "cell_type": "code",
   "execution_count": null,
   "metadata": {},
   "outputs": [],
   "source": [
    "# Checking which cols have NaN values\n",
    "utah[['positive', 'active', 'hospitalizedCurrently', 'inIcuCurrently', 'recovered', 'death', 'hospitalized']]\n",
    "utah.head()\n",
    "\n",
    "# Omit the NaN cols\n",
    "utah = utah[['positive', 'active', 'hospitalizedCurrently', 'inIcuCurrently', 'recovered', 'death']]"
   ]
  },
  {
   "cell_type": "code",
   "execution_count": null,
   "metadata": {},
   "outputs": [],
   "source": [
    "# Scatter plots UT\n",
    "# Split dependent var from independent variables\n",
    "target_ut = utah.hospitalizedCurrently\n",
    "indep_var_ut = utah.drop(columns=['hospitalizedCurrently'])\n",
    "\n",
    "fig, ax = plt.subplots(figsize = (16, 16))\n",
    "for i, col in enumerate(indep_var_tx.columns):\n",
    "    ax=fig.add_subplot(2, 3, i+1) \n",
    "    sns.regplot(x=indep_var_ut[col], y=target_ut, data=indep_var_ut, label=col, scatter_kws={'s':10}, line_kws={\"color\": \"plum\"})\n",
    "    plt.suptitle('Distributions of Independent Variables Utah', fontsize=23)\n",
    "plt.tight_layout()\n",
    "fig.subplots_adjust(top=0.95)"
   ]
  },
  {
   "cell_type": "code",
   "execution_count": null,
   "metadata": {},
   "outputs": [],
   "source": [
    "###endutah"
   ]
  },
  {
   "cell_type": "markdown",
   "metadata": {},
   "source": [
    "### Georgia:"
   ]
  },
  {
   "cell_type": "code",
   "execution_count": null,
   "metadata": {},
   "outputs": [],
   "source": [
    "georgia = covid_df.loc[(covid_df['abbrev'] == 'GA') & (covid_df['state']== 'Georgia')] \n"
   ]
  },
  {
   "cell_type": "code",
   "execution_count": null,
   "metadata": {
    "scrolled": true
   },
   "outputs": [],
   "source": [
    "# TODO fix legend/axis/plot alltogether\n",
    "# Timeseries plt\n",
    "fig, ax = plt.subplots(figsize = (16, 12))\n",
    "plt.plot(georgia.date, georgia.hospitalizedCurrently, linewidth=4.7, color='r')\n",
    "plt.title('Number of Patients in Georgia Currently Hospitalized', fontsize=23)\n",
    "plt.xlabel('Date')\n",
    "plt.ylabel('No. Patients')"
   ]
  },
  {
   "cell_type": "code",
   "execution_count": null,
   "metadata": {},
   "outputs": [],
   "source": [
    "# TODO fix legend/axis/plot alltogether\n",
    "# Timeseries plt\n",
    "fig, ax = plt.subplots(figsize = (16, 12))\n",
    "plt.plot(georgia.date, georgia.totalTestsViral, linewidth=4.7, color='r')\n",
    "plt.title('Number of Cummulative Viral Tests in Georgia', fontsize=23)\n",
    "plt.xlabel('Date')\n",
    "plt.ylabel('No. Patients')"
   ]
  },
  {
   "cell_type": "code",
   "execution_count": null,
   "metadata": {},
   "outputs": [],
   "source": [
    "# TODO fix legend/axis/plot alltogether\n",
    "# Timeseries plt\n",
    "fig, ax = plt.subplots(figsize = (16, 12))\n",
    "plt.plot(georgia.date, georgia.positiveTestsViral, linewidth=4.7, color='r')\n",
    "plt.title('Number of Cummulative Positive Viral Tests in Georgia', fontsize=23)\n",
    "plt.xlabel('Date')\n",
    "plt.ylabel('No. Patients')"
   ]
  },
  {
   "cell_type": "code",
   "execution_count": null,
   "metadata": {},
   "outputs": [],
   "source": [
    "# TODO fix legend/axis/plot alltogether\n",
    "# Timeseries plt\n",
    "fig, ax = plt.subplots(figsize = (16, 12))\n",
    "plt.plot(georgia.date, georgia.positiveTestsViral/georgia.totalTestsViral*100, linewidth=4.7, color='r')\n",
    "plt.title('Infection Rate in Georgia', fontsize=23)\n",
    "plt.xlabel('Date')\n",
    "plt.ylabel('% Infection Rate')"
   ]
  },
  {
   "cell_type": "code",
   "execution_count": null,
   "metadata": {},
   "outputs": [],
   "source": [
    "# Checking which cols have NaN values\n",
    "georgia[['positive', 'active', 'hospitalizedCurrently', 'inIcuCurrently', 'recovered', 'death', 'hospitalized']]\n",
    "georgia.head()\n",
    "\n",
    "# Omit the NaN cols\n",
    "georgia = georgia[['positive', 'active', 'hospitalizedCurrently', 'inIcuCurrently', 'recovered', 'death']]"
   ]
  },
  {
   "cell_type": "code",
   "execution_count": null,
   "metadata": {},
   "outputs": [],
   "source": [
    "# Scatter plots GA\n",
    "# Split dependent var from independent variables\n",
    "target_ga = georgia.hospitalizedCurrently\n",
    "indep_var_ga = georgia.drop(columns=['hospitalizedCurrently'])\n",
    "\n",
    "fig, ax = plt.subplots(figsize = (16, 16))\n",
    "for i, col in enumerate(indep_var_ga.columns):\n",
    "    ax=fig.add_subplot(2, 3, i+1) \n",
    "    sns.regplot(x=indep_var_ga[col], y=target_ga, data=indep_var_ga, label=col, scatter_kws={'s':10}, line_kws={\"color\": \"plum\"})\n",
    "    plt.suptitle('Distributions of Independent Variables Georgia', fontsize=23)\n",
    "plt.tight_layout()\n",
    "fig.subplots_adjust(top=0.95)"
   ]
  },
  {
   "cell_type": "code",
   "execution_count": null,
   "metadata": {},
   "outputs": [],
   "source": [
    "# Boxplot of GA\n",
    "fig, ax = plt.subplots(figsize = (16, 16))\n",
    "for i, col in enumerate(georgia.columns):\n",
    "    ax=fig.add_subplot(3, 3, i+1) \n",
    "    sns.boxplot(x=georgia[col], data=georgia, color='lightpink', showfliers=True)\n",
    "    plt.suptitle('Boxplots of Independent Variables Georgia', fontsize=23)\n",
    "plt.tight_layout()\n",
    "fig.subplots_adjust(top=0.95)"
   ]
  },
  {
   "cell_type": "code",
   "execution_count": null,
   "metadata": {},
   "outputs": [],
   "source": [
    "###endgeorgia"
   ]
  },
  {
   "cell_type": "markdown",
   "metadata": {},
   "source": [
    "### Oklahoma:"
   ]
  },
  {
   "cell_type": "code",
   "execution_count": null,
   "metadata": {},
   "outputs": [],
   "source": [
    "oklahoma = covid_df.loc[(covid_df['abbrev'] == 'OK') & (covid_df['state']== 'Oklahoma')] \n"
   ]
  },
  {
   "cell_type": "code",
   "execution_count": null,
   "metadata": {},
   "outputs": [],
   "source": [
    "# TODO fix legend/axis/plot alltogether\n",
    "# Timeseries plt\n",
    "fig, ax = plt.subplots(figsize = (16, 12))\n",
    "plt.plot(oklahoma.date, oklahoma.hospitalizedCurrently)\n",
    "plt.title('Number of Patients in OK Currently Hospitalized')\n",
    "plt.xlabel('Date')\n",
    "plt.ylabel('No. Patients')"
   ]
  },
  {
   "cell_type": "code",
   "execution_count": null,
   "metadata": {},
   "outputs": [],
   "source": [
    "# Checking which cols have NaN values\n",
    "oklahoma[['positive', 'active', 'hospitalizedCurrently', 'inIcuCurrently', 'recovered', 'death', 'hospitalized']]\n",
    "oklahoma.head()\n",
    "\n",
    "# Omit the NaN cols\n",
    "oklahoma = oklahoma[['positive', 'active', 'hospitalizedCurrently', 'inIcuCurrently', 'recovered', 'death']]"
   ]
  },
  {
   "cell_type": "code",
   "execution_count": null,
   "metadata": {},
   "outputs": [],
   "source": [
    "# Scatter plots OK\n",
    "# Split dependent var from independent variables\n",
    "target_ok = oklahoma.hospitalizedCurrently\n",
    "indep_var_ok = oklahoma.drop(columns=['hospitalizedCurrently'])\n",
    "\n",
    "fig, ax = plt.subplots(figsize = (16, 16))\n",
    "for i, col in enumerate(indep_var_ok.columns):\n",
    "    ax=fig.add_subplot(2, 3, i+1) \n",
    "    sns.regplot(x=indep_var_ok[col], y=target_ok, data=indep_var_ok, label=col, scatter_kws={'s':10}, line_kws={\"color\": \"plum\"})\n",
    "    plt.suptitle('Distributions of Independent Variables OK', fontsize=18)\n",
    "plt.tight_layout()\n",
    "fig.subplots_adjust(top=0.95)"
   ]
  },
  {
   "cell_type": "code",
   "execution_count": null,
   "metadata": {},
   "outputs": [],
   "source": [
    "# Boxplot of OK\n",
    "fig, ax = plt.subplots(figsize = (16, 16))\n",
    "for i, col in enumerate(oklahoma.columns):\n",
    "    ax=fig.add_subplot(3, 3, i+1) \n",
    "    sns.boxplot(x=oklahoma[col], data=oklahoma, color='lightpink', showfliers=True)\n",
    "    plt.suptitle('Boxplots of Independent Variables OK', fontsize=18)\n",
    "plt.tight_layout()\n",
    "fig.subplots_adjust(top=0.95)"
   ]
  },
  {
   "cell_type": "code",
   "execution_count": null,
   "metadata": {},
   "outputs": [],
   "source": [
    "###endoklahoma"
   ]
  },
  {
   "cell_type": "markdown",
   "metadata": {},
   "source": [
    "## Assessing Correlation of Independent Variables"
   ]
  },
  {
   "cell_type": "code",
   "execution_count": null,
   "metadata": {},
   "outputs": [],
   "source": [
    "# TODO add some explanation / look more into collinear variables"
   ]
  },
  {
   "cell_type": "code",
   "execution_count": null,
   "metadata": {},
   "outputs": [],
   "source": [
    "# Heatmap of correlations\n",
    "# Save correlations to variable\n",
    "corr = covid_cleaned.corr(method='pearson')\n",
    "# We can create a mask to not show duplicate values\n",
    "mask = np.triu(np.ones_like(corr, dtype=np.bool))\n",
    "# Set up the matplotlib figure\n",
    "fig, ax = plt.subplots(figsize=(16,16))\n",
    "\n",
    "# Generate heatmap\n",
    "sns.heatmap(corr, annot=True, mask=mask, cmap='GnBu', center=0,\n",
    "            square=True, linewidths=.5, cbar_kws={\"shrink\": .5})"
   ]
  },
  {
   "cell_type": "markdown",
   "metadata": {},
   "source": [
    "## Build model for dependent Variable \n",
    "- To be used to predict current hospitalizations\n",
    "- Having more complete variables for in ICU currently and on Ventilator Currently will allow us to predict these numbers as well."
   ]
  },
  {
   "cell_type": "code",
   "execution_count": null,
   "metadata": {},
   "outputs": [],
   "source": [
    "# We compare three models:\n",
    "# - Polynomial Regression\n",
    "# - Linear Regression\n",
    "# - ElasticNet\n",
    "\n",
    "# Copy DFs to not mess up original one\n",
    "# We will use model_df for our regression model\n",
    "model_df = all_cases.copy()\n",
    "\n",
    "# Delete redundant rows\n",
    "for row in ['abbrev', 'bedsPerThousand', 'hospitalized', \n",
    "'state', 'hospitalizedCumulative', 'dataQualityGrade', 'lastUpdateEt']:\n",
    "    del model_df[row]\n",
    "\n",
    "# Drop NaN values for hospitalizedCurrently\n",
    "model_df = model_df.dropna(subset=['hospitalizedCurrently'])\n",
    "\n",
    "# Drop Values with abnormal active-hospitalised ratios (outside Conf. Interval)\n",
    "model_df['ratio_hospital'] = model_df['hospitalizedCurrently'] / model_df['active']\n",
    "model_df = model_df[~(model_df['ratio_hospital'] >= model_df.ratio_hospital.quantile(0.99))]\n",
    "\n",
    "#model_df = model_df[~(model_df['ratio_hospital'] <= model_df['ratio_hospital'].median())]\n",
    "del model_df['ratio_hospital']\n",
    "\n",
    "# Get peek of model to use\n",
    "model_df.describe()"
   ]
  },
  {
   "cell_type": "code",
   "execution_count": null,
   "metadata": {},
   "outputs": [],
   "source": []
  },
  {
   "cell_type": "code",
   "execution_count": null,
   "metadata": {},
   "outputs": [],
   "source": []
  },
  {
   "cell_type": "code",
   "execution_count": null,
   "metadata": {},
   "outputs": [],
   "source": []
  },
  {
   "cell_type": "code",
   "execution_count": null,
   "metadata": {},
   "outputs": [],
   "source": []
  },
  {
   "cell_type": "code",
   "execution_count": null,
   "metadata": {},
   "outputs": [],
   "source": []
  },
  {
   "cell_type": "code",
   "execution_count": null,
   "metadata": {},
   "outputs": [],
   "source": []
  }
 ],
 "metadata": {
  "celltoolbar": "Edit Metadata",
  "kernelspec": {
   "display_name": "Python 3",
   "language": "python",
   "name": "python3"
  },
  "language_info": {
   "codemirror_mode": {
    "name": "ipython",
    "version": 3
   },
   "file_extension": ".py",
   "mimetype": "text/x-python",
   "name": "python",
   "nbconvert_exporter": "python",
   "pygments_lexer": "ipython3",
   "version": "3.7.6"
  }
 },
 "nbformat": 4,
 "nbformat_minor": 2
}
