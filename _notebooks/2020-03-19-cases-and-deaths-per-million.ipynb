{
 "cells": [
  {
   "cell_type": "markdown",
   "metadata": {
    "papermill": {
     "duration": 0.013673,
     "end_time": "2020-03-27T18:35:35.437539",
     "exception": false,
     "start_time": "2020-03-27T18:35:35.423866",
     "status": "completed"
    },
    "tags": []
   },
   "source": [
    "# COVID-19 Deaths Per Capita\n",
    "> Comparing death rates adjusting for population size. \n",
    "\n",
    "- comments: false\n",
    "- categories: [growth, compare, interactive]\n",
    "- hide: false\n",
    "- image: images/covid-permillion-trajectories.png\n",
    "- permalink: /futureproof-COVID19-covid-compare-permillion/"
   ]
  },
  {
   "cell_type": "code",
   "execution_count": 1,
   "metadata": {
    "papermill": {
     "duration": 0.651381,
     "end_time": "2020-03-27T18:35:36.098504",
     "exception": false,
     "start_time": "2020-03-27T18:35:35.447123",
     "status": "completed"
    },
    "tags": []
   },
   "outputs": [],
   "source": [
    "#hide\n",
    "import numpy as np\n",
    "import pandas as pd\n",
    "import matplotlib.pyplot as plt\n",
    "import altair as alt\n",
    "%config InlineBackend.figure_format = 'retina'\n",
    "\n",
    "chart_width = 550\n",
    "chart_height= 400"
   ]
  },
  {
   "cell_type": "markdown",
   "metadata": {
    "papermill": {
     "duration": 0.008993,
     "end_time": "2020-03-27T18:35:36.117224",
     "exception": false,
     "start_time": "2020-03-27T18:35:36.108231",
     "status": "completed"
    },
    "tags": []
   },
   "source": [
    "## Deaths Per Million Of Inhabitants"
   ]
  },
  {
   "cell_type": "markdown",
   "metadata": {
    "papermill": {
     "duration": 0.008513,
     "end_time": "2020-03-27T18:35:36.134582",
     "exception": false,
     "start_time": "2020-03-27T18:35:36.126069",
     "status": "completed"
    },
    "tags": []
   },
   "source": [
    "Since reaching at least 1 death per million\n",
    "\n",
    "> Tip: Click (Shift+ for multiple) on countries in the legend to filter the visualization."
   ]
  },
  {
   "cell_type": "code",
   "execution_count": 2,
   "metadata": {
    "papermill": {
     "duration": 5.504952,
     "end_time": "2020-03-27T18:35:41.648308",
     "exception": false,
     "start_time": "2020-03-27T18:35:36.143356",
     "status": "completed"
    },
    "tags": []
   },
   "outputs": [],
   "source": [
    "#hide \n",
    "data = pd.read_csv(\"https://raw.githubusercontent.com/CSSEGISandData/COVID-19/master/csse_covid_19_data/csse_covid_19_time_series/time_series_covid19_deaths_global.csv\", \n",
    "                   error_bad_lines=False)\n",
    "data = data.drop(columns=[\"Lat\", \"Long\"])\n",
    "data = data.melt(id_vars= [\"Province/State\", \"Country/Region\"])\n",
    "data = pd.DataFrame(data.groupby(['Country/Region', \"variable\"]).sum())\n",
    "data.reset_index(inplace=True)  \n",
    "data = data.rename(columns={\"Country/Region\": \"location\", \"variable\": \"date\", \"value\": \"total_cases\"})\n",
    "data['date'] =pd.to_datetime(data.date)\n",
    "data = data.sort_values(by = \"date\")\n",
    "data.loc[data.location == \"US\",\"location\"] = \"United States\"\n",
    "data.loc[data.location == \"Korea, South\",\"location\"] = \"South Korea\"\n",
    "\n",
    "data_pwt = pd.read_stata(\"https://www.rug.nl/ggdc/docs/pwt91.dta\")\n",
    "\n",
    "filter1 = data_pwt[\"year\"] == 2017\n",
    "data_pop = data_pwt[filter1]\n",
    "data_pop = data_pop[[\"country\",\"pop\"]]\n",
    "data_pop.loc[data_pop.country == \"Republic of Korea\",\"country\"] = \"South Korea\"\n",
    "data_pop.loc[data_pop.country == \"Iran (Islamic Republic of)\",\"country\"] = \"Iran\"\n",
    "\n",
    "# per habitant\n",
    "data_pc = data.copy()\n",
    "countries = [\"China\", \"Italy\", \"Spain\", \"France\", \"United Kingdom\", \"Germany\", \n",
    "             \"Portugal\", \"United States\", \"Singapore\", \"South Korea\", \"Japan\", \n",
    "             \"Brazil\", \"Iran\", 'Netherlands', 'Belgium', 'Sweden', \n",
    "             'Switzerland', 'Norway', 'Denmark', 'Austria', 'Slovenia', 'Greece',\n",
    "             'Cyprus']\n",
    "data_countries = []\n",
    "data_countries_pc = []\n",
    "\n",
    "MIN_DEATHS = 10\n",
    "filter_min_dead = data_pc.total_cases < MIN_DEATHS\n",
    "data_pc = data_pc.drop(data_pc[filter_min_dead].index)\n",
    "\n",
    "# compute per habitant\n",
    "for i in countries:\n",
    "    data_pc.loc[data_pc.location == i,\"total_cases\"] = data_pc.loc[data_pc.location == i,\"total_cases\"]/float(data_pop.loc[data_pop.country == i, \"pop\"])\n",
    "\n",
    "    # get each country time series\n",
    "filter1 = data_pc[\"total_cases\"] > 1\n",
    "for i in countries:\n",
    "    filter_country = data_pc[\"location\"]== i\n",
    "    data_countries_pc.append(data_pc[filter_country & filter1])"
   ]
  },
  {
   "cell_type": "code",
   "execution_count": 3,
   "metadata": {
    "papermill": {
     "duration": 16.903907,
     "end_time": "2020-03-27T18:35:58.561299",
     "exception": false,
     "start_time": "2020-03-27T18:35:41.657392",
     "status": "completed"
    },
    "tags": []
   },
   "outputs": [
    {
     "ename": "ImportError",
     "evalue": "selenium package is required for saving chart as png",
     "output_type": "error",
     "traceback": [
      "\u001b[1;31m---------------------------------------------------------------------------\u001b[0m",
      "\u001b[1;31mModuleNotFoundError\u001b[0m                       Traceback (most recent call last)",
      "\u001b[1;32mC:\\ProgramData\\Anaconda3\\lib\\site-packages\\altair\\utils\\headless.py\u001b[0m in \u001b[0;36mcompile_spec\u001b[1;34m(spec, format, mode, vega_version, vegaembed_version, vegalite_version, scale_factor, driver_timeout, webdriver)\u001b[0m\n\u001b[0;32m    114\u001b[0m     \u001b[1;32mtry\u001b[0m\u001b[1;33m:\u001b[0m\u001b[1;33m\u001b[0m\u001b[1;33m\u001b[0m\u001b[0m\n\u001b[1;32m--> 115\u001b[1;33m         \u001b[1;32mimport\u001b[0m \u001b[0mselenium\u001b[0m\u001b[1;33m.\u001b[0m\u001b[0mwebdriver\u001b[0m\u001b[1;33m\u001b[0m\u001b[1;33m\u001b[0m\u001b[0m\n\u001b[0m\u001b[0;32m    116\u001b[0m     \u001b[1;32mexcept\u001b[0m \u001b[0mImportError\u001b[0m\u001b[1;33m:\u001b[0m\u001b[1;33m\u001b[0m\u001b[1;33m\u001b[0m\u001b[0m\n",
      "\u001b[1;31mModuleNotFoundError\u001b[0m: No module named 'selenium'",
      "\nDuring handling of the above exception, another exception occurred:\n",
      "\u001b[1;31mImportError\u001b[0m                               Traceback (most recent call last)",
      "\u001b[1;32m<ipython-input-3-fcf1e34474e8>\u001b[0m in \u001b[0;36m<module>\u001b[1;34m\u001b[0m\n\u001b[0;32m     73\u001b[0m \u001b[1;33m.\u001b[0m\u001b[0mconfigure_axis\u001b[0m\u001b[1;33m(\u001b[0m\u001b[0mlabelFontSize\u001b[0m\u001b[1;33m=\u001b[0m\u001b[1;36m15\u001b[0m\u001b[1;33m,\u001b[0m\u001b[0mtitleFontSize\u001b[0m\u001b[1;33m=\u001b[0m\u001b[1;36m18\u001b[0m\u001b[1;33m)\u001b[0m\u001b[1;33m\u001b[0m\u001b[1;33m\u001b[0m\u001b[0m\n\u001b[0;32m     74\u001b[0m )\n\u001b[1;32m---> 75\u001b[1;33m \u001b[0mplot1\u001b[0m\u001b[1;33m.\u001b[0m\u001b[0msave\u001b[0m\u001b[1;33m(\u001b[0m\u001b[1;33m(\u001b[0m\u001b[1;34m\"../images/covid-permillion-trajectories.png\"\u001b[0m\u001b[1;33m)\u001b[0m\u001b[1;33m)\u001b[0m\u001b[1;33m\u001b[0m\u001b[1;33m\u001b[0m\u001b[0m\n\u001b[0m\u001b[0;32m     76\u001b[0m \u001b[0mplot1\u001b[0m\u001b[1;33m\u001b[0m\u001b[1;33m\u001b[0m\u001b[0m\n",
      "\u001b[1;32mC:\\ProgramData\\Anaconda3\\lib\\site-packages\\altair\\vegalite\\v4\\api.py\u001b[0m in \u001b[0;36msave\u001b[1;34m(self, fp, format, override_data_transformer, scale_factor, vegalite_version, vega_version, vegaembed_version, **kwargs)\u001b[0m\n\u001b[0;32m    445\u001b[0m         \u001b[1;32mif\u001b[0m \u001b[0moverride_data_transformer\u001b[0m\u001b[1;33m:\u001b[0m\u001b[1;33m\u001b[0m\u001b[1;33m\u001b[0m\u001b[0m\n\u001b[0;32m    446\u001b[0m             \u001b[1;32mwith\u001b[0m \u001b[0mdata_transformers\u001b[0m\u001b[1;33m.\u001b[0m\u001b[0mdisable_max_rows\u001b[0m\u001b[1;33m(\u001b[0m\u001b[1;33m)\u001b[0m\u001b[1;33m:\u001b[0m\u001b[1;33m\u001b[0m\u001b[1;33m\u001b[0m\u001b[0m\n\u001b[1;32m--> 447\u001b[1;33m                 \u001b[0mresult\u001b[0m \u001b[1;33m=\u001b[0m \u001b[0msave\u001b[0m\u001b[1;33m(\u001b[0m\u001b[1;33m**\u001b[0m\u001b[0mkwds\u001b[0m\u001b[1;33m)\u001b[0m\u001b[1;33m\u001b[0m\u001b[1;33m\u001b[0m\u001b[0m\n\u001b[0m\u001b[0;32m    448\u001b[0m         \u001b[1;32melse\u001b[0m\u001b[1;33m:\u001b[0m\u001b[1;33m\u001b[0m\u001b[1;33m\u001b[0m\u001b[0m\n\u001b[0;32m    449\u001b[0m             \u001b[0mresult\u001b[0m \u001b[1;33m=\u001b[0m \u001b[0msave\u001b[0m\u001b[1;33m(\u001b[0m\u001b[1;33m**\u001b[0m\u001b[0mkwds\u001b[0m\u001b[1;33m)\u001b[0m\u001b[1;33m\u001b[0m\u001b[1;33m\u001b[0m\u001b[0m\n",
      "\u001b[1;32mC:\\ProgramData\\Anaconda3\\lib\\site-packages\\altair\\utils\\save.py\u001b[0m in \u001b[0;36msave\u001b[1;34m(chart, fp, vega_version, vegaembed_version, format, mode, vegalite_version, embed_options, json_kwds, webdriver, scale_factor, **kwargs)\u001b[0m\n\u001b[0;32m    100\u001b[0m                                         \u001b[0mvegaembed_version\u001b[0m\u001b[1;33m=\u001b[0m\u001b[0mvegaembed_version\u001b[0m\u001b[1;33m,\u001b[0m\u001b[1;33m\u001b[0m\u001b[1;33m\u001b[0m\u001b[0m\n\u001b[0;32m    101\u001b[0m                                         \u001b[0mwebdriver\u001b[0m\u001b[1;33m=\u001b[0m\u001b[0mwebdriver\u001b[0m\u001b[1;33m,\u001b[0m\u001b[1;33m\u001b[0m\u001b[1;33m\u001b[0m\u001b[0m\n\u001b[1;32m--> 102\u001b[1;33m                                         scale_factor=scale_factor, **kwargs)\n\u001b[0m\u001b[0;32m    103\u001b[0m         \u001b[1;32mif\u001b[0m \u001b[0mformat\u001b[0m \u001b[1;33m==\u001b[0m \u001b[1;34m'png'\u001b[0m\u001b[1;33m:\u001b[0m\u001b[1;33m\u001b[0m\u001b[1;33m\u001b[0m\u001b[0m\n\u001b[0;32m    104\u001b[0m             \u001b[0mwrite_file_or_filename\u001b[0m\u001b[1;33m(\u001b[0m\u001b[0mfp\u001b[0m\u001b[1;33m,\u001b[0m \u001b[0mmimebundle\u001b[0m\u001b[1;33m[\u001b[0m\u001b[1;34m'image/png'\u001b[0m\u001b[1;33m]\u001b[0m\u001b[1;33m,\u001b[0m \u001b[0mmode\u001b[0m\u001b[1;33m=\u001b[0m\u001b[1;34m'wb'\u001b[0m\u001b[1;33m)\u001b[0m\u001b[1;33m\u001b[0m\u001b[1;33m\u001b[0m\u001b[0m\n",
      "\u001b[1;32mC:\\ProgramData\\Anaconda3\\lib\\site-packages\\altair\\utils\\mimebundle.py\u001b[0m in \u001b[0;36mspec_to_mimebundle\u001b[1;34m(spec, format, mode, vega_version, vegaembed_version, vegalite_version, **kwargs)\u001b[0m\n\u001b[0;32m     54\u001b[0m                               \u001b[0mvega_version\u001b[0m\u001b[1;33m=\u001b[0m\u001b[0mvega_version\u001b[0m\u001b[1;33m,\u001b[0m\u001b[1;33m\u001b[0m\u001b[1;33m\u001b[0m\u001b[0m\n\u001b[0;32m     55\u001b[0m                               \u001b[0mvegaembed_version\u001b[0m\u001b[1;33m=\u001b[0m\u001b[0mvegaembed_version\u001b[0m\u001b[1;33m,\u001b[0m\u001b[1;33m\u001b[0m\u001b[1;33m\u001b[0m\u001b[0m\n\u001b[1;32m---> 56\u001b[1;33m                               vegalite_version=vegalite_version, **kwargs)\n\u001b[0m\u001b[0;32m     57\u001b[0m         \u001b[1;32mif\u001b[0m \u001b[0mformat\u001b[0m \u001b[1;33m==\u001b[0m \u001b[1;34m'png'\u001b[0m\u001b[1;33m:\u001b[0m\u001b[1;33m\u001b[0m\u001b[1;33m\u001b[0m\u001b[0m\n\u001b[0;32m     58\u001b[0m             \u001b[0mrender\u001b[0m \u001b[1;33m=\u001b[0m \u001b[0mbase64\u001b[0m\u001b[1;33m.\u001b[0m\u001b[0mb64decode\u001b[0m\u001b[1;33m(\u001b[0m\u001b[0mrender\u001b[0m\u001b[1;33m.\u001b[0m\u001b[0msplit\u001b[0m\u001b[1;33m(\u001b[0m\u001b[1;34m','\u001b[0m\u001b[1;33m,\u001b[0m \u001b[1;36m1\u001b[0m\u001b[1;33m)\u001b[0m\u001b[1;33m[\u001b[0m\u001b[1;36m1\u001b[0m\u001b[1;33m]\u001b[0m\u001b[1;33m.\u001b[0m\u001b[0mencode\u001b[0m\u001b[1;33m(\u001b[0m\u001b[1;33m)\u001b[0m\u001b[1;33m)\u001b[0m\u001b[1;33m\u001b[0m\u001b[1;33m\u001b[0m\u001b[0m\n",
      "\u001b[1;32mC:\\ProgramData\\Anaconda3\\lib\\site-packages\\altair\\utils\\headless.py\u001b[0m in \u001b[0;36mcompile_spec\u001b[1;34m(spec, format, mode, vega_version, vegaembed_version, vegalite_version, scale_factor, driver_timeout, webdriver)\u001b[0m\n\u001b[0;32m    116\u001b[0m     \u001b[1;32mexcept\u001b[0m \u001b[0mImportError\u001b[0m\u001b[1;33m:\u001b[0m\u001b[1;33m\u001b[0m\u001b[1;33m\u001b[0m\u001b[0m\n\u001b[0;32m    117\u001b[0m         raise ImportError(\"selenium package is required \"\n\u001b[1;32m--> 118\u001b[1;33m                           \"for saving chart as {}\".format(format))\n\u001b[0m\u001b[0;32m    119\u001b[0m \u001b[1;33m\u001b[0m\u001b[0m\n\u001b[0;32m    120\u001b[0m     \u001b[1;32mif\u001b[0m \u001b[0mformat\u001b[0m \u001b[1;32mnot\u001b[0m \u001b[1;32min\u001b[0m \u001b[1;33m[\u001b[0m\u001b[1;34m'png'\u001b[0m\u001b[1;33m,\u001b[0m \u001b[1;34m'svg'\u001b[0m\u001b[1;33m,\u001b[0m \u001b[1;34m'vega'\u001b[0m\u001b[1;33m]\u001b[0m\u001b[1;33m:\u001b[0m\u001b[1;33m\u001b[0m\u001b[1;33m\u001b[0m\u001b[0m\n",
      "\u001b[1;31mImportError\u001b[0m: selenium package is required for saving chart as png"
     ]
    }
   ],
   "source": [
    "#hide_input\n",
    "# Stack data to get it to Altair dataframe format\n",
    "data_countries_pc2 = data_countries_pc.copy()\n",
    "for i in range(0,len(countries)):\n",
    "    data_countries_pc2[i] = data_countries_pc2[i].reset_index()\n",
    "    data_countries_pc2[i]['n_days'] = data_countries_pc2[i].index\n",
    "    data_countries_pc2[i]['log_cases'] = np.log(data_countries_pc2[i][\"total_cases\"])\n",
    "data_plot = data_countries_pc2[0]\n",
    "for i in range(1, len(countries)):    \n",
    "    data_plot = pd.concat([data_plot, data_countries_pc2[i]], axis=0)\n",
    "data_plot[\"trend_2days\"] = np.log(2)/2*data_plot[\"n_days\"]\n",
    "data_plot[\"trend_4days\"] = np.log(2)/4*data_plot[\"n_days\"]\n",
    "data_plot[\"trend_12days\"] = np.log(2)/12*data_plot[\"n_days\"]\n",
    "data_plot[\"trend_2days_label\"] = \"Doubles every 2 days\"\n",
    "data_plot[\"trend_4days_label\"] = \"Doubles evey 4 days\"\n",
    "data_plot[\"trend_12days_label\"] = \"Doubles every 12 days\"\n",
    "\n",
    "\n",
    "# Plot it using Altair\n",
    "source = data_plot\n",
    "\n",
    "scales = alt.selection_interval(bind='scales')\n",
    "selection = alt.selection_multi(fields=['location'], bind='legend')\n",
    "\n",
    "base = alt.Chart(source, title = \"COVID-19 Deaths Per Million of Inhabitants\").encode(\n",
    "    x = alt.X('n_days:Q', title = \"Days passed since reaching 1 death per million\"),\n",
    "    y = alt.Y(\"log_cases:Q\",title = \"Log of deaths per million\"),\n",
    "    color = alt.Color('location:N', legend=alt.Legend(title=\"Country\", labelFontSize=15, titleFontSize=17),\n",
    "                     scale=alt.Scale(scheme='tableau20')),\n",
    "    opacity = alt.condition(selection, alt.value(1), alt.value(0.1))\n",
    ")\n",
    "\n",
    "lines = base.mark_line().add_selection(\n",
    "    scales\n",
    ").add_selection(\n",
    "    selection\n",
    ").properties(\n",
    "    width=chart_width,\n",
    "    height=chart_height\n",
    ")\n",
    "\n",
    "trend_2d = alt.Chart(source).encode(\n",
    "    x = \"n_days:Q\",\n",
    "    y = alt.Y(\"trend_2days:Q\",  scale=alt.Scale(domain=(0, max(data_plot[\"log_cases\"])))),\n",
    ").mark_line(color=\"grey\", strokeDash=[3,3])\n",
    "\n",
    "\n",
    "labels = pd.DataFrame([{'label': 'Doubles every 2 days', 'x_coord': 6, 'y_coord': 4},\n",
    "                       {'label': 'Doubles every 4 days', 'x_coord': 16, 'y_coord': 3.5},\n",
    "                       {'label': 'Doubles every 12 days', 'x_coord': 25, 'y_coord': 1.8},\n",
    "                      ])\n",
    "trend_label = (alt.Chart(labels)\n",
    "                    .mark_text(align='left', dx=-55, dy=-15, fontSize=12, color=\"grey\")\n",
    "                    .encode(x='x_coord:Q',\n",
    "                            y='y_coord:Q',\n",
    "                            text='label:N')\n",
    "                   )\n",
    "\n",
    "trend_4d = alt.Chart(source).mark_line(color=\"grey\", strokeDash=[3,3]).encode(\n",
    "    x = \"n_days:Q\",\n",
    "    y = alt.Y(\"trend_4days:Q\",  scale=alt.Scale(domain=(0, max(data_plot[\"log_cases\"])))),\n",
    ")\n",
    "\n",
    "trend_12d = alt.Chart(source).mark_line(color=\"grey\", strokeDash=[3,3]).encode(\n",
    "    x = \"n_days:Q\",\n",
    "    y = alt.Y(\"trend_12days:Q\",  scale=alt.Scale(domain=(0, max(data_plot[\"log_cases\"])))),\n",
    ")\n",
    "\n",
    "\n",
    "plot1= (\n",
    "(trend_2d + trend_4d + trend_12d + trend_label + lines)\n",
    ".configure_title(fontSize=20)\n",
    ".configure_axis(labelFontSize=15,titleFontSize=18)\n",
    ")\n",
    "plot1.save((\"../images/covid-permillion-trajectories.png\"))\n",
    "plot1"
   ]
  },
  {
   "cell_type": "markdown",
   "metadata": {
    "papermill": {
     "duration": 0.010729,
     "end_time": "2020-03-27T18:35:58.582871",
     "exception": false,
     "start_time": "2020-03-27T18:35:58.572142",
     "status": "completed"
    },
    "tags": []
   },
   "source": [
    "Last Available Total Deaths By Country:"
   ]
  },
  {
   "cell_type": "code",
   "execution_count": null,
   "metadata": {
    "papermill": {
     "duration": 0.047954,
     "end_time": "2020-03-27T18:35:58.641151",
     "exception": false,
     "start_time": "2020-03-27T18:35:58.593197",
     "status": "completed"
    },
    "tags": []
   },
   "outputs": [],
   "source": [
    "#hide_input\n",
    "label = 'Deaths'\n",
    "temp = pd.concat([x.copy() for x in data_countries_pc]).loc[lambda x: x.date >= '3/1/2020']\n",
    "\n",
    "metric_name = f'{label} per Million'\n",
    "temp.columns = ['Country', 'date', metric_name]\n",
    "# temp.loc[:, 'month'] = temp.date.dt.strftime('%Y-%m')\n",
    "temp.loc[:, f'Log of {label} per Million'] = temp[f'{label} per Million'].apply(lambda x: np.log(x))\n",
    "\n",
    "temp.groupby('Country').last()"
   ]
  },
  {
   "cell_type": "code",
   "execution_count": null,
   "metadata": {
    "papermill": {
     "duration": 5.085777,
     "end_time": "2020-03-27T18:36:03.738024",
     "exception": false,
     "start_time": "2020-03-27T18:35:58.652247",
     "status": "completed"
    },
    "tags": []
   },
   "outputs": [],
   "source": [
    "#hide\n",
    "# Get data and clean it\n",
    "\n",
    "data = pd.read_csv(\"https://raw.githubusercontent.com/CSSEGISandData/COVID-19/master/csse_covid_19_data/csse_covid_19_time_series/time_series_covid19_confirmed_global.csv\", error_bad_lines=False)\n",
    "data = data.drop(columns=[\"Lat\", \"Long\"])\n",
    "data = data.melt(id_vars= [\"Province/State\", \"Country/Region\"])\n",
    "data = pd.DataFrame(data.groupby(['Country/Region', \"variable\"]).sum())\n",
    "data.reset_index(inplace=True)  \n",
    "data = data.rename(columns={\"Country/Region\": \"location\", \"variable\": \"date\", \"value\": \"total_cases\"})\n",
    "data['date'] =pd.to_datetime(data.date)\n",
    "data = data.sort_values(by = \"date\")\n",
    "data.loc[data.location == \"US\",\"location\"] = \"United States\"\n",
    "data.loc[data.location == \"Korea, South\",\"location\"] = \"South Korea\"\n",
    "\n",
    "# Population data (last year is 2017 which is what we use)\n",
    "data_pwt = pd.read_stata(\"https://www.rug.nl/ggdc/docs/pwt91.dta\")\n",
    "\n",
    "filter1 = data_pwt[\"year\"] == 2017\n",
    "data_pop = data_pwt[filter1]\n",
    "data_pop = data_pop[[\"country\",\"pop\"]]\n",
    "data_pop.loc[data_pop.country == \"Republic of Korea\",\"country\"] = \"South Korea\"\n",
    "data_pop.loc[data_pop.country == \"Iran (Islamic Republic of)\",\"country\"] = \"Iran\"\n",
    "\n",
    "# per habitant\n",
    "data_pc = data.copy()\n",
    "\n",
    "# I can add more countries if needed\n",
    "countries = [\"China\", \"Italy\", \"Spain\", \"France\", \"United Kingdom\", \"Germany\", \n",
    "             \"Portugal\", \"United States\", \"Singapore\",\"South Korea\", \"Japan\", \n",
    "             \"Brazil\",\"Iran\"]\n",
    "\n",
    "data_countries = []\n",
    "data_countries_pc = []\n",
    "\n",
    "# compute per habitant\n",
    "for i in countries:\n",
    "    data_pc.loc[data_pc.location == i,\"total_cases\"] = data_pc.loc[data_pc.location == i,\"total_cases\"]/float(data_pop.loc[data_pop.country == i, \"pop\"])\n",
    "    \n",
    "# get each country time series\n",
    "filter1 = data_pc[\"total_cases\"] > 1\n",
    "\n",
    "for i in countries:\n",
    "    filter_country = data_pc[\"location\"]== i\n",
    "    data_countries_pc.append(data_pc[filter_country & filter1])"
   ]
  },
  {
   "cell_type": "markdown",
   "metadata": {
    "papermill": {
     "duration": 0.011217,
     "end_time": "2020-03-27T18:36:03.760558",
     "exception": false,
     "start_time": "2020-03-27T18:36:03.749341",
     "status": "completed"
    },
    "tags": []
   },
   "source": [
    "## Appendix\n",
    "\n",
    "> Warning: The following chart, \"Cases Per Million of Habitants\" is biased depending on how widely a country administers tests. Please read with caution."
   ]
  },
  {
   "cell_type": "markdown",
   "metadata": {
    "papermill": {
     "duration": 0.010751,
     "end_time": "2020-03-27T18:36:03.783079",
     "exception": false,
     "start_time": "2020-03-27T18:36:03.772328",
     "status": "completed"
    },
    "tags": []
   },
   "source": [
    "### Cases Per Million of Habitants\n"
   ]
  },
  {
   "cell_type": "code",
   "execution_count": null,
   "metadata": {
    "papermill": {
     "duration": 0.240119,
     "end_time": "2020-03-27T18:36:04.034001",
     "exception": false,
     "start_time": "2020-03-27T18:36:03.793882",
     "status": "completed"
    },
    "tags": []
   },
   "outputs": [],
   "source": [
    "#hide_input\n",
    "# Stack data to get it to Altair dataframe format\n",
    "data_countries_pc2 = data_countries_pc.copy()\n",
    "for i in range(0,len(countries)):\n",
    "    data_countries_pc2[i] = data_countries_pc2[i].reset_index()\n",
    "    data_countries_pc2[i]['n_days'] = data_countries_pc2[i].index\n",
    "    data_countries_pc2[i]['log_cases'] = np.log(data_countries_pc2[i][\"total_cases\"])\n",
    "data_plot = data_countries_pc2[0]\n",
    "for i in range(1, len(countries)):    \n",
    "    data_plot = pd.concat([data_plot, data_countries_pc2[i]], axis=0)\n",
    "data_plot[\"trend_2days\"] = np.log(2)/2*data_plot[\"n_days\"]\n",
    "data_plot[\"trend_4days\"] = np.log(2)/4*data_plot[\"n_days\"]\n",
    "data_plot[\"trend_12days\"] = np.log(2)/12*data_plot[\"n_days\"]\n",
    "data_plot[\"trend_2days_label\"] = \"Doubles every 2 days\"\n",
    "data_plot[\"trend_4days_label\"] = \"Doubles evey 4 days\"\n",
    "data_plot[\"trend_12days_label\"] = \"Doubles every 12 days\"\n",
    "\n",
    "\n",
    "# Plot it using Altair\n",
    "source = data_plot\n",
    "\n",
    "scales = alt.selection_interval(bind='scales')\n",
    "selection = alt.selection_multi(fields=['location'], bind='legend')\n",
    "\n",
    "base = alt.Chart(source, title = \"COVID-19 Confirmed Cases Per Million of Inhabitants\").encode(\n",
    "    x = alt.X('n_days:Q', title = \"Days passed since reaching 1 case per million\"),\n",
    "    y = alt.Y(\"log_cases:Q\",title = \"Log of confirmed cases per million\"),\n",
    "    color = alt.Color('location:N', legend=alt.Legend(title=\"Country\", labelFontSize=15, titleFontSize=17),\n",
    "                     scale=alt.Scale(scheme='tableau20')),\n",
    "    opacity = alt.condition(selection, alt.value(1), alt.value(0.1))\n",
    ").properties(\n",
    "    width=chart_width,\n",
    "    height=chart_height\n",
    ")\n",
    "\n",
    "lines = base.mark_line().add_selection(\n",
    "    scales\n",
    ").add_selection(\n",
    "    selection\n",
    ")\n",
    "\n",
    "trend_2d = alt.Chart(source).encode(\n",
    "    x = \"n_days:Q\",\n",
    "    y = alt.Y(\"trend_2days:Q\",  scale=alt.Scale(domain=(0, max(data_plot[\"log_cases\"])))),\n",
    ").mark_line( strokeDash=[3,3], color=\"grey\")\n",
    "\n",
    "labels = pd.DataFrame([{'label': 'Doubles every 2 days', 'x_coord': 10, 'y_coord': 6},\n",
    "                       {'label': 'Doubles every 4 days', 'x_coord': 28, 'y_coord': 6},\n",
    "                       {'label': 'Doubles every 12 days', 'x_coord': 45, 'y_coord': 3},\n",
    "                      ])\n",
    "trend_label = (alt.Chart(labels)\n",
    "                    .mark_text(align='left', dx=-55, dy=-15, fontSize=12, color=\"grey\")\n",
    "                    .encode(x='x_coord:Q',\n",
    "                            y='y_coord:Q',\n",
    "                            text='label:N')\n",
    "                   )\n",
    "\n",
    "\n",
    "trend_4d = alt.Chart(source).mark_line(color=\"grey\", strokeDash=[3,3]).encode(\n",
    "    x = \"n_days:Q\",\n",
    "    y = alt.Y(\"trend_4days:Q\",  scale=alt.Scale(domain=(0, max(data_plot[\"log_cases\"])))),\n",
    ")\n",
    "\n",
    "trend_12d = alt.Chart(source).mark_line(color=\"grey\", strokeDash=[3,3]).encode(\n",
    "    x = \"n_days:Q\",\n",
    "    y = alt.Y(\"trend_12days:Q\",  scale=alt.Scale(domain=(0, max(data_plot[\"log_cases\"])))),\n",
    ")\n",
    "\n",
    "(\n",
    "(trend_2d  + trend_4d + trend_12d + trend_label + lines)\n",
    ".configure_title(fontSize=20)\n",
    ".configure_axis(labelFontSize=15,titleFontSize=18)\n",
    ")"
   ]
  },
  {
   "cell_type": "markdown",
   "metadata": {
    "papermill": {
     "duration": 0.013946,
     "end_time": "2020-03-27T18:36:04.062177",
     "exception": false,
     "start_time": "2020-03-27T18:36:04.048231",
     "status": "completed"
    },
    "tags": []
   },
   "source": [
    "Last Available Cases Per Million By Country:"
   ]
  },
  {
   "cell_type": "code",
   "execution_count": null,
   "metadata": {
    "papermill": {
     "duration": 0.042322,
     "end_time": "2020-03-27T18:36:04.118129",
     "exception": false,
     "start_time": "2020-03-27T18:36:04.075807",
     "status": "completed"
    },
    "tags": []
   },
   "outputs": [],
   "source": [
    "#hide_input\n",
    "label = 'Cases'\n",
    "temp = pd.concat([x.copy() for x in data_countries_pc]).loc[lambda x: x.date >= '3/1/2020']\n",
    "\n",
    "metric_name = f'{label} per Million'\n",
    "temp.columns = ['Country', 'date', metric_name]\n",
    "# temp.loc[:, 'month'] = temp.date.dt.strftime('%Y-%m')\n",
    "temp.loc[:, f'Log of {label} per Million'] = temp[f'{label} per Million'].apply(lambda x: np.log(x))\n",
    "\n",
    "temp.groupby('Country').last()"
   ]
  },
  {
   "cell_type": "markdown",
   "metadata": {
    "papermill": {
     "duration": 0.014236,
     "end_time": "2020-03-27T18:36:04.146721",
     "exception": false,
     "start_time": "2020-03-27T18:36:04.132485",
     "status": "completed"
    },
    "tags": []
   },
   "source": [
    "Data Source: [\"2019 Novel Coronavirus COVID-19 (2019-nCoV) Data Repository by Johns Hopkins CSSE\"](https://systems.jhu.edu/research/public-health/ncov/) [GitHub repository](https://github.com/CSSEGISandData/COVID-19). \n",
    "\n",
    "Research: [Feenstra, Robert C., Robert Inklaar and Marcel P. Timmer (2015), \"The Next Generation of the Penn World Table\" American Economic Review, 105(10), 3150-3182](https://www.rug.nl/ggdc/productivity/pwt/related-research)"
   ]
  },
  {
   "cell_type": "code",
   "execution_count": null,
   "metadata": {
    "papermill": {
     "duration": 0.014342,
     "end_time": "2020-03-27T18:36:04.175744",
     "exception": false,
     "start_time": "2020-03-27T18:36:04.161402",
     "status": "completed"
    },
    "tags": []
   },
   "outputs": [],
   "source": []
  }
 ],
 "metadata": {
  "kernelspec": {
   "display_name": "Python 3",
   "language": "python",
   "name": "python3"
  },
  "language_info": {
   "codemirror_mode": {
    "name": "ipython",
    "version": 3
   },
   "file_extension": ".py",
   "mimetype": "text/x-python",
   "name": "python",
   "nbconvert_exporter": "python",
   "pygments_lexer": "ipython3",
   "version": "3.7.6"
  },
  "papermill": {
   "duration": 29.596337,
   "end_time": "2020-03-27T18:36:04.194780",
   "environment_variables": {},
   "exception": null,
   "input_path": "2020-03-19-cases-and-deaths-per-million.ipynb",
   "output_path": "2020-03-19-cases-and-deaths-per-million.ipynb",
   "parameters": {},
   "start_time": "2020-03-27T18:35:34.598443",
   "version": "2.0.0"
  },
  "toc": {
   "base_numbering": 1,
   "nav_menu": {},
   "number_sections": true,
   "sideBar": true,
   "skip_h1_title": false,
   "title_cell": "Table of Contents",
   "title_sidebar": "Contents",
   "toc_cell": false,
   "toc_position": {},
   "toc_section_display": true,
   "toc_window_display": false
  },
  "varInspector": {
   "cols": {
    "lenName": 16,
    "lenType": 16,
    "lenVar": 40
   },
   "kernels_config": {
    "python": {
     "delete_cmd_postfix": "",
     "delete_cmd_prefix": "del ",
     "library": "var_list.py",
     "varRefreshCmd": "print(var_dic_list())"
    },
    "r": {
     "delete_cmd_postfix": ") ",
     "delete_cmd_prefix": "rm(",
     "library": "var_list.r",
     "varRefreshCmd": "cat(var_dic_list()) "
    }
   },
   "types_to_exclude": [
    "module",
    "function",
    "builtin_function_or_method",
    "instance",
    "_Feature"
   ],
   "window_display": false
  }
 },
 "nbformat": 4,
 "nbformat_minor": 2
}
