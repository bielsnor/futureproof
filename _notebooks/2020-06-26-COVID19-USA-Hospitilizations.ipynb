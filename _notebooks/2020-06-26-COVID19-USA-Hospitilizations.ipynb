{
 "cells": [
  {
   "cell_type": "markdown",
   "metadata": {},
   "source": [
    "# Hospitalizations by State\n",
    "\n",
    "- comments: false\n",
    "- author: Ryan Gomez\n",
    "- toc: true\n",
    "- categories: [growth, compare, hospitalizations]\n",
    "- image: images/covid-compare-country-death-hos.png\n",
    "- permalink: /futureproof-COVID19-us-hosp/"
   ]
  },
  {
   "cell_type": "code",
   "execution_count": 1,
   "metadata": {},
   "outputs": [
    {
     "name": "stderr",
     "output_type": "stream",
     "text": [
      "c:\\programdata\\anaconda3\\lib\\site-packages\\sklearn\\utils\\deprecation.py:144: FutureWarning: The sklearn.utils.testing module is  deprecated in version 0.22 and will be removed in version 0.24. The corresponding classes / functions should instead be imported from sklearn.utils. Anything that cannot be imported from sklearn.utils is now part of the private API.\n",
      "  warnings.warn(message, FutureWarning)\n"
     ]
    }
   ],
   "source": [
    "# Imports\n",
    "import os\n",
    "import pandas as pd\n",
    "import csv\n",
    "import kaggle\n",
    "\n",
    "# other imports\n",
    "import numpy as np \n",
    "import matplotlib.pyplot as plt\n",
    "from sklearn.model_selection import train_test_split\n",
    "from sklearn.model_selection import GridSearchCV\n",
    "from sklearn.linear_model import ElasticNet\n",
    "from sklearn.linear_model import LinearRegression\n",
    "from sklearn.preprocessing import PolynomialFeatures\n",
    "from sklearn.metrics import mean_squared_error, mean_absolute_error, classification_report\n",
    "from sklearn.utils.testing import ignore_warnings\n",
    "from sklearn.exceptions import ConvergenceWarning\n",
    "from copy import copy\n",
    "import seaborn as sns\n",
    "from scipy.stats import norm\n",
    "import matplotlib.dates as mdates\n",
    "# import matplotlib.colors as mcolors\n",
    "# import random\n",
    "# import math\n",
    "# import time\n",
    "# from sklearn.linear_model import LinearRegression, BayesianRidge\n",
    "# from sklearn.model_selection import RandomizedSearchCV\n",
    "from sklearn.tree import DecisionTreeRegressor\n",
    "# from sklearn.svm import SVR\n",
    "from datetime import date, datetime\n",
    "from dateutil.parser import parse\n",
    "import us\n",
    "# import operator \n",
    "# plt.style.use('fivethirtyeight')\n",
    "import plotly.graph_objects as go\n",
    "from plotly.subplots import make_subplots\n",
    "%matplotlib inline "
   ]
  },
  {
   "cell_type": "markdown",
   "metadata": {},
   "source": [
    "# Covid Tracking Dataset (w/ hospitalised data)\n",
    "\n",
    "Source: https://covidtracking.com/"
   ]
  },
  {
   "cell_type": "markdown",
   "metadata": {},
   "source": [
    "## Load and Clean the Data"
   ]
  },
  {
   "cell_type": "code",
   "execution_count": 2,
   "metadata": {},
   "outputs": [],
   "source": [
    "all_cases = pd.read_csv('https://covidtracking.com/api/v1/states/daily.csv')\n",
    "\n",
    "# Delete unecessary rows\n",
    "for row in ['negative', 'pending', 'hash', 'negativeIncrease', 'totalTestResults', 'totalTestResultsIncrease', 'dateChecked', 'fips', 'inIcuCumulative', 'onVentilatorCumulative', 'total', 'posNeg', 'deathIncrease', 'hospitalizedIncrease', 'positiveIncrease']:\n",
    "    del all_cases[row]\n",
    "\n",
    "# TODO missing values\n",
    "#      Do we get avg or missing values, or predict them?\n",
    "#      See https://developerzen.com/data-mining-handling-missing-values-the-database-bd2241882e72\n",
    "\n",
    "for i, row in all_cases.iterrows():\n",
    "    # Set Dates\n",
    "    s = str(row['date'])\n",
    "    all_cases.at[i, 'date'] = date(year=int(s[0:4]), month=int(s[4:6]), day=int(s[6:8]))\n",
    "\n",
    "# Missing death figures means no death reports yet\n",
    "# These are set to 0\n",
    "for i, row in all_cases.iterrows():\n",
    "    if np.isnan(row['death']):\n",
    "        all_cases.at[i, 'death'] = 0"
   ]
  },
  {
   "cell_type": "markdown",
   "metadata": {},
   "source": [
    "## Missing values: Retrieving from other datasets or through merging columns (or both)\n",
    "\n",
    "The following will be done:\n",
    "- **Active Cases**: Retrieved from JHU dataset and calculating $active = pos-dead-recovered$\n",
    "- **Beds per State**: Retrieved from External Datasets"
   ]
  },
  {
   "cell_type": "code",
   "execution_count": 3,
   "metadata": {},
   "outputs": [],
   "source": [
    "# TODO Replace active cases with JHU and/or regression model (Selma)\n",
    "all_cases['active'] = all_cases['positive'] - all_cases['recovered'] - all_cases['death']\n",
    "# change location of 'active' column\n",
    "cols = list(all_cases)\n",
    "cols.insert(3, cols.pop(cols.index('active')))\n",
    "all_cases = all_cases.loc[:, cols]"
   ]
  },
  {
   "cell_type": "code",
   "execution_count": 4,
   "metadata": {},
   "outputs": [],
   "source": [
    "# Load datasets for US population and Hospital beds per 1000\n",
    "us_population = pd.read_csv('data/us_population.csv')\n",
    "hosp_beds = pd.read_csv('data/hospital_beds.csv')\n",
    "state_abbrev = pd.read_csv('data/us_state_names.csv')\n",
    "\n",
    "# add state abbreviations to us_population and hospital beds dataframe\n",
    "for state in state_abbrev['State'].tolist():\n",
    "    # store state abbreviation in variable\n",
    "    abbrev = state_abbrev.loc[state_abbrev['State'] == state, 'Abbreviation'].tolist()[0]\n",
    "    # add abbrev to new column 'Abbreviation' in us_population df\n",
    "    us_population.loc[us_population['State'] == state, 'Abbreviation'] = abbrev\n",
    "    # add abbrev to new column in hosp_beds df\n",
    "    hosp_beds.loc[hosp_beds['Location'] == state, 'Abbreviation'] = abbrev\n",
    "    \n",
    "# change order of columns of us_population\n",
    "cols = list(us_population)\n",
    "cols.insert(2, cols.pop(cols.index('Abbreviation')))\n",
    "us_population = us_population.loc[:, cols]\n",
    "\n",
    "# drop unnecessary columns of us_population\n",
    "us_population = us_population.drop(columns=['rank', 'Growth', 'Pop2018', 'Pop2010', 'growthSince2010', 'Percent', 'density'])\n",
    "\n",
    "# drop unnecessary columns of hosp_beds\n",
    "hosp_beds = hosp_beds.drop(columns=['Location', 'State/Local Government', 'Non-Profit', 'For-Profit'])\n",
    "\n",
    "# change order of columns of hosp_beds\n",
    "cols = list(hosp_beds)\n",
    "cols.insert(0, cols.pop(cols.index('Abbreviation')))\n",
    "hosp_beds = hosp_beds.loc[:, cols]"
   ]
  },
  {
   "cell_type": "code",
   "execution_count": 5,
   "metadata": {},
   "outputs": [
    {
     "data": {
      "text/html": [
       "<div>\n",
       "<style scoped>\n",
       "    .dataframe tbody tr th:only-of-type {\n",
       "        vertical-align: middle;\n",
       "    }\n",
       "\n",
       "    .dataframe tbody tr th {\n",
       "        vertical-align: top;\n",
       "    }\n",
       "\n",
       "    .dataframe thead th {\n",
       "        text-align: right;\n",
       "    }\n",
       "</style>\n",
       "<table border=\"1\" class=\"dataframe\">\n",
       "  <thead>\n",
       "    <tr style=\"text-align: right;\">\n",
       "      <th></th>\n",
       "      <th>State</th>\n",
       "      <th>Abbreviation</th>\n",
       "      <th>Pop</th>\n",
       "    </tr>\n",
       "  </thead>\n",
       "  <tbody>\n",
       "    <tr>\n",
       "      <th>0</th>\n",
       "      <td>Alabama</td>\n",
       "      <td>AL</td>\n",
       "      <td>4908621</td>\n",
       "    </tr>\n",
       "    <tr>\n",
       "      <th>1</th>\n",
       "      <td>Alaska</td>\n",
       "      <td>AK</td>\n",
       "      <td>734002</td>\n",
       "    </tr>\n",
       "    <tr>\n",
       "      <th>2</th>\n",
       "      <td>Arizona</td>\n",
       "      <td>AZ</td>\n",
       "      <td>7378494</td>\n",
       "    </tr>\n",
       "    <tr>\n",
       "      <th>3</th>\n",
       "      <td>Arkansas</td>\n",
       "      <td>AR</td>\n",
       "      <td>3038999</td>\n",
       "    </tr>\n",
       "    <tr>\n",
       "      <th>4</th>\n",
       "      <td>California</td>\n",
       "      <td>CA</td>\n",
       "      <td>39937489</td>\n",
       "    </tr>\n",
       "  </tbody>\n",
       "</table>\n",
       "</div>"
      ],
      "text/plain": [
       "        State Abbreviation       Pop\n",
       "0     Alabama           AL   4908621\n",
       "1      Alaska           AK    734002\n",
       "2     Arizona           AZ   7378494\n",
       "3    Arkansas           AR   3038999\n",
       "4  California           CA  39937489"
      ]
     },
     "execution_count": 5,
     "metadata": {},
     "output_type": "execute_result"
    }
   ],
   "source": [
    "us_population.head()"
   ]
  },
  {
   "cell_type": "code",
   "execution_count": 6,
   "metadata": {},
   "outputs": [
    {
     "data": {
      "text/html": [
       "<div>\n",
       "<style scoped>\n",
       "    .dataframe tbody tr th:only-of-type {\n",
       "        vertical-align: middle;\n",
       "    }\n",
       "\n",
       "    .dataframe tbody tr th {\n",
       "        vertical-align: top;\n",
       "    }\n",
       "\n",
       "    .dataframe thead th {\n",
       "        text-align: right;\n",
       "    }\n",
       "</style>\n",
       "<table border=\"1\" class=\"dataframe\">\n",
       "  <thead>\n",
       "    <tr style=\"text-align: right;\">\n",
       "      <th></th>\n",
       "      <th>Abbreviation</th>\n",
       "      <th>Total</th>\n",
       "    </tr>\n",
       "  </thead>\n",
       "  <tbody>\n",
       "    <tr>\n",
       "      <th>0</th>\n",
       "      <td>NaN</td>\n",
       "      <td>2.4</td>\n",
       "    </tr>\n",
       "    <tr>\n",
       "      <th>1</th>\n",
       "      <td>AL</td>\n",
       "      <td>3.1</td>\n",
       "    </tr>\n",
       "    <tr>\n",
       "      <th>2</th>\n",
       "      <td>AK</td>\n",
       "      <td>2.2</td>\n",
       "    </tr>\n",
       "    <tr>\n",
       "      <th>3</th>\n",
       "      <td>AZ</td>\n",
       "      <td>1.9</td>\n",
       "    </tr>\n",
       "    <tr>\n",
       "      <th>4</th>\n",
       "      <td>AR</td>\n",
       "      <td>3.2</td>\n",
       "    </tr>\n",
       "  </tbody>\n",
       "</table>\n",
       "</div>"
      ],
      "text/plain": [
       "  Abbreviation  Total\n",
       "0          NaN    2.4\n",
       "1           AL    3.1\n",
       "2           AK    2.2\n",
       "3           AZ    1.9\n",
       "4           AR    3.2"
      ]
     },
     "execution_count": 6,
     "metadata": {},
     "output_type": "execute_result"
    }
   ],
   "source": [
    "hosp_beds.head()"
   ]
  },
  {
   "cell_type": "code",
   "execution_count": 7,
   "metadata": {},
   "outputs": [],
   "source": [
    "# filter out non-existing states like 'AS'\n",
    "all_cases = all_cases[all_cases['state'].isin(state_abbrev['Abbreviation'].tolist())]"
   ]
  },
  {
   "cell_type": "code",
   "execution_count": 8,
   "metadata": {},
   "outputs": [
    {
     "data": {
      "text/html": [
       "<div>\n",
       "<style scoped>\n",
       "    .dataframe tbody tr th:only-of-type {\n",
       "        vertical-align: middle;\n",
       "    }\n",
       "\n",
       "    .dataframe tbody tr th {\n",
       "        vertical-align: top;\n",
       "    }\n",
       "\n",
       "    .dataframe thead th {\n",
       "        text-align: right;\n",
       "    }\n",
       "</style>\n",
       "<table border=\"1\" class=\"dataframe\">\n",
       "  <thead>\n",
       "    <tr style=\"text-align: right;\">\n",
       "      <th></th>\n",
       "      <th>date</th>\n",
       "      <th>state</th>\n",
       "      <th>positive</th>\n",
       "      <th>active</th>\n",
       "      <th>hospitalizedCurrently</th>\n",
       "      <th>hospitalizedCumulative</th>\n",
       "      <th>inIcuCurrently</th>\n",
       "      <th>onVentilatorCurrently</th>\n",
       "      <th>recovered</th>\n",
       "      <th>dataQualityGrade</th>\n",
       "      <th>...</th>\n",
       "      <th>totalTestsViral</th>\n",
       "      <th>positiveTestsViral</th>\n",
       "      <th>negativeTestsViral</th>\n",
       "      <th>positiveCasesViral</th>\n",
       "      <th>commercialScore</th>\n",
       "      <th>negativeRegularScore</th>\n",
       "      <th>negativeScore</th>\n",
       "      <th>positiveScore</th>\n",
       "      <th>score</th>\n",
       "      <th>grade</th>\n",
       "    </tr>\n",
       "  </thead>\n",
       "  <tbody>\n",
       "    <tr>\n",
       "      <th>0</th>\n",
       "      <td>2020-06-26</td>\n",
       "      <td>AK</td>\n",
       "      <td>836.0</td>\n",
       "      <td>303.0</td>\n",
       "      <td>12.0</td>\n",
       "      <td>NaN</td>\n",
       "      <td>NaN</td>\n",
       "      <td>2.0</td>\n",
       "      <td>519.0</td>\n",
       "      <td>A</td>\n",
       "      <td>...</td>\n",
       "      <td>101792.0</td>\n",
       "      <td>NaN</td>\n",
       "      <td>NaN</td>\n",
       "      <td>NaN</td>\n",
       "      <td>0</td>\n",
       "      <td>0</td>\n",
       "      <td>0</td>\n",
       "      <td>0</td>\n",
       "      <td>0</td>\n",
       "      <td>NaN</td>\n",
       "    </tr>\n",
       "    <tr>\n",
       "      <th>1</th>\n",
       "      <td>2020-06-26</td>\n",
       "      <td>AL</td>\n",
       "      <td>34183.0</td>\n",
       "      <td>14410.0</td>\n",
       "      <td>658.0</td>\n",
       "      <td>2653.0</td>\n",
       "      <td>NaN</td>\n",
       "      <td>NaN</td>\n",
       "      <td>18866.0</td>\n",
       "      <td>B</td>\n",
       "      <td>...</td>\n",
       "      <td>NaN</td>\n",
       "      <td>NaN</td>\n",
       "      <td>NaN</td>\n",
       "      <td>33717.0</td>\n",
       "      <td>0</td>\n",
       "      <td>0</td>\n",
       "      <td>0</td>\n",
       "      <td>0</td>\n",
       "      <td>0</td>\n",
       "      <td>NaN</td>\n",
       "    </tr>\n",
       "    <tr>\n",
       "      <th>2</th>\n",
       "      <td>2020-06-26</td>\n",
       "      <td>AR</td>\n",
       "      <td>18062.0</td>\n",
       "      <td>5695.0</td>\n",
       "      <td>284.0</td>\n",
       "      <td>1300.0</td>\n",
       "      <td>NaN</td>\n",
       "      <td>61.0</td>\n",
       "      <td>12127.0</td>\n",
       "      <td>A</td>\n",
       "      <td>...</td>\n",
       "      <td>NaN</td>\n",
       "      <td>NaN</td>\n",
       "      <td>NaN</td>\n",
       "      <td>18740.0</td>\n",
       "      <td>0</td>\n",
       "      <td>0</td>\n",
       "      <td>0</td>\n",
       "      <td>0</td>\n",
       "      <td>0</td>\n",
       "      <td>NaN</td>\n",
       "    </tr>\n",
       "    <tr>\n",
       "      <th>4</th>\n",
       "      <td>2020-06-26</td>\n",
       "      <td>AZ</td>\n",
       "      <td>66548.0</td>\n",
       "      <td>56624.0</td>\n",
       "      <td>2110.0</td>\n",
       "      <td>4514.0</td>\n",
       "      <td>581.0</td>\n",
       "      <td>312.0</td>\n",
       "      <td>8389.0</td>\n",
       "      <td>A+</td>\n",
       "      <td>...</td>\n",
       "      <td>479330.0</td>\n",
       "      <td>NaN</td>\n",
       "      <td>NaN</td>\n",
       "      <td>66055.0</td>\n",
       "      <td>0</td>\n",
       "      <td>0</td>\n",
       "      <td>0</td>\n",
       "      <td>0</td>\n",
       "      <td>0</td>\n",
       "      <td>NaN</td>\n",
       "    </tr>\n",
       "    <tr>\n",
       "      <th>5</th>\n",
       "      <td>2020-06-26</td>\n",
       "      <td>CA</td>\n",
       "      <td>200461.0</td>\n",
       "      <td>NaN</td>\n",
       "      <td>5639.0</td>\n",
       "      <td>NaN</td>\n",
       "      <td>1570.0</td>\n",
       "      <td>NaN</td>\n",
       "      <td>NaN</td>\n",
       "      <td>B</td>\n",
       "      <td>...</td>\n",
       "      <td>3771314.0</td>\n",
       "      <td>NaN</td>\n",
       "      <td>NaN</td>\n",
       "      <td>200461.0</td>\n",
       "      <td>0</td>\n",
       "      <td>0</td>\n",
       "      <td>0</td>\n",
       "      <td>0</td>\n",
       "      <td>0</td>\n",
       "      <td>NaN</td>\n",
       "    </tr>\n",
       "  </tbody>\n",
       "</table>\n",
       "<p>5 rows × 25 columns</p>\n",
       "</div>"
      ],
      "text/plain": [
       "         date state  positive   active  hospitalizedCurrently  \\\n",
       "0  2020-06-26    AK     836.0    303.0                   12.0   \n",
       "1  2020-06-26    AL   34183.0  14410.0                  658.0   \n",
       "2  2020-06-26    AR   18062.0   5695.0                  284.0   \n",
       "4  2020-06-26    AZ   66548.0  56624.0                 2110.0   \n",
       "5  2020-06-26    CA  200461.0      NaN                 5639.0   \n",
       "\n",
       "   hospitalizedCumulative  inIcuCurrently  onVentilatorCurrently  recovered  \\\n",
       "0                     NaN             NaN                    2.0      519.0   \n",
       "1                  2653.0             NaN                    NaN    18866.0   \n",
       "2                  1300.0             NaN                   61.0    12127.0   \n",
       "4                  4514.0           581.0                  312.0     8389.0   \n",
       "5                     NaN          1570.0                    NaN        NaN   \n",
       "\n",
       "  dataQualityGrade  ... totalTestsViral positiveTestsViral negativeTestsViral  \\\n",
       "0                A  ...        101792.0                NaN                NaN   \n",
       "1                B  ...             NaN                NaN                NaN   \n",
       "2                A  ...             NaN                NaN                NaN   \n",
       "4               A+  ...        479330.0                NaN                NaN   \n",
       "5                B  ...       3771314.0                NaN                NaN   \n",
       "\n",
       "   positiveCasesViral  commercialScore  negativeRegularScore  negativeScore  \\\n",
       "0                 NaN                0                     0              0   \n",
       "1             33717.0                0                     0              0   \n",
       "2             18740.0                0                     0              0   \n",
       "4             66055.0                0                     0              0   \n",
       "5            200461.0                0                     0              0   \n",
       "\n",
       "   positiveScore  score  grade  \n",
       "0              0      0    NaN  \n",
       "1              0      0    NaN  \n",
       "2              0      0    NaN  \n",
       "4              0      0    NaN  \n",
       "5              0      0    NaN  \n",
       "\n",
       "[5 rows x 25 columns]"
      ]
     },
     "execution_count": 8,
     "metadata": {},
     "output_type": "execute_result"
    }
   ],
   "source": [
    "# see what filtered dataframe looks like\n",
    "all_cases.head()"
   ]
  },
  {
   "cell_type": "code",
   "execution_count": 9,
   "metadata": {},
   "outputs": [],
   "source": [
    "# Split dataframes by date\n",
    "df_split_by_date = dict(tuple(all_cases.groupby('date')))\n",
    "\n",
    "# Split dataframes by state\n",
    "df_split_by_state = dict(tuple(all_cases.groupby('state')))"
   ]
  },
  {
   "cell_type": "code",
   "execution_count": 10,
   "metadata": {},
   "outputs": [],
   "source": [
    "# merge dataframes us_population and all_cases\n",
    "df_merge_uspop = all_cases.merge(us_population, how='left', left_on='state', right_on='Abbreviation')\n",
    "df_merge_uspop = df_merge_uspop.drop(columns=['Abbreviation'])\n",
    "df_merge_uspop = df_merge_uspop.rename(columns={'Pop': 'population'})\n",
    "\n",
    "# change location of 'population' column\n",
    "cols = list(df_merge_uspop)\n",
    "cols.insert(2, cols.pop(cols.index('population')))\n",
    "df_merge_uspop = df_merge_uspop.loc[:, cols]\n",
    "\n",
    "# merge dataframes hosp_beds and df_merge_uspop\n",
    "df_merge_hosp = df_merge_uspop.merge(hosp_beds, how='left', left_on='state', right_on='Abbreviation')\n",
    "df_merge_hosp = df_merge_hosp.drop(columns=['Abbreviation'])\n",
    "all_cases = df_merge_hosp.rename(columns={'Total': 'bedsPerThousand'})"
   ]
  },
  {
   "cell_type": "code",
   "execution_count": 11,
   "metadata": {},
   "outputs": [
    {
     "data": {
      "text/html": [
       "<div>\n",
       "<style scoped>\n",
       "    .dataframe tbody tr th:only-of-type {\n",
       "        vertical-align: middle;\n",
       "    }\n",
       "\n",
       "    .dataframe tbody tr th {\n",
       "        vertical-align: top;\n",
       "    }\n",
       "\n",
       "    .dataframe thead th {\n",
       "        text-align: right;\n",
       "    }\n",
       "</style>\n",
       "<table border=\"1\" class=\"dataframe\">\n",
       "  <thead>\n",
       "    <tr style=\"text-align: right;\">\n",
       "      <th></th>\n",
       "      <th>date</th>\n",
       "      <th>state</th>\n",
       "      <th>population</th>\n",
       "      <th>positive</th>\n",
       "      <th>active</th>\n",
       "      <th>hospitalizedCurrently</th>\n",
       "      <th>hospitalizedCumulative</th>\n",
       "      <th>inIcuCurrently</th>\n",
       "      <th>onVentilatorCurrently</th>\n",
       "      <th>recovered</th>\n",
       "      <th>...</th>\n",
       "      <th>negativeTestsViral</th>\n",
       "      <th>positiveCasesViral</th>\n",
       "      <th>commercialScore</th>\n",
       "      <th>negativeRegularScore</th>\n",
       "      <th>negativeScore</th>\n",
       "      <th>positiveScore</th>\n",
       "      <th>score</th>\n",
       "      <th>grade</th>\n",
       "      <th>State</th>\n",
       "      <th>bedsPerThousand</th>\n",
       "    </tr>\n",
       "  </thead>\n",
       "  <tbody>\n",
       "    <tr>\n",
       "      <th>0</th>\n",
       "      <td>2020-06-26</td>\n",
       "      <td>AK</td>\n",
       "      <td>734002</td>\n",
       "      <td>836.0</td>\n",
       "      <td>303.0</td>\n",
       "      <td>12.0</td>\n",
       "      <td>NaN</td>\n",
       "      <td>NaN</td>\n",
       "      <td>2.0</td>\n",
       "      <td>519.0</td>\n",
       "      <td>...</td>\n",
       "      <td>NaN</td>\n",
       "      <td>NaN</td>\n",
       "      <td>0</td>\n",
       "      <td>0</td>\n",
       "      <td>0</td>\n",
       "      <td>0</td>\n",
       "      <td>0</td>\n",
       "      <td>NaN</td>\n",
       "      <td>Alaska</td>\n",
       "      <td>2.2</td>\n",
       "    </tr>\n",
       "    <tr>\n",
       "      <th>1</th>\n",
       "      <td>2020-06-26</td>\n",
       "      <td>AL</td>\n",
       "      <td>4908621</td>\n",
       "      <td>34183.0</td>\n",
       "      <td>14410.0</td>\n",
       "      <td>658.0</td>\n",
       "      <td>2653.0</td>\n",
       "      <td>NaN</td>\n",
       "      <td>NaN</td>\n",
       "      <td>18866.0</td>\n",
       "      <td>...</td>\n",
       "      <td>NaN</td>\n",
       "      <td>33717.0</td>\n",
       "      <td>0</td>\n",
       "      <td>0</td>\n",
       "      <td>0</td>\n",
       "      <td>0</td>\n",
       "      <td>0</td>\n",
       "      <td>NaN</td>\n",
       "      <td>Alabama</td>\n",
       "      <td>3.1</td>\n",
       "    </tr>\n",
       "    <tr>\n",
       "      <th>2</th>\n",
       "      <td>2020-06-26</td>\n",
       "      <td>AR</td>\n",
       "      <td>3038999</td>\n",
       "      <td>18062.0</td>\n",
       "      <td>5695.0</td>\n",
       "      <td>284.0</td>\n",
       "      <td>1300.0</td>\n",
       "      <td>NaN</td>\n",
       "      <td>61.0</td>\n",
       "      <td>12127.0</td>\n",
       "      <td>...</td>\n",
       "      <td>NaN</td>\n",
       "      <td>18740.0</td>\n",
       "      <td>0</td>\n",
       "      <td>0</td>\n",
       "      <td>0</td>\n",
       "      <td>0</td>\n",
       "      <td>0</td>\n",
       "      <td>NaN</td>\n",
       "      <td>Arkansas</td>\n",
       "      <td>3.2</td>\n",
       "    </tr>\n",
       "    <tr>\n",
       "      <th>3</th>\n",
       "      <td>2020-06-26</td>\n",
       "      <td>AZ</td>\n",
       "      <td>7378494</td>\n",
       "      <td>66548.0</td>\n",
       "      <td>56624.0</td>\n",
       "      <td>2110.0</td>\n",
       "      <td>4514.0</td>\n",
       "      <td>581.0</td>\n",
       "      <td>312.0</td>\n",
       "      <td>8389.0</td>\n",
       "      <td>...</td>\n",
       "      <td>NaN</td>\n",
       "      <td>66055.0</td>\n",
       "      <td>0</td>\n",
       "      <td>0</td>\n",
       "      <td>0</td>\n",
       "      <td>0</td>\n",
       "      <td>0</td>\n",
       "      <td>NaN</td>\n",
       "      <td>Arizona</td>\n",
       "      <td>1.9</td>\n",
       "    </tr>\n",
       "    <tr>\n",
       "      <th>4</th>\n",
       "      <td>2020-06-26</td>\n",
       "      <td>CA</td>\n",
       "      <td>39937489</td>\n",
       "      <td>200461.0</td>\n",
       "      <td>NaN</td>\n",
       "      <td>5639.0</td>\n",
       "      <td>NaN</td>\n",
       "      <td>1570.0</td>\n",
       "      <td>NaN</td>\n",
       "      <td>NaN</td>\n",
       "      <td>...</td>\n",
       "      <td>NaN</td>\n",
       "      <td>200461.0</td>\n",
       "      <td>0</td>\n",
       "      <td>0</td>\n",
       "      <td>0</td>\n",
       "      <td>0</td>\n",
       "      <td>0</td>\n",
       "      <td>NaN</td>\n",
       "      <td>California</td>\n",
       "      <td>1.8</td>\n",
       "    </tr>\n",
       "  </tbody>\n",
       "</table>\n",
       "<p>5 rows × 28 columns</p>\n",
       "</div>"
      ],
      "text/plain": [
       "         date state  population  positive   active  hospitalizedCurrently  \\\n",
       "0  2020-06-26    AK      734002     836.0    303.0                   12.0   \n",
       "1  2020-06-26    AL     4908621   34183.0  14410.0                  658.0   \n",
       "2  2020-06-26    AR     3038999   18062.0   5695.0                  284.0   \n",
       "3  2020-06-26    AZ     7378494   66548.0  56624.0                 2110.0   \n",
       "4  2020-06-26    CA    39937489  200461.0      NaN                 5639.0   \n",
       "\n",
       "   hospitalizedCumulative  inIcuCurrently  onVentilatorCurrently  recovered  \\\n",
       "0                     NaN             NaN                    2.0      519.0   \n",
       "1                  2653.0             NaN                    NaN    18866.0   \n",
       "2                  1300.0             NaN                   61.0    12127.0   \n",
       "3                  4514.0           581.0                  312.0     8389.0   \n",
       "4                     NaN          1570.0                    NaN        NaN   \n",
       "\n",
       "   ... negativeTestsViral positiveCasesViral commercialScore  \\\n",
       "0  ...                NaN                NaN               0   \n",
       "1  ...                NaN            33717.0               0   \n",
       "2  ...                NaN            18740.0               0   \n",
       "3  ...                NaN            66055.0               0   \n",
       "4  ...                NaN           200461.0               0   \n",
       "\n",
       "  negativeRegularScore  negativeScore  positiveScore  score  grade  \\\n",
       "0                    0              0              0      0    NaN   \n",
       "1                    0              0              0      0    NaN   \n",
       "2                    0              0              0      0    NaN   \n",
       "3                    0              0              0      0    NaN   \n",
       "4                    0              0              0      0    NaN   \n",
       "\n",
       "        State  bedsPerThousand  \n",
       "0      Alaska              2.2  \n",
       "1     Alabama              3.1  \n",
       "2    Arkansas              3.2  \n",
       "3     Arizona              1.9  \n",
       "4  California              1.8  \n",
       "\n",
       "[5 rows x 28 columns]"
      ]
     },
     "execution_count": 11,
     "metadata": {},
     "output_type": "execute_result"
    }
   ],
   "source": [
    "all_cases.head()"
   ]
  },
  {
   "cell_type": "code",
   "execution_count": 12,
   "metadata": {},
   "outputs": [],
   "source": [
    "# Calculate the total beds, and add the column\n",
    "all_cases['total_beds'] = all_cases['population'] / 1000 * all_cases['bedsPerThousand']"
   ]
  },
  {
   "cell_type": "code",
   "execution_count": 13,
   "metadata": {},
   "outputs": [],
   "source": [
    "# change abbreviations to state names\n",
    "all_cases = all_cases.rename(columns={'state': 'abbrev'})\n",
    "all_cases = all_cases.rename(columns={'State': 'state'})"
   ]
  },
  {
   "cell_type": "code",
   "execution_count": 14,
   "metadata": {},
   "outputs": [],
   "source": [
    "# change location of 'state' column\n",
    "cols = list(all_cases)\n",
    "cols.insert(1, cols.pop(cols.index('state')))\n",
    "all_cases = all_cases.loc[:, cols]"
   ]
  },
  {
   "cell_type": "code",
   "execution_count": 15,
   "metadata": {},
   "outputs": [
    {
     "data": {
      "text/html": [
       "<div>\n",
       "<style scoped>\n",
       "    .dataframe tbody tr th:only-of-type {\n",
       "        vertical-align: middle;\n",
       "    }\n",
       "\n",
       "    .dataframe tbody tr th {\n",
       "        vertical-align: top;\n",
       "    }\n",
       "\n",
       "    .dataframe thead th {\n",
       "        text-align: right;\n",
       "    }\n",
       "</style>\n",
       "<table border=\"1\" class=\"dataframe\">\n",
       "  <thead>\n",
       "    <tr style=\"text-align: right;\">\n",
       "      <th></th>\n",
       "      <th>date</th>\n",
       "      <th>state</th>\n",
       "      <th>abbrev</th>\n",
       "      <th>population</th>\n",
       "      <th>positive</th>\n",
       "      <th>active</th>\n",
       "      <th>hospitalizedCurrently</th>\n",
       "      <th>hospitalizedCumulative</th>\n",
       "      <th>inIcuCurrently</th>\n",
       "      <th>onVentilatorCurrently</th>\n",
       "      <th>...</th>\n",
       "      <th>negativeTestsViral</th>\n",
       "      <th>positiveCasesViral</th>\n",
       "      <th>commercialScore</th>\n",
       "      <th>negativeRegularScore</th>\n",
       "      <th>negativeScore</th>\n",
       "      <th>positiveScore</th>\n",
       "      <th>score</th>\n",
       "      <th>grade</th>\n",
       "      <th>bedsPerThousand</th>\n",
       "      <th>total_beds</th>\n",
       "    </tr>\n",
       "  </thead>\n",
       "  <tbody>\n",
       "    <tr>\n",
       "      <th>0</th>\n",
       "      <td>2020-06-26</td>\n",
       "      <td>Alaska</td>\n",
       "      <td>AK</td>\n",
       "      <td>734002</td>\n",
       "      <td>836.0</td>\n",
       "      <td>303.0</td>\n",
       "      <td>12.0</td>\n",
       "      <td>NaN</td>\n",
       "      <td>NaN</td>\n",
       "      <td>2.0</td>\n",
       "      <td>...</td>\n",
       "      <td>NaN</td>\n",
       "      <td>NaN</td>\n",
       "      <td>0</td>\n",
       "      <td>0</td>\n",
       "      <td>0</td>\n",
       "      <td>0</td>\n",
       "      <td>0</td>\n",
       "      <td>NaN</td>\n",
       "      <td>2.2</td>\n",
       "      <td>1614.8044</td>\n",
       "    </tr>\n",
       "    <tr>\n",
       "      <th>1</th>\n",
       "      <td>2020-06-26</td>\n",
       "      <td>Alabama</td>\n",
       "      <td>AL</td>\n",
       "      <td>4908621</td>\n",
       "      <td>34183.0</td>\n",
       "      <td>14410.0</td>\n",
       "      <td>658.0</td>\n",
       "      <td>2653.0</td>\n",
       "      <td>NaN</td>\n",
       "      <td>NaN</td>\n",
       "      <td>...</td>\n",
       "      <td>NaN</td>\n",
       "      <td>33717.0</td>\n",
       "      <td>0</td>\n",
       "      <td>0</td>\n",
       "      <td>0</td>\n",
       "      <td>0</td>\n",
       "      <td>0</td>\n",
       "      <td>NaN</td>\n",
       "      <td>3.1</td>\n",
       "      <td>15216.7251</td>\n",
       "    </tr>\n",
       "    <tr>\n",
       "      <th>2</th>\n",
       "      <td>2020-06-26</td>\n",
       "      <td>Arkansas</td>\n",
       "      <td>AR</td>\n",
       "      <td>3038999</td>\n",
       "      <td>18062.0</td>\n",
       "      <td>5695.0</td>\n",
       "      <td>284.0</td>\n",
       "      <td>1300.0</td>\n",
       "      <td>NaN</td>\n",
       "      <td>61.0</td>\n",
       "      <td>...</td>\n",
       "      <td>NaN</td>\n",
       "      <td>18740.0</td>\n",
       "      <td>0</td>\n",
       "      <td>0</td>\n",
       "      <td>0</td>\n",
       "      <td>0</td>\n",
       "      <td>0</td>\n",
       "      <td>NaN</td>\n",
       "      <td>3.2</td>\n",
       "      <td>9724.7968</td>\n",
       "    </tr>\n",
       "    <tr>\n",
       "      <th>3</th>\n",
       "      <td>2020-06-26</td>\n",
       "      <td>Arizona</td>\n",
       "      <td>AZ</td>\n",
       "      <td>7378494</td>\n",
       "      <td>66548.0</td>\n",
       "      <td>56624.0</td>\n",
       "      <td>2110.0</td>\n",
       "      <td>4514.0</td>\n",
       "      <td>581.0</td>\n",
       "      <td>312.0</td>\n",
       "      <td>...</td>\n",
       "      <td>NaN</td>\n",
       "      <td>66055.0</td>\n",
       "      <td>0</td>\n",
       "      <td>0</td>\n",
       "      <td>0</td>\n",
       "      <td>0</td>\n",
       "      <td>0</td>\n",
       "      <td>NaN</td>\n",
       "      <td>1.9</td>\n",
       "      <td>14019.1386</td>\n",
       "    </tr>\n",
       "    <tr>\n",
       "      <th>4</th>\n",
       "      <td>2020-06-26</td>\n",
       "      <td>California</td>\n",
       "      <td>CA</td>\n",
       "      <td>39937489</td>\n",
       "      <td>200461.0</td>\n",
       "      <td>NaN</td>\n",
       "      <td>5639.0</td>\n",
       "      <td>NaN</td>\n",
       "      <td>1570.0</td>\n",
       "      <td>NaN</td>\n",
       "      <td>...</td>\n",
       "      <td>NaN</td>\n",
       "      <td>200461.0</td>\n",
       "      <td>0</td>\n",
       "      <td>0</td>\n",
       "      <td>0</td>\n",
       "      <td>0</td>\n",
       "      <td>0</td>\n",
       "      <td>NaN</td>\n",
       "      <td>1.8</td>\n",
       "      <td>71887.4802</td>\n",
       "    </tr>\n",
       "  </tbody>\n",
       "</table>\n",
       "<p>5 rows × 29 columns</p>\n",
       "</div>"
      ],
      "text/plain": [
       "         date       state abbrev  population  positive   active  \\\n",
       "0  2020-06-26      Alaska     AK      734002     836.0    303.0   \n",
       "1  2020-06-26     Alabama     AL     4908621   34183.0  14410.0   \n",
       "2  2020-06-26    Arkansas     AR     3038999   18062.0   5695.0   \n",
       "3  2020-06-26     Arizona     AZ     7378494   66548.0  56624.0   \n",
       "4  2020-06-26  California     CA    39937489  200461.0      NaN   \n",
       "\n",
       "   hospitalizedCurrently  hospitalizedCumulative  inIcuCurrently  \\\n",
       "0                   12.0                     NaN             NaN   \n",
       "1                  658.0                  2653.0             NaN   \n",
       "2                  284.0                  1300.0             NaN   \n",
       "3                 2110.0                  4514.0           581.0   \n",
       "4                 5639.0                     NaN          1570.0   \n",
       "\n",
       "   onVentilatorCurrently  ...  negativeTestsViral positiveCasesViral  \\\n",
       "0                    2.0  ...                 NaN                NaN   \n",
       "1                    NaN  ...                 NaN            33717.0   \n",
       "2                   61.0  ...                 NaN            18740.0   \n",
       "3                  312.0  ...                 NaN            66055.0   \n",
       "4                    NaN  ...                 NaN           200461.0   \n",
       "\n",
       "  commercialScore negativeRegularScore negativeScore  positiveScore  score  \\\n",
       "0               0                    0             0              0      0   \n",
       "1               0                    0             0              0      0   \n",
       "2               0                    0             0              0      0   \n",
       "3               0                    0             0              0      0   \n",
       "4               0                    0             0              0      0   \n",
       "\n",
       "   grade  bedsPerThousand  total_beds  \n",
       "0    NaN              2.2   1614.8044  \n",
       "1    NaN              3.1  15216.7251  \n",
       "2    NaN              3.2   9724.7968  \n",
       "3    NaN              1.9  14019.1386  \n",
       "4    NaN              1.8  71887.4802  \n",
       "\n",
       "[5 rows x 29 columns]"
      ]
     },
     "execution_count": 15,
     "metadata": {},
     "output_type": "execute_result"
    }
   ],
   "source": [
    "all_cases.head()"
   ]
  },
  {
   "cell_type": "markdown",
   "metadata": {},
   "source": [
    "- Load and clean JHU data\n",
    "- Merge JHU dataset with main dataset"
   ]
  },
  {
   "cell_type": "code",
   "execution_count": 16,
   "metadata": {},
   "outputs": [],
   "source": [
    "# This cell takes some time, as it needs to connect to Kaggle Servers to retrieve data\n",
    "kaggle.api.authenticate()\n",
    "kaggle.api.dataset_download_files('benhamner/jhucovid19', path='./kaggle/input/jhucovid19/', unzip=True)"
   ]
  },
  {
   "cell_type": "code",
   "execution_count": 17,
   "metadata": {
    "tags": []
   },
   "outputs": [
    {
     "data": {
      "text/html": [
       "<div>\n",
       "<style scoped>\n",
       "    .dataframe tbody tr th:only-of-type {\n",
       "        vertical-align: middle;\n",
       "    }\n",
       "\n",
       "    .dataframe tbody tr th {\n",
       "        vertical-align: top;\n",
       "    }\n",
       "\n",
       "    .dataframe thead th {\n",
       "        text-align: right;\n",
       "    }\n",
       "</style>\n",
       "<table border=\"1\" class=\"dataframe\">\n",
       "  <thead>\n",
       "    <tr style=\"text-align: right;\">\n",
       "      <th></th>\n",
       "      <th>LastUpdate</th>\n",
       "      <th>ProvinceState</th>\n",
       "      <th>Active</th>\n",
       "      <th>Confirmed</th>\n",
       "      <th>Deaths</th>\n",
       "      <th>Recovered</th>\n",
       "    </tr>\n",
       "  </thead>\n",
       "  <tbody>\n",
       "    <tr>\n",
       "      <th>5190</th>\n",
       "      <td>2020-06-19</td>\n",
       "      <td>Virginia</td>\n",
       "      <td>54652.0</td>\n",
       "      <td>56238.0</td>\n",
       "      <td>1586.0</td>\n",
       "      <td>0.0</td>\n",
       "    </tr>\n",
       "    <tr>\n",
       "      <th>5191</th>\n",
       "      <td>2020-06-19</td>\n",
       "      <td>Washington</td>\n",
       "      <td>25947.0</td>\n",
       "      <td>27192.0</td>\n",
       "      <td>1245.0</td>\n",
       "      <td>0.0</td>\n",
       "    </tr>\n",
       "    <tr>\n",
       "      <th>5192</th>\n",
       "      <td>2020-06-19</td>\n",
       "      <td>West Virginia</td>\n",
       "      <td>2330.0</td>\n",
       "      <td>2418.0</td>\n",
       "      <td>88.0</td>\n",
       "      <td>0.0</td>\n",
       "    </tr>\n",
       "    <tr>\n",
       "      <th>5193</th>\n",
       "      <td>2020-06-19</td>\n",
       "      <td>Wisconsin</td>\n",
       "      <td>23157.0</td>\n",
       "      <td>23876.0</td>\n",
       "      <td>719.0</td>\n",
       "      <td>0.0</td>\n",
       "    </tr>\n",
       "    <tr>\n",
       "      <th>5194</th>\n",
       "      <td>2020-06-19</td>\n",
       "      <td>Wyoming</td>\n",
       "      <td>1126.0</td>\n",
       "      <td>1144.0</td>\n",
       "      <td>18.0</td>\n",
       "      <td>0.0</td>\n",
       "    </tr>\n",
       "  </tbody>\n",
       "</table>\n",
       "</div>"
      ],
      "text/plain": [
       "      LastUpdate  ProvinceState   Active  Confirmed  Deaths  Recovered\n",
       "5190  2020-06-19       Virginia  54652.0    56238.0  1586.0        0.0\n",
       "5191  2020-06-19     Washington  25947.0    27192.0  1245.0        0.0\n",
       "5192  2020-06-19  West Virginia   2330.0     2418.0    88.0        0.0\n",
       "5193  2020-06-19      Wisconsin  23157.0    23876.0   719.0        0.0\n",
       "5194  2020-06-19        Wyoming   1126.0     1144.0    18.0        0.0"
      ]
     },
     "execution_count": 17,
     "metadata": {},
     "output_type": "execute_result"
    }
   ],
   "source": [
    "# Get Time-Series Data of cases as Pandas DataFrame\n",
    "dir_jhu = './kaggle/input/jhucovid19/csse_covid_19_data/csse_covid_19_daily_reports'\n",
    "\n",
    "df_list = []\n",
    "for dirname, _, files in os.walk(dir_jhu):\n",
    "    for file in files:\n",
    "        if 'gitignore' not in file and 'README' not in file:\n",
    "            full_dir = os.path.join(dirname, file)\n",
    "            df_list.append(pd.read_csv(full_dir))\n",
    "            \n",
    "jhu_df = pd.concat(df_list, axis=0, ignore_index=True, sort=True)\n",
    "\n",
    "# convert Last Update columns to datetime format\n",
    "jhu_df.loc[:, 'Last Update'] = pd.to_datetime(jhu_df['Last Update']).apply(lambda x: x.date())\n",
    "jhu_df.loc[:, 'Last_Update'] = pd.to_datetime(jhu_df['Last_Update']).apply(lambda x: x.date())\n",
    "\n",
    "# Combine Last Update with Last_Update\n",
    "jhu_df['LastUpdate'] = jhu_df['Last_Update'].combine_first(jhu_df['Last Update'])\n",
    "\n",
    "# Combine Country/Region with Country_Region\n",
    "jhu_df['CountryRegion'] = jhu_df['Country/Region'].combine_first(jhu_df['Country_Region'])\n",
    "\n",
    "# Retrieve only US data\n",
    "jhu_df = jhu_df[jhu_df['CountryRegion']=='US']\n",
    "\n",
    "# Combine Province/State with Province_State\n",
    "jhu_df['ProvinceState'] = jhu_df['Province/State'].combine_first(jhu_df['Province_State'])\n",
    "\n",
    "# Drop unnecessary columns\n",
    "jhu_df = jhu_df.drop(['Admin2', 'Lat', 'Latitude', 'Long_', 'Longitude', 'Combined_Key', 'Country/Region',\n",
    "                      'Country_Region', 'Province/State', 'Province_State',\n",
    "                      'Last Update', 'Last_Update', 'FIPS'], axis=1)\n",
    "\n",
    "# Change column order\n",
    "cols = list(jhu_df)\n",
    "cols.insert(0, cols.pop(cols.index('CountryRegion')))\n",
    "cols.insert(1, cols.pop(cols.index('ProvinceState')))\n",
    "cols.insert(2, cols.pop(cols.index('LastUpdate')))\n",
    "jhu_df = jhu_df.loc[:, cols]\n",
    "\n",
    "# Change region to known US states\n",
    "state_abbrs_dict = {}\n",
    "for state in us.states.STATES:\n",
    "    state_abbrs_dict[state.abbr] = state.name\n",
    "\n",
    "def toState(input_state, mapping):\n",
    "    abbreviation = input_state.rstrip()[-2:]\n",
    "    try:\n",
    "        return_value = mapping[abbreviation]\n",
    "    except KeyError:\n",
    "        return_value = input_state\n",
    "    return return_value\n",
    "\n",
    "jhu_df['ProvinceState'] = jhu_df['ProvinceState'].apply(lambda x: toState(x, state_abbrs_dict) if x != 'Washington, D.C.' else 'District of Columbia')\n",
    "\n",
    "# Filter out unknown states\n",
    "jhu_df = jhu_df[jhu_df['ProvinceState'].isin(all_cases.state.unique().tolist())]\n",
    "\n",
    "# Merge-sum rows with same date and State\n",
    "jhu_df = jhu_df.groupby(['LastUpdate', 'ProvinceState']).agg(\n",
    "    {\n",
    "        'Active': sum,\n",
    "        'Confirmed': sum,\n",
    "        'Deaths': sum,\n",
    "        'Recovered': sum\n",
    "    }\n",
    ").reset_index()\n",
    "\n",
    "jhu_df.tail()"
   ]
  },
  {
   "cell_type": "code",
   "execution_count": null,
   "metadata": {},
   "outputs": [],
   "source": [
    "# Now that we have the JHU dataset relatively cleaned\n",
    "# we can go ahead and merge its data with our main dataset\n",
    "\n",
    "for i, row in all_cases.iterrows():\n",
    "    last_update = all_cases.at[i, 'date']\n",
    "    state = all_cases.at[i, 'state']\n",
    "    matching_row = jhu_df[jhu_df['ProvinceState'] == state]\n",
    "    matching_row = matching_row[matching_row['LastUpdate'] == last_update].reset_index()\n",
    "\n",
    "    if len(matching_row.values) > 0:\n",
    "        #all_cases.at[i, 'positive'] = matching_row['Confirmed'].values[0]\n",
    "        all_cases.at[i, 'active'] = matching_row['Active'].values[0]\n",
    "        #all_cases.at[i, 'recovered'] = matching_row['Recovered'].values[0]   --- JHU was inconsistent, therefore removed\n",
    "        #all_cases.at[i, 'death'] = matching_row['Deaths'].values[0]\n",
    "\n",
    "    # Replace unknown recovery numbers with 0\n",
    "    if np.isnan(row['recovered']):\n",
    "        all_cases.at[i, 'recovered'] = 0\n",
    "\n",
    "    if all_cases.at[i, 'active'] == 0 or np.isnan(row['active']):\n",
    "        positive = all_cases.at[i, 'positive']\n",
    "        recovered = all_cases.at[i, 'recovered']\n",
    "        dead = all_cases.at[i, 'death']\n",
    "        all_cases.at[i, 'active'] = positive - recovered - dead\n",
    "\n",
    "all_cases.tail()"
   ]
  },
  {
   "cell_type": "code",
   "execution_count": null,
   "metadata": {},
   "outputs": [],
   "source": [
    "# Save formatted dataset offline in case of disaster\n",
    "dataset_file = 'results/all_cases.csv'\n",
    "all_cases.to_csv(dataset_file)"
   ]
  },
  {
   "cell_type": "code",
   "execution_count": null,
   "metadata": {},
   "outputs": [],
   "source": [
    "# convert date to datetime format\n",
    "all_cases['date'] = pd.to_datetime(all_cases['date'])"
   ]
  },
  {
   "cell_type": "markdown",
   "metadata": {},
   "source": [
    "# An Exploratory data analysis of the US dataset\n",
    "# Basic triad of the dataset: validating data types and data integrity of each row\n"
   ]
  },
  {
   "cell_type": "code",
   "execution_count": null,
   "metadata": {},
   "outputs": [],
   "source": [
    "dataset_file = 'results/all_cases.csv'\n",
    "covid_df = pd.read_csv(dataset_file, index_col=0) \n",
    "# convert date to datetime format\n",
    "covid_df['date'] = pd.to_datetime(covid_df['date'])\n",
    "covid_df.info()\n",
    "# set float format to 3 decimals\n",
    "pd.set_option('display.float_format', lambda x: '%.3f' % x)"
   ]
  },
  {
   "cell_type": "code",
   "execution_count": null,
   "metadata": {},
   "outputs": [],
   "source": [
    "covid_df.head()"
   ]
  },
  {
   "cell_type": "markdown",
   "metadata": {},
   "source": [
    "The NaN values may indicate that there were no to few Covid-19 patients at these date points.\n",
    "We further analyse the statistical values of the dataset columns to ensure data integrity and accuracy. "
   ]
  },
  {
   "cell_type": "code",
   "execution_count": null,
   "metadata": {},
   "outputs": [],
   "source": [
    "covid_df.describe()\n",
    "# TODO rounding up the numbers"
   ]
  },
  {
   "cell_type": "code",
   "execution_count": null,
   "metadata": {},
   "outputs": [],
   "source": [
    "# drop unnecessary columns\n",
    "covid_cleaned = covid_df.drop(['hospitalized', 'bedsPerThousand'], axis=1)\n",
    "covid_100k = covid_cleaned.copy()\n",
    "# list of columns to transform to per 100k\n",
    "columns_list = ['positive', 'active', 'recovered', 'death', 'hospitalizedCurrently', 'hospitalizedCumulative', 'inIcuCurrently', 'onVentilatorCurrently', 'total_beds']\n",
    "# add columns per 100k\n",
    "for column in columns_list:\n",
    "    if column == 'total_beds':\n",
    "        covid_100k['BedsPer100k'.format(column)] = (covid_cleaned.loc[:, column] / covid_cleaned.loc[:, 'population']) * 100000\n",
    "    else:\n",
    "        covid_100k['{}_100k'.format(column)] = (covid_cleaned.loc[:, column] / covid_cleaned.loc[:, 'population']) * 100000\n",
    "\n",
    "covid_100k = covid_100k.drop(columns_list, axis=1)"
   ]
  },
  {
   "cell_type": "code",
   "execution_count": null,
   "metadata": {},
   "outputs": [],
   "source": [
    "covid_100k['date'] = pd.to_datetime(covid_100k['date'])\n",
    "start_date = '2020-04-18'\n",
    "end_date = '2020-05-19'\n",
    "mask = (covid_100k['date'] > start_date) & (covid_100k['date'] <= end_date)\n",
    "covid_100k_last_month = covid_100k.loc[mask]"
   ]
  },
  {
   "cell_type": "code",
   "execution_count": null,
   "metadata": {},
   "outputs": [],
   "source": [
    "covid_100k_last_month_part1 =  covid_100k_last_month.groupby('date').sum().loc[:, ['positive_100k','active_100k','recovered_100k','death_100k','hospitalizedCumulative_100k']].diff(periods=1, axis=0)\n",
    "\n",
    "covid_100k_last_month_part2 = covid_100k_last_month.groupby('date').sum().loc[:, ['inIcuCurrently_100k','onVentilatorCurrently_100k','BedsPer100k']]\n",
    "\n",
    "final_100k_last_month = covid_100k_last_month_part1.merge(covid_100k_last_month_part2, left_index=True, right_index=True)"
   ]
  },
  {
   "cell_type": "code",
   "execution_count": null,
   "metadata": {},
   "outputs": [],
   "source": [
    "final_100k_last_month.head()"
   ]
  },
  {
   "cell_type": "code",
   "execution_count": null,
   "metadata": {},
   "outputs": [],
   "source": [
    "final_100k_last_month.describe()"
   ]
  },
  {
   "cell_type": "code",
   "execution_count": null,
   "metadata": {},
   "outputs": [],
   "source": [
    "# save description cleaned dataset to csv\n",
    "describe_file = 'results/final_100k_last_month.csv'\n",
    "final_100k_last_month.describe().to_csv(describe_file)"
   ]
  },
  {
   "cell_type": "markdown",
   "metadata": {},
   "source": [
    "## Graphical Exploratory Analysis\n",
    "\n",
    "Plotting histograms, scatterplots and boxplots to assess the distribution of the entire US dataset. "
   ]
  },
  {
   "cell_type": "code",
   "execution_count": null,
   "metadata": {},
   "outputs": [],
   "source": [
    "# Omitting the categorical (states/abbreviations) and time columns \n",
    "# There must be an easier way for you, but this was the easiest way I could think of\n",
    "covid_cleaned['date'] = pd.to_datetime(covid_cleaned['date'])\n",
    "# mask data for last month\n",
    "start_date = '2020-04-18'\n",
    "end_date = '2020-05-19'\n",
    "mask = (covid_cleaned['date'] > start_date) & (covid_cleaned['date'] <= end_date)\n",
    "covid_cleaned_last_month = covid_cleaned.loc[mask]\n",
    "plot_df = covid_cleaned_last_month[['population', 'active', 'recovered', 'death', 'hospitalizedCurrently', 'inIcuCurrently', 'onVentilatorCurrently', 'total_beds']]\n",
    "plot_df_last_month = covid_100k_last_month[['population', 'active_100k', 'recovered_100k', 'death_100k', 'hospitalizedCurrently_100k', 'inIcuCurrently_100k', 'onVentilatorCurrently_100k', 'BedsPer100k']]"
   ]
  },
  {
   "cell_type": "code",
   "execution_count": null,
   "metadata": {},
   "outputs": [],
   "source": [
    "timeseries_usa_df = covid_100k.loc[:, ['date', 'positive_100k', 'active_100k', 'recovered_100k', 'death_100k', 'hospitalizedCurrently_100k', 'inIcuCurrently_100k', 'onVentilatorCurrently_100k', 'BedsPer100k']].groupby('date').sum().reset_index()\n",
    "# timeseries_usa_df['log_positive'] = np.log(timeseries_usa_df['positive_100k'])\n",
    "# timeseries_usa_df['log_active'] = np.log(timeseries_usa_df['active_100k'])\n",
    "# timeseries_usa_df['log_recovered'] = np.log(timeseries_usa_df['recovered_100k'])\n",
    "# timeseries_usa_df['log_death'] = np.log(timeseries_usa_df['death_100k'])"
   ]
  },
  {
   "cell_type": "code",
   "execution_count": null,
   "metadata": {},
   "outputs": [],
   "source": [
    "timeseries_usa_df.tail()"
   ]
  },
  {
   "cell_type": "code",
   "execution_count": null,
   "metadata": {},
   "outputs": [],
   "source": [
    "x_dates = timeseries_usa_df['date'].tolist()\n",
    "y_hospitalized = timeseries_usa_df['hospitalizedCurrently_100k'].tolist()\n",
    "y_icu = timeseries_usa_df['inIcuCurrently_100k'].tolist()\n",
    "y_pos = timeseries_usa_df['positive_100k'].tolist()\n",
    "y_act = timeseries_usa_df['active_100k'].tolist()\n",
    "y_rec = timeseries_usa_df['recovered_100k'].tolist()\n",
    "y_death = timeseries_usa_df['death_100k'].tolist()\n",
    "y_vent = timeseries_usa_df['onVentilatorCurrently_100k'].tolist()\n",
    "y_beds = timeseries_usa_df['BedsPer100k'].tolist()\n",
    "\n",
    "hospitalized_trace = go.Scatter(x=x_dates, y=y_hospitalized, name='Hospitalized')\n",
    "icu_trace = go.Scatter(x=x_dates, y=y_icu, name='ICU')\n",
    "pos_trace = go.Scatter(x=x_dates, y=y_pos, name='Positive')\n",
    "act_trace = go.Scatter(x=x_dates, y=y_act, name='Active')\n",
    "rec_trace = go.Scatter(x=x_dates, y=y_rec, name='Recovered')\n",
    "death_trace = go.Scatter(x=x_dates, y=y_death, name='Killed')\n",
    "vent_trace = go.Scatter(x=x_dates, y=y_vent, name='On Ventilator')\n",
    "beds_trace = go.Scatter(x=x_dates, y=y_beds, name='Beds')\n",
    "\n",
    "layout = go.Layout(xaxis_title='Date', yaxis_title='Count/100k', title_x=0.5, xaxis_tickformat = '%d-%m-%Y')\n",
    "fig = make_subplots(rows=1, cols=2)\n",
    "fig = go.Figure([hospitalized_trace, icu_trace, vent_trace], layout=layout)\n",
    "fig.show()\n",
    "fig = go.Figure([pos_trace, rec_trace, death_trace], layout=layout)\n",
    "fig.show()"
   ]
  },
  {
   "cell_type": "code",
   "execution_count": null,
   "metadata": {},
   "outputs": [],
   "source": [
    "# Timeseries plot\n",
    "fig, ax = plt.subplots(figsize = (16, 16))\n",
    "ax.plot(covid_df.date, covid_df.hospitalizedCurrently)\n",
    "ax.set_title('Number of USA Patients Currently in ICU')\n",
    "# TODO change the X-axis to chip the year\n",
    "# TODO which timeseries plots do we need?\n",
    "# TODO how to temporarily remove the outliers?"
   ]
  },
  {
   "cell_type": "code",
   "execution_count": null,
   "metadata": {},
   "outputs": [],
   "source": [
    "# get data from last day\n",
    "# plot_df_last_date = plot_df.loc[covid_df['date'] == '2020-05-18'] \n",
    "\n",
    "# Plotting histograms to gain insight of the distribution shape, skewness and scale\n",
    "fig, axs = plt.subplots(4,2,figsize = (16, 16))\n",
    "sns.set()\n",
    "for i, column in enumerate(plot_df_last_month.columns):\n",
    "    if (i + 1) % 2 == 0:\n",
    "        ax = axs[(i//2), 1]\n",
    "    else:\n",
    "        ax = axs[(i//2), 0]\n",
    "    sns.distplot(plot_df_last_month[column], fit=norm, fit_kws=dict(label='normality'), hist_kws=dict(color='plum', edgecolor='k', linewidth=1, label='frequency'), ax=ax, color='#9d53ad')\n",
    "    ax.legend(loc='upper right')\n",
    "plt.tight_layout()\n",
    "fig.subplots_adjust(top=0.95)"
   ]
  },
  {
   "cell_type": "code",
   "execution_count": null,
   "metadata": {},
   "outputs": [],
   "source": [
    "# Looking at linearity and variance with scatterplots\n",
    "# Removing the target variable and saving it in another df\n",
    "target = plot_df.hospitalizedCurrently\n",
    "indep_var = plot_df.drop(columns=['hospitalizedCurrently'])\n",
    "\n",
    "fig, ax = plt.subplots(figsize = (16, 16))\n",
    "for i, col in enumerate(indep_var.columns):\n",
    "    ax=fig.add_subplot(4, 3, i+1) \n",
    "    sns.regplot(x=indep_var[col], y=target, data=indep_var, label=col, scatter_kws={'s':10}, line_kws={\"color\": \"plum\", 'label': 'hospitCurr'})\n",
    "    plt.suptitle('Scatterplots with Target Hospitalized Patients Showing Growth Trajectories', fontsize=18)\n",
    "    plt.legend()\n",
    "plt.tight_layout()\n",
    "fig.subplots_adjust(top=0.95)"
   ]
  },
  {
   "cell_type": "code",
   "execution_count": null,
   "metadata": {},
   "outputs": [],
   "source": [
    "# Assessing the normality of the distribution with a boxplot\n",
    "# Boxplot with removed outliers\n",
    "fig, ax = plt.subplots(figsize = (16, 12))\n",
    "for i, col in enumerate(plot_df.columns):\n",
    "    ax=fig.add_subplot(4, 3, i+1) \n",
    "    sns.boxplot(x=plot_df[col], data=plot_df, color='lightblue', showfliers=False)\n",
    "    plt.suptitle('Boxplots of Independent Variables', fontsize=18)\n",
    "plt.tight_layout()\n",
    "fig.subplots_adjust(top=0.95)"
   ]
  },
  {
   "cell_type": "code",
   "execution_count": null,
   "metadata": {},
   "outputs": [],
   "source": [
    "# get data from last day\n",
    "plot_df_last_date = plot_df.loc[covid_df['date'] == '2020-05-18'] \n",
    "\n",
    "fig, ax = plt.subplots(figsize = (16, 12))\n",
    "for i, col in enumerate(plot_df_last_date.columns):\n",
    "    ax=fig.add_subplot(4, 3, i+1) \n",
    "    sns.boxplot(x=plot_df_last_date[col], data=plot_df, color='lightblue', showfliers=True)\n",
    "    plt.suptitle('Boxplots of Independent Variables', fontsize=18)\n",
    "plt.tight_layout()\n",
    "fig.subplots_adjust(top=0.95)"
   ]
  },
  {
   "cell_type": "markdown",
   "metadata": {},
   "source": [
    "## Analysis of Hospitalizations by State\n",
    "### Since the normality of the independent variables is highly variable do to temporal and precision differences from each state, we further assess each state's data by viewing trends on the independent variables in both scatter and box-and-whisker plots.  \n"
   ]
  },
  {
   "cell_type": "markdown",
   "metadata": {},
   "source": [
    "### New York:"
   ]
  },
  {
   "cell_type": "code",
   "execution_count": null,
   "metadata": {},
   "outputs": [],
   "source": [
    "# Split covid_df into subset with only NY values\n",
    "new_york = covid_df.loc[covid_df['abbrev'] == 'NY'] \n",
    "fig, ax = plt.subplots(figsize = (16, 12))\n",
    "# Timeseries plt\n",
    "plt.plot(new_york.date, new_york.hospitalizedCurrently)\n",
    "plt.title('Number of Patients in NY Currently Hospitalized')\n",
    "plt.xlabel('Date')\n",
    "plt.ylabel('No. Patients')\n",
    "\n",
    "# TODO the code below can be deleted once we fix the date format in plots\n",
    "#set ticks every week\n",
    "ax.xaxis.set_major_locator(mdates.WeekdayLocator())\n",
    "#set major ticks format\n",
    "ax.xaxis.set_major_formatter(mdates.DateFormatter('%m'))"
   ]
  },
  {
   "cell_type": "code",
   "execution_count": null,
   "metadata": {},
   "outputs": [],
   "source": [
    "# Omit the categorical and date cols \n",
    "new_york = new_york[['positive', 'active', 'hospitalizedCurrently', 'hospitalizedCumulative', 'inIcuCurrently', 'recovered', 'death', 'hospitalized']]"
   ]
  },
  {
   "cell_type": "code",
   "execution_count": null,
   "metadata": {
    "scrolled": true
   },
   "outputs": [],
   "source": [
    "# Scatter plots NY\n",
    "# Split dependent var from independent variables\n",
    "target_ny = new_york.hospitalizedCurrently\n",
    "indep_var_ny = new_york.drop(columns=['hospitalizedCurrently'])\n",
    "\n",
    "fig, ax = plt.subplots(figsize = (16, 16))\n",
    "for i, col in enumerate(indep_var_ny.columns):\n",
    "    ax=fig.add_subplot(3, 3, i+1) \n",
    "    sns.regplot(x=indep_var_ny[col], y=target_ny, data=indep_var_ny, label=col, scatter_kws={'s':10}, line_kws={\"color\": \"plum\"})\n",
    "    plt.suptitle('Distributions of Independent Variables NY', fontsize=18)\n",
    "plt.tight_layout()\n",
    "fig.subplots_adjust(top=0.95)\n"
   ]
  },
  {
   "cell_type": "code",
   "execution_count": null,
   "metadata": {},
   "outputs": [],
   "source": [
    "# Boxplot of NY\n",
    "fig, ax = plt.subplots(figsize = (16, 16))\n",
    "for i, col in enumerate(new_york.columns):\n",
    "    ax=fig.add_subplot(3, 3, i+1) \n",
    "    sns.boxplot(x=new_york[col], data=new_york, color='lightpink', showfliers=True)\n",
    "    plt.suptitle('Boxplots of Independent Variables NY', fontsize=18)\n",
    "plt.tight_layout()\n",
    "fig.subplots_adjust(top=0.95)"
   ]
  },
  {
   "cell_type": "markdown",
   "metadata": {},
   "source": [
    "### California:"
   ]
  },
  {
   "cell_type": "code",
   "execution_count": null,
   "metadata": {},
   "outputs": [],
   "source": [
    "cali = covid_df.loc[(covid_df['abbrev'] == 'CA') & (covid_df['state']== 'California')] \n"
   ]
  },
  {
   "cell_type": "code",
   "execution_count": null,
   "metadata": {},
   "outputs": [],
   "source": [
    "# TODO fix legend/axis/plot alltogether\n",
    "# Timeseries plt\n",
    "fig, ax = plt.subplots(figsize = (16, 12))\n",
    "plt.plot(cali.date, cali.hospitalizedCurrently)\n",
    "plt.title('Number of Patients in CA Currently Hospitalized')\n",
    "plt.xlabel('Date')\n",
    "plt.ylabel('No. Patients')"
   ]
  },
  {
   "cell_type": "code",
   "execution_count": null,
   "metadata": {},
   "outputs": [],
   "source": [
    "# Checking which cols have NaN values\n",
    "cali[['positive', 'active', 'hospitalizedCurrently', 'inIcuCurrently', 'recovered', 'death', 'hospitalized']]\n",
    "cali.head()\n",
    "\n",
    "# Omit the NaN cols\n",
    "cali = cali[['positive', 'active', 'hospitalizedCurrently', 'inIcuCurrently', 'recovered', 'death']]"
   ]
  },
  {
   "cell_type": "code",
   "execution_count": null,
   "metadata": {},
   "outputs": [],
   "source": [
    "# Scatter plots CA\n",
    "# Split dependent var from independent variables\n",
    "target_ca = cali.hospitalizedCurrently\n",
    "indep_var_ca = cali.drop(columns=['hospitalizedCurrently'])\n",
    "\n",
    "fig, ax = plt.subplots(figsize = (16, 16))\n",
    "for i, col in enumerate(indep_var_ca.columns):\n",
    "    ax=fig.add_subplot(2, 3, i+1) \n",
    "    sns.regplot(x=indep_var_ca[col], y=target_ca, data=indep_var_ca, label=col, scatter_kws={'s':10}, line_kws={\"color\": \"plum\"})\n",
    "    plt.suptitle('Distributions of Independent Variables CA', fontsize=18)\n",
    "plt.tight_layout()\n",
    "fig.subplots_adjust(top=0.95)"
   ]
  },
  {
   "cell_type": "code",
   "execution_count": null,
   "metadata": {},
   "outputs": [],
   "source": [
    "# Boxplot of CA\n",
    "fig, ax = plt.subplots(figsize = (16, 16))\n",
    "for i, col in enumerate(cali.columns):\n",
    "    ax=fig.add_subplot(3, 3, i+1) \n",
    "    sns.boxplot(x=cali[col], data=cali, color='lightpink', showfliers=True)\n",
    "    plt.suptitle('Boxplots of Independent Variables CA', fontsize=18)\n",
    "plt.tight_layout()\n",
    "fig.subplots_adjust(top=0.95)"
   ]
  },
  {
   "cell_type": "code",
   "execution_count": null,
   "metadata": {},
   "outputs": [],
   "source": [
    "###endcali"
   ]
  },
  {
   "cell_type": "markdown",
   "metadata": {},
   "source": [
    "### Texas:"
   ]
  },
  {
   "cell_type": "code",
   "execution_count": null,
   "metadata": {},
   "outputs": [],
   "source": [
    "texas = covid_df.loc[(covid_df['abbrev'] == 'TX') & (covid_df['state']== 'Texas')] \n"
   ]
  },
  {
   "cell_type": "code",
   "execution_count": null,
   "metadata": {},
   "outputs": [],
   "source": [
    "# TODO fix legend/axis/plot alltogether\n",
    "# Timeseries plt\n",
    "fig, ax = plt.subplots(figsize = (16, 12))\n",
    "plt.plot(texas.date, texas.hospitalizedCurrently)\n",
    "plt.title('Number of Patients in TX Currently Hospitalized')\n",
    "plt.xlabel('Date')\n",
    "plt.ylabel('No. Patients')"
   ]
  },
  {
   "cell_type": "code",
   "execution_count": null,
   "metadata": {},
   "outputs": [],
   "source": [
    "# Checking which cols have NaN values\n",
    "texas[['positive', 'active', 'hospitalizedCurrently', 'inIcuCurrently', 'recovered', 'death', 'hospitalized']]\n",
    "texas.head()\n",
    "\n",
    "# Omit the NaN cols\n",
    "texas = texas[['positive', 'active', 'hospitalizedCurrently', 'inIcuCurrently', 'recovered', 'death']]"
   ]
  },
  {
   "cell_type": "code",
   "execution_count": null,
   "metadata": {},
   "outputs": [],
   "source": [
    "# Scatter plots TX\n",
    "# Split dependent var from independent variables\n",
    "target_tx = texas.hospitalizedCurrently\n",
    "indep_var_tx = texas.drop(columns=['hospitalizedCurrently'])\n",
    "\n",
    "fig, ax = plt.subplots(figsize = (16, 16))\n",
    "for i, col in enumerate(indep_var_tx.columns):\n",
    "    ax=fig.add_subplot(2, 3, i+1) \n",
    "    sns.regplot(x=indep_var_tx[col], y=target_tx, data=indep_var_tx, label=col, scatter_kws={'s':10}, line_kws={\"color\": \"plum\"})\n",
    "    plt.suptitle('Distributions of Independent Variables TX', fontsize=18)\n",
    "plt.tight_layout()\n",
    "fig.subplots_adjust(top=0.95)"
   ]
  },
  {
   "cell_type": "code",
   "execution_count": null,
   "metadata": {},
   "outputs": [],
   "source": [
    "# Boxplot of TX\n",
    "fig, ax = plt.subplots(figsize = (16, 16))\n",
    "for i, col in enumerate(texas.columns):\n",
    "    ax=fig.add_subplot(3, 3, i+1) \n",
    "    sns.boxplot(x=texas[col], data=texas, color='lightpink', showfliers=True)\n",
    "    plt.suptitle('Boxplots of Independent Variables TX', fontsize=18)\n",
    "plt.tight_layout()\n",
    "fig.subplots_adjust(top=0.95)"
   ]
  },
  {
   "cell_type": "code",
   "execution_count": null,
   "metadata": {},
   "outputs": [],
   "source": [
    "###endtx"
   ]
  },
  {
   "cell_type": "markdown",
   "metadata": {},
   "source": [
    "### South Carolina:"
   ]
  },
  {
   "cell_type": "code",
   "execution_count": null,
   "metadata": {},
   "outputs": [],
   "source": [
    "sc = covid_df.loc[(covid_df['abbrev'] == 'SC') & (covid_df['state']== 'South Carolina')] \n"
   ]
  },
  {
   "cell_type": "code",
   "execution_count": null,
   "metadata": {},
   "outputs": [],
   "source": [
    "# TODO fix legend/axis/plot alltogether\n",
    "# Timeseries plt\n",
    "fig, ax = plt.subplots(figsize = (16, 12))\n",
    "plt.plot(sc.date, sc.hospitalizedCurrently)\n",
    "plt.title('Number of Patients in SC Currently Hospitalized')\n",
    "plt.xlabel('Date')\n",
    "plt.ylabel('No. Patients')"
   ]
  },
  {
   "cell_type": "code",
   "execution_count": null,
   "metadata": {},
   "outputs": [],
   "source": [
    "# Checking which cols have NaN values\n",
    "sc[['positive', 'active', 'hospitalizedCurrently', 'inIcuCurrently', 'recovered', 'death', 'hospitalized']]\n",
    "sc.head()\n",
    "\n",
    "# Omit the NaN cols\n",
    "sc = sc[['positive', 'active', 'hospitalizedCurrently', 'inIcuCurrently', 'recovered', 'death']]"
   ]
  },
  {
   "cell_type": "code",
   "execution_count": null,
   "metadata": {},
   "outputs": [],
   "source": [
    "# Scatter plots SC\n",
    "# Split dependent var from independent variables\n",
    "target_sc = sc.hospitalizedCurrently\n",
    "indep_var_sc = sc.drop(columns=['hospitalizedCurrently'])\n",
    "\n",
    "fig, ax = plt.subplots(figsize = (16, 16))\n",
    "for i, col in enumerate(indep_var_sc.columns):\n",
    "    ax=fig.add_subplot(2, 3, i+1) \n",
    "    sns.regplot(x=indep_var_sc[col], y=target_sc, data=indep_var_sc, label=col, scatter_kws={'s':10}, line_kws={\"color\": \"plum\"})\n",
    "    plt.suptitle('Distributions of Independent Variables SC', fontsize=18)\n",
    "plt.tight_layout()\n",
    "fig.subplots_adjust(top=0.95)"
   ]
  },
  {
   "cell_type": "code",
   "execution_count": null,
   "metadata": {},
   "outputs": [],
   "source": [
    "# Boxplot of SC\n",
    "fig, ax = plt.subplots(figsize = (16, 16))\n",
    "for i, col in enumerate(sc.columns):\n",
    "    ax=fig.add_subplot(3, 3, i+1) \n",
    "    sns.boxplot(x=sc[col], data=sc, color='lightpink', showfliers=True)\n",
    "    plt.suptitle('Boxplots of Independent Variables TX', fontsize=18)\n",
    "plt.tight_layout()\n",
    "fig.subplots_adjust(top=0.95)"
   ]
  },
  {
   "cell_type": "code",
   "execution_count": null,
   "metadata": {},
   "outputs": [],
   "source": [
    "###endsouthcarolina"
   ]
  },
  {
   "cell_type": "markdown",
   "metadata": {},
   "source": [
    "### Nevada:"
   ]
  },
  {
   "cell_type": "code",
   "execution_count": null,
   "metadata": {},
   "outputs": [],
   "source": [
    "nevada = covid_df.loc[(covid_df['abbrev'] == 'NV') & (covid_df['state']== 'Nevada')] \n"
   ]
  },
  {
   "cell_type": "code",
   "execution_count": null,
   "metadata": {},
   "outputs": [],
   "source": [
    "# TODO fix legend/axis/plot alltogether\n",
    "# Timeseries plt\n",
    "fig, ax = plt.subplots(figsize = (16, 12))\n",
    "plt.plot(nevada.date, nevada.hospitalizedCurrently)\n",
    "plt.title('Number of Patients in NV Currently Hospitalized')\n",
    "plt.xlabel('Date')\n",
    "plt.ylabel('No. Patients')"
   ]
  },
  {
   "cell_type": "code",
   "execution_count": null,
   "metadata": {},
   "outputs": [],
   "source": [
    "# Checking which cols have NaN values\n",
    "nevada[['positive', 'active', 'hospitalizedCurrently', 'inIcuCurrently', 'recovered', 'death', 'hospitalized']]\n",
    "nevada.head()\n",
    "\n",
    "# Omit the NaN cols\n",
    "nevada = nevada[['positive', 'active', 'hospitalizedCurrently', 'inIcuCurrently', 'recovered', 'death']]"
   ]
  },
  {
   "cell_type": "code",
   "execution_count": null,
   "metadata": {},
   "outputs": [],
   "source": [
    "# Scatter plots NV\n",
    "# Split dependent var from independent variables\n",
    "target_nv = nevada.hospitalizedCurrently\n",
    "indep_var_nv = nevada.drop(columns=['hospitalizedCurrently'])\n",
    "\n",
    "fig, ax = plt.subplots(figsize = (16, 16))\n",
    "for i, col in enumerate(indep_var_nv.columns):\n",
    "    ax=fig.add_subplot(2, 3, i+1) \n",
    "    sns.regplot(x=indep_var_nv[col], y=target_nv, data=indep_var_nv, label=col, scatter_kws={'s':10}, line_kws={\"color\": \"plum\"})\n",
    "    plt.suptitle('Distributions of Independent Variables NV', fontsize=18)\n",
    "plt.tight_layout()\n",
    "fig.subplots_adjust(top=0.95)"
   ]
  },
  {
   "cell_type": "code",
   "execution_count": null,
   "metadata": {},
   "outputs": [],
   "source": [
    "# Boxplot of NV\n",
    "fig, ax = plt.subplots(figsize = (16, 16))\n",
    "for i, col in enumerate(nevada.columns):\n",
    "    ax=fig.add_subplot(3, 3, i+1) \n",
    "    sns.boxplot(x=nevada[col], data=nevada, color='lightpink', showfliers=True)\n",
    "    plt.suptitle('Boxplots of Independent Variables NV', fontsize=18)\n",
    "plt.tight_layout()\n",
    "fig.subplots_adjust(top=0.95)"
   ]
  },
  {
   "cell_type": "code",
   "execution_count": null,
   "metadata": {},
   "outputs": [],
   "source": [
    "###endnevada"
   ]
  },
  {
   "cell_type": "markdown",
   "metadata": {},
   "source": [
    "### Arizona:"
   ]
  },
  {
   "cell_type": "code",
   "execution_count": null,
   "metadata": {},
   "outputs": [],
   "source": [
    "arizona = covid_df.loc[(covid_df['abbrev'] == 'AZ') & (covid_df['state']== 'Arizona')] \n"
   ]
  },
  {
   "cell_type": "code",
   "execution_count": null,
   "metadata": {},
   "outputs": [],
   "source": [
    "# TODO fix legend/axis/plot alltogether\n",
    "# Timeseries plt\n",
    "fig, ax = plt.subplots(figsize = (16, 12))\n",
    "plt.plot(arizona.date, arizona.hospitalizedCurrently)\n",
    "plt.title('Number of Patients in AZ Currently Hospitalized')\n",
    "plt.xlabel('Date')\n",
    "plt.ylabel('No. Patients')"
   ]
  },
  {
   "cell_type": "code",
   "execution_count": null,
   "metadata": {},
   "outputs": [],
   "source": [
    "# Checking which cols have NaN values\n",
    "arizona[['positive', 'active', 'hospitalizedCurrently', 'inIcuCurrently', 'recovered', 'death', 'hospitalized']]\n",
    "arizona.head()\n",
    "\n",
    "# Omit the NaN cols\n",
    "arizona = arizona[['positive', 'active', 'hospitalizedCurrently', 'inIcuCurrently', 'recovered', 'death']]"
   ]
  },
  {
   "cell_type": "code",
   "execution_count": null,
   "metadata": {},
   "outputs": [],
   "source": [
    "# Scatter plots AZ\n",
    "# Split dependent var from independent variables\n",
    "target_az = arizona.hospitalizedCurrently\n",
    "indep_var_az = arizona.drop(columns=['hospitalizedCurrently'])\n",
    "\n",
    "fig, ax = plt.subplots(figsize = (16, 16))\n",
    "for i, col in enumerate(indep_var_az.columns):\n",
    "    ax=fig.add_subplot(2, 3, i+1) \n",
    "    sns.regplot(x=indep_var_az[col], y=target_az, data=indep_var_az, label=col, scatter_kws={'s':10}, line_kws={\"color\": \"plum\"})\n",
    "    plt.suptitle('Distributions of Independent Variables AZ', fontsize=18)\n",
    "plt.tight_layout()\n",
    "fig.subplots_adjust(top=0.95)"
   ]
  },
  {
   "cell_type": "code",
   "execution_count": null,
   "metadata": {},
   "outputs": [],
   "source": [
    "# Boxplot of AZ\n",
    "fig, ax = plt.subplots(figsize = (16, 16))\n",
    "for i, col in enumerate(arizona.columns):\n",
    "    ax=fig.add_subplot(3, 3, i+1) \n",
    "    sns.boxplot(x=arizona[col], data=arizona, color='lightpink', showfliers=True)\n",
    "    plt.suptitle('Boxplots of Independent Variables AZ', fontsize=18)\n",
    "plt.tight_layout()\n",
    "fig.subplots_adjust(top=0.95)"
   ]
  },
  {
   "cell_type": "code",
   "execution_count": null,
   "metadata": {},
   "outputs": [],
   "source": [
    "###endarizona"
   ]
  },
  {
   "cell_type": "markdown",
   "metadata": {},
   "source": [
    "### Mississippi:"
   ]
  },
  {
   "cell_type": "code",
   "execution_count": null,
   "metadata": {},
   "outputs": [],
   "source": [
    "mississippi = covid_df.loc[(covid_df['abbrev'] == 'MS') & (covid_df['state']== 'Mississippi')] \n"
   ]
  },
  {
   "cell_type": "code",
   "execution_count": null,
   "metadata": {},
   "outputs": [],
   "source": [
    "# TODO fix legend/axis/plot alltogether\n",
    "# Timeseries plt\n",
    "fig, ax = plt.subplots(figsize = (16, 12))\n",
    "plt.plot(mississippi.date, mississippi.hospitalizedCurrently)\n",
    "plt.title('Number of Patients in MS Currently Hospitalized')\n",
    "plt.xlabel('Date')\n",
    "plt.ylabel('No. Patients')"
   ]
  },
  {
   "cell_type": "code",
   "execution_count": null,
   "metadata": {},
   "outputs": [],
   "source": [
    "# Checking which cols have NaN values\n",
    "mississippi[['positive', 'active', 'hospitalizedCurrently', 'inIcuCurrently', 'recovered', 'death', 'hospitalized']]\n",
    "mississippi.head()\n",
    "\n",
    "# Omit the NaN cols\n",
    "mississippi = mississippi[['positive', 'active', 'hospitalizedCurrently', 'inIcuCurrently', 'recovered', 'death']]"
   ]
  },
  {
   "cell_type": "code",
   "execution_count": null,
   "metadata": {},
   "outputs": [],
   "source": [
    "# Scatter plots MS\n",
    "# Split dependent var from independent variables\n",
    "target_ms = texas.hospitalizedCurrently\n",
    "indep_var_ms = texas.drop(columns=['hospitalizedCurrently'])\n",
    "\n",
    "fig, ax = plt.subplots(figsize = (16, 16))\n",
    "for i, col in enumerate(indep_var_ms.columns):\n",
    "    ax=fig.add_subplot(2, 3, i+1) \n",
    "    sns.regplot(x=indep_var_ms[col], y=target_ms, data=indep_var_ms, label=col, scatter_kws={'s':10}, line_kws={\"color\": \"plum\"})\n",
    "    plt.suptitle('Distributions of Independent Variables MS', fontsize=18)\n",
    "plt.tight_layout()\n",
    "fig.subplots_adjust(top=0.95)"
   ]
  },
  {
   "cell_type": "code",
   "execution_count": null,
   "metadata": {},
   "outputs": [],
   "source": [
    "# Boxplot of MS\n",
    "fig, ax = plt.subplots(figsize = (16, 16))\n",
    "for i, col in enumerate(texas.columns):\n",
    "    ax=fig.add_subplot(3, 3, i+1) \n",
    "    sns.boxplot(x=mississippi[col], data=mississippi, color='lightpink', showfliers=True)\n",
    "    plt.suptitle('Boxplots of Independent Variables MS', fontsize=18)\n",
    "plt.tight_layout()\n",
    "fig.subplots_adjust(top=0.95)"
   ]
  },
  {
   "cell_type": "code",
   "execution_count": null,
   "metadata": {},
   "outputs": [],
   "source": [
    "###endmississippi"
   ]
  },
  {
   "cell_type": "markdown",
   "metadata": {},
   "source": [
    "### Utah:"
   ]
  },
  {
   "cell_type": "code",
   "execution_count": null,
   "metadata": {},
   "outputs": [],
   "source": [
    "utah = covid_df.loc[(covid_df['abbrev'] == 'UT') & (covid_df['state']== 'Utah')] \n"
   ]
  },
  {
   "cell_type": "code",
   "execution_count": null,
   "metadata": {},
   "outputs": [],
   "source": [
    "# TODO fix legend/axis/plot alltogether\n",
    "# Timeseries plt\n",
    "fig, ax = plt.subplots(figsize = (16, 12))\n",
    "plt.plot(utah.date, utah.hospitalizedCurrently)\n",
    "plt.title('Number of Patients in UT Currently Hospitalized')\n",
    "plt.xlabel('Date')\n",
    "plt.ylabel('No. Patients')"
   ]
  },
  {
   "cell_type": "code",
   "execution_count": null,
   "metadata": {},
   "outputs": [],
   "source": [
    "# Checking which cols have NaN values\n",
    "utah[['positive', 'active', 'hospitalizedCurrently', 'inIcuCurrently', 'recovered', 'death', 'hospitalized']]\n",
    "utah.head()\n",
    "\n",
    "# Omit the NaN cols\n",
    "utah = utah[['positive', 'active', 'hospitalizedCurrently', 'inIcuCurrently', 'recovered', 'death']]"
   ]
  },
  {
   "cell_type": "code",
   "execution_count": null,
   "metadata": {},
   "outputs": [],
   "source": [
    "# Scatter plots UT\n",
    "# Split dependent var from independent variables\n",
    "target_ut = utah.hospitalizedCurrently\n",
    "indep_var_ut = utah.drop(columns=['hospitalizedCurrently'])\n",
    "\n",
    "fig, ax = plt.subplots(figsize = (16, 16))\n",
    "for i, col in enumerate(indep_var_tx.columns):\n",
    "    ax=fig.add_subplot(2, 3, i+1) \n",
    "    sns.regplot(x=indep_var_ut[col], y=target_ut, data=indep_var_ut, label=col, scatter_kws={'s':10}, line_kws={\"color\": \"plum\"})\n",
    "    plt.suptitle('Distributions of Independent Variables UT', fontsize=18)\n",
    "plt.tight_layout()\n",
    "fig.subplots_adjust(top=0.95)"
   ]
  },
  {
   "cell_type": "code",
   "execution_count": null,
   "metadata": {},
   "outputs": [],
   "source": [
    "###endutah"
   ]
  },
  {
   "cell_type": "markdown",
   "metadata": {},
   "source": [
    "### Georgia:"
   ]
  },
  {
   "cell_type": "code",
   "execution_count": null,
   "metadata": {},
   "outputs": [],
   "source": [
    "georgia = covid_df.loc[(covid_df['abbrev'] == 'GA') & (covid_df['state']== 'Georgia')] \n"
   ]
  },
  {
   "cell_type": "code",
   "execution_count": null,
   "metadata": {},
   "outputs": [],
   "source": [
    "# TODO fix legend/axis/plot alltogether\n",
    "# Timeseries plt\n",
    "fig, ax = plt.subplots(figsize = (16, 12))\n",
    "plt.plot(georgia.date, georgia.hospitalizedCurrently)\n",
    "plt.title('Number of Patients in GA Currently Hospitalized')\n",
    "plt.xlabel('Date')\n",
    "plt.ylabel('No. Patients')"
   ]
  },
  {
   "cell_type": "code",
   "execution_count": null,
   "metadata": {},
   "outputs": [],
   "source": [
    "# Checking which cols have NaN values\n",
    "georgia[['positive', 'active', 'hospitalizedCurrently', 'inIcuCurrently', 'recovered', 'death', 'hospitalized']]\n",
    "georgia.head()\n",
    "\n",
    "# Omit the NaN cols\n",
    "georgia = georgia[['positive', 'active', 'hospitalizedCurrently', 'inIcuCurrently', 'recovered', 'death']]"
   ]
  },
  {
   "cell_type": "code",
   "execution_count": null,
   "metadata": {},
   "outputs": [],
   "source": [
    "# Scatter plots GA\n",
    "# Split dependent var from independent variables\n",
    "target_ga = georgia.hospitalizedCurrently\n",
    "indep_var_ga = georgia.drop(columns=['hospitalizedCurrently'])\n",
    "\n",
    "fig, ax = plt.subplots(figsize = (16, 16))\n",
    "for i, col in enumerate(indep_var_ga.columns):\n",
    "    ax=fig.add_subplot(2, 3, i+1) \n",
    "    sns.regplot(x=indep_var_ga[col], y=target_ga, data=indep_var_ga, label=col, scatter_kws={'s':10}, line_kws={\"color\": \"plum\"})\n",
    "    plt.suptitle('Distributions of Independent Variables TX', fontsize=18)\n",
    "plt.tight_layout()\n",
    "fig.subplots_adjust(top=0.95)"
   ]
  },
  {
   "cell_type": "code",
   "execution_count": null,
   "metadata": {},
   "outputs": [],
   "source": [
    "# Boxplot of GA\n",
    "fig, ax = plt.subplots(figsize = (16, 16))\n",
    "for i, col in enumerate(georgia.columns):\n",
    "    ax=fig.add_subplot(3, 3, i+1) \n",
    "    sns.boxplot(x=georgia[col], data=georgia, color='lightpink', showfliers=True)\n",
    "    plt.suptitle('Boxplots of Independent Variables GA', fontsize=18)\n",
    "plt.tight_layout()\n",
    "fig.subplots_adjust(top=0.95)"
   ]
  },
  {
   "cell_type": "code",
   "execution_count": null,
   "metadata": {},
   "outputs": [],
   "source": [
    "###endgeorgia"
   ]
  },
  {
   "cell_type": "markdown",
   "metadata": {},
   "source": [
    "### Alabama:"
   ]
  },
  {
   "cell_type": "code",
   "execution_count": null,
   "metadata": {},
   "outputs": [],
   "source": [
    "bama = covid_df.loc[(covid_df['abbrev'] == 'AL') & (covid_df['state']== 'Alabama')] \n"
   ]
  },
  {
   "cell_type": "code",
   "execution_count": null,
   "metadata": {},
   "outputs": [],
   "source": [
    "# TODO fix legend/axis/plot alltogether\n",
    "# Timeseries plt\n",
    "fig, ax = plt.subplots(figsize = (16, 12))\n",
    "plt.plot(bama.date, bama.hospitalizedCurrently)\n",
    "plt.title('Number of Patients in AL Currently Hospitalized')\n",
    "plt.xlabel('Date')\n",
    "plt.ylabel('No. Patients')"
   ]
  },
  {
   "cell_type": "code",
   "execution_count": null,
   "metadata": {},
   "outputs": [],
   "source": [
    "# Checking which cols have NaN values\n",
    "bama[['positive', 'active', 'hospitalizedCurrently', 'inIcuCurrently', 'recovered', 'death', 'hospitalized']]\n",
    "bama.head()\n",
    "\n",
    "# Omit the NaN cols\n",
    "bama = bama[['positive', 'active', 'hospitalizedCurrently', 'inIcuCurrently', 'recovered', 'death']]"
   ]
  },
  {
   "cell_type": "code",
   "execution_count": null,
   "metadata": {},
   "outputs": [],
   "source": [
    "# Scatter plots AL\n",
    "# Split dependent var from independent variables\n",
    "target_al = bama.hospitalizedCurrently\n",
    "indep_var_al = bama.drop(columns=['hospitalizedCurrently'])\n",
    "\n",
    "fig, ax = plt.subplots(figsize = (16, 16))\n",
    "for i, col in enumerate(indep_var_al.columns):\n",
    "    ax=fig.add_subplot(2, 3, i+1) \n",
    "    sns.regplot(x=indep_var_al[col], y=target_al, data=indep_var_al, label=col, scatter_kws={'s':10}, line_kws={\"color\": \"plum\"})\n",
    "    plt.suptitle('Distributions of Independent Variables AL', fontsize=18)\n",
    "plt.tight_layout()\n",
    "fig.subplots_adjust(top=0.95)"
   ]
  },
  {
   "cell_type": "code",
   "execution_count": null,
   "metadata": {},
   "outputs": [],
   "source": [
    "# Boxplot of AL\n",
    "fig, ax = plt.subplots(figsize = (16, 16))\n",
    "for i, col in enumerate(bama.columns):\n",
    "    ax=fig.add_subplot(3, 3, i+1) \n",
    "    sns.boxplot(x=bama[col], data=bama, color='lightpink', showfliers=True)\n",
    "    plt.suptitle('Boxplots of Independent Variables TX', fontsize=18)\n",
    "plt.tight_layout()\n",
    "fig.subplots_adjust(top=0.95)"
   ]
  },
  {
   "cell_type": "code",
   "execution_count": null,
   "metadata": {},
   "outputs": [],
   "source": [
    "###endalabama"
   ]
  },
  {
   "cell_type": "markdown",
   "metadata": {},
   "source": [
    "### Oklahoma:"
   ]
  },
  {
   "cell_type": "code",
   "execution_count": null,
   "metadata": {},
   "outputs": [],
   "source": [
    "oklahoma = covid_df.loc[(covid_df['abbrev'] == 'OK') & (covid_df['state']== 'Oklahoma')] \n"
   ]
  },
  {
   "cell_type": "code",
   "execution_count": null,
   "metadata": {},
   "outputs": [],
   "source": [
    "# TODO fix legend/axis/plot alltogether\n",
    "# Timeseries plt\n",
    "fig, ax = plt.subplots(figsize = (16, 12))\n",
    "plt.plot(oklahoma.date, oklahoma.hospitalizedCurrently)\n",
    "plt.title('Number of Patients in OK Currently Hospitalized')\n",
    "plt.xlabel('Date')\n",
    "plt.ylabel('No. Patients')"
   ]
  },
  {
   "cell_type": "code",
   "execution_count": null,
   "metadata": {},
   "outputs": [],
   "source": [
    "# Checking which cols have NaN values\n",
    "oklahoma[['positive', 'active', 'hospitalizedCurrently', 'inIcuCurrently', 'recovered', 'death', 'hospitalized']]\n",
    "oklahoma.head()\n",
    "\n",
    "# Omit the NaN cols\n",
    "oklahoma = oklahoma[['positive', 'active', 'hospitalizedCurrently', 'inIcuCurrently', 'recovered', 'death']]"
   ]
  },
  {
   "cell_type": "code",
   "execution_count": null,
   "metadata": {},
   "outputs": [],
   "source": [
    "# Scatter plots OK\n",
    "# Split dependent var from independent variables\n",
    "target_ok = oklahoma.hospitalizedCurrently\n",
    "indep_var_ok = oklahoma.drop(columns=['hospitalizedCurrently'])\n",
    "\n",
    "fig, ax = plt.subplots(figsize = (16, 16))\n",
    "for i, col in enumerate(indep_var_ok.columns):\n",
    "    ax=fig.add_subplot(2, 3, i+1) \n",
    "    sns.regplot(x=indep_var_ok[col], y=target_ok, data=indep_var_ok, label=col, scatter_kws={'s':10}, line_kws={\"color\": \"plum\"})\n",
    "    plt.suptitle('Distributions of Independent Variables OK', fontsize=18)\n",
    "plt.tight_layout()\n",
    "fig.subplots_adjust(top=0.95)"
   ]
  },
  {
   "cell_type": "code",
   "execution_count": null,
   "metadata": {},
   "outputs": [],
   "source": [
    "# Boxplot of OK\n",
    "fig, ax = plt.subplots(figsize = (16, 16))\n",
    "for i, col in enumerate(oklahoma.columns):\n",
    "    ax=fig.add_subplot(3, 3, i+1) \n",
    "    sns.boxplot(x=oklahoma[col], data=oklahoma, color='lightpink', showfliers=True)\n",
    "    plt.suptitle('Boxplots of Independent Variables OK', fontsize=18)\n",
    "plt.tight_layout()\n",
    "fig.subplots_adjust(top=0.95)"
   ]
  },
  {
   "cell_type": "code",
   "execution_count": null,
   "metadata": {},
   "outputs": [],
   "source": [
    "###endoklahoma"
   ]
  },
  {
   "cell_type": "markdown",
   "metadata": {},
   "source": [
    "## Assessing Correlation of Independent Variables"
   ]
  },
  {
   "cell_type": "code",
   "execution_count": null,
   "metadata": {},
   "outputs": [],
   "source": [
    "# TODO add some explanation / look more into collinear variables"
   ]
  },
  {
   "cell_type": "code",
   "execution_count": null,
   "metadata": {},
   "outputs": [],
   "source": [
    "# Heatmap of correlations\n",
    "# Save correlations to variable\n",
    "corr = covid_cleaned.corr(method='pearson')\n",
    "# We can create a mask to not show duplicate values\n",
    "mask = np.triu(np.ones_like(corr, dtype=np.bool))\n",
    "# Set up the matplotlib figure\n",
    "fig, ax = plt.subplots(figsize=(16,16))\n",
    "\n",
    "# Generate heatmap\n",
    "sns.heatmap(corr, annot=True, mask=mask, cmap='GnBu', center=0,\n",
    "            square=True, linewidths=.5, cbar_kws={\"shrink\": .5})"
   ]
  },
  {
   "cell_type": "markdown",
   "metadata": {},
   "source": [
    "## Build model for dependent Variable \n",
    "- To be used to predict current hospitalizations\n",
    "- Having more complete variables for in ICU currently and on Ventilator Currently will allow us to predict these numbers as well."
   ]
  },
  {
   "cell_type": "code",
   "execution_count": null,
   "metadata": {},
   "outputs": [],
   "source": [
    "# We compare three models:\n",
    "# - Polynomial Regression\n",
    "# - Linear Regression\n",
    "# - ElasticNet\n",
    "\n",
    "# Copy DFs to not mess up original one\n",
    "# We will use model_df for our regression model\n",
    "model_df = all_cases.copy()\n",
    "\n",
    "# Delete redundant rows\n",
    "for row in ['abbrev', 'bedsPerThousand', 'hospitalized', \n",
    "'state', 'hospitalizedCumulative', 'dataQualityGrade', 'lastUpdateEt']:\n",
    "    del model_df[row]\n",
    "\n",
    "# Drop NaN values for hospitalizedCurrently\n",
    "model_df = model_df.dropna(subset=['hospitalizedCurrently'])\n",
    "\n",
    "# Drop Values with abnormal active-hospitalised ratios (outside Conf. Interval)\n",
    "model_df['ratio_hospital'] = model_df['hospitalizedCurrently'] / model_df['active']\n",
    "model_df = model_df[~(model_df['ratio_hospital'] >= model_df.ratio_hospital.quantile(0.99))]\n",
    "\n",
    "#model_df = model_df[~(model_df['ratio_hospital'] <= model_df['ratio_hospital'].median())]\n",
    "del model_df['ratio_hospital']\n",
    "\n",
    "# Get peek of model to use\n",
    "model_df.describe()"
   ]
  },
  {
   "cell_type": "code",
   "execution_count": null,
   "metadata": {},
   "outputs": [],
   "source": [
    "### Mark Bee (https://www.facebook.com/markbeenyc) - do you need a sippy cup lesson on this information?   "
   ]
  },
  {
   "cell_type": "code",
   "execution_count": null,
   "metadata": {},
   "outputs": [],
   "source": []
  },
  {
   "cell_type": "code",
   "execution_count": null,
   "metadata": {},
   "outputs": [],
   "source": []
  }
 ],
 "metadata": {
  "celltoolbar": "Edit Metadata",
  "kernelspec": {
   "display_name": "Python 3",
   "language": "python",
   "name": "python3"
  },
  "language_info": {
   "codemirror_mode": {
    "name": "ipython",
    "version": 3
   },
   "file_extension": ".py",
   "mimetype": "text/x-python",
   "name": "python",
   "nbconvert_exporter": "python",
   "pygments_lexer": "ipython3",
   "version": "3.7.6"
  }
 },
 "nbformat": 4,
 "nbformat_minor": 2
}
