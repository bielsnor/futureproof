{
 "cells": [
  {
   "cell_type": "markdown",
   "metadata": {
    "papermill": {
     "duration": 0.015958,
     "end_time": "2020-03-27T18:36:05.760865",
     "exception": false,
     "start_time": "2020-03-27T18:36:05.744907",
     "status": "completed"
    },
    "tags": []
   },
   "source": [
    "# Estimating The Infected Population From Deaths\n",
    "> Estimating the number of infected people by country based on the number of deaths and case fatality rate. \n",
    "\n",
    "- comments: false\n",
    "- categories: [growth, compare, interactive, estimation]\n",
    "- hide: false\n",
    "- image: images/covid-estimate-infections.png\n",
    "- permalink: /covid-infected/\n",
    "- toc: true"
   ]
  },
  {
   "cell_type": "markdown",
   "metadata": {
    "papermill": {
     "duration": 0.010936,
     "end_time": "2020-03-27T18:36:05.783523",
     "exception": false,
     "start_time": "2020-03-27T18:36:05.772587",
     "status": "completed"
    },
    "tags": []
   },
   "source": [
    "> Note: This dashboard contains the results of a predictive model. This model includes subjective assumptions based on scietnific reasoning and current data.  "
   ]
  },
  {
   "cell_type": "code",
   "execution_count": 1,
   "metadata": {
    "papermill": {
     "duration": 0.658024,
     "end_time": "2020-03-27T18:36:06.452419",
     "exception": false,
     "start_time": "2020-03-27T18:36:05.794395",
     "status": "completed"
    },
    "tags": []
   },
   "outputs": [],
   "source": [
    "#hide\n",
    "import numpy as np\n",
    "np.seterr(divide='ignore', invalid='ignore')\n",
    "import pandas as pd\n",
    "import matplotlib.pyplot as plt\n",
    "import altair as alt\n",
    "from datetime import timedelta, datetime, date\n",
    "%config InlineBackend.figure_format = 'retina'\n",
    "\n",
    "chart_width = 550\n",
    "chart_height= 400"
   ]
  },
  {
   "cell_type": "code",
   "execution_count": 2,
   "metadata": {
    "papermill": {
     "duration": 0.033764,
     "end_time": "2020-03-27T18:36:06.497721",
     "exception": false,
     "start_time": "2020-03-27T18:36:06.463957",
     "status": "completed"
    },
    "tags": []
   },
   "outputs": [],
   "source": [
    "#hide\n",
    "def plot(data, type1, levels):\n",
    "    data_countries_pc2 = data.copy()\n",
    "    for i in range(0,len(countries)):\n",
    "        data_countries_pc2[i] = data_countries_pc2[i].reset_index()\n",
    "        data_countries_pc2[i]['n_days'] = data_countries_pc2[i].index\n",
    "        if type1 == \"scatter\":\n",
    "            data_countries_pc2[i]['cases'] = data_countries_pc2[i][\"total_cases\"]\n",
    "        data_countries_pc2[i]['infected'] = data_countries_pc2[i][\"total_infected\"]\n",
    "    data_plot = data_countries_pc2[0]\n",
    "    for i in range(1, len(countries)):    \n",
    "        data_plot = pd.concat([data_plot, data_countries_pc2[i]], axis=0)\n",
    "    \n",
    "    if type1 == \"scatter\":\n",
    "        data_plot[\"45_line\"] = data_plot[\"cases\"]\n",
    "\n",
    "    # Plot it using Altair\n",
    "    source = data_plot\n",
    "    \n",
    "    if levels == True:\n",
    "        ylabel = \"Total\"\n",
    "    else :\n",
    "        ylabel = \"Per Million\"\n",
    "\n",
    "    scales = alt.selection_interval(bind='scales')\n",
    "    selection = alt.selection_multi(fields=['location'], bind='legend')\n",
    "\n",
    "    if type1 == \"line\": \n",
    "        base = alt.Chart(source, title =  \"Estimated Infected Population By Country\").encode(\n",
    "            x = alt.X('n_days:Q', title = \"Days since outbreak\"),\n",
    "            y = alt.Y(\"infected:Q\",title = ylabel),\n",
    "            color = alt.Color('location:N', legend=alt.Legend(title=\"Country\", labelFontSize=15, titleFontSize=17),\n",
    "                             scale=alt.Scale(scheme='tableau20'))\n",
    "        )\n",
    "        \n",
    "        shades = base.mark_area().encode(\n",
    "            x='n_days:Q',\n",
    "            y='total_infected_lower:Q',\n",
    "            y2='total_infected_upper:Q',\n",
    "            opacity = alt.condition(selection, alt.value(0.2), alt.value(0.05))\n",
    "        )\n",
    "    \n",
    "        lines = base.mark_line().encode(\n",
    "            opacity = alt.condition(selection, alt.value(1), alt.value(0.1))\n",
    "        ).add_selection(\n",
    "            scales\n",
    "        ).add_selection(\n",
    "            selection\n",
    "        ).properties(\n",
    "            width=chart_width,\n",
    "            height=chart_height\n",
    "        )\n",
    "        return(\n",
    "        ( lines + shades)\n",
    "        .configure_title(fontSize=20)\n",
    "        .configure_axis(labelFontSize=15,titleFontSize=18)\n",
    "        )\n",
    "    \n",
    "    if levels == True:\n",
    "        ylabel = \"Infected\"\n",
    "        xlabel = \"Cases\"\n",
    "    else :\n",
    "        ylabel = \"Per Million Infected\"\n",
    "        xlabel = \"Per Million Cases\"\n",
    "        \n",
    "    if type1 == \"scatter\":\n",
    "        base = alt.Chart(source, title = \"COVID-19 Cases VS Infected\").encode(\n",
    "            x = alt.X('cases:Q', title = xlabel),\n",
    "            y = alt.Y(\"infected:Q\",title = ylabel),\n",
    "            color = alt.Color('location:N', legend=alt.Legend(title=\"Country\", labelFontSize=15, titleFontSize=17),\n",
    "                             scale=alt.Scale(scheme='tableau20')),\n",
    "            opacity = alt.condition(selection, alt.value(1), alt.value(0.1))\n",
    "        )\n",
    "\n",
    "        \n",
    "        scatter = base.mark_point().add_selection(\n",
    "            scales\n",
    "        ).add_selection(\n",
    "            selection\n",
    "        ).properties(\n",
    "            width=chart_width,\n",
    "            height=chart_height\n",
    "        )\n",
    "\n",
    "        line_45 = alt.Chart(source).encode(\n",
    "            x = \"cases:Q\",\n",
    "            y = alt.Y(\"45_line:Q\",  scale=alt.Scale(domain=(0, max(data_plot[\"infected\"])))),\n",
    "        ).mark_line(color=\"grey\", strokeDash=[3,3])\n",
    "        \n",
    "        return(\n",
    "        (scatter + line_45)\n",
    "        .configure_title(fontSize=20)\n",
    "        .configure_axis(labelFontSize=15,titleFontSize=18)\n",
    "        )"
   ]
  },
  {
   "cell_type": "code",
   "execution_count": null,
   "metadata": {
    "papermill": {
     "duration": 17.851493,
     "end_time": "2020-03-27T18:36:24.360431",
     "exception": false,
     "start_time": "2020-03-27T18:36:06.508938",
     "status": "completed"
    },
    "tags": []
   },
   "outputs": [],
   "source": [
    "#hide \n",
    "# Get data on deaths D_t\n",
    "data = pd.read_csv(\"https://raw.githubusercontent.com/CSSEGISandData/COVID-19/master/csse_covid_19_data/csse_covid_19_time_series/time_series_covid19_deaths_global.csv\", \n",
    "                   error_bad_lines=False)\n",
    "data = data.drop(columns=[\"Lat\", \"Long\"])\n",
    "data = data.melt(id_vars= [\"Province/State\", \"Country/Region\"])\n",
    "data = pd.DataFrame(data.groupby(['Country/Region', \"variable\"]).sum())\n",
    "data.reset_index(inplace=True)  \n",
    "data = data.rename(columns={\"Country/Region\": \"location\", \"variable\": \"date\", \"value\": \"total_deaths\"})\n",
    "data['date'] =pd.to_datetime(data.date)\n",
    "data = data.sort_values(by = \"date\")\n",
    "data.loc[data.location == \"US\",\"location\"] = \"United States\"\n",
    "data.loc[data.location == \"Korea, South\",\"location\"] = \"South Korea\"\n",
    "\n",
    "#hide\n",
    "# Get data and clean it\n",
    "data_cases = pd.read_csv(\"https://raw.githubusercontent.com/CSSEGISandData/COVID-19/master/csse_covid_19_data/csse_covid_19_time_series/time_series_covid19_confirmed_global.csv\", error_bad_lines=False)\n",
    "\n",
    "data_cases = data_cases.drop(columns=[\"Lat\", \"Long\"])\n",
    "data_cases = data_cases.melt(id_vars= [\"Province/State\", \"Country/Region\"])\n",
    "data_cases = pd.DataFrame(data_cases.groupby(['Country/Region', \"variable\"]).sum())\n",
    "data_cases.reset_index(inplace=True)  \n",
    "data_cases = data_cases.rename(columns={\"Country/Region\": \"location\", \"variable\": \"date\", \"value\": \"total_cases\"})\n",
    "data_cases['date'] =pd.to_datetime(data_cases.date)\n",
    "data_cases = data_cases.sort_values(by = \"date\")\n",
    "data_cases.loc[data_cases.location == \"US\",\"location\"] = \"United States\"\n",
    "data_cases.loc[data_cases.location == \"Korea, South\",\"location\"] = \"South Korea\"\n",
    "# Add countries\n",
    "countries = [\"China\", \"Italy\", \"Spain\", \"France\", \"United Kingdom\", \"Germany\", \n",
    "             \"Portugal\", \"United States\", \"Singapore\",\"South Korea\", \"Japan\", \n",
    "             \"Brazil\",\"Iran\", \"India\", \"Switzerland\", \"Canada\", \"Australia\"]\n",
    "\n",
    "data_final = pd.merge(data,\n",
    "                 data_cases\n",
    "                 )\n",
    "data_final[\"CFR\"] = data_final[\"total_deaths\"]/data_final[\"total_cases\"]\n",
    "\n",
    "\n",
    "data_final[\"total_infected\"] = np.NaN\n",
    "data_final = data_final.sort_values(by = ['location', 'date'])\n",
    "data_final = data_final.reset_index(drop = True)\n",
    "\n",
    "\n",
    "for j in countries:\n",
    "    for i in data_final[\"date\"].unique()[0:-8]:\n",
    "        data_final.loc[(data_final.date == i) & (data_final.location == j), \"total_infected\"] = data_final.loc[(data_final.date == i + np.timedelta64(8, 'D')) & (data_final.location == j), \"total_deaths\"].iloc[0]/data_final.loc[(data_final.date == i + np.timedelta64(8, 'D')) & (data_final.location == j), \"CFR\"].iloc[0]\n",
    "        \n",
    "\n",
    "# Estimate growth rate of infected, g        \n",
    "data_final['infected_g'] = np.log(data_final['total_infected'])\n",
    "data_final['infected_g'] = data_final['infected_g'].diff() \n",
    "\n",
    "# Estimate number of infected given g\n",
    "today = data_final.date.iloc[-1]\n",
    "for j in countries:\n",
    "    for i in range(7,-1,-1):\n",
    "        data_final.loc[(data_final.location == j) & (data_final.date == today - timedelta(i)), \"total_infected\"] = data_final.loc[data_final.location == j, \"total_infected\"].iloc[-i-2]*(1+data_final.loc[data_final.location == j, \"infected_g\"][-12:-8].aggregate(func = \"mean\"))\n",
    "    \n",
    "\n",
    "\n",
    "# Upper Bound\n",
    "data_final[\"total_infected_upper\"] = np.NaN\n",
    "data_final = data_final.sort_values(by = ['location', 'date'])\n",
    "data_final = data_final.reset_index(drop = True)\n",
    "for j in countries:\n",
    "    for i in data_final[\"date\"].unique()[0:-8]:\n",
    "        data_final.loc[(data_final.date == i) & (data_final.location == j), \"total_infected_upper\"] = data_final.loc[(data_final.date == i + np.timedelta64(8, 'D')) & (data_final.location == j), \"total_deaths\"].iloc[0]/(data_final.loc[(data_final.date == i + np.timedelta64(8, 'D')) & (data_final.location == j), \"CFR\"].iloc[0]*0.7)\n",
    "# Estimate growth rate of infected, g        \n",
    "data_final['infected_g'] = np.log(data_final['total_infected_upper'])\n",
    "data_final['infected_g'] = data_final['infected_g'].diff() \n",
    "# Estimate number of infected given g \n",
    "today = data_final.date.iloc[-1]\n",
    "for j in countries:\n",
    "    for i in range(7,-1,-1):\n",
    "        data_final.loc[(data_final.location == j) & (data_final.date == today - timedelta(i)), \"total_infected_upper\"] = data_final.loc[data_final.location == j, \"total_infected_upper\"].iloc[-i-2]*(1+data_final.loc[data_final.location == j, \"infected_g\"][-12:-8].aggregate(func = \"mean\"))\n",
    "\n",
    "# Lower Bound\n",
    "data_final[\"total_infected_lower\"] = np.NaN\n",
    "data_final = data_final.sort_values(by = ['location', 'date'])\n",
    "data_final = data_final.reset_index(drop = True)\n",
    "for j in countries:\n",
    "    for i in data_final[\"date\"].unique()[0:-8]:\n",
    "        data_final.loc[(data_final.date == i) & (data_final.location == j), \"total_infected_lower\"] = data_final.loc[(data_final.date == i + np.timedelta64(8, 'D')) & (data_final.location == j), \"total_deaths\"].iloc[0]/(data_final.loc[(data_final.date == i + np.timedelta64(8, 'D')) & (data_final.location == j), \"CFR\"].iloc[0]*1.3)\n",
    "# Estimate growth rate of infected, g        \n",
    "data_final['infected_g'] = np.log(data_final['total_infected_lower'])\n",
    "data_final['infected_g'] = data_final['infected_g'].diff() \n",
    "# Estimate number of infected given g \n",
    "today = data_final.date.iloc[-1]\n",
    "for j in countries:\n",
    "    for i in range(7,-1,-1):\n",
    "        data_final.loc[(data_final.location == j) & (data_final.date == today - timedelta(i)), \"total_infected_lower\"] = data_final.loc[data_final.location == j, \"total_infected_lower\"].iloc[-i-2]*(1+data_final.loc[data_final.location == j, \"infected_g\"][-12:-8].aggregate(func = \"mean\"))\n",
    "data_final.loc[data_final.total_infected_lower < data_final.total_cases, \"total_infected_lower\"] = data_final.loc[data_final.total_infected_lower < data_final.total_cases, \"total_cases\"]\n",
    "\n",
    "\n",
    "data_pc = data_final[['location', 'date', 'total_infected', 'total_infected_lower', 'total_infected_upper']].copy()\n",
    "\n",
    "countries = [\"China\", \"Italy\", \"Spain\", \"France\", \"United Kingdom\", \"Germany\", \n",
    "             \"Portugal\", \"United States\", \"Singapore\",\"South Korea\", \"Japan\", \n",
    "             \"Brazil\",\"Iran\"]\n",
    "data_countries = []\n",
    "data_countries_pc = []\n",
    "\n",
    "for i in countries:\n",
    "    data_pc.loc[data_pc.location == i,\"total_infected\"] = data_pc.loc[data_pc.location == i,\"total_infected\"]\n",
    "\n",
    "# Get each country time series\n",
    "filter1 = data_pc[\"total_infected\"] > 1\n",
    "for i in countries:\n",
    "    filter_country = data_pc[\"location\"]== i\n",
    "    data_countries_pc.append(data_pc[filter_country & filter1])      "
   ]
  },
  {
   "cell_type": "markdown",
   "metadata": {
    "papermill": {
     "duration": 0.011839,
     "end_time": "2020-03-27T18:36:24.384808",
     "exception": false,
     "start_time": "2020-03-27T18:36:24.372969",
     "status": "completed"
    },
    "tags": []
   },
   "source": [
    "## Estimated Infected Population By Country\n",
    "\n",
    "by days since outbreak\n",
    "\n",
    "> Tip: Click (Shift+ for multiple) on countries in the legend to filter the visualization. "
   ]
  },
  {
   "cell_type": "code",
   "execution_count": null,
   "metadata": {
    "papermill": {
     "duration": 1.839112,
     "end_time": "2020-03-27T18:36:26.235876",
     "exception": false,
     "start_time": "2020-03-27T18:36:24.396764",
     "status": "completed"
    },
    "tags": []
   },
   "outputs": [],
   "source": [
    "#hide_input\n",
    "# Plot estimated absolute number of infected\n",
    "plot1 = plot(data_countries_pc, \"line\", True)\n",
    "plot1.save(\"../images/covid-estimate-infections.png\")\n",
    "plot1"
   ]
  },
  {
   "cell_type": "markdown",
   "metadata": {
    "papermill": {
     "duration": 0.014192,
     "end_time": "2020-03-27T18:36:26.264241",
     "exception": false,
     "start_time": "2020-03-27T18:36:26.250049",
     "status": "completed"
    },
    "tags": []
   },
   "source": [
    "Latest Country Estimates"
   ]
  },
  {
   "cell_type": "code",
   "execution_count": null,
   "metadata": {
    "papermill": {
     "duration": 0.057257,
     "end_time": "2020-03-27T18:36:26.335553",
     "exception": false,
     "start_time": "2020-03-27T18:36:26.278296",
     "status": "completed"
    },
    "tags": []
   },
   "outputs": [],
   "source": [
    "#hide_input    \n",
    "label = 'Estimated Infected'\n",
    "temp = pd.concat([x.copy() for x in data_countries_pc]).loc[lambda x: x.date >= '3/1/2020']\n",
    "\n",
    "metric_name = f'{label}'\n",
    "temp.columns = ['Country', 'Date', metric_name, \"Lower Bound Estimates\", \"Upper Bound Estimates\"]\n",
    "temp.loc[:, \"Estimated Infected\"] = temp.loc[:, \"Estimated Infected\"].round(0).map('{:,.0f}'.format) \n",
    "temp.loc[:, \"Lower Bound Estimates\"] = temp.loc[:, \"Lower Bound Estimates\"].round(0).map('{:,.0f}'.format) \n",
    "temp.loc[:, \"Upper Bound Estimates\"] = temp.loc[:, \"Upper Bound Estimates\"].round(0).map('{:,.0f}'.format) \n",
    "temp.groupby('Country').last()"
   ]
  },
  {
   "cell_type": "markdown",
   "metadata": {
    "papermill": {
     "duration": 0.014678,
     "end_time": "2020-03-27T18:36:26.365218",
     "exception": false,
     "start_time": "2020-03-27T18:36:26.350540",
     "status": "completed"
    },
    "tags": []
   },
   "source": [
    "## Infected vs. number of confirmed cases\n",
    "> Allows you to compare how countries have been tracking the true number of infected people. The smaller deviation from the dashed line (45 degree line) the better job at tracking the true number of infected people."
   ]
  },
  {
   "cell_type": "markdown",
   "metadata": {
    "papermill": {
     "duration": 0.014418,
     "end_time": "2020-03-27T18:36:26.394250",
     "exception": false,
     "start_time": "2020-03-27T18:36:26.379832",
     "status": "completed"
    },
    "tags": []
   },
   "source": [
    "> Tip: Click (Shift+ for multiple) on countries in the legend to filter the visualization. "
   ]
  },
  {
   "cell_type": "code",
   "execution_count": null,
   "metadata": {
    "papermill": {
     "duration": 0.270806,
     "end_time": "2020-03-27T18:36:26.679620",
     "exception": false,
     "start_time": "2020-03-27T18:36:26.408814",
     "status": "completed"
    },
    "tags": []
   },
   "outputs": [],
   "source": [
    "#hide_input\n",
    "# Plot it using Altair\n",
    "data_pc = data_final[['location', 'date', 'total_cases', 'total_infected']].copy()\n",
    "\n",
    "countries = [\"China\", \"Italy\", \"Spain\", \"France\", \"United Kingdom\", \"Germany\", \n",
    "             \"Portugal\", \"United States\", \"Singapore\",\"South Korea\", \"Japan\", \n",
    "             \"Brazil\",\"Iran\"]\n",
    "data_countries = []\n",
    "data_countries_pc = []\n",
    "\n",
    "for i in countries:\n",
    "    data_pc.loc[data_pc.location == i,\"total_infected\"] = data_pc.loc[data_pc.location == i,\"total_infected\"]\n",
    "    data_pc.loc[data_pc.location == i,\"total_cases\"] = data_pc.loc[data_pc.location == i,\"total_cases\"]\n",
    "    # get each country time series\n",
    "filter1 = data_pc[\"total_infected\"] > 1\n",
    "for i in countries:\n",
    "    filter_country = data_pc[\"location\"]== i\n",
    "    data_countries_pc.append(data_pc[filter_country & filter1])\n",
    "\n",
    "\n",
    "plot(data_countries_pc, \"scatter\", True)"
   ]
  },
  {
   "cell_type": "markdown",
   "metadata": {
    "papermill": {
     "duration": 0.016924,
     "end_time": "2020-03-27T18:36:26.713283",
     "exception": false,
     "start_time": "2020-03-27T18:36:26.696359",
     "status": "completed"
    },
    "tags": []
   },
   "source": [
    "Latest Observed vs. Estimate of Infected Cases"
   ]
  },
  {
   "cell_type": "code",
   "execution_count": null,
   "metadata": {
    "papermill": {
     "duration": 0.050159,
     "end_time": "2020-03-27T18:36:26.779867",
     "exception": false,
     "start_time": "2020-03-27T18:36:26.729708",
     "status": "completed"
    },
    "tags": []
   },
   "outputs": [],
   "source": [
    "#hide_input\n",
    "label1 = 'Observed Cases'\n",
    "label2 = 'Estimated Infected'\n",
    "temp = pd.concat([x.copy() for x in data_countries_pc]).loc[lambda x: x.date >= '3/1/2020']\n",
    "\n",
    "metric_name1 = f'{label1}'\n",
    "metric_name2 = f'{label2}'\n",
    "temp.columns = ['Country', 'Date', metric_name1, metric_name2]\n",
    "# temp.loc[:, 'month'] = temp.date.dt.strftime('%Y-%m')\n",
    "temp.loc[:, \"Observed Cases\"] = temp.loc[:, \"Observed Cases\"].round(0).map('{:,.0f}'.format)\n",
    "temp.loc[:, \"Estimated Infected\"] = temp.loc[:, \"Estimated Infected\"].round(0).map('{:,.0f}'.format)\n",
    "temp.groupby('Country').last()"
   ]
  },
  {
   "cell_type": "markdown",
   "metadata": {
    "papermill": {
     "duration": 0.018717,
     "end_time": "2020-03-27T18:36:26.818235",
     "exception": false,
     "start_time": "2020-03-27T18:36:26.799518",
     "status": "completed"
    },
    "tags": []
   },
   "source": [
    "## Methodology"
   ]
  },
  {
   "cell_type": "markdown",
   "metadata": {
    "papermill": {
     "duration": 0.017542,
     "end_time": "2020-03-27T18:36:26.853039",
     "exception": false,
     "start_time": "2020-03-27T18:36:26.835497",
     "status": "completed"
    },
    "tags": []
   },
   "source": [
    "We argue that the number of infected in the past can be infered using today's number of deaths and average fatality rate from confirmed cases in the following way:\n",
    "\n",
    "{%raw%}$$I_{t-j} = \\frac{D_t}{{CFR}_t}$${%endraw%}\n",
    "\n",
    "where {% raw %}$I_t${% endraw %} = number of infected, {% raw %}$D_t${% endraw %} = number of deaths, and {% raw %}${CFR}_t ${% endraw %} = case fatality rate = {% raw %}$\\frac{D}{C}${% endraw %}. The {% raw %}$j${% endraw %} depends on the average number of days that covid patients die after having the first symptoms."
   ]
  },
  {
   "cell_type": "markdown",
   "metadata": {
    "papermill": {
     "duration": 0.017074,
     "end_time": "2020-03-27T18:36:26.888840",
     "exception": false,
     "start_time": "2020-03-27T18:36:26.871766",
     "status": "completed"
    },
    "tags": []
   },
   "source": [
    "**Assumption 1**: The case fatality rate is a good proxy for the fatality rate of the infected population\n"
   ]
  },
  {
   "cell_type": "markdown",
   "metadata": {
    "papermill": {
     "duration": 0.016793,
     "end_time": "2020-03-27T18:36:26.924273",
     "exception": false,
     "start_time": "2020-03-27T18:36:26.907480",
     "status": "completed"
    },
    "tags": []
   },
   "source": [
    "Then, in order to estimate the current number of infected {% raw %}$I_t${% endraw %} we need to estimate its growth rate from {% raw %}$t-j${% endraw %} to {% raw %}$t${% endraw %}.\n",
    "\n",
    "{% raw %}$$I_t = (1+\\hat{g})^j I_{t-j}$${% endraw %}"
   ]
  },
  {
   "cell_type": "markdown",
   "metadata": {
    "papermill": {
     "duration": 0.016674,
     "end_time": "2020-03-27T18:36:26.957522",
     "exception": false,
     "start_time": "2020-03-27T18:36:26.940848",
     "status": "completed"
    },
    "tags": []
   },
   "source": [
    "**Assumption 2**: The growth rate of infected $\\hat{g}$ is an unbiased estimate of $g$ .\n",
    "\n",
    "We estimate $g$ using the average growth rate since the first confirmed infected person."
   ]
  },
  {
   "cell_type": "markdown",
   "metadata": {
    "papermill": {
     "duration": 0.017299,
     "end_time": "2020-03-27T18:36:26.991347",
     "exception": false,
     "start_time": "2020-03-27T18:36:26.974048",
     "status": "completed"
    },
    "tags": []
   },
   "source": [
    "**Assumption 3**: The average time to mortaility is 8 days."
   ]
  },
  {
   "cell_type": "markdown",
   "metadata": {
    "papermill": {
     "duration": 0.016561,
     "end_time": "2020-03-27T18:36:27.024747",
     "exception": false,
     "start_time": "2020-03-27T18:36:27.008186",
     "status": "completed"
    },
    "tags": []
   },
   "source": [
    "This analysis was conducted by [Joao B. Duarte](https://www.jbduarte.com). Relevant sources are listed below: \n",
    "\n",
    "\n",
    "1. [2019 Novel Coronavirus COVID-19 (2019-nCoV) Data Repository by Johns Hopkins CSSE](https://systems.jhu.edu/research/public-health/ncov/) [GitHub repository](https://github.com/CSSEGISandData/COVID-19). \n",
    "\n",
    "2. [Feenstra, Robert C., Robert Inklaar and Marcel P. Timmer (2015), \"The Next Generation of the Penn World Table\" American Economic Review, 105(10), 3150-3182](https://www.rug.nl/ggdc/productivity/pwt/related-research)\n"
   ]
  },
  {
   "cell_type": "code",
   "execution_count": null,
   "metadata": {
    "papermill": {
     "duration": 0.016672,
     "end_time": "2020-03-27T18:36:27.058026",
     "exception": false,
     "start_time": "2020-03-27T18:36:27.041354",
     "status": "completed"
    },
    "tags": []
   },
   "outputs": [],
   "source": []
  }
 ],
 "metadata": {
  "kernelspec": {
   "display_name": "Python 3",
   "language": "python",
   "name": "python3"
  },
  "language_info": {
   "codemirror_mode": {
    "name": "ipython",
    "version": 3
   },
   "file_extension": ".py",
   "mimetype": "text/x-python",
   "name": "python",
   "nbconvert_exporter": "python",
   "pygments_lexer": "ipython3",
   "version": "3.7.6"
  },
  "papermill": {
   "duration": 22.166601,
   "end_time": "2020-03-27T18:36:27.080162",
   "environment_variables": {},
   "exception": null,
   "input_path": "2020-03-19-estimating_infected.ipynb",
   "output_path": "2020-03-19-estimating_infected.ipynb",
   "parameters": {},
   "start_time": "2020-03-27T18:36:04.913561",
   "version": "2.0.0"
  },
  "toc": {
   "base_numbering": 1,
   "nav_menu": {},
   "number_sections": true,
   "sideBar": true,
   "skip_h1_title": false,
   "title_cell": "Table of Contents",
   "title_sidebar": "Contents",
   "toc_cell": false,
   "toc_position": {},
   "toc_section_display": true,
   "toc_window_display": false
  },
  "varInspector": {
   "cols": {
    "lenName": 16,
    "lenType": 16,
    "lenVar": 40
   },
   "kernels_config": {
    "python": {
     "delete_cmd_postfix": "",
     "delete_cmd_prefix": "del ",
     "library": "var_list.py",
     "varRefreshCmd": "print(var_dic_list())"
    },
    "r": {
     "delete_cmd_postfix": ") ",
     "delete_cmd_prefix": "rm(",
     "library": "var_list.r",
     "varRefreshCmd": "cat(var_dic_list()) "
    }
   },
   "types_to_exclude": [
    "module",
    "function",
    "builtin_function_or_method",
    "instance",
    "_Feature"
   ],
   "window_display": false
  }
 },
 "nbformat": 4,
 "nbformat_minor": 2
}
