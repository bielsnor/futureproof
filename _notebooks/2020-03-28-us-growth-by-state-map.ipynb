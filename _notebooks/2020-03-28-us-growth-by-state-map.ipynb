{
 "cells": [
  {
   "cell_type": "markdown",
   "metadata": {
    "papermill": {
     "duration": 0.008134,
     "end_time": "2020-03-27T18:08:54.141628",
     "exception": false,
     "start_time": "2020-03-27T18:08:54.133494",
     "status": "completed"
    },
    "tags": []
   },
   "source": [
    "# Confirmed Cases in the US by State\n",
    "> Interactive Visualizations of The Count and Growth of COVID-19 in the US.\n",
    "\n",
    "- comments: false\n",
    "- author: Ryan Gomez\n",
    "- categories: [growth, usa, altair, interactive]\n",
    "- image: images/us-growth-state-map.png\n",
    "- permalink: /growth-map-us/"
   ]
  },
  {
   "cell_type": "code",
   "execution_count": 1,
   "metadata": {
    "papermill": {
     "duration": 0.463846,
     "end_time": "2020-03-27T18:08:54.611061",
     "exception": false,
     "start_time": "2020-03-27T18:08:54.147215",
     "status": "completed"
    },
    "tags": []
   },
   "outputs": [],
   "source": [
    "#hide\n",
    "import requests\n",
    "import numpy as np\n",
    "import pandas as pd\n",
    "import altair as alt\n",
    "\n",
    "alt.data_transformers.disable_max_rows()\n",
    "\n",
    "#https://github.com/altair-viz/altair/issues/1005#issuecomment-403237407\n",
    "def to_altair_datetime(dt):\n",
    "    return alt.DateTime(year=dt.year, month=dt.month, date=dt.day,\n",
    "                        hours=dt.hour, minutes=dt.minute, seconds=dt.second,\n",
    "                        milliseconds=0.001 * dt.microsecond)"
   ]
  },
  {
   "cell_type": "code",
   "execution_count": 2,
   "metadata": {
    "papermill": {
     "duration": 0.017674,
     "end_time": "2020-03-27T18:08:54.634105",
     "exception": false,
     "start_time": "2020-03-27T18:08:54.616431",
     "status": "completed"
    },
    "tags": []
   },
   "outputs": [],
   "source": [
    "#hide\n",
    "abbr2state = {\n",
    "        'AK': 'Alaska',\n",
    "        'AL': 'Alabama',\n",
    "        'AR': 'Arkansas',\n",
    "        'AS': 'American Samoa',\n",
    "        'AZ': 'Arizona',\n",
    "        'CA': 'California',\n",
    "        'CO': 'Colorado',\n",
    "        'CT': 'Connecticut',\n",
    "        'DC': 'District of Columbia',\n",
    "        'DE': 'Delaware',\n",
    "        'FL': 'Florida',\n",
    "        'GA': 'Georgia',\n",
    "        'GU': 'Guam',\n",
    "        'HI': 'Hawaii',\n",
    "        'IA': 'Iowa',\n",
    "        'ID': 'Idaho',\n",
    "        'IL': 'Illinois',\n",
    "        'IN': 'Indiana',\n",
    "        'KS': 'Kansas',\n",
    "        'KY': 'Kentucky',\n",
    "        'LA': 'Louisiana',\n",
    "        'MA': 'Massachusetts',\n",
    "        'MD': 'Maryland',\n",
    "        'ME': 'Maine',\n",
    "        'MI': 'Michigan',\n",
    "        'MN': 'Minnesota',\n",
    "        'MO': 'Missouri',\n",
    "        'MP': 'Northern Mariana Islands',\n",
    "        'MS': 'Mississippi',\n",
    "        'MT': 'Montana',\n",
    "        'NA': 'National',\n",
    "        'NC': 'North Carolina',\n",
    "        'ND': 'North Dakota',\n",
    "        'NE': 'Nebraska',\n",
    "        'NH': 'New Hampshire',\n",
    "        'NJ': 'New Jersey',\n",
    "        'NM': 'New Mexico',\n",
    "        'NV': 'Nevada',\n",
    "        'NY': 'New York',\n",
    "        'OH': 'Ohio',\n",
    "        'OK': 'Oklahoma',\n",
    "        'OR': 'Oregon',\n",
    "        'PA': 'Pennsylvania',\n",
    "        'PR': 'Puerto Rico',\n",
    "        'RI': 'Rhode Island',\n",
    "        'SC': 'South Carolina',\n",
    "        'SD': 'South Dakota',\n",
    "        'TN': 'Tennessee',\n",
    "        'TX': 'Texas',\n",
    "        'UT': 'Utah',\n",
    "        'VA': 'Virginia',\n",
    "        'VI': 'Virgin Islands',\n",
    "        'VT': 'Vermont',\n",
    "        'WA': 'Washington',\n",
    "        'WI': 'Wisconsin',\n",
    "        'WV': 'West Virginia',\n",
    "        'WY': 'Wyoming'\n",
    "}\n",
    "\n",
    "state2abbr = {s:a for a,s in abbr2state.items()}"
   ]
  },
  {
   "cell_type": "code",
   "execution_count": 3,
   "metadata": {
    "papermill": {
     "duration": 0.135628,
     "end_time": "2020-03-27T18:08:54.774761",
     "exception": false,
     "start_time": "2020-03-27T18:08:54.639133",
     "status": "completed"
    },
    "tags": []
   },
   "outputs": [],
   "source": [
    "#hide\n",
    "states_daily_url = 'https://covidtracking.com/api/states/daily'\n",
    "states_daily_raw = pd.DataFrame(requests.get(states_daily_url).json())\n",
    "\n",
    "us_daily_df = states_daily_raw.copy()\n",
    "\n",
    "cols_keep = ['date','state','positive','dateChecked','positiveIncrease','death']\n",
    "us_daily_df = us_daily_df[cols_keep]\n",
    "us_daily_df['date'] = pd.to_datetime(us_daily_df['date'], format='%Y%m%d')\n",
    "us_daily_df['dateChecked'] = pd.to_datetime(us_daily_df['dateChecked'])\n",
    "\n",
    "us_state_capitals_url = 'https://vega.github.io/vega-datasets/data/us-state-capitals.json'\n",
    "state_cap_df = pd.DataFrame(requests.get(us_state_capitals_url).json())\n",
    "\n",
    "state_cap_df['state'] = state_cap_df['state'].apply(lambda s: state2abbr.get(s))\n",
    "\n",
    "us_daily_df = us_daily_df.merge(state_cap_df, on='state', how='left')\n",
    "\n",
    "us_daily_df.rename(columns={'positive':'confirmed_count', \n",
    "                                'positiveIncrease':'new_cases'}, inplace=True)\n",
    "\n",
    "state_df = us_daily_df.sort_values('date').groupby(['state']).tail(1)"
   ]
  },
  {
   "cell_type": "code",
   "execution_count": 4,
   "metadata": {
    "papermill": {
     "duration": 0.080647,
     "end_time": "2020-03-27T18:08:54.860567",
     "exception": false,
     "start_time": "2020-03-27T18:08:54.779920",
     "status": "completed"
    },
    "scrolled": true,
    "tags": []
   },
   "outputs": [],
   "source": [
    "#hide\n",
    "states_data = 'https://vega.github.io/vega-datasets/data/us-10m.json'\n",
    "states = alt.topo_feature(states_data, feature='states')\n",
    "selector = alt.selection_single(empty='none', fields=['state'], nearest=True, init={'state':'CA'})\n",
    "\n",
    "curr_date = state_df.date.max().date().strftime('%Y-%m-%d')\n",
    "dmax = (us_daily_df.date.max() + pd.DateOffset(days=3))\n",
    "dmin = us_daily_df.date.min()\n",
    "\n",
    "# US states background\n",
    "background = alt.Chart(states).mark_geoshape(\n",
    "    fill='lightgray',\n",
    "    stroke='white'\n",
    ").properties(\n",
    "    width=500,\n",
    "    height=400\n",
    ").project('albersUsa')\n",
    "\n",
    "\n",
    "points = alt.Chart(state_df).mark_circle().encode(\n",
    "    longitude='lon:Q',\n",
    "    latitude='lat:Q',\n",
    "    size=alt.Size('confirmed_count:Q', title= 'Number of Confirmed Cases'),\n",
    "    color=alt.value('steelblue'),\n",
    "    tooltip=['state:N','confirmed_count:Q']\n",
    ").properties(\n",
    "    title=f'Total Confirmed Cases by State as of {curr_date}'\n",
    ").add_selection(selector)\n",
    "\n",
    "\n",
    "timeseries = alt.Chart(us_daily_df).mark_bar().properties(\n",
    "    width=500,\n",
    "    height=350,\n",
    "    title=\"New Cases by Day\",\n",
    ").encode(\n",
    "    x=alt.X('date:T', title='Date', timeUnit='yearmonthdate',\n",
    "            axis=alt.Axis(format='%y/%m/%d', labelAngle=-30), \n",
    "            scale=alt.Scale(domain=[to_altair_datetime(dmin), to_altair_datetime(dmax)])),\n",
    "    y=alt.Y('new_cases:Q',\n",
    "             axis=alt.Axis(title='# of New Cases',titleColor='steelblue'),\n",
    "    ),\n",
    "    color=alt.Color('state:O'),\n",
    "    tooltip=['state:N','date:T','confirmed_count:Q', 'new_cases:Q']\n",
    ").transform_filter(\n",
    "    selector\n",
    ").add_selection(alt.selection_single()\n",
    ")\n",
    "\n",
    "timeseries_cs = alt.Chart(us_daily_df).mark_line(color='red').properties(\n",
    "    width=500,\n",
    "    height=350,\n",
    ").encode(\n",
    "    x=alt.X('date:T', title='Date', timeUnit='yearmonthdate', \n",
    "            axis=alt.Axis(format='%y/%m/%d', labelAngle=-30),\n",
    "            scale=alt.Scale(domain=[to_altair_datetime(dmin), to_altair_datetime(dmax)])),\n",
    "    y=alt.Y('confirmed_count:Q',\n",
    "             #scale=alt.Scale(type='log'),\n",
    "             axis=alt.Axis(title='# of Confirmed Cases', titleColor='red'),\n",
    "    ),\n",
    ").transform_filter(\n",
    "    selector\n",
    ").add_selection(alt.selection_single(nearest=True)\n",
    ")\n",
    "\n",
    "\n",
    "\n",
    "final_chart = alt.vconcat(\n",
    "    background + points, \n",
    "    alt.layer(timeseries, timeseries_cs).resolve_scale(y='independent'),\n",
    ").resolve_scale(\n",
    "    color='independent',\n",
    "    shape='independent',\n",
    ").configure(\n",
    "    padding={'left':10, 'bottom':40}\n",
    ").configure_axis(\n",
    "    labelFontSize=10,\n",
    "    labelPadding=10,\n",
    "    titleFontSize=12,\n",
    ").configure_view(\n",
    "     stroke=None\n",
    ")\n"
   ]
  },
  {
   "cell_type": "markdown",
   "metadata": {
    "papermill": {
     "duration": 0.004728,
     "end_time": "2020-03-27T18:08:54.871027",
     "exception": false,
     "start_time": "2020-03-27T18:08:54.866299",
     "status": "completed"
    },
    "tags": []
   },
   "source": [
    "### Click On State To Filter Chart Below"
   ]
  },
  {
   "cell_type": "code",
   "execution_count": 1,
   "metadata": {
    "papermill": {
     "duration": 0.138888,
     "end_time": "2020-03-27T18:08:55.015003",
     "exception": false,
     "start_time": "2020-03-27T18:08:54.876115",
     "status": "completed"
    },
    "scrolled": true,
    "tags": []
   },
   "outputs": [
    {
     "ename": "NameError",
     "evalue": "name 'final_chart' is not defined",
     "output_type": "error",
     "traceback": [
      "\u001b[1;31m---------------------------------------------------------------------------\u001b[0m",
      "\u001b[1;31mNameError\u001b[0m                                 Traceback (most recent call last)",
      "\u001b[1;32m<ipython-input-1-15874cc683de>\u001b[0m in \u001b[0;36m<module>\u001b[1;34m\u001b[0m\n\u001b[0;32m      1\u001b[0m \u001b[1;31m#hide_input\u001b[0m\u001b[1;33m\u001b[0m\u001b[1;33m\u001b[0m\u001b[1;33m\u001b[0m\u001b[0m\n\u001b[1;32m----> 2\u001b[1;33m \u001b[0mfinal_chart\u001b[0m\u001b[1;33m\u001b[0m\u001b[1;33m\u001b[0m\u001b[0m\n\u001b[0m",
      "\u001b[1;31mNameError\u001b[0m: name 'final_chart' is not defined"
     ]
    }
   ],
   "source": [
    "#hide_input\n",
    "final_chart"
   ]
  },
  {
   "cell_type": "markdown",
   "metadata": {
    "papermill": {
     "duration": 0.009611,
     "end_time": "2020-03-27T18:08:55.036430",
     "exception": false,
     "start_time": "2020-03-27T18:08:55.026819",
     "status": "completed"
    },
    "tags": []
   },
   "source": []
  }
 ],
 "metadata": {
  "kernelspec": {
   "display_name": "Python 3",
   "language": "python",
   "name": "python3"
  },
  "language_info": {
   "codemirror_mode": {
    "name": "ipython",
    "version": 3
   },
   "file_extension": ".py",
   "mimetype": "text/x-python",
   "name": "python",
   "nbconvert_exporter": "python",
   "pygments_lexer": "ipython3",
   "version": "3.7.6"
  },
  "papermill": {
   "duration": 1.734128,
   "end_time": "2020-03-27T18:08:55.051584",
   "environment_variables": {},
   "exception": null,
   "input_path": "2020-03-15-us-growth-by-state-map.ipynb",
   "output_path": "2020-03-15-us-growth-by-state-map.ipynb",
   "parameters": {},
   "start_time": "2020-03-27T18:08:53.317456",
   "version": "2.0.0"
  }
 },
 "nbformat": 4,
 "nbformat_minor": 4
}
